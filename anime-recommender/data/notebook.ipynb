{
 "cells": [
  {
   "cell_type": "markdown",
   "metadata": {},
   "source": [
    "# Build my own dataset using pyspark\n",
    "Using Jikan API and PySpark scrap and create a dataset of anime data for a anime recommendation system\n",
    "\n",
    "anime_data for Content Based Filtering:\n",
    "- anime_id (on MAL)\n",
    "- title"
   ]
  },
  {
   "cell_type": "code",
   "execution_count": null,
   "metadata": {},
   "outputs": [],
   "source": []
  }
 ],
 "metadata": {
  "kernelspec": {
   "display_name": "anime-dashboard",
   "language": "python",
   "name": "python3"
  },
  "language_info": {
   "name": "python",
   "version": "3.9.21"
  }
 },
 "nbformat": 4,
 "nbformat_minor": 2
}
