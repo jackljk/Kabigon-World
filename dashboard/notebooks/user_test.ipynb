{
 "cells": [
  {
   "cell_type": "code",
   "execution_count": 1,
   "metadata": {},
   "outputs": [],
   "source": [
    "from dotenv import load_dotenv\n",
    "import jikanpy\n",
    "import os\n",
    "import requests\n",
    "import pandas as pd\n",
    "load_dotenv()\n",
    "\n",
    "secret = os.getenv(\"secret\")\n",
    "id = os.getenv(\"id\")\n",
    "\n",
    "jikan = jikanpy.Jikan()"
   ]
  },
  {
   "cell_type": "code",
   "execution_count": 2,
   "metadata": {},
   "outputs": [],
   "source": [
    "username = 'jackljk'\n",
    "req = requests.get(f\"https://api.myanimelist.net/v2/users/{username}/animelist?limit=1000\", headers={\"X-MAL-CLIENT-ID\": id, \"client_secret\": secret})"
   ]
  },
  {
   "cell_type": "code",
   "execution_count": 3,
   "metadata": {},
   "outputs": [],
   "source": [
    "def get_anime_info(anime_id):\n",
    "    jikan = jikanpy.Jikan()\n",
    "    anime = jikan.anime(anime_id)['data']\n",
    "    return anime"
   ]
  },
  {
   "cell_type": "code",
   "execution_count": 28,
   "metadata": {},
   "outputs": [],
   "source": [
    "df_test = pd.DataFrame()\n",
    "\n",
    "def test(anime_id):\n",
    "    test = f\"https://api.myanimelist.net/v2/anime/{anime_id}?fields=id,title,main_picture,alternative_titles,start_date,end_date,synopsis,mean,rank,popularity,num_list_users,num_scoring_users,nsfw,created_at,updated_at,media_type,status,genres,my_list_status,num_episodes,start_season,broadcast,source,average_episode_duration,rating,pictures,background,related_anime,related_manga,recommendations,studios,statistics'\"\n",
    "    reqtest = requests.get(test, headers={\"X-MAL-CLIENT-ID\": id, \"client_secret\": secret})\n",
    "    \n",
    "    return reqtest.json()"
   ]
  },
  {
   "cell_type": "code",
   "execution_count": 15,
   "metadata": {},
   "outputs": [],
   "source": [
    "req = requests.get(f\"https://api.myanimelist.net/v2/anime/ranking?ranking_type=airing&limit=10\", headers={\"X-MAL-CLIENT-ID\": id, \"client_secret\": secret})"
   ]
  },
  {
   "cell_type": "code",
   "execution_count": 30,
   "metadata": {},
   "outputs": [
    {
     "data": {
      "text/plain": [
       "{'id': 58567,\n",
       " 'title': 'Ore dake Level Up na Ken Season 2: Arise from the Shadow',\n",
       " 'main_picture': {'medium': 'https://cdn.myanimelist.net/images/anime/1448/147351.jpg',\n",
       "  'large': 'https://cdn.myanimelist.net/images/anime/1448/147351l.jpg'},\n",
       " 'alternative_titles': {'synonyms': ['Solo Leveling Second Season'],\n",
       "  'en': 'Solo Leveling Season 2: Arise from the Shadow',\n",
       "  'ja': '俺だけレベルアップな件 Season 2 -Arise from the Shadow-'},\n",
       " 'start_date': '2025-01-05',\n",
       " 'synopsis': 'Second season of Ore dake Level Up na Ken.',\n",
       " 'mean': 8.84,\n",
       " 'rank': 28,\n",
       " 'popularity': 918,\n",
       " 'num_list_users': 278868,\n",
       " 'num_scoring_users': 39713,\n",
       " 'nsfw': 'white',\n",
       " 'created_at': '2024-03-30T16:32:46+00:00',\n",
       " 'updated_at': '2025-01-05T06:31:58+00:00',\n",
       " 'media_type': 'tv',\n",
       " 'status': 'currently_airing',\n",
       " 'genres': [{'id': 1, 'name': 'Action'},\n",
       "  {'id': 50, 'name': 'Adult Cast'},\n",
       "  {'id': 2, 'name': 'Adventure'},\n",
       "  {'id': 10, 'name': 'Fantasy'},\n",
       "  {'id': 82, 'name': 'Urban Fantasy'}],\n",
       " 'num_episodes': 13,\n",
       " 'start_season': {'year': 2025, 'season': 'winter'},\n",
       " 'broadcast': {'day_of_the_week': 'sunday', 'start_time': '00:00'},\n",
       " 'source': 'web_manga',\n",
       " 'average_episode_duration': 1420,\n",
       " 'rating': 'r',\n",
       " 'pictures': [{'medium': 'https://cdn.myanimelist.net/images/anime/1463/145502.jpg',\n",
       "   'large': 'https://cdn.myanimelist.net/images/anime/1463/145502l.jpg'},\n",
       "  {'medium': 'https://cdn.myanimelist.net/images/anime/1448/147351.jpg',\n",
       "   'large': 'https://cdn.myanimelist.net/images/anime/1448/147351l.jpg'},\n",
       "  {'medium': 'https://cdn.myanimelist.net/images/anime/1667/147359.jpg',\n",
       "   'large': 'https://cdn.myanimelist.net/images/anime/1667/147359l.jpg'}],\n",
       " 'background': '',\n",
       " 'related_anime': [{'node': {'id': 52299,\n",
       "    'title': 'Ore dake Level Up na Ken',\n",
       "    'main_picture': {'medium': 'https://cdn.myanimelist.net/images/anime/1801/142390.webp',\n",
       "     'large': 'https://cdn.myanimelist.net/images/anime/1801/142390l.webp'}},\n",
       "   'relation_type': 'prequel',\n",
       "   'relation_type_formatted': 'Prequel'}],\n",
       " 'related_manga': [],\n",
       " 'recommendations': [{'node': {'id': 53439,\n",
       "    'title': 'Boushoku no Berserk',\n",
       "    'main_picture': {'medium': 'https://cdn.myanimelist.net/images/anime/1951/138462.webp',\n",
       "     'large': 'https://cdn.myanimelist.net/images/anime/1951/138462l.webp'}},\n",
       "   'num_recommendations': 1}],\n",
       " 'studios': [{'id': 56, 'name': 'A-1 Pictures'}],\n",
       " 'statistics': {'status': {'watching': '155660',\n",
       "   'completed': '101',\n",
       "   'on_hold': '1422',\n",
       "   'dropped': '288',\n",
       "   'plan_to_watch': '121397'},\n",
       "  'num_list_users': 278868}}"
      ]
     },
     "execution_count": 30,
     "metadata": {},
     "output_type": "execute_result"
    }
   ],
   "source": [
    "test(58567)"
   ]
  },
  {
   "cell_type": "code",
   "execution_count": 26,
   "metadata": {},
   "outputs": [
    {
     "data": {
      "text/plain": [
       "{'id': 58567,\n",
       " 'title': 'Ore dake Level Up na Ken Season 2: Arise from the Shadow',\n",
       " 'main_picture': {'medium': 'https://cdn.myanimelist.net/images/anime/1448/147351.jpg',\n",
       "  'large': 'https://cdn.myanimelist.net/images/anime/1448/147351l.jpg'},\n",
       " 'popularity': 918,\n",
       " 'statistics': {'status': {'watching': '155660',\n",
       "   'completed': '101',\n",
       "   'on_hold': '1422',\n",
       "   'dropped': '288',\n",
       "   'plan_to_watch': '121397'},\n",
       "  'num_list_users': 278868},\n",
       " 'rank': 28,\n",
       " 'mean': 8.84,\n",
       " 'num_list_users': 278868,\n",
       " 'num_scoring_users': 39713,\n",
       " 'rating': 'r'}"
      ]
     },
     "execution_count": 26,
     "metadata": {},
     "output_type": "execute_result"
    }
   ],
   "source": [
    "test = f\"https://api.myanimelist.net/v2/anime/{58567}?fields=id,title,popularity,statistics,rank,mean,num_list_users,num_scoring_users,rating\"\n",
    "reqtest = requests.get(test, headers={\"X-MAL-CLIENT-ID\": id, \"client_secret\": secret})\n",
    "reqtest.json()"
   ]
  },
  {
   "cell_type": "code",
   "execution_count": 22,
   "metadata": {},
   "outputs": [
    {
     "data": {
      "text/plain": [
       "{'data': {'mal_id': 58567,\n",
       "  'url': 'https://myanimelist.net/anime/58567/Ore_dake_Level_Up_na_Ken_Season_2__Arise_from_the_Shadow',\n",
       "  'images': {'jpg': {'image_url': 'https://cdn.myanimelist.net/images/anime/1448/147351.jpg',\n",
       "    'small_image_url': 'https://cdn.myanimelist.net/images/anime/1448/147351t.jpg',\n",
       "    'large_image_url': 'https://cdn.myanimelist.net/images/anime/1448/147351l.jpg'},\n",
       "   'webp': {'image_url': 'https://cdn.myanimelist.net/images/anime/1448/147351.webp',\n",
       "    'small_image_url': 'https://cdn.myanimelist.net/images/anime/1448/147351t.webp',\n",
       "    'large_image_url': 'https://cdn.myanimelist.net/images/anime/1448/147351l.webp'}},\n",
       "  'trailer': {'youtube_id': 'DYTZbJ2Y4Yk',\n",
       "   'url': 'https://www.youtube.com/watch?v=DYTZbJ2Y4Yk',\n",
       "   'embed_url': 'https://www.youtube.com/embed/DYTZbJ2Y4Yk?enablejsapi=1&wmode=opaque&autoplay=1',\n",
       "   'images': {'image_url': 'https://img.youtube.com/vi/DYTZbJ2Y4Yk/default.jpg',\n",
       "    'small_image_url': 'https://img.youtube.com/vi/DYTZbJ2Y4Yk/sddefault.jpg',\n",
       "    'medium_image_url': 'https://img.youtube.com/vi/DYTZbJ2Y4Yk/mqdefault.jpg',\n",
       "    'large_image_url': 'https://img.youtube.com/vi/DYTZbJ2Y4Yk/hqdefault.jpg',\n",
       "    'maximum_image_url': 'https://img.youtube.com/vi/DYTZbJ2Y4Yk/maxresdefault.jpg'}},\n",
       "  'approved': True,\n",
       "  'titles': [{'type': 'Default',\n",
       "    'title': 'Ore dake Level Up na Ken Season 2: Arise from the Shadow'},\n",
       "   {'type': 'Synonym', 'title': 'Solo Leveling Second Season'},\n",
       "   {'type': 'Japanese',\n",
       "    'title': '俺だけレベルアップな件 Season 2 -Arise from the Shadow-'},\n",
       "   {'type': 'English',\n",
       "    'title': 'Solo Leveling Season 2: Arise from the Shadow'}],\n",
       "  'title': 'Ore dake Level Up na Ken Season 2: Arise from the Shadow',\n",
       "  'title_english': 'Solo Leveling Season 2: Arise from the Shadow',\n",
       "  'title_japanese': '俺だけレベルアップな件 Season 2 -Arise from the Shadow-',\n",
       "  'title_synonyms': ['Solo Leveling Second Season'],\n",
       "  'type': 'TV',\n",
       "  'source': 'Web manga',\n",
       "  'episodes': 13,\n",
       "  'status': 'Currently Airing',\n",
       "  'airing': True,\n",
       "  'aired': {'from': '2025-01-05T00:00:00+00:00',\n",
       "   'to': None,\n",
       "   'prop': {'from': {'day': 5, 'month': 1, 'year': 2025},\n",
       "    'to': {'day': None, 'month': None, 'year': None}},\n",
       "   'string': 'Jan 5, 2025 to ?'},\n",
       "  'duration': '23 min per ep',\n",
       "  'rating': 'R - 17+ (violence & profanity)',\n",
       "  'score': 8.84,\n",
       "  'scored_by': 39611,\n",
       "  'rank': 28,\n",
       "  'popularity': 918,\n",
       "  'members': 278521,\n",
       "  'favorites': 2412,\n",
       "  'synopsis': 'Second season of Ore dake Level Up na Ken.',\n",
       "  'background': '',\n",
       "  'season': 'winter',\n",
       "  'year': 2025,\n",
       "  'broadcast': {'day': 'Sundays',\n",
       "   'time': '00:00',\n",
       "   'timezone': 'Asia/Tokyo',\n",
       "   'string': 'Sundays at 00:00 (JST)'},\n",
       "  'producers': [{'mal_id': 17,\n",
       "    'type': 'anime',\n",
       "    'name': 'Aniplex',\n",
       "    'url': 'https://myanimelist.net/anime/producer/17/Aniplex'},\n",
       "   {'mal_id': 1468,\n",
       "    'type': 'anime',\n",
       "    'name': 'Crunchyroll',\n",
       "    'url': 'https://myanimelist.net/anime/producer/1468/Crunchyroll'},\n",
       "   {'mal_id': 1858,\n",
       "    'type': 'anime',\n",
       "    'name': 'Sonilude',\n",
       "    'url': 'https://myanimelist.net/anime/producer/1858/Sonilude'},\n",
       "   {'mal_id': 2837,\n",
       "    'type': 'anime',\n",
       "    'name': 'Netmarble',\n",
       "    'url': 'https://myanimelist.net/anime/producer/2837/Netmarble'},\n",
       "   {'mal_id': 2839,\n",
       "    'type': 'anime',\n",
       "    'name': 'Kakao piccoma',\n",
       "    'url': 'https://myanimelist.net/anime/producer/2839/Kakao_piccoma'},\n",
       "   {'mal_id': 2872,\n",
       "    'type': 'anime',\n",
       "    'name': 'D&C Media',\n",
       "    'url': 'https://myanimelist.net/anime/producer/2872/D_C_Media'}],\n",
       "  'licensors': [],\n",
       "  'studios': [{'mal_id': 56,\n",
       "    'type': 'anime',\n",
       "    'name': 'A-1 Pictures',\n",
       "    'url': 'https://myanimelist.net/anime/producer/56/A-1_Pictures'}],\n",
       "  'genres': [{'mal_id': 1,\n",
       "    'type': 'anime',\n",
       "    'name': 'Action',\n",
       "    'url': 'https://myanimelist.net/anime/genre/1/Action'},\n",
       "   {'mal_id': 2,\n",
       "    'type': 'anime',\n",
       "    'name': 'Adventure',\n",
       "    'url': 'https://myanimelist.net/anime/genre/2/Adventure'},\n",
       "   {'mal_id': 10,\n",
       "    'type': 'anime',\n",
       "    'name': 'Fantasy',\n",
       "    'url': 'https://myanimelist.net/anime/genre/10/Fantasy'}],\n",
       "  'explicit_genres': [],\n",
       "  'themes': [{'mal_id': 50,\n",
       "    'type': 'anime',\n",
       "    'name': 'Adult Cast',\n",
       "    'url': 'https://myanimelist.net/anime/genre/50/Adult_Cast'},\n",
       "   {'mal_id': 82,\n",
       "    'type': 'anime',\n",
       "    'name': 'Urban Fantasy',\n",
       "    'url': 'https://myanimelist.net/anime/genre/82/Urban_Fantasy'}],\n",
       "  'demographics': []},\n",
       " 'jikan_url': 'https://api.jikan.moe/v4/anime/58567',\n",
       " 'headers': {'Server': 'nginx/1.24.0',\n",
       "  'Date': 'Fri, 17 Jan 2025 05:43:38 GMT',\n",
       "  'Content-Type': 'application/json',\n",
       "  'Transfer-Encoding': 'chunked',\n",
       "  'Connection': 'keep-alive',\n",
       "  'Cache-Control': 'public, s-maxage=86400',\n",
       "  'x-request-fingerprint': 'request:anime:965afc826e60934d9466ed4edfb97a7a125ebe20',\n",
       "  'expires': 'Sat, 18 Jan 2025 03:08:45 GMT',\n",
       "  'last-modified': 'Fri, 17 Jan 2025 03:08:45 GMT',\n",
       "  'access-control-allow-origin': '*',\n",
       "  'Content-Encoding': 'gzip',\n",
       "  'Vary': 'Accept-Encoding',\n",
       "  'X-Cache-Status': 'HIT',\n",
       "  'X-Powered-By': 'the-power-of-friendship'}}"
      ]
     },
     "execution_count": 22,
     "metadata": {},
     "output_type": "execute_result"
    }
   ],
   "source": [
    "jikan.anime(58567)"
   ]
  },
  {
   "cell_type": "code",
   "execution_count": 42,
   "metadata": {},
   "outputs": [],
   "source": [
    "x = jikan.top(type='anime', page=1)"
   ]
  },
  {
   "cell_type": "code",
   "execution_count": 47,
   "metadata": {},
   "outputs": [
    {
     "data": {
      "text/plain": [
       "52991"
      ]
     },
     "execution_count": 47,
     "metadata": {},
     "output_type": "execute_result"
    }
   ],
   "source": [
    "x['data'][0]['mal_id']"
   ]
  },
  {
   "cell_type": "code",
   "execution_count": null,
   "metadata": {},
   "outputs": [],
   "source": [
    "def get_top_data():\n",
    "    pass\n",
    "    data = jikan.top(type='anime', page=1)\n",
    "    item = {\n",
    "        'mal_id': data['data'][0]['mal_id'],\n",
    "        'title': data['data'][0]['title'],\n",
    "        'rank': data['data'][0]['rank'],\n",
    "        'score': data['data'][0]['score'],\n",
    "        'members': data['data'][0]['members'],\n",
    "        'url': data['data'][0]['url'],\n",
    "        'image_url': data['data'][0]['image_url']\n",
    "    }"
   ]
  },
  {
   "cell_type": "code",
   "execution_count": null,
   "metadata": {},
   "outputs": [],
   "source": [
    "import boto3\n",
    "import requests\n",
    "\n",
    "def lambda_handler(event, context):\n",
    "    # Fetch data from Jikan API\n",
    "    response = requests.get('https://api.jikan.moe/v4/top/anime')\n",
    "    data = response.json()\n",
    "\n",
    "    # Update DynamoDB\n",
    "    dynamodb = boto3.resource('dynamodb')\n",
    "    table = dynamodb.Table('anime_ratings')\n",
    "\n",
    "    for anime in data['data']:\n",
    "        table.put_item(\n",
    "            Item={\n",
    "                'anime_id': anime['mal_id'],\n",
    "                'title': anime['title'],\n",
    "                'timestamp': anime['published']['from'],\n",
    "                'score': anime['score']\n",
    "            }\n",
    "        )\n",
    "    return {'status': 'success'}\n"
   ]
  },
  {
   "cell_type": "code",
   "execution_count": null,
   "metadata": {},
   "outputs": [],
   "source": []
  }
 ],
 "metadata": {
  "kernelspec": {
   "display_name": "dashboard",
   "language": "python",
   "name": "python3"
  },
  "language_info": {
   "codemirror_mode": {
    "name": "ipython",
    "version": 3
   },
   "file_extension": ".py",
   "mimetype": "text/x-python",
   "name": "python",
   "nbconvert_exporter": "python",
   "pygments_lexer": "ipython3",
   "version": "3.12.8"
  }
 },
 "nbformat": 4,
 "nbformat_minor": 2
}
