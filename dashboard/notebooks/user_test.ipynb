{
 "cells": [
  {
   "cell_type": "code",
   "execution_count": 1,
   "metadata": {},
   "outputs": [],
   "source": [
    "from dotenv import load_dotenv\n",
    "import jikanpy\n",
    "import os\n",
    "import requests\n",
    "import pandas as pd\n",
    "load_dotenv()\n",
    "\n",
    "secret = os.getenv(\"secret\")\n",
    "id = os.getenv(\"id\")\n",
    "AWS_ACCESS_KEY_ID = os.getenv(\"AWS_ACCESS_KEY\")\n",
    "AWS_SECRET_ACCESS_KEY = os.getenv(\"AWS_SECRET_KEY\")\n",
    "jikan = jikanpy.Jikan()"
   ]
  },
  {
   "cell_type": "code",
   "execution_count": 2,
   "metadata": {},
   "outputs": [],
   "source": [
    "username = 'jackljk'\n",
    "req = requests.get(f\"https://api.myanimelist.net/v2/users/{username}/animelist?limit=1000\", headers={\"X-MAL-CLIENT-ID\": id, \"client_secret\": secret})"
   ]
  },
  {
   "cell_type": "code",
   "execution_count": 3,
   "metadata": {},
   "outputs": [],
   "source": [
    "def get_anime_info(anime_id):\n",
    "    jikan = jikanpy.Jikan()\n",
    "    anime = jikan.anime(anime_id)['data']\n",
    "    return anime"
   ]
  },
  {
   "cell_type": "code",
   "execution_count": 4,
   "metadata": {},
   "outputs": [],
   "source": [
    "df_test = pd.DataFrame()\n",
    "\n",
    "def test(anime_id):\n",
    "    test = f\"https://api.myanimelist.net/v2/anime/{anime_id}?fields=id,title,main_picture,alternative_titles,start_date,end_date,synopsis,mean,rank,popularity,num_list_users,num_scoring_users,nsfw,created_at,updated_at,media_type,status,genres,my_list_status,num_episodes,start_season,broadcast,source,average_episode_duration,rating,pictures,background,related_anime,related_manga,recommendations,studios,statistics'\"\n",
    "    reqtest = requests.get(test, headers={\"X-MAL-CLIENT-ID\": id, \"client_secret\": secret})\n",
    "    \n",
    "    return reqtest.json()"
   ]
  },
  {
   "cell_type": "code",
   "execution_count": 15,
   "metadata": {},
   "outputs": [],
   "source": [
    "req = requests.get(f\"https://api.myanimelist.net/v2/anime/ranking?ranking_type=airing&limit=10\", headers={\"X-MAL-CLIENT-ID\": id, \"client_secret\": secret})"
   ]
  },
  {
   "cell_type": "code",
   "execution_count": 12,
   "metadata": {},
   "outputs": [],
   "source": [
    "x = get_anime_info(58567)"
   ]
  },
  {
   "cell_type": "code",
   "execution_count": null,
   "metadata": {},
   "outputs": [],
   "source": []
  },
  {
   "cell_type": "code",
   "execution_count": 61,
   "metadata": {},
   "outputs": [],
   "source": [
    "import boto3\n",
    "import streamlit as st\n",
    "import pandas as pd\n",
    "from boto3.dynamodb.types import TypeDeserializer\n",
    "\n",
    "def get_analytics_data():\n",
    "    # Connect to dynamodb\n",
    "    dynamodb = boto3.client(\n",
    "        \"dynamodb\",\n",
    "        aws_access_key_id=AWS_ACCESS_KEY_ID,\n",
    "        aws_secret_access_key=AWS_SECRET_ACCESS_KEY,\n",
    "        region_name=\"us-west-2\"\n",
    "    )\n",
    "    df_dicts = {}\n",
    "    \n",
    "    # get top 25 data\n",
    "    response_top_25 = dynamodb.scan(TableName=\"anime-dashboard-top-25\")\n",
    "    \n",
    "    return response_top_25"
   ]
  },
  {
   "cell_type": "code",
   "execution_count": 82,
   "metadata": {},
   "outputs": [],
   "source": [
    "res = get_analytics_data()\n",
    "res = res['Items']"
   ]
  },
  {
   "cell_type": "code",
   "execution_count": 83,
   "metadata": {},
   "outputs": [],
   "source": [
    "def deserialize(data):\n",
    "    deserializer = TypeDeserializer()\n",
    "    return {k: deserializer.deserialize(v) for k, v in data.items()}\n",
    "\n",
    "def parse_analytics_data(data):\n",
    "    deserialized_data = [deserialize(x) for x in data]\n",
    "    data = [pd.json_normalize(x, 'data', ['timestamp']) for x in deserialized_data]\n",
    "    return pd.concat(data, ignore_index=True)\n"
   ]
  },
  {
   "cell_type": "code",
   "execution_count": 86,
   "metadata": {},
   "outputs": [],
   "source": [
    "df = parse_analytics_data(res)"
   ]
  },
  {
   "cell_type": "code",
   "execution_count": 93,
   "metadata": {},
   "outputs": [
    {
     "name": "stderr",
     "output_type": "stream",
     "text": [
      "C:\\Users\\limja\\AppData\\Local\\Temp\\ipykernel_11256\\1655815275.py:3: SettingWithCopyWarning: \n",
      "A value is trying to be set on a copy of a slice from a DataFrame.\n",
      "Try using .loc[row_indexer,col_indexer] = value instead\n",
      "\n",
      "See the caveats in the documentation: https://pandas.pydata.org/pandas-docs/stable/user_guide/indexing.html#returning-a-view-versus-a-copy\n",
      "  df_test['timestamp'] = pd.to_datetime(df_test['timestamp'])\n"
     ]
    }
   ],
   "source": [
    "df_test = df[['timestamp', 'title_english', 'statistics.members']]\n",
    "# Convert timestamp to datetime\n",
    "df_test['timestamp'] = pd.to_datetime(df_test['timestamp'])\n",
    "\n",
    "# Pivot the data to have 'title_english' as columns\n",
    "df_test_pivot = df_test.pivot(index='timestamp', columns='title_english', values='statistics.members')"
   ]
  },
  {
   "cell_type": "code",
   "execution_count": 96,
   "metadata": {},
   "outputs": [
    {
     "name": "stdout",
     "output_type": "stream",
     "text": [
      "Requirement already satisfied: plotly in c:\\users\\limja\\anaconda3\\envs\\anime-dashboard\\lib\\site-packages (5.24.1)\n",
      "Requirement already satisfied: tenacity>=6.2.0 in c:\\users\\limja\\anaconda3\\envs\\anime-dashboard\\lib\\site-packages (from plotly) (9.0.0)\n",
      "Requirement already satisfied: packaging in c:\\users\\limja\\anaconda3\\envs\\anime-dashboard\\lib\\site-packages (from plotly) (24.2)\n"
     ]
    }
   ],
   "source": [
    "!pip install plotly"
   ]
  },
  {
   "cell_type": "code",
   "execution_count": null,
   "metadata": {},
   "outputs": [],
   "source": []
  }
 ],
 "metadata": {
  "kernelspec": {
   "display_name": "anime-dashboard",
   "language": "python",
   "name": "python3"
  },
  "language_info": {
   "codemirror_mode": {
    "name": "ipython",
    "version": 3
   },
   "file_extension": ".py",
   "mimetype": "text/x-python",
   "name": "python",
   "nbconvert_exporter": "python",
   "pygments_lexer": "ipython3",
   "version": "3.9.21"
  }
 },
 "nbformat": 4,
 "nbformat_minor": 2
}
