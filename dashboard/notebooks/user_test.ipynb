{
 "cells": [
  {
   "cell_type": "code",
   "execution_count": 2,
   "metadata": {},
   "outputs": [],
   "source": [
    "from dotenv import load_dotenv\n",
    "import jikanpy\n",
    "import os\n",
    "import requests\n",
    "load_dotenv()\n",
    "\n",
    "secret = os.getenv(\"secret\")\n",
    "id = os.getenv(\"id\")"
   ]
  },
  {
   "cell_type": "code",
   "execution_count": 28,
   "metadata": {},
   "outputs": [],
   "source": [
    "username = 'jackljk'\n",
    "req = requests.get(f\"https://api.myanimelist.net/v2/users/{username}/animelist?limit=1000\", headers={\"X-MAL-CLIENT-ID\": id, \"client_secret\": secret})"
   ]
  },
  {
   "cell_type": "code",
   "execution_count": 33,
   "metadata": {},
   "outputs": [
    {
     "data": {
      "text/plain": [
       "{'node': {'id': 38101,\n",
       "  'title': '5-toubun no Hanayome',\n",
       "  'main_picture': {'medium': 'https://cdn.myanimelist.net/images/anime/1819/97947.jpg',\n",
       "   'large': 'https://cdn.myanimelist.net/images/anime/1819/97947l.jpg'}}}"
      ]
     },
     "execution_count": 33,
     "metadata": {},
     "output_type": "execute_result"
    }
   ],
   "source": [
    "req.json()['data'][0]"
   ]
  },
  {
   "cell_type": "code",
   "execution_count": 34,
   "metadata": {},
   "outputs": [
    {
     "data": {
      "text/plain": [
       "{'data': {'mal_id': 38101,\n",
       "  'url': 'https://myanimelist.net/anime/38101/5-toubun_no_Hanayome',\n",
       "  'images': {'jpg': {'image_url': 'https://cdn.myanimelist.net/images/anime/1819/97947.jpg',\n",
       "    'small_image_url': 'https://cdn.myanimelist.net/images/anime/1819/97947t.jpg',\n",
       "    'large_image_url': 'https://cdn.myanimelist.net/images/anime/1819/97947l.jpg'},\n",
       "   'webp': {'image_url': 'https://cdn.myanimelist.net/images/anime/1819/97947.webp',\n",
       "    'small_image_url': 'https://cdn.myanimelist.net/images/anime/1819/97947t.webp',\n",
       "    'large_image_url': 'https://cdn.myanimelist.net/images/anime/1819/97947l.webp'}},\n",
       "  'trailer': {'youtube_id': 'pCwfEB6PbFk',\n",
       "   'url': 'https://www.youtube.com/watch?v=pCwfEB6PbFk',\n",
       "   'embed_url': 'https://www.youtube.com/embed/pCwfEB6PbFk?enablejsapi=1&wmode=opaque&autoplay=1',\n",
       "   'images': {'image_url': 'https://img.youtube.com/vi/pCwfEB6PbFk/default.jpg',\n",
       "    'small_image_url': 'https://img.youtube.com/vi/pCwfEB6PbFk/sddefault.jpg',\n",
       "    'medium_image_url': 'https://img.youtube.com/vi/pCwfEB6PbFk/mqdefault.jpg',\n",
       "    'large_image_url': 'https://img.youtube.com/vi/pCwfEB6PbFk/hqdefault.jpg',\n",
       "    'maximum_image_url': 'https://img.youtube.com/vi/pCwfEB6PbFk/maxresdefault.jpg'}},\n",
       "  'approved': True,\n",
       "  'titles': [{'type': 'Default', 'title': '5-toubun no Hanayome'},\n",
       "   {'type': 'Synonym', 'title': 'Gotoubun no Hanayome'},\n",
       "   {'type': 'Synonym', 'title': 'The Five Wedded Brides'},\n",
       "   {'type': 'Japanese', 'title': '五等分の花嫁'},\n",
       "   {'type': 'English', 'title': 'The Quintessential Quintuplets'},\n",
       "   {'type': 'German', 'title': 'The Quintessential Quintuplets'},\n",
       "   {'type': 'Spanish', 'title': 'The Quintessential Quintuplets'},\n",
       "   {'type': 'French', 'title': 'The Quintessential Quintuplets'}],\n",
       "  'title': '5-toubun no Hanayome',\n",
       "  'title_english': 'The Quintessential Quintuplets',\n",
       "  'title_japanese': '五等分の花嫁',\n",
       "  'title_synonyms': ['Gotoubun no Hanayome', 'The Five Wedded Brides'],\n",
       "  'type': 'TV',\n",
       "  'source': 'Manga',\n",
       "  'episodes': 12,\n",
       "  'status': 'Finished Airing',\n",
       "  'airing': False,\n",
       "  'aired': {'from': '2019-01-11T00:00:00+00:00',\n",
       "   'to': '2019-03-29T00:00:00+00:00',\n",
       "   'prop': {'from': {'day': 11, 'month': 1, 'year': 2019},\n",
       "    'to': {'day': 29, 'month': 3, 'year': 2019}},\n",
       "   'string': 'Jan 11, 2019 to Mar 29, 2019'},\n",
       "  'duration': '24 min per ep',\n",
       "  'rating': 'PG-13 - Teens 13 or older',\n",
       "  'score': 7.64,\n",
       "  'scored_by': 641845,\n",
       "  'rank': 1438,\n",
       "  'popularity': 170,\n",
       "  'members': 996408,\n",
       "  'favorites': 14110,\n",
       "  'synopsis': 'Fuutarou Uesugi is an ace high school student, but leads an otherwise tough life. His standoffish personality and reclusive nature have left him friendless, and his father is debt-ridden, forcing his family to scrape by.\\n\\nOne day during his lunch break, Uesugi argues with a female transfer student who has claimed \"his seat,\" leading both of them to dislike each other. That same day, he is presented with a golden opportunity to clear his family\\'s debt: a private tutoring gig for a wealthy family\\'s daughter, with a wage of five times the market price. He accepts the proposal, but is horrified to discover that the client, Itsuki Nakano, is the girl he confronted earlier! \\n\\nAfter unsuccessfully trying to get back on Itsuki\\'s good side, Uesugi finds out that his problems don\\'t end there: Itsuki is actually a quintuplet, so in addition to her, he must also tutor her sisters—Miku, Yotsuba, Nino, and Ichika—who, despite the very real threat of flunking, want nothing to do with a tutor. However, his family\\'s livelihood is on the line so Uesugi pushes on, adamant in his resolve to rid the sisters of their detest for studying and successfully lead them to graduation.\\n\\n[Written by MAL Rewrite]',\n",
       "  'background': \"5-toubun no Hanayome adapts content from the first 4 volumes of Negi Haruba's manga of the same name.\",\n",
       "  'season': 'winter',\n",
       "  'year': 2019,\n",
       "  'broadcast': {'day': 'Fridays',\n",
       "   'time': '01:28',\n",
       "   'timezone': 'Asia/Tokyo',\n",
       "   'string': 'Fridays at 01:28 (JST)'},\n",
       "  'producers': [{'mal_id': 144,\n",
       "    'type': 'anime',\n",
       "    'name': 'Pony Canyon',\n",
       "    'url': 'https://myanimelist.net/anime/producer/144/Pony_Canyon'},\n",
       "   {'mal_id': 159,\n",
       "    'type': 'anime',\n",
       "    'name': 'Kodansha',\n",
       "    'url': 'https://myanimelist.net/anime/producer/159/Kodansha'},\n",
       "   {'mal_id': 1081,\n",
       "    'type': 'anime',\n",
       "    'name': 'ZERO-A',\n",
       "    'url': 'https://myanimelist.net/anime/producer/1081/ZERO-A'},\n",
       "   {'mal_id': 1602,\n",
       "    'type': 'anime',\n",
       "    'name': 'GYAO!',\n",
       "    'url': 'https://myanimelist.net/anime/producer/1602/GYAO'},\n",
       "   {'mal_id': 2946,\n",
       "    'type': 'anime',\n",
       "    'name': 'eNa',\n",
       "    'url': 'https://myanimelist.net/anime/producer/2946/eNa'}],\n",
       "  'licensors': [{'mal_id': 102,\n",
       "    'type': 'anime',\n",
       "    'name': 'Funimation',\n",
       "    'url': 'https://myanimelist.net/anime/producer/102/Funimation'}],\n",
       "  'studios': [{'mal_id': 200,\n",
       "    'type': 'anime',\n",
       "    'name': 'Tezuka Productions',\n",
       "    'url': 'https://myanimelist.net/anime/producer/200/Tezuka_Productions'}],\n",
       "  'genres': [{'mal_id': 4,\n",
       "    'type': 'anime',\n",
       "    'name': 'Comedy',\n",
       "    'url': 'https://myanimelist.net/anime/genre/4/Comedy'},\n",
       "   {'mal_id': 22,\n",
       "    'type': 'anime',\n",
       "    'name': 'Romance',\n",
       "    'url': 'https://myanimelist.net/anime/genre/22/Romance'}],\n",
       "  'explicit_genres': [],\n",
       "  'themes': [{'mal_id': 35,\n",
       "    'type': 'anime',\n",
       "    'name': 'Harem',\n",
       "    'url': 'https://myanimelist.net/anime/genre/35/Harem'},\n",
       "   {'mal_id': 23,\n",
       "    'type': 'anime',\n",
       "    'name': 'School',\n",
       "    'url': 'https://myanimelist.net/anime/genre/23/School'}],\n",
       "  'demographics': [{'mal_id': 27,\n",
       "    'type': 'anime',\n",
       "    'name': 'Shounen',\n",
       "    'url': 'https://myanimelist.net/anime/genre/27/Shounen'}]},\n",
       " 'jikan_url': 'https://api.jikan.moe/v4/anime/38101',\n",
       " 'headers': {'Server': 'nginx/1.24.0',\n",
       "  'Date': 'Sun, 12 Jan 2025 09:04:00 GMT',\n",
       "  'Content-Type': 'application/json',\n",
       "  'Transfer-Encoding': 'chunked',\n",
       "  'Connection': 'keep-alive',\n",
       "  'Cache-Control': 'public, s-maxage=86400',\n",
       "  'x-request-fingerprint': 'request:anime:a2b695dade288b9483542da14483e36dffcdfe81',\n",
       "  'expires': 'Sun, 12 Jan 2025 23:21:46 GMT',\n",
       "  'last-modified': 'Sat, 11 Jan 2025 23:21:46 GMT',\n",
       "  'access-control-allow-origin': '*',\n",
       "  'Content-Encoding': 'gzip',\n",
       "  'Vary': 'Accept-Encoding',\n",
       "  'X-Cache-Status': 'EXPIRED',\n",
       "  'X-Powered-By': 'the-power-of-friendship'}}"
      ]
     },
     "execution_count": 34,
     "metadata": {},
     "output_type": "execute_result"
    }
   ],
   "source": [
    "jikan = jikanpy.Jikan()\n",
    "\n",
    "jikan.anime(\"38101\")"
   ]
  },
  {
   "cell_type": "code",
   "execution_count": null,
   "metadata": {},
   "outputs": [],
   "source": []
  }
 ],
 "metadata": {
  "kernelspec": {
   "display_name": "anime-dashboard",
   "language": "python",
   "name": "python3"
  },
  "language_info": {
   "codemirror_mode": {
    "name": "ipython",
    "version": 3
   },
   "file_extension": ".py",
   "mimetype": "text/x-python",
   "name": "python",
   "nbconvert_exporter": "python",
   "pygments_lexer": "ipython3",
   "version": "3.9.21"
  }
 },
 "nbformat": 4,
 "nbformat_minor": 2
}
