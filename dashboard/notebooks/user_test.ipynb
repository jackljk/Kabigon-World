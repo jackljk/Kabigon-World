{
 "cells": [
  {
   "cell_type": "code",
   "execution_count": 6,
   "metadata": {},
   "outputs": [],
   "source": [
    "from dotenv import load_dotenv\n",
    "import jikanpy\n",
    "import os\n",
    "import requests\n",
    "import pandas as pd\n",
    "load_dotenv()\n",
    "\n",
    "secret = os.getenv(\"secret\")\n",
    "id = os.getenv(\"id\")\n",
    "\n",
    "jikan = jikanpy.Jikan()"
   ]
  },
  {
   "cell_type": "code",
   "execution_count": 7,
   "metadata": {},
   "outputs": [],
   "source": [
    "username = 'jackljk'\n",
    "req = requests.get(f\"https://api.myanimelist.net/v2/users/{username}/animelist?limit=1000\", headers={\"X-MAL-CLIENT-ID\": id, \"client_secret\": secret})"
   ]
  },
  {
   "cell_type": "code",
   "execution_count": 8,
   "metadata": {},
   "outputs": [],
   "source": [
    "def get_anime_info(anime_id):\n",
    "    jikan = jikanpy.Jikan()\n",
    "    anime = jikan.anime(anime_id)['data']\n",
    "    return anime"
   ]
  },
  {
   "cell_type": "code",
   "execution_count": 9,
   "metadata": {},
   "outputs": [],
   "source": [
    "df_test = pd.DataFrame()\n",
    "\n",
    "def test(anime_id):\n",
    "    test = f\"https://api.myanimelist.net/v2/anime/{anime_id}?fields=id,title,main_picture,alternative_titles,start_date,end_date,synopsis,mean,rank,popularity,num_list_users,num_scoring_users,nsfw,created_at,updated_at,media_type,status,genres,my_list_status,num_episodes,start_season,broadcast,source,average_episode_duration,rating,pictures,background,related_anime,related_manga,recommendations,studios,statistics'\"\n",
    "    reqtest = requests.get(test, headers={\"X-MAL-CLIENT-ID\": id, \"client_secret\": secret})\n",
    "    \n",
    "    return reqtest.json()"
   ]
  },
  {
   "cell_type": "code",
   "execution_count": 10,
   "metadata": {},
   "outputs": [
    {
     "data": {
      "text/html": [
       "<div>\n",
       "<style scoped>\n",
       "    .dataframe tbody tr th:only-of-type {\n",
       "        vertical-align: middle;\n",
       "    }\n",
       "\n",
       "    .dataframe tbody tr th {\n",
       "        vertical-align: top;\n",
       "    }\n",
       "\n",
       "    .dataframe thead th {\n",
       "        text-align: right;\n",
       "    }\n",
       "</style>\n",
       "<table border=\"1\" class=\"dataframe\">\n",
       "  <thead>\n",
       "    <tr style=\"text-align: right;\">\n",
       "      <th></th>\n",
       "      <th>id</th>\n",
       "      <th>title</th>\n",
       "    </tr>\n",
       "  </thead>\n",
       "  <tbody>\n",
       "    <tr>\n",
       "      <th>0</th>\n",
       "      <td>38101</td>\n",
       "      <td>5-toubun no Hanayome</td>\n",
       "    </tr>\n",
       "    <tr>\n",
       "      <th>1</th>\n",
       "      <td>39783</td>\n",
       "      <td>5-toubun no Hanayome ∬</td>\n",
       "    </tr>\n",
       "    <tr>\n",
       "      <th>2</th>\n",
       "      <td>41457</td>\n",
       "      <td>86</td>\n",
       "    </tr>\n",
       "    <tr>\n",
       "      <th>3</th>\n",
       "      <td>48569</td>\n",
       "      <td>86 Part 2</td>\n",
       "    </tr>\n",
       "    <tr>\n",
       "      <th>4</th>\n",
       "      <td>30123</td>\n",
       "      <td>Akagami no Shirayuki-hime</td>\n",
       "    </tr>\n",
       "    <tr>\n",
       "      <th>...</th>\n",
       "      <td>...</td>\n",
       "      <td>...</td>\n",
       "    </tr>\n",
       "    <tr>\n",
       "      <th>326</th>\n",
       "      <td>51096</td>\n",
       "      <td>Youkoso Jitsuryoku Shijou Shugi no Kyoushitsu ...</td>\n",
       "    </tr>\n",
       "    <tr>\n",
       "      <th>327</th>\n",
       "      <td>51180</td>\n",
       "      <td>Youkoso Jitsuryoku Shijou Shugi no Kyoushitsu ...</td>\n",
       "    </tr>\n",
       "    <tr>\n",
       "      <th>328</th>\n",
       "      <td>54112</td>\n",
       "      <td>Zom 100: Zombie ni Naru made ni Shitai 100 no ...</td>\n",
       "    </tr>\n",
       "    <tr>\n",
       "      <th>329</th>\n",
       "      <td>52034</td>\n",
       "      <td>[Oshi no Ko]</td>\n",
       "    </tr>\n",
       "    <tr>\n",
       "      <th>330</th>\n",
       "      <td>55791</td>\n",
       "      <td>[Oshi no Ko] 2nd Season</td>\n",
       "    </tr>\n",
       "  </tbody>\n",
       "</table>\n",
       "<p>331 rows × 2 columns</p>\n",
       "</div>"
      ],
      "text/plain": [
       "        id                                              title\n",
       "0    38101                               5-toubun no Hanayome\n",
       "1    39783                             5-toubun no Hanayome ∬\n",
       "2    41457                                                 86\n",
       "3    48569                                          86 Part 2\n",
       "4    30123                          Akagami no Shirayuki-hime\n",
       "..     ...                                                ...\n",
       "326  51096  Youkoso Jitsuryoku Shijou Shugi no Kyoushitsu ...\n",
       "327  51180  Youkoso Jitsuryoku Shijou Shugi no Kyoushitsu ...\n",
       "328  54112  Zom 100: Zombie ni Naru made ni Shitai 100 no ...\n",
       "329  52034                                       [Oshi no Ko]\n",
       "330  55791                            [Oshi no Ko] 2nd Season\n",
       "\n",
       "[331 rows x 2 columns]"
      ]
     },
     "execution_count": 10,
     "metadata": {},
     "output_type": "execute_result"
    }
   ],
   "source": [
    "# data is a list of dictionaries with \"node\" as the key which is useless hwo to get the data into a pandas df\n",
    "data = req.json()['data']\n",
    "# flatten the 'node' keys to get the dict in nodes\n",
    "data = [x['node'] for x in data]\n",
    "\n",
    "df = pd.DataFrame(data).drop(columns=['main_picture'])\n",
    "df"
   ]
  },
  {
   "cell_type": "code",
   "execution_count": 11,
   "metadata": {},
   "outputs": [],
   "source": [
    "temp = get_anime_info(48585)"
   ]
  },
  {
   "cell_type": "code",
   "execution_count": 12,
   "metadata": {},
   "outputs": [
    {
     "data": {
      "text/plain": [
       "[]"
      ]
     },
     "execution_count": 12,
     "metadata": {},
     "output_type": "execute_result"
    }
   ],
   "source": [
    "x = temp['themes']\n",
    "res = [s['name'] for s in x if s['name'] is not None]\n",
    "\n",
    "res"
   ]
  },
  {
   "cell_type": "code",
   "execution_count": 19,
   "metadata": {},
   "outputs": [
    {
     "data": {
      "text/plain": [
       "{'id': 55791,\n",
       " 'title': '[Oshi no Ko] 2nd Season',\n",
       " 'main_picture': {'medium': 'https://cdn.myanimelist.net/images/anime/1006/143302.jpg',\n",
       "  'large': 'https://cdn.myanimelist.net/images/anime/1006/143302l.jpg'},\n",
       " 'alternative_titles': {'synonyms': ['My Star Season 2'],\n",
       "  'en': '[Oshi No Ko] Season 2',\n",
       "  'ja': '【推しの子】第2期'},\n",
       " 'start_date': '2024-07-03',\n",
       " 'end_date': '2024-10-06',\n",
       " 'synopsis': 'With the help of producer Masaya Kaburagi, Aquamarine \"Aqua\" Hoshino and Kana Arima have landed the roles of Touki and Tsurugi in Lala Lai Theatrical Company\\'s stage adaptation of the popular manga series Tokyo Blade. Co-starring with them is Aqua\\'s girlfriend, Akane Kurokawa, who plays Touki\\'s fiancée, Princess Saya. Due to the fanbase preferring Tsurugi as Touki\\'s love interest, Saya has made fewer and fewer appearances in the manga, making it difficult for Akane to fully immerse herself in the role. Her struggles are compounded by differences between the play\\'s script and the original work—differences that also frustrate Tokyo Blade\\'s author, Abiko Samejima.\\n\\nAqua, however, is more concerned with his personal goals than he is with the play. He has only one objective in mind: to grow closer to director Toshirou Kindaichi and find out what he knows about Aqua\\'s mother, Ai.\\n\\n[Written by MAL Rewrite]',\n",
       " 'mean': 8.6,\n",
       " 'rank': 102,\n",
       " 'popularity': 612,\n",
       " 'num_list_users': 402958,\n",
       " 'num_scoring_users': 168056,\n",
       " 'nsfw': 'white',\n",
       " 'created_at': '2023-06-28T14:55:16+00:00',\n",
       " 'updated_at': '2025-01-09T22:35:35+00:00',\n",
       " 'media_type': 'tv',\n",
       " 'status': 'finished_airing',\n",
       " 'genres': [{'id': 8, 'name': 'Drama'},\n",
       "  {'id': 72, 'name': 'Reincarnation'},\n",
       "  {'id': 42, 'name': 'Seinen'},\n",
       "  {'id': 75, 'name': 'Showbiz'}],\n",
       " 'num_episodes': 13,\n",
       " 'start_season': {'year': 2024, 'season': 'summer'},\n",
       " 'broadcast': {'day_of_the_week': 'wednesday', 'start_time': '23:00'},\n",
       " 'source': 'manga',\n",
       " 'average_episode_duration': 1520,\n",
       " 'rating': 'pg_13',\n",
       " 'pictures': [{'medium': 'https://cdn.myanimelist.net/images/anime/1477/136727.jpg',\n",
       "   'large': 'https://cdn.myanimelist.net/images/anime/1477/136727l.jpg'},\n",
       "  {'medium': 'https://cdn.myanimelist.net/images/anime/1915/139947.jpg',\n",
       "   'large': 'https://cdn.myanimelist.net/images/anime/1915/139947l.jpg'},\n",
       "  {'medium': 'https://cdn.myanimelist.net/images/anime/1754/142244.jpg',\n",
       "   'large': 'https://cdn.myanimelist.net/images/anime/1754/142244l.jpg'},\n",
       "  {'medium': 'https://cdn.myanimelist.net/images/anime/1206/142245.jpg',\n",
       "   'large': 'https://cdn.myanimelist.net/images/anime/1206/142245l.jpg'},\n",
       "  {'medium': 'https://cdn.myanimelist.net/images/anime/1006/143302.jpg',\n",
       "   'large': 'https://cdn.myanimelist.net/images/anime/1006/143302l.jpg'},\n",
       "  {'medium': 'https://cdn.myanimelist.net/images/anime/1472/143303.jpg',\n",
       "   'large': 'https://cdn.myanimelist.net/images/anime/1472/143303l.jpg'},\n",
       "  {'medium': 'https://cdn.myanimelist.net/images/anime/1821/144557.jpg',\n",
       "   'large': 'https://cdn.myanimelist.net/images/anime/1821/144557l.jpg'},\n",
       "  {'medium': 'https://cdn.myanimelist.net/images/anime/1250/145430.jpg',\n",
       "   'large': 'https://cdn.myanimelist.net/images/anime/1250/145430l.jpg'},\n",
       "  {'medium': 'https://cdn.myanimelist.net/images/anime/1158/145572.jpg',\n",
       "   'large': 'https://cdn.myanimelist.net/images/anime/1158/145572l.jpg'}],\n",
       " 'background': '[Oshi no Ko] 2nd Season was released on Blu-ray and DVD in six volumes from October 25, 2024, to March 26, 2025.',\n",
       " 'related_anime': [{'node': {'id': 52034,\n",
       "    'title': '[Oshi no Ko]',\n",
       "    'main_picture': {'medium': 'https://cdn.myanimelist.net/images/anime/1812/134736.jpg',\n",
       "     'large': 'https://cdn.myanimelist.net/images/anime/1812/134736l.jpg'}},\n",
       "   'relation_type': 'prequel',\n",
       "   'relation_type_formatted': 'Prequel'},\n",
       "  {'node': {'id': 60058,\n",
       "    'title': '[Oshi no Ko] 3rd Season',\n",
       "    'main_picture': {'medium': 'https://cdn.myanimelist.net/images/anime/1091/145945.jpg',\n",
       "     'large': 'https://cdn.myanimelist.net/images/anime/1091/145945l.jpg'}},\n",
       "   'relation_type': 'sequel',\n",
       "   'relation_type_formatted': 'Sequel'}],\n",
       " 'related_manga': [],\n",
       " 'recommendations': [{'node': {'id': 4722,\n",
       "    'title': 'Skip Beat!',\n",
       "    'main_picture': {'medium': 'https://cdn.myanimelist.net/images/anime/11/84022.jpg',\n",
       "     'large': 'https://cdn.myanimelist.net/images/anime/11/84022l.jpg'}},\n",
       "   'num_recommendations': 1},\n",
       "  {'node': {'id': 7674,\n",
       "    'title': 'Bakuman.',\n",
       "    'main_picture': {'medium': 'https://cdn.myanimelist.net/images/anime/6/26138.jpg',\n",
       "     'large': 'https://cdn.myanimelist.net/images/anime/6/26138l.jpg'}},\n",
       "   'num_recommendations': 1},\n",
       "  {'node': {'id': 41265,\n",
       "    'title': 'Mars Red',\n",
       "    'main_picture': {'medium': 'https://cdn.myanimelist.net/images/anime/1212/113448.webp',\n",
       "     'large': 'https://cdn.myanimelist.net/images/anime/1212/113448l.webp'}},\n",
       "   'num_recommendations': 1},\n",
       "  {'node': {'id': 55102,\n",
       "    'title': 'Girls Band Cry',\n",
       "    'main_picture': {'medium': 'https://cdn.myanimelist.net/images/anime/1711/140515.jpg',\n",
       "     'large': 'https://cdn.myanimelist.net/images/anime/1711/140515l.jpg'}},\n",
       "   'num_recommendations': 1}],\n",
       " 'studios': [{'id': 95, 'name': 'Doga Kobo'}],\n",
       " 'statistics': {'status': {'watching': '73916',\n",
       "   'completed': '185765',\n",
       "   'on_hold': '5678',\n",
       "   'dropped': '3893',\n",
       "   'plan_to_watch': '133630'},\n",
       "  'num_list_users': 402882}}"
      ]
     },
     "execution_count": 19,
     "metadata": {},
     "output_type": "execute_result"
    }
   ],
   "source": [
    "anime = test(55791)\n",
    "anime"
   ]
  },
  {
   "cell_type": "code",
   "execution_count": 22,
   "metadata": {},
   "outputs": [
    {
     "data": {
      "text/plain": [
       "{'from': '2023-06-16T00:00:00+00:00',\n",
       " 'to': None,\n",
       " 'prop': {'from': {'day': 16, 'month': 6, 'year': 2023},\n",
       "  'to': {'day': None, 'month': None, 'year': None}},\n",
       " 'string': 'Jun 16, 2023'}"
      ]
     },
     "execution_count": 22,
     "metadata": {},
     "output_type": "execute_result"
    }
   ],
   "source": [
    "temp['aired']"
   ]
  },
  {
   "cell_type": "code",
   "execution_count": 18,
   "metadata": {},
   "outputs": [],
   "source": [
    "anime_id = 5114\n",
    "req = requests.get(f\"https://api.myanimelist.net/v2/anime/{anime_id}\", headers={\"X-MAL-CLIENT-ID\": id, \"client_secret\": secret})"
   ]
  },
  {
   "cell_type": "code",
   "execution_count": 21,
   "metadata": {},
   "outputs": [
    {
     "data": {
      "text/plain": [
       "{'id': 5114,\n",
       " 'title': 'Fullmetal Alchemist: Brotherhood',\n",
       " 'main_picture': {'medium': 'https://cdn.myanimelist.net/images/anime/1208/94745.webp',\n",
       "  'large': 'https://cdn.myanimelist.net/images/anime/1208/94745l.webp'}}"
      ]
     },
     "execution_count": 21,
     "metadata": {},
     "output_type": "execute_result"
    }
   ],
   "source": [
    "req.json()"
   ]
  }
 ],
 "metadata": {
  "kernelspec": {
   "display_name": "anime-dashboard",
   "language": "python",
   "name": "python3"
  },
  "language_info": {
   "codemirror_mode": {
    "name": "ipython",
    "version": 3
   },
   "file_extension": ".py",
   "mimetype": "text/x-python",
   "name": "python",
   "nbconvert_exporter": "python",
   "pygments_lexer": "ipython3",
   "version": "3.9.21"
  }
 },
 "nbformat": 4,
 "nbformat_minor": 2
}
