{
 "cells": [
  {
   "cell_type": "code",
   "execution_count": 23,
   "metadata": {},
   "outputs": [],
   "source": [
    "from dotenv import load_dotenv\n",
    "import jikanpy\n",
    "import os\n",
    "import requests\n",
    "import pandas as pd\n",
    "load_dotenv()\n",
    "\n",
    "secret = os.getenv(\"secret\")\n",
    "id = os.getenv(\"id\")\n",
    "\n",
    "jikan = jikanpy.Jikan()"
   ]
  },
  {
   "cell_type": "code",
   "execution_count": 24,
   "metadata": {},
   "outputs": [],
   "source": [
    "username = 'jackljk'\n",
    "req = requests.get(f\"https://api.myanimelist.net/v2/users/{username}/animelist?limit=1000\", headers={\"X-MAL-CLIENT-ID\": id, \"client_secret\": secret})"
   ]
  },
  {
   "cell_type": "code",
   "execution_count": 25,
   "metadata": {},
   "outputs": [],
   "source": [
    "def get_anime_info(anime_id):\n",
    "    jikan = jikanpy.Jikan()\n",
    "    anime = jikan.anime(anime_id)['data']\n",
    "    return anime"
   ]
  },
  {
   "cell_type": "code",
   "execution_count": 26,
   "metadata": {},
   "outputs": [
    {
     "data": {
      "text/html": [
       "<div>\n",
       "<style scoped>\n",
       "    .dataframe tbody tr th:only-of-type {\n",
       "        vertical-align: middle;\n",
       "    }\n",
       "\n",
       "    .dataframe tbody tr th {\n",
       "        vertical-align: top;\n",
       "    }\n",
       "\n",
       "    .dataframe thead th {\n",
       "        text-align: right;\n",
       "    }\n",
       "</style>\n",
       "<table border=\"1\" class=\"dataframe\">\n",
       "  <thead>\n",
       "    <tr style=\"text-align: right;\">\n",
       "      <th></th>\n",
       "      <th>id</th>\n",
       "      <th>title</th>\n",
       "    </tr>\n",
       "  </thead>\n",
       "  <tbody>\n",
       "    <tr>\n",
       "      <th>0</th>\n",
       "      <td>38101</td>\n",
       "      <td>5-toubun no Hanayome</td>\n",
       "    </tr>\n",
       "    <tr>\n",
       "      <th>1</th>\n",
       "      <td>39783</td>\n",
       "      <td>5-toubun no Hanayome ∬</td>\n",
       "    </tr>\n",
       "    <tr>\n",
       "      <th>2</th>\n",
       "      <td>41457</td>\n",
       "      <td>86</td>\n",
       "    </tr>\n",
       "    <tr>\n",
       "      <th>3</th>\n",
       "      <td>48569</td>\n",
       "      <td>86 Part 2</td>\n",
       "    </tr>\n",
       "    <tr>\n",
       "      <th>4</th>\n",
       "      <td>30123</td>\n",
       "      <td>Akagami no Shirayuki-hime</td>\n",
       "    </tr>\n",
       "    <tr>\n",
       "      <th>5</th>\n",
       "      <td>31173</td>\n",
       "      <td>Akagami no Shirayuki-hime 2nd Season</td>\n",
       "    </tr>\n",
       "    <tr>\n",
       "      <th>6</th>\n",
       "      <td>22199</td>\n",
       "      <td>Akame ga Kill!</td>\n",
       "    </tr>\n",
       "    <tr>\n",
       "      <th>7</th>\n",
       "      <td>6547</td>\n",
       "      <td>Angel Beats!</td>\n",
       "    </tr>\n",
       "    <tr>\n",
       "      <th>8</th>\n",
       "      <td>11111</td>\n",
       "      <td>Another</td>\n",
       "    </tr>\n",
       "    <tr>\n",
       "      <th>9</th>\n",
       "      <td>24833</td>\n",
       "      <td>Ansatsu Kyoushitsu</td>\n",
       "    </tr>\n",
       "    <tr>\n",
       "      <th>10</th>\n",
       "      <td>30654</td>\n",
       "      <td>Ansatsu Kyoushitsu 2nd Season</td>\n",
       "    </tr>\n",
       "    <tr>\n",
       "      <th>11</th>\n",
       "      <td>36882</td>\n",
       "      <td>Arifureta Shokugyou de Sekai Saikyou</td>\n",
       "    </tr>\n",
       "    <tr>\n",
       "      <th>12</th>\n",
       "      <td>40507</td>\n",
       "      <td>Arifureta Shokugyou de Sekai Saikyou 2nd Season</td>\n",
       "    </tr>\n",
       "    <tr>\n",
       "      <th>13</th>\n",
       "      <td>52995</td>\n",
       "      <td>Arifureta Shokugyou de Sekai Saikyou Season 3</td>\n",
       "    </tr>\n",
       "    <tr>\n",
       "      <th>14</th>\n",
       "      <td>38572</td>\n",
       "      <td>Assassins Pride</td>\n",
       "    </tr>\n",
       "    <tr>\n",
       "      <th>15</th>\n",
       "      <td>34443</td>\n",
       "      <td>Baki</td>\n",
       "    </tr>\n",
       "    <tr>\n",
       "      <th>16</th>\n",
       "      <td>39555</td>\n",
       "      <td>Baki: Dai Raitaisai-hen</td>\n",
       "    </tr>\n",
       "    <tr>\n",
       "      <th>17</th>\n",
       "      <td>34572</td>\n",
       "      <td>Black Clover</td>\n",
       "    </tr>\n",
       "    <tr>\n",
       "      <th>18</th>\n",
       "      <td>48585</td>\n",
       "      <td>Black Clover: Mahou Tei no Ken</td>\n",
       "    </tr>\n",
       "    <tr>\n",
       "      <th>19</th>\n",
       "      <td>56784</td>\n",
       "      <td>Bleach: Sennen Kessen-hen - Soukoku-tan</td>\n",
       "    </tr>\n",
       "  </tbody>\n",
       "</table>\n",
       "</div>"
      ],
      "text/plain": [
       "       id                                            title\n",
       "0   38101                             5-toubun no Hanayome\n",
       "1   39783                           5-toubun no Hanayome ∬\n",
       "2   41457                                               86\n",
       "3   48569                                        86 Part 2\n",
       "4   30123                        Akagami no Shirayuki-hime\n",
       "5   31173             Akagami no Shirayuki-hime 2nd Season\n",
       "6   22199                                   Akame ga Kill!\n",
       "7    6547                                     Angel Beats!\n",
       "8   11111                                          Another\n",
       "9   24833                               Ansatsu Kyoushitsu\n",
       "10  30654                    Ansatsu Kyoushitsu 2nd Season\n",
       "11  36882             Arifureta Shokugyou de Sekai Saikyou\n",
       "12  40507  Arifureta Shokugyou de Sekai Saikyou 2nd Season\n",
       "13  52995    Arifureta Shokugyou de Sekai Saikyou Season 3\n",
       "14  38572                                  Assassins Pride\n",
       "15  34443                                             Baki\n",
       "16  39555                          Baki: Dai Raitaisai-hen\n",
       "17  34572                                     Black Clover\n",
       "18  48585                   Black Clover: Mahou Tei no Ken\n",
       "19  56784          Bleach: Sennen Kessen-hen - Soukoku-tan"
      ]
     },
     "execution_count": 26,
     "metadata": {},
     "output_type": "execute_result"
    }
   ],
   "source": [
    "# data is a list of dictionaries with \"node\" as the key which is useless hwo to get the data into a pandas df\n",
    "data = req.json()['data'][:20]\n",
    "# flatten the 'node' keys to get the dict in nodes\n",
    "data = [x['node'] for x in data]\n",
    "\n",
    "df = pd.DataFrame(data).drop(columns=['main_picture'])\n",
    "df"
   ]
  },
  {
   "cell_type": "code",
   "execution_count": 27,
   "metadata": {},
   "outputs": [
    {
     "ename": "TypeError",
     "evalue": "get_anime_info() missing 1 required positional argument: 'infos'",
     "output_type": "error",
     "traceback": [
      "\u001b[1;31m---------------------------------------------------------------------------\u001b[0m",
      "\u001b[1;31mTypeError\u001b[0m                                 Traceback (most recent call last)",
      "Cell \u001b[1;32mIn[27], line 1\u001b[0m\n\u001b[1;32m----> 1\u001b[0m temp \u001b[38;5;241m=\u001b[39m \u001b[43mget_anime_info\u001b[49m\u001b[43m(\u001b[49m\u001b[38;5;241;43m48585\u001b[39;49m\u001b[43m)\u001b[49m\n",
      "\u001b[1;31mTypeError\u001b[0m: get_anime_info() missing 1 required positional argument: 'infos'"
     ]
    }
   ],
   "source": [
    "temp = get_anime_info(48585)"
   ]
  },
  {
   "cell_type": "code",
   "execution_count": 18,
   "metadata": {},
   "outputs": [],
   "source": [
    "anime_id = 5114\n",
    "req = requests.get(f\"https://api.myanimelist.net/v2/anime/{anime_id}\", headers={\"X-MAL-CLIENT-ID\": id, \"client_secret\": secret})"
   ]
  },
  {
   "cell_type": "code",
   "execution_count": 21,
   "metadata": {},
   "outputs": [
    {
     "data": {
      "text/plain": [
       "{'id': 5114,\n",
       " 'title': 'Fullmetal Alchemist: Brotherhood',\n",
       " 'main_picture': {'medium': 'https://cdn.myanimelist.net/images/anime/1208/94745.webp',\n",
       "  'large': 'https://cdn.myanimelist.net/images/anime/1208/94745l.webp'}}"
      ]
     },
     "execution_count": 21,
     "metadata": {},
     "output_type": "execute_result"
    }
   ],
   "source": [
    "req.json()"
   ]
  }
 ],
 "metadata": {
  "kernelspec": {
   "display_name": "anime-dashboard",
   "language": "python",
   "name": "python3"
  },
  "language_info": {
   "codemirror_mode": {
    "name": "ipython",
    "version": 3
   },
   "file_extension": ".py",
   "mimetype": "text/x-python",
   "name": "python",
   "nbconvert_exporter": "python",
   "pygments_lexer": "ipython3",
   "version": "3.9.21"
  }
 },
 "nbformat": 4,
 "nbformat_minor": 2
}
