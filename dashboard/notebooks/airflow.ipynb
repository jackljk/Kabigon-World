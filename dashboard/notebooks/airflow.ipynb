{
 "cells": [
  {
   "cell_type": "code",
   "execution_count": 14,
   "metadata": {},
   "outputs": [],
   "source": [
    "\n",
    "from dotenv import load_dotenv\n",
    "import jikanpy\n",
    "import os\n",
    "import requests\n",
    "import pandas as pd\n",
    "from datetime import datetime, timezone\n",
    "import plotly.express as px\n",
    "import plotly.graph_objects as go\n",
    "load_dotenv()\n",
    "\n",
    "secret = os.getenv(\"secret\")\n",
    "id = os.getenv(\"id\")\n",
    "AWS_ACCESS_KEY_ID = os.getenv(\"AWS_ACCESS_KEY\")\n",
    "AWS_SECRET_ACCESS_KEY = os.getenv(\"AWS_SECRET_KEY\")\n",
    "jikan = jikanpy.Jikan()"
   ]
  },
  {
   "cell_type": "code",
   "execution_count": 3,
   "metadata": {},
   "outputs": [],
   "source": [
    "from boto3.dynamodb.types import TypeDeserializer\n",
    "import boto3\n",
    "\n",
    "def get_analytics_data():\n",
    "    # Connect to dynamodb\n",
    "    dynamodb = boto3.client(\n",
    "        \"dynamodb\",\n",
    "        aws_access_key_id=AWS_ACCESS_KEY_ID,\n",
    "        aws_secret_access_key=AWS_SECRET_ACCESS_KEY,\n",
    "        region_name=\"us-west-2\"\n",
    "    )\n",
    "    df_dicts = {}\n",
    "    \n",
    "    \n",
    "    # get top 25 data\n",
    "    response_top_25 = dynamodb.scan(TableName=\"anime-dashboard-top-25\", Limit=100)\n",
    "    \n",
    "    # convert to pandas dataframe\n",
    "    df_dicts['top_25'] = parse_analytics_data(response_top_25['Items'])\n",
    "    \n",
    "    \n",
    "    return df_dicts\n",
    "\n",
    "\n",
    "def _deserialize(data):\n",
    "    deserializer = TypeDeserializer()\n",
    "    return {k: deserializer.deserialize(v) for k, v in data.items()}\n",
    "\n",
    "def parse_analytics_data(data):\n",
    "    deserialized_data = [_deserialize(x) for x in data]\n",
    "    data = [pd.json_normalize(x, 'data', ['timestamp']) for x in deserialized_data]\n",
    "    return pd.concat(data, ignore_index=True)"
   ]
  },
  {
   "cell_type": "code",
   "execution_count": 8,
   "metadata": {},
   "outputs": [],
   "source": [
    "from decimal import Decimal\n",
    "def get_top_data():\n",
    "    url = \"https://api.jikan.moe/v4/top/anime\"\n",
    "    try:\n",
    "        # Make a GET request to the Jikan API\n",
    "        response = requests.get(url)\n",
    "        response.raise_for_status()  # Raise an HTTPError for bad responses (4xx and 5xx)\n",
    "\n",
    "        # Parse the JSON response\n",
    "        top_25 = response.json()\n",
    "        res = []\n",
    "        for data in top_25['data'][0:25]:  # Get only the top 25 entries\n",
    "            item = {\n",
    "                'mal_id': data['mal_id'],\n",
    "                'title': data['title'],\n",
    "                'url': data['url'],\n",
    "                'image_url': data['images']['webp']['image_url'],\n",
    "                'title_english': data.get('title_english'),  # Use .get() to handle missing keys\n",
    "                'title_japanese': data.get('title_japanese'),\n",
    "                'licensors': {\n",
    "                    'names': [x['name'] for x in data['licensors']],\n",
    "                    'urls':  [x['url'] for x in data['licensors']]\n",
    "                },\n",
    "                'studios': {\n",
    "                    'names': [x['name'] for x in data['studios']],\n",
    "                    'urls': [x['url'] for x in data['studios']]\n",
    "                },\n",
    "                'genres': [x['name'] for x in data['genres']],\n",
    "                'statistics': {\n",
    "                    'rank': Decimal(str(data['rank'])),\n",
    "                    'score': Decimal(str(data['score'])),\n",
    "                    'members': Decimal(str(data['members'])),\n",
    "                    'favorites': Decimal(str(data['favorites'])),\n",
    "                    'scored_by': Decimal(str(data['scored_by'])),\n",
    "                    'popularity': Decimal(str(data['popularity']))\n",
    "                }\n",
    "            }\n",
    "            res.append(item)\n",
    "        print(res)\n",
    "        return res\n",
    "    except requests.exceptions.RequestException as e:\n",
    "        raise RuntimeError(f\"Error fetching data from Jikan API: {str(e)}\")"
   ]
  },
  {
   "cell_type": "code",
   "execution_count": 12,
   "metadata": {},
   "outputs": [
    {
     "name": "stdout",
     "output_type": "stream",
     "text": [
      "[{'mal_id': 52991, 'title': 'Sousou no Frieren', 'url': 'https://myanimelist.net/anime/52991/Sousou_no_Frieren', 'image_url': 'https://cdn.myanimelist.net/images/anime/1015/138006.webp', 'title_english': \"Frieren: Beyond Journey's End\", 'title_japanese': '葬送のフリーレン', 'licensors': {'names': ['Crunchyroll'], 'urls': ['https://myanimelist.net/anime/producer/1468/Crunchyroll']}, 'studios': {'names': ['Madhouse'], 'urls': ['https://myanimelist.net/anime/producer/11/Madhouse']}, 'genres': ['Adventure', 'Drama', 'Fantasy'], 'statistics': {'rank': Decimal('1'), 'score': Decimal('9.31'), 'members': Decimal('1017445'), 'favorites': Decimal('61768'), 'scored_by': Decimal('590917'), 'popularity': Decimal('164')}}, {'mal_id': 5114, 'title': 'Fullmetal Alchemist: Brotherhood', 'url': 'https://myanimelist.net/anime/5114/Fullmetal_Alchemist__Brotherhood', 'image_url': 'https://cdn.myanimelist.net/images/anime/1208/94745.webp', 'title_english': 'Fullmetal Alchemist: Brotherhood', 'title_japanese': '鋼の錬金術師 FULLMETAL ALCHEMIST', 'licensors': {'names': ['Funimation', 'Aniplex of America'], 'urls': ['https://myanimelist.net/anime/producer/102/Funimation', 'https://myanimelist.net/anime/producer/493/Aniplex_of_America']}, 'studios': {'names': ['Bones'], 'urls': ['https://myanimelist.net/anime/producer/4/Bones']}, 'genres': ['Action', 'Adventure', 'Drama', 'Fantasy'], 'statistics': {'rank': Decimal('2'), 'score': Decimal('9.1'), 'members': Decimal('3473686'), 'favorites': Decimal('231430'), 'scored_by': Decimal('2190796'), 'popularity': Decimal('3')}}, {'mal_id': 9253, 'title': 'Steins;Gate', 'url': 'https://myanimelist.net/anime/9253/Steins_Gate', 'image_url': 'https://cdn.myanimelist.net/images/anime/1935/127974.webp', 'title_english': 'Steins;Gate', 'title_japanese': 'STEINS;GATE', 'licensors': {'names': ['Funimation'], 'urls': ['https://myanimelist.net/anime/producer/102/Funimation']}, 'studios': {'names': ['White Fox'], 'urls': ['https://myanimelist.net/anime/producer/314/White_Fox']}, 'genres': ['Drama', 'Sci-Fi', 'Suspense'], 'statistics': {'rank': Decimal('3'), 'score': Decimal('9.07'), 'members': Decimal('2661063'), 'favorites': Decimal('194035'), 'scored_by': Decimal('1446323'), 'popularity': Decimal('14')}}, {'mal_id': 60022, 'title': 'One Piece Fan Letter', 'url': 'https://myanimelist.net/anime/60022/One_Piece_Fan_Letter', 'image_url': 'https://cdn.myanimelist.net/images/anime/1455/146229.webp', 'title_english': None, 'title_japanese': 'ONE PIECE FAN LETTER', 'licensors': {'names': [], 'urls': []}, 'studios': {'names': ['Toei Animation'], 'urls': ['https://myanimelist.net/anime/producer/18/Toei_Animation']}, 'genres': ['Action', 'Adventure', 'Fantasy'], 'statistics': {'rank': Decimal('4'), 'score': Decimal('9.06'), 'members': Decimal('86769'), 'favorites': Decimal('1932'), 'scored_by': Decimal('65838'), 'popularity': Decimal('2415')}}, {'mal_id': 38524, 'title': 'Shingeki no Kyojin Season 3 Part 2', 'url': 'https://myanimelist.net/anime/38524/Shingeki_no_Kyojin_Season_3_Part_2', 'image_url': 'https://cdn.myanimelist.net/images/anime/1517/100633.webp', 'title_english': 'Attack on Titan Season 3 Part 2', 'title_japanese': '進撃の巨人 Season3 Part.2', 'licensors': {'names': ['Funimation'], 'urls': ['https://myanimelist.net/anime/producer/102/Funimation']}, 'studios': {'names': ['Wit Studio'], 'urls': ['https://myanimelist.net/anime/producer/858/Wit_Studio']}, 'genres': ['Action', 'Drama', 'Suspense'], 'statistics': {'rank': Decimal('5'), 'score': Decimal('9.05'), 'members': Decimal('2399441'), 'favorites': Decimal('60360'), 'scored_by': Decimal('1665266'), 'popularity': Decimal('21')}}, {'mal_id': 28977, 'title': 'Gintama°', 'url': 'https://myanimelist.net/anime/28977/Gintama°', 'image_url': 'https://cdn.myanimelist.net/images/anime/3/72078.webp', 'title_english': 'Gintama Season 4', 'title_japanese': '銀魂°', 'licensors': {'names': ['Funimation', 'Crunchyroll'], 'urls': ['https://myanimelist.net/anime/producer/102/Funimation', 'https://myanimelist.net/anime/producer/1468/Crunchyroll']}, 'studios': {'names': ['Bandai Namco Pictures'], 'urls': ['https://myanimelist.net/anime/producer/1258/Bandai_Namco_Pictures']}, 'genres': ['Action', 'Comedy', 'Sci-Fi'], 'statistics': {'rank': Decimal('6'), 'score': Decimal('9.05'), 'members': Decimal('655202'), 'favorites': Decimal('17002'), 'scored_by': Decimal('259895'), 'popularity': Decimal('343')}}, {'mal_id': 39486, 'title': 'Gintama: The Final', 'url': 'https://myanimelist.net/anime/39486/Gintama__The_Final', 'image_url': 'https://cdn.myanimelist.net/images/anime/1245/116760.webp', 'title_english': 'Gintama: The Very Final', 'title_japanese': '銀魂 THE FINAL', 'licensors': {'names': ['Eleven Arts'], 'urls': ['https://myanimelist.net/anime/producer/531/Eleven_Arts']}, 'studios': {'names': ['Bandai Namco Pictures'], 'urls': ['https://myanimelist.net/anime/producer/1258/Bandai_Namco_Pictures']}, 'genres': ['Action', 'Comedy', 'Drama', 'Sci-Fi'], 'statistics': {'rank': Decimal('7'), 'score': Decimal('9.04'), 'members': Decimal('162654'), 'favorites': Decimal('4422'), 'scored_by': Decimal('77713'), 'popularity': Decimal('1537')}}, {'mal_id': 11061, 'title': 'Hunter x Hunter (2011)', 'url': 'https://myanimelist.net/anime/11061/Hunter_x_Hunter_2011', 'image_url': 'https://cdn.myanimelist.net/images/anime/1337/99013.webp', 'title_english': 'Hunter x Hunter', 'title_japanese': 'HUNTER×HUNTER（ハンター×ハンター）', 'licensors': {'names': ['VIZ Media'], 'urls': ['https://myanimelist.net/anime/producer/119/VIZ_Media']}, 'studios': {'names': ['Madhouse'], 'urls': ['https://myanimelist.net/anime/producer/11/Madhouse']}, 'genres': ['Action', 'Adventure', 'Fantasy'], 'statistics': {'rank': Decimal('8'), 'score': Decimal('9.03'), 'members': Decimal('2971759'), 'favorites': Decimal('217843'), 'scored_by': Decimal('1845978'), 'popularity': Decimal('8')}}, {'mal_id': 9969, 'title': \"Gintama'\", 'url': 'https://myanimelist.net/anime/9969/Gintama', 'image_url': 'https://cdn.myanimelist.net/images/anime/4/50361.webp', 'title_english': 'Gintama Season 2', 'title_japanese': \"銀魂'\", 'licensors': {'names': [], 'urls': []}, 'studios': {'names': ['Sunrise'], 'urls': ['https://myanimelist.net/anime/producer/14/Sunrise']}, 'genres': ['Action', 'Comedy', 'Sci-Fi'], 'statistics': {'rank': Decimal('9'), 'score': Decimal('9.02'), 'members': Decimal('579000'), 'favorites': Decimal('8315'), 'scored_by': Decimal('245348'), 'popularity': Decimal('401')}}, {'mal_id': 15417, 'title': \"Gintama': Enchousen\", 'url': 'https://myanimelist.net/anime/15417/Gintama__Enchousen', 'image_url': 'https://cdn.myanimelist.net/images/anime/1452/123686.webp', 'title_english': 'Gintama: Enchousen', 'title_japanese': \"銀魂' 延長戦\", 'licensors': {'names': [], 'urls': []}, 'studios': {'names': ['Sunrise'], 'urls': ['https://myanimelist.net/anime/producer/14/Sunrise']}, 'genres': ['Action', 'Comedy', 'Sci-Fi'], 'statistics': {'rank': Decimal('10'), 'score': Decimal('9.02'), 'members': Decimal('337372'), 'favorites': Decimal('3086'), 'scored_by': Decimal('170868'), 'popularity': Decimal('756')}}, {'mal_id': 820, 'title': 'Ginga Eiyuu Densetsu', 'url': 'https://myanimelist.net/anime/820/Ginga_Eiyuu_Densetsu', 'image_url': 'https://cdn.myanimelist.net/images/anime/1976/142016.webp', 'title_english': 'Legend of the Galactic Heroes', 'title_japanese': '銀河英雄伝説', 'licensors': {'names': ['Sentai Filmworks'], 'urls': ['https://myanimelist.net/anime/producer/376/Sentai_Filmworks']}, 'studios': {'names': ['K-Factory', 'Kitty Film Mitaka Studio'], 'urls': ['https://myanimelist.net/anime/producer/1269/K-Factory', 'https://myanimelist.net/anime/producer/2256/Kitty_Film_Mitaka_Studio']}, 'genres': ['Drama', 'Sci-Fi'], 'statistics': {'rank': Decimal('11'), 'score': Decimal('9.01'), 'members': Decimal('336627'), 'favorites': Decimal('16844'), 'scored_by': Decimal('82270'), 'popularity': Decimal('760')}}, {'mal_id': 41467, 'title': 'Bleach: Sennen Kessen-hen', 'url': 'https://myanimelist.net/anime/41467/Bleach__Sennen_Kessen-hen', 'image_url': 'https://cdn.myanimelist.net/images/anime/1908/135431.webp', 'title_english': 'Bleach: Thousand-Year Blood War', 'title_japanese': 'BLEACH 千年血戦篇', 'licensors': {'names': ['VIZ Media'], 'urls': ['https://myanimelist.net/anime/producer/119/VIZ_Media']}, 'studios': {'names': ['Pierrot'], 'urls': ['https://myanimelist.net/anime/producer/1/Pierrot']}, 'genres': ['Action', 'Adventure', 'Supernatural'], 'statistics': {'rank': Decimal('12'), 'score': Decimal('9'), 'members': Decimal('611660'), 'favorites': Decimal('21887'), 'scored_by': Decimal('323379'), 'popularity': Decimal('378')}}, {'mal_id': 43608, 'title': 'Kaguya-sama wa Kokurasetai: Ultra Romantic', 'url': 'https://myanimelist.net/anime/43608/Kaguya-sama_wa_Kokurasetai__Ultra_Romantic', 'image_url': 'https://cdn.myanimelist.net/images/anime/1160/122627.webp', 'title_english': 'Kaguya-sama: Love is War -Ultra Romantic-', 'title_japanese': 'かぐや様は告らせたい-ウルトラロマンティック-', 'licensors': {'names': ['Aniplex of America'], 'urls': ['https://myanimelist.net/anime/producer/493/Aniplex_of_America']}, 'studios': {'names': ['A-1 Pictures'], 'urls': ['https://myanimelist.net/anime/producer/56/A-1_Pictures']}, 'genres': ['Comedy', 'Romance'], 'statistics': {'rank': Decimal('13'), 'score': Decimal('8.99'), 'members': Decimal('1003953'), 'favorites': Decimal('32076'), 'scored_by': Decimal('569097'), 'popularity': Decimal('170')}}, {'mal_id': 34096, 'title': 'Gintama.', 'url': 'https://myanimelist.net/anime/34096/Gintama', 'image_url': 'https://cdn.myanimelist.net/images/anime/3/83528.webp', 'title_english': 'Gintama Season 5', 'title_japanese': '銀魂。', 'licensors': {'names': [], 'urls': []}, 'studios': {'names': ['Bandai Namco Pictures'], 'urls': ['https://myanimelist.net/anime/producer/1258/Bandai_Namco_Pictures']}, 'genres': ['Action', 'Comedy', 'Sci-Fi'], 'statistics': {'rank': Decimal('14'), 'score': Decimal('8.98'), 'members': Decimal('327296'), 'favorites': Decimal('2769'), 'scored_by': Decimal('151517'), 'popularity': Decimal('785')}}, {'mal_id': 42938, 'title': 'Fruits Basket: The Final', 'url': 'https://myanimelist.net/anime/42938/Fruits_Basket__The_Final', 'image_url': 'https://cdn.myanimelist.net/images/anime/1085/114792.webp', 'title_english': 'Fruits Basket: The Final Season', 'title_japanese': 'フルーツバスケット The Final', 'licensors': {'names': ['Funimation'], 'urls': ['https://myanimelist.net/anime/producer/102/Funimation']}, 'studios': {'names': ['TMS Entertainment'], 'urls': ['https://myanimelist.net/anime/producer/73/TMS_Entertainment']}, 'genres': ['Drama', 'Romance', 'Supernatural'], 'statistics': {'rank': Decimal('15'), 'score': Decimal('8.96'), 'members': Decimal('512850'), 'favorites': Decimal('20699'), 'scored_by': Decimal('254832'), 'popularity': Decimal('460')}}, {'mal_id': 4181, 'title': 'Clannad: After Story', 'url': 'https://myanimelist.net/anime/4181/Clannad__After_Story', 'image_url': 'https://cdn.myanimelist.net/images/anime/1299/110774.webp', 'title_english': 'Clannad: After Story', 'title_japanese': 'CLANNAD〜AFTER STORY〜 クラナド アフターストーリー', 'licensors': {'names': ['Sentai Filmworks'], 'urls': ['https://myanimelist.net/anime/producer/376/Sentai_Filmworks']}, 'studios': {'names': ['Kyoto Animation'], 'urls': ['https://myanimelist.net/anime/producer/2/Kyoto_Animation']}, 'genres': ['Drama', 'Romance'], 'statistics': {'rank': Decimal('16'), 'score': Decimal('8.93'), 'members': Decimal('1228693'), 'favorites': Decimal('71283'), 'scored_by': Decimal('675383'), 'popularity': Decimal('120')}}, {'mal_id': 918, 'title': 'Gintama', 'url': 'https://myanimelist.net/anime/918/Gintama', 'image_url': 'https://cdn.myanimelist.net/images/anime/10/73274.webp', 'title_english': 'Gintama', 'title_japanese': '銀魂', 'licensors': {'names': ['Sentai Filmworks', 'Crunchyroll'], 'urls': ['https://myanimelist.net/anime/producer/376/Sentai_Filmworks', 'https://myanimelist.net/anime/producer/1468/Crunchyroll']}, 'studios': {'names': ['Sunrise'], 'urls': ['https://myanimelist.net/anime/producer/14/Sunrise']}, 'genres': ['Action', 'Comedy', 'Sci-Fi'], 'statistics': {'rank': Decimal('17'), 'score': Decimal('8.93'), 'members': Decimal('1101248'), 'favorites': Decimal('60076'), 'scored_by': Decimal('407280'), 'popularity': Decimal('145')}}, {'mal_id': 28851, 'title': 'Koe no Katachi', 'url': 'https://myanimelist.net/anime/28851/Koe_no_Katachi', 'image_url': 'https://cdn.myanimelist.net/images/anime/1122/96435.webp', 'title_english': 'A Silent Voice', 'title_japanese': '聲の形', 'licensors': {'names': ['Eleven Arts', 'NYAV Post', 'GKIDS'], 'urls': ['https://myanimelist.net/anime/producer/531/Eleven_Arts', 'https://myanimelist.net/anime/producer/595/NYAV_Post', 'https://myanimelist.net/anime/producer/783/GKIDS']}, 'studios': {'names': ['Kyoto Animation'], 'urls': ['https://myanimelist.net/anime/producer/2/Kyoto_Animation']}, 'genres': ['Award Winning', 'Drama'], 'statistics': {'rank': Decimal('18'), 'score': Decimal('8.93'), 'members': Decimal('2440044'), 'favorites': Decimal('91047'), 'scored_by': Decimal('1683949'), 'popularity': Decimal('20')}}, {'mal_id': 35180, 'title': '3-gatsu no Lion 2nd Season', 'url': 'https://myanimelist.net/anime/35180/3-gatsu_no_Lion_2nd_Season', 'image_url': 'https://cdn.myanimelist.net/images/anime/3/88469.webp', 'title_english': 'March Comes In Like a Lion 2nd Season', 'title_japanese': '3月のライオン 第2シリーズ', 'licensors': {'names': ['Aniplex of America'], 'urls': ['https://myanimelist.net/anime/producer/493/Aniplex_of_America']}, 'studios': {'names': ['Shaft'], 'urls': ['https://myanimelist.net/anime/producer/44/Shaft']}, 'genres': ['Drama'], 'statistics': {'rank': Decimal('19'), 'score': Decimal('8.91'), 'members': Decimal('416113'), 'favorites': Decimal('15251'), 'scored_by': Decimal('205794'), 'popularity': Decimal('586')}}, {'mal_id': 2904, 'title': 'Code Geass: Hangyaku no Lelouch R2', 'url': 'https://myanimelist.net/anime/2904/Code_Geass__Hangyaku_no_Lelouch_R2', 'image_url': 'https://cdn.myanimelist.net/images/anime/1088/135089.webp', 'title_english': 'Code Geass: Lelouch of the Rebellion R2', 'title_japanese': 'コードギアス 反逆のルルーシュ R2', 'licensors': {'names': ['Funimation', 'Bandai Entertainment'], 'urls': ['https://myanimelist.net/anime/producer/102/Funimation', 'https://myanimelist.net/anime/producer/233/Bandai_Entertainment']}, 'studios': {'names': ['Sunrise'], 'urls': ['https://myanimelist.net/anime/producer/14/Sunrise']}, 'genres': ['Action', 'Award Winning', 'Drama', 'Sci-Fi'], 'statistics': {'rank': Decimal('20'), 'score': Decimal('8.91'), 'members': Decimal('1847095'), 'favorites': Decimal('78015'), 'scored_by': Decimal('1233266'), 'popularity': Decimal('47')}}, {'mal_id': 15335, 'title': 'Gintama Movie 2: Kanketsu-hen - Yorozuya yo Eien Nare', 'url': 'https://myanimelist.net/anime/15335/Gintama_Movie_2__Kanketsu-hen_-_Yorozuya_yo_Eien_Nare', 'image_url': 'https://cdn.myanimelist.net/images/anime/10/51723.webp', 'title_english': 'Gintama: The Movie: The Final Chapter: Be Forever Yorozuya', 'title_japanese': '劇場版 銀魂 完結篇 万事屋よ永遠なれ', 'licensors': {'names': [], 'urls': []}, 'studios': {'names': ['Sunrise'], 'urls': ['https://myanimelist.net/anime/producer/14/Sunrise']}, 'genres': ['Action', 'Comedy', 'Sci-Fi'], 'statistics': {'rank': Decimal('21'), 'score': Decimal('8.9'), 'members': Decimal('248441'), 'favorites': Decimal('2123'), 'scored_by': Decimal('138994'), 'popularity': Decimal('1034')}}, {'mal_id': 54492, 'title': 'Kusuriya no Hitorigoto', 'url': 'https://myanimelist.net/anime/54492/Kusuriya_no_Hitorigoto', 'image_url': 'https://cdn.myanimelist.net/images/anime/1708/138033.webp', 'title_english': 'The Apothecary Diaries', 'title_japanese': '薬屋のひとりごと', 'licensors': {'names': ['Crunchyroll'], 'urls': ['https://myanimelist.net/anime/producer/1468/Crunchyroll']}, 'studios': {'names': ['OLM', 'TOHO animation STUDIO'], 'urls': ['https://myanimelist.net/anime/producer/28/OLM', 'https://myanimelist.net/anime/producer/2705/TOHO_animation_STUDIO']}, 'genres': ['Drama', 'Mystery'], 'statistics': {'rank': Decimal('23'), 'score': Decimal('8.88'), 'members': Decimal('552074'), 'favorites': Decimal('16255'), 'scored_by': Decimal('288106'), 'popularity': Decimal('426')}}, {'mal_id': 37491, 'title': 'Gintama. Shirogane no Tamashii-hen - Kouhan-sen', 'url': 'https://myanimelist.net/anime/37491/Gintama_Shirogane_no_Tamashii-hen_-_Kouhan-sen', 'image_url': 'https://cdn.myanimelist.net/images/anime/1776/96566.webp', 'title_english': 'Gintama. Silver Soul Arc - Second Half War', 'title_japanese': '銀魂. 銀ノ魂篇 後半戦', 'licensors': {'names': [], 'urls': []}, 'studios': {'names': ['Bandai Namco Pictures'], 'urls': ['https://myanimelist.net/anime/producer/1258/Bandai_Namco_Pictures']}, 'genres': ['Action', 'Comedy', 'Sci-Fi'], 'statistics': {'rank': Decimal('22'), 'score': Decimal('8.88'), 'members': Decimal('208708'), 'favorites': Decimal('1061'), 'scored_by': Decimal('100171'), 'popularity': Decimal('1230')}}, {'mal_id': 19, 'title': 'Monster', 'url': 'https://myanimelist.net/anime/19/Monster', 'image_url': 'https://cdn.myanimelist.net/images/anime/10/18793.webp', 'title_english': 'Monster', 'title_japanese': 'モンスター', 'licensors': {'names': ['VIZ Media'], 'urls': ['https://myanimelist.net/anime/producer/119/VIZ_Media']}, 'studios': {'names': ['Madhouse'], 'urls': ['https://myanimelist.net/anime/producer/11/Madhouse']}, 'genres': ['Drama', 'Mystery', 'Suspense'], 'statistics': {'rank': Decimal('24'), 'score': Decimal('8.88'), 'members': Decimal('1202270'), 'favorites': Decimal('56418'), 'scored_by': Decimal('455211'), 'popularity': Decimal('125')}}, {'mal_id': 51535, 'title': 'Shingeki no Kyojin: The Final Season - Kanketsu-hen', 'url': 'https://myanimelist.net/anime/51535/Shingeki_no_Kyojin__The_Final_Season_-_Kanketsu-hen', 'image_url': 'https://cdn.myanimelist.net/images/anime/1279/131078.webp', 'title_english': 'Attack on Titan: Final Season - The Final Chapters', 'title_japanese': '進撃の巨人 The Final Season完結編', 'licensors': {'names': ['Funimation'], 'urls': ['https://myanimelist.net/anime/producer/102/Funimation']}, 'studios': {'names': ['MAPPA'], 'urls': ['https://myanimelist.net/anime/producer/569/MAPPA']}, 'genres': ['Action', 'Drama', 'Suspense'], 'statistics': {'rank': Decimal('26'), 'score': Decimal('8.87'), 'members': Decimal('736686'), 'favorites': Decimal('16267'), 'scored_by': Decimal('438605'), 'popularity': Decimal('291')}}]\n"
     ]
    },
    {
     "data": {
      "text/plain": [
       "{'mal_id': 52991,\n",
       " 'title': 'Sousou no Frieren',\n",
       " 'url': 'https://myanimelist.net/anime/52991/Sousou_no_Frieren',\n",
       " 'image_url': 'https://cdn.myanimelist.net/images/anime/1015/138006.webp',\n",
       " 'title_english': \"Frieren: Beyond Journey's End\",\n",
       " 'title_japanese': '葬送のフリーレン',\n",
       " 'licensors': {'names': ['Crunchyroll'],\n",
       "  'urls': ['https://myanimelist.net/anime/producer/1468/Crunchyroll']},\n",
       " 'studios': {'names': ['Madhouse'],\n",
       "  'urls': ['https://myanimelist.net/anime/producer/11/Madhouse']},\n",
       " 'genres': ['Adventure', 'Drama', 'Fantasy'],\n",
       " 'statistics': {'rank': Decimal('1'),\n",
       "  'score': Decimal('9.31'),\n",
       "  'members': Decimal('1017445'),\n",
       "  'favorites': Decimal('61768'),\n",
       "  'scored_by': Decimal('590917'),\n",
       "  'popularity': Decimal('164')}}"
      ]
     },
     "execution_count": 12,
     "metadata": {},
     "output_type": "execute_result"
    }
   ],
   "source": [
    "snapshot = get_top_data()\n",
    "snapshot[0]"
   ]
  },
  {
   "cell_type": "code",
   "execution_count": 11,
   "metadata": {},
   "outputs": [],
   "source": [
    "# df contains the data from the dynamodb table for testing purposes\n",
    "\n",
    "# load 3 tables\n",
    "dynamodb = boto3.resource(\n",
    "        \"dynamodb\",\n",
    "        aws_access_key_id=AWS_ACCESS_KEY_ID,\n",
    "        aws_secret_access_key=AWS_SECRET_ACCESS_KEY,\n",
    "        region_name=\"us-west-2\"\n",
    "    )\n",
    "facts_table = dynamodb.Table(\"anime_top_25_facts\")\n",
    "anime_dimension = dynamodb.Table(\"anime_dimension\")\n",
    "top_25_rank = dynamodb.Table(\"top_25_rank_history\")"
   ]
  },
  {
   "cell_type": "code",
   "execution_count": null,
   "metadata": {},
   "outputs": [],
   "source": [
    "def get_timestamp():\n",
    "    timestamp = datetime.now(timezone.utc).isoformat(timespec='seconds').replace(\"+00:00\", \"Z\")\n",
    "    return timestamp\n",
    "\n",
    "def handle_facts(mal_id, snapshot_timestamp, statisitcs):\n",
    "    item = {\n",
    "        'mal_id': mal_id,\n",
    "        'snapshot_timestamp': snapshot_timestamp,\n",
    "        'favorites': Decimal(statisitcs['favorites']),\n",
    "        'scored_by': Decimal(statisitcs['scored_by']),\n",
    "        'members': Decimal(statisitcs['members']),\n",
    "        'popularity': Decimal(statisitcs['popularity']),\n",
    "        'score': Decimal(statisitcs['score']),\n",
    "    }\n",
    "    return item\n",
    "\n",
    "def handle_anime_dimension(mal_id, snapshot_item):\n",
    "    item = {\n",
    "        'mal_id': mal_id,\n",
    "        'title': snapshot_item['title'],\n",
    "        'title_english': snapshot_item['title_english'],\n",
    "        'title_japanese': snapshot_item['title_japanese'],\n",
    "        'image_url': snapshot_item['image_url'],\n",
    "        'url': snapshot_item['url'],\n",
    "        'genres': snapshot_item['genres'],\n",
    "        'licensors_names': snapshot_item['licensors']['names'],\n",
    "        'licensors_urls': snapshot_item['licensors']['urls'],\n",
    "        'studios_names': snapshot_item['studios']['names'],\n",
    "        'studios_urls': snapshot_item['studios']['urls'],\n",
    "    }\n",
    "    return item"
   ]
  },
  {
   "cell_type": "code",
   "execution_count": null,
   "metadata": {},
   "outputs": [],
   "source": [
    "temp_put_facts = []\n",
    "temp_put_anime = []\n",
    "temp_put_rank = []\n",
    "\n",
    "\n",
    "for item in snapshot:\n",
    "    mal_id = item['mal_id'] # surogate key\n",
    "    snapshot_timestamp = pd.Timestamp.now() # timestamp of the snapshot\n",
    "    # handle facts table\n",
    "    fact_item = handle_facts(mal_id, snapshot_timestamp, item['statistics'])\n",
    "    \n",
    "    # handle anime dimension table\n",
    "    if mal_id in temp_put_anime:\n",
    "        continue\n",
    "    else:\n",
    "        # add new anime to the anime dimension table\n",
    "        \n",
    "    "
   ]
  }
 ],
 "metadata": {
  "kernelspec": {
   "display_name": "anime-dashboard",
   "language": "python",
   "name": "python3"
  },
  "language_info": {
   "codemirror_mode": {
    "name": "ipython",
    "version": 3
   },
   "file_extension": ".py",
   "mimetype": "text/x-python",
   "name": "python",
   "nbconvert_exporter": "python",
   "pygments_lexer": "ipython3",
   "version": "3.9.21"
  }
 },
 "nbformat": 4,
 "nbformat_minor": 2
}
