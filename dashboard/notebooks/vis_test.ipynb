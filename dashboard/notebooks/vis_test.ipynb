{
 "cells": [
  {
   "cell_type": "code",
   "execution_count": 1,
   "metadata": {},
   "outputs": [],
   "source": [
    "from dotenv import load_dotenv\n",
    "import jikanpy\n",
    "import os\n",
    "import requests\n",
    "import pandas as pd\n",
    "import plotly.express as px\n",
    "load_dotenv()\n",
    "\n",
    "secret = os.getenv(\"secret\")\n",
    "id = os.getenv(\"id\")\n",
    "AWS_ACCESS_KEY_ID = os.getenv(\"AWS_ACCESS_KEY\")\n",
    "AWS_SECRET_ACCESS_KEY = os.getenv(\"AWS_SECRET_KEY\")\n",
    "jikan = jikanpy.Jikan()"
   ]
  },
  {
   "cell_type": "code",
   "execution_count": 2,
   "metadata": {},
   "outputs": [],
   "source": [
    "from boto3.dynamodb.types import TypeDeserializer\n",
    "import boto3\n",
    "\n",
    "def get_analytics_data():\n",
    "    # Connect to dynamodb\n",
    "    dynamodb = boto3.client(\n",
    "        \"dynamodb\",\n",
    "        aws_access_key_id=AWS_ACCESS_KEY_ID,\n",
    "        aws_secret_access_key=AWS_SECRET_ACCESS_KEY,\n",
    "        region_name=\"us-west-2\"\n",
    "    )\n",
    "    df_dicts = {}\n",
    "    \n",
    "    # get top 25 data\n",
    "    response_top_25 = dynamodb.scan(TableName=\"anime-dashboard-top-25\")\n",
    "    \n",
    "    # convert to pandas dataframe\n",
    "    df_dicts['top_25'] = parse_analytics_data(response_top_25['Items'])\n",
    "    \n",
    "    \n",
    "    return df_dicts\n",
    "\n",
    "\n",
    "def _deserialize(data):\n",
    "    deserializer = TypeDeserializer()\n",
    "    return {k: deserializer.deserialize(v) for k, v in data.items()}\n",
    "\n",
    "def parse_analytics_data(data):\n",
    "    deserialized_data = [_deserialize(x) for x in data]\n",
    "    data = [pd.json_normalize(x, 'data', ['timestamp']) for x in deserialized_data]\n",
    "    return pd.concat(data, ignore_index=True)"
   ]
  },
  {
   "cell_type": "code",
   "execution_count": 25,
   "metadata": {},
   "outputs": [
    {
     "data": {
      "text/html": [
       "<div>\n",
       "<style scoped>\n",
       "    .dataframe tbody tr th:only-of-type {\n",
       "        vertical-align: middle;\n",
       "    }\n",
       "\n",
       "    .dataframe tbody tr th {\n",
       "        vertical-align: top;\n",
       "    }\n",
       "\n",
       "    .dataframe thead th {\n",
       "        text-align: right;\n",
       "    }\n",
       "</style>\n",
       "<table border=\"1\" class=\"dataframe\">\n",
       "  <thead>\n",
       "    <tr style=\"text-align: right;\">\n",
       "      <th></th>\n",
       "      <th>title_japanese</th>\n",
       "      <th>image_url</th>\n",
       "      <th>genres</th>\n",
       "      <th>title_english</th>\n",
       "      <th>mal_id</th>\n",
       "      <th>title</th>\n",
       "      <th>url</th>\n",
       "      <th>studios.urls</th>\n",
       "      <th>studios.names</th>\n",
       "      <th>licensors.urls</th>\n",
       "      <th>licensors.names</th>\n",
       "      <th>statistics.favorites</th>\n",
       "      <th>statistics.scored_by</th>\n",
       "      <th>statistics.rank</th>\n",
       "      <th>statistics.score</th>\n",
       "      <th>statistics.members</th>\n",
       "      <th>statistics.popularity</th>\n",
       "      <th>timestamp</th>\n",
       "    </tr>\n",
       "  </thead>\n",
       "  <tbody>\n",
       "    <tr>\n",
       "      <th>0</th>\n",
       "      <td>葬送のフリーレン</td>\n",
       "      <td>https://cdn.myanimelist.net/images/anime/1015/...</td>\n",
       "      <td>[Adventure, Drama, Fantasy]</td>\n",
       "      <td>Frieren: Beyond Journey's End</td>\n",
       "      <td>52991</td>\n",
       "      <td>Sousou no Frieren</td>\n",
       "      <td>https://myanimelist.net/anime/52991/Sousou_no_...</td>\n",
       "      <td>[https://myanimelist.net/anime/producer/11/Mad...</td>\n",
       "      <td>[Madhouse]</td>\n",
       "      <td>[https://myanimelist.net/anime/producer/1468/C...</td>\n",
       "      <td>[Crunchyroll]</td>\n",
       "      <td>60921</td>\n",
       "      <td>582961</td>\n",
       "      <td>1</td>\n",
       "      <td>9.31</td>\n",
       "      <td>1005873</td>\n",
       "      <td>167</td>\n",
       "      <td>2025-01-25T01:56:55Z</td>\n",
       "    </tr>\n",
       "    <tr>\n",
       "      <th>1</th>\n",
       "      <td>鋼の錬金術師 FULLMETAL ALCHEMIST</td>\n",
       "      <td>https://cdn.myanimelist.net/images/anime/1208/...</td>\n",
       "      <td>[Action, Adventure, Drama, Fantasy]</td>\n",
       "      <td>Fullmetal Alchemist: Brotherhood</td>\n",
       "      <td>5114</td>\n",
       "      <td>Fullmetal Alchemist: Brotherhood</td>\n",
       "      <td>https://myanimelist.net/anime/5114/Fullmetal_A...</td>\n",
       "      <td>[https://myanimelist.net/anime/producer/4/Bones]</td>\n",
       "      <td>[Bones]</td>\n",
       "      <td>[https://myanimelist.net/anime/producer/102/Fu...</td>\n",
       "      <td>[Funimation, Aniplex of America]</td>\n",
       "      <td>231092</td>\n",
       "      <td>2187344</td>\n",
       "      <td>2</td>\n",
       "      <td>9.1</td>\n",
       "      <td>3467699</td>\n",
       "      <td>3</td>\n",
       "      <td>2025-01-25T01:56:55Z</td>\n",
       "    </tr>\n",
       "    <tr>\n",
       "      <th>2</th>\n",
       "      <td>ONE PIECE FAN LETTER</td>\n",
       "      <td>https://cdn.myanimelist.net/images/anime/1455/...</td>\n",
       "      <td>[Action, Adventure, Fantasy]</td>\n",
       "      <td>None</td>\n",
       "      <td>60022</td>\n",
       "      <td>One Piece Fan Letter</td>\n",
       "      <td>https://myanimelist.net/anime/60022/One_Piece_...</td>\n",
       "      <td>[https://myanimelist.net/anime/producer/18/Toe...</td>\n",
       "      <td>[Toei Animation]</td>\n",
       "      <td>[]</td>\n",
       "      <td>[]</td>\n",
       "      <td>1898</td>\n",
       "      <td>63634</td>\n",
       "      <td>3</td>\n",
       "      <td>9.07</td>\n",
       "      <td>83585</td>\n",
       "      <td>2470</td>\n",
       "      <td>2025-01-25T01:56:55Z</td>\n",
       "    </tr>\n",
       "    <tr>\n",
       "      <th>3</th>\n",
       "      <td>STEINS;GATE</td>\n",
       "      <td>https://cdn.myanimelist.net/images/anime/1935/...</td>\n",
       "      <td>[Drama, Sci-Fi, Suspense]</td>\n",
       "      <td>Steins;Gate</td>\n",
       "      <td>9253</td>\n",
       "      <td>Steins;Gate</td>\n",
       "      <td>https://myanimelist.net/anime/9253/Steins_Gate</td>\n",
       "      <td>[https://myanimelist.net/anime/producer/314/Wh...</td>\n",
       "      <td>[White Fox]</td>\n",
       "      <td>[https://myanimelist.net/anime/producer/102/Fu...</td>\n",
       "      <td>[Funimation]</td>\n",
       "      <td>193749</td>\n",
       "      <td>1443824</td>\n",
       "      <td>4</td>\n",
       "      <td>9.07</td>\n",
       "      <td>2656250</td>\n",
       "      <td>14</td>\n",
       "      <td>2025-01-25T01:56:55Z</td>\n",
       "    </tr>\n",
       "    <tr>\n",
       "      <th>4</th>\n",
       "      <td>進撃の巨人 Season3 Part.2</td>\n",
       "      <td>https://cdn.myanimelist.net/images/anime/1517/...</td>\n",
       "      <td>[Action, Drama, Suspense]</td>\n",
       "      <td>Attack on Titan Season 3 Part 2</td>\n",
       "      <td>38524</td>\n",
       "      <td>Shingeki no Kyojin Season 3 Part 2</td>\n",
       "      <td>https://myanimelist.net/anime/38524/Shingeki_n...</td>\n",
       "      <td>[https://myanimelist.net/anime/producer/858/Wi...</td>\n",
       "      <td>[Wit Studio]</td>\n",
       "      <td>[https://myanimelist.net/anime/producer/102/Fu...</td>\n",
       "      <td>[Funimation]</td>\n",
       "      <td>60277</td>\n",
       "      <td>1661253</td>\n",
       "      <td>5</td>\n",
       "      <td>9.05</td>\n",
       "      <td>2393448</td>\n",
       "      <td>21</td>\n",
       "      <td>2025-01-25T01:56:55Z</td>\n",
       "    </tr>\n",
       "    <tr>\n",
       "      <th>...</th>\n",
       "      <td>...</td>\n",
       "      <td>...</td>\n",
       "      <td>...</td>\n",
       "      <td>...</td>\n",
       "      <td>...</td>\n",
       "      <td>...</td>\n",
       "      <td>...</td>\n",
       "      <td>...</td>\n",
       "      <td>...</td>\n",
       "      <td>...</td>\n",
       "      <td>...</td>\n",
       "      <td>...</td>\n",
       "      <td>...</td>\n",
       "      <td>...</td>\n",
       "      <td>...</td>\n",
       "      <td>...</td>\n",
       "      <td>...</td>\n",
       "      <td>...</td>\n",
       "    </tr>\n",
       "    <tr>\n",
       "      <th>1845</th>\n",
       "      <td>劇場版 銀魂 完結篇 万事屋よ永遠なれ</td>\n",
       "      <td>https://cdn.myanimelist.net/images/anime/10/51...</td>\n",
       "      <td>[Action, Comedy, Sci-Fi]</td>\n",
       "      <td>Gintama: The Movie: The Final Chapter: Be Fore...</td>\n",
       "      <td>15335</td>\n",
       "      <td>Gintama Movie 2: Kanketsu-hen - Yorozuya yo Ei...</td>\n",
       "      <td>https://myanimelist.net/anime/15335/Gintama_Mo...</td>\n",
       "      <td>[https://myanimelist.net/anime/producer/14/Sun...</td>\n",
       "      <td>[Sunrise]</td>\n",
       "      <td>[]</td>\n",
       "      <td>[]</td>\n",
       "      <td>2123</td>\n",
       "      <td>138840</td>\n",
       "      <td>21</td>\n",
       "      <td>8.9</td>\n",
       "      <td>248122</td>\n",
       "      <td>1030</td>\n",
       "      <td>2025-01-25T05:26:55Z</td>\n",
       "    </tr>\n",
       "    <tr>\n",
       "      <th>1846</th>\n",
       "      <td>薬屋のひとりごと</td>\n",
       "      <td>https://cdn.myanimelist.net/images/anime/1708/...</td>\n",
       "      <td>[Drama, Mystery]</td>\n",
       "      <td>The Apothecary Diaries</td>\n",
       "      <td>54492</td>\n",
       "      <td>Kusuriya no Hitorigoto</td>\n",
       "      <td>https://myanimelist.net/anime/54492/Kusuriya_n...</td>\n",
       "      <td>[https://myanimelist.net/anime/producer/28/OLM...</td>\n",
       "      <td>[OLM, TOHO animation STUDIO]</td>\n",
       "      <td>[https://myanimelist.net/anime/producer/1468/C...</td>\n",
       "      <td>[Crunchyroll]</td>\n",
       "      <td>15889</td>\n",
       "      <td>282342</td>\n",
       "      <td>23</td>\n",
       "      <td>8.88</td>\n",
       "      <td>543047</td>\n",
       "      <td>432</td>\n",
       "      <td>2025-01-25T05:26:55Z</td>\n",
       "    </tr>\n",
       "    <tr>\n",
       "      <th>1847</th>\n",
       "      <td>銀魂. 銀ノ魂篇 後半戦</td>\n",
       "      <td>https://cdn.myanimelist.net/images/anime/1776/...</td>\n",
       "      <td>[Action, Comedy, Sci-Fi]</td>\n",
       "      <td>Gintama. Silver Soul Arc - Second Half War</td>\n",
       "      <td>37491</td>\n",
       "      <td>Gintama. Shirogane no Tamashii-hen - Kouhan-sen</td>\n",
       "      <td>https://myanimelist.net/anime/37491/Gintama_Sh...</td>\n",
       "      <td>[https://myanimelist.net/anime/producer/1258/B...</td>\n",
       "      <td>[Bandai Namco Pictures]</td>\n",
       "      <td>[]</td>\n",
       "      <td>[]</td>\n",
       "      <td>1062</td>\n",
       "      <td>99990</td>\n",
       "      <td>22</td>\n",
       "      <td>8.88</td>\n",
       "      <td>208291</td>\n",
       "      <td>1230</td>\n",
       "      <td>2025-01-25T05:26:55Z</td>\n",
       "    </tr>\n",
       "    <tr>\n",
       "      <th>1848</th>\n",
       "      <td>モンスター</td>\n",
       "      <td>https://cdn.myanimelist.net/images/anime/10/18...</td>\n",
       "      <td>[Drama, Mystery, Suspense]</td>\n",
       "      <td>Monster</td>\n",
       "      <td>19</td>\n",
       "      <td>Monster</td>\n",
       "      <td>https://myanimelist.net/anime/19/Monster</td>\n",
       "      <td>[https://myanimelist.net/anime/producer/11/Mad...</td>\n",
       "      <td>[Madhouse]</td>\n",
       "      <td>[https://myanimelist.net/anime/producer/119/VI...</td>\n",
       "      <td>[VIZ Media]</td>\n",
       "      <td>56264</td>\n",
       "      <td>453463</td>\n",
       "      <td>24</td>\n",
       "      <td>8.88</td>\n",
       "      <td>1198575</td>\n",
       "      <td>126</td>\n",
       "      <td>2025-01-25T05:26:55Z</td>\n",
       "    </tr>\n",
       "    <tr>\n",
       "      <th>1849</th>\n",
       "      <td>進撃の巨人 The Final Season完結編</td>\n",
       "      <td>https://cdn.myanimelist.net/images/anime/1279/...</td>\n",
       "      <td>[Action, Drama, Suspense]</td>\n",
       "      <td>Attack on Titan: Final Season - The Final Chap...</td>\n",
       "      <td>51535</td>\n",
       "      <td>Shingeki no Kyojin: The Final Season - Kankets...</td>\n",
       "      <td>https://myanimelist.net/anime/51535/Shingeki_n...</td>\n",
       "      <td>[https://myanimelist.net/anime/producer/569/MA...</td>\n",
       "      <td>[MAPPA]</td>\n",
       "      <td>[https://myanimelist.net/anime/producer/102/Fu...</td>\n",
       "      <td>[Funimation]</td>\n",
       "      <td>16230</td>\n",
       "      <td>435883</td>\n",
       "      <td>26</td>\n",
       "      <td>8.87</td>\n",
       "      <td>732898</td>\n",
       "      <td>291</td>\n",
       "      <td>2025-01-25T05:26:55Z</td>\n",
       "    </tr>\n",
       "  </tbody>\n",
       "</table>\n",
       "<p>1850 rows × 18 columns</p>\n",
       "</div>"
      ],
      "text/plain": [
       "                  title_japanese  \\\n",
       "0                       葬送のフリーレン   \n",
       "1     鋼の錬金術師 FULLMETAL ALCHEMIST   \n",
       "2           ONE PIECE FAN LETTER   \n",
       "3                    STEINS;GATE   \n",
       "4           進撃の巨人 Season3 Part.2   \n",
       "...                          ...   \n",
       "1845         劇場版 銀魂 完結篇 万事屋よ永遠なれ   \n",
       "1846                    薬屋のひとりごと   \n",
       "1847                銀魂. 銀ノ魂篇 後半戦   \n",
       "1848                       モンスター   \n",
       "1849   進撃の巨人 The Final Season完結編   \n",
       "\n",
       "                                              image_url  \\\n",
       "0     https://cdn.myanimelist.net/images/anime/1015/...   \n",
       "1     https://cdn.myanimelist.net/images/anime/1208/...   \n",
       "2     https://cdn.myanimelist.net/images/anime/1455/...   \n",
       "3     https://cdn.myanimelist.net/images/anime/1935/...   \n",
       "4     https://cdn.myanimelist.net/images/anime/1517/...   \n",
       "...                                                 ...   \n",
       "1845  https://cdn.myanimelist.net/images/anime/10/51...   \n",
       "1846  https://cdn.myanimelist.net/images/anime/1708/...   \n",
       "1847  https://cdn.myanimelist.net/images/anime/1776/...   \n",
       "1848  https://cdn.myanimelist.net/images/anime/10/18...   \n",
       "1849  https://cdn.myanimelist.net/images/anime/1279/...   \n",
       "\n",
       "                                   genres  \\\n",
       "0             [Adventure, Drama, Fantasy]   \n",
       "1     [Action, Adventure, Drama, Fantasy]   \n",
       "2            [Action, Adventure, Fantasy]   \n",
       "3               [Drama, Sci-Fi, Suspense]   \n",
       "4               [Action, Drama, Suspense]   \n",
       "...                                   ...   \n",
       "1845             [Action, Comedy, Sci-Fi]   \n",
       "1846                     [Drama, Mystery]   \n",
       "1847             [Action, Comedy, Sci-Fi]   \n",
       "1848           [Drama, Mystery, Suspense]   \n",
       "1849            [Action, Drama, Suspense]   \n",
       "\n",
       "                                          title_english mal_id  \\\n",
       "0                         Frieren: Beyond Journey's End  52991   \n",
       "1                      Fullmetal Alchemist: Brotherhood   5114   \n",
       "2                                                  None  60022   \n",
       "3                                           Steins;Gate   9253   \n",
       "4                       Attack on Titan Season 3 Part 2  38524   \n",
       "...                                                 ...    ...   \n",
       "1845  Gintama: The Movie: The Final Chapter: Be Fore...  15335   \n",
       "1846                             The Apothecary Diaries  54492   \n",
       "1847         Gintama. Silver Soul Arc - Second Half War  37491   \n",
       "1848                                            Monster     19   \n",
       "1849  Attack on Titan: Final Season - The Final Chap...  51535   \n",
       "\n",
       "                                                  title  \\\n",
       "0                                     Sousou no Frieren   \n",
       "1                      Fullmetal Alchemist: Brotherhood   \n",
       "2                                  One Piece Fan Letter   \n",
       "3                                           Steins;Gate   \n",
       "4                    Shingeki no Kyojin Season 3 Part 2   \n",
       "...                                                 ...   \n",
       "1845  Gintama Movie 2: Kanketsu-hen - Yorozuya yo Ei...   \n",
       "1846                             Kusuriya no Hitorigoto   \n",
       "1847    Gintama. Shirogane no Tamashii-hen - Kouhan-sen   \n",
       "1848                                            Monster   \n",
       "1849  Shingeki no Kyojin: The Final Season - Kankets...   \n",
       "\n",
       "                                                    url  \\\n",
       "0     https://myanimelist.net/anime/52991/Sousou_no_...   \n",
       "1     https://myanimelist.net/anime/5114/Fullmetal_A...   \n",
       "2     https://myanimelist.net/anime/60022/One_Piece_...   \n",
       "3        https://myanimelist.net/anime/9253/Steins_Gate   \n",
       "4     https://myanimelist.net/anime/38524/Shingeki_n...   \n",
       "...                                                 ...   \n",
       "1845  https://myanimelist.net/anime/15335/Gintama_Mo...   \n",
       "1846  https://myanimelist.net/anime/54492/Kusuriya_n...   \n",
       "1847  https://myanimelist.net/anime/37491/Gintama_Sh...   \n",
       "1848           https://myanimelist.net/anime/19/Monster   \n",
       "1849  https://myanimelist.net/anime/51535/Shingeki_n...   \n",
       "\n",
       "                                           studios.urls  \\\n",
       "0     [https://myanimelist.net/anime/producer/11/Mad...   \n",
       "1      [https://myanimelist.net/anime/producer/4/Bones]   \n",
       "2     [https://myanimelist.net/anime/producer/18/Toe...   \n",
       "3     [https://myanimelist.net/anime/producer/314/Wh...   \n",
       "4     [https://myanimelist.net/anime/producer/858/Wi...   \n",
       "...                                                 ...   \n",
       "1845  [https://myanimelist.net/anime/producer/14/Sun...   \n",
       "1846  [https://myanimelist.net/anime/producer/28/OLM...   \n",
       "1847  [https://myanimelist.net/anime/producer/1258/B...   \n",
       "1848  [https://myanimelist.net/anime/producer/11/Mad...   \n",
       "1849  [https://myanimelist.net/anime/producer/569/MA...   \n",
       "\n",
       "                     studios.names  \\\n",
       "0                       [Madhouse]   \n",
       "1                          [Bones]   \n",
       "2                 [Toei Animation]   \n",
       "3                      [White Fox]   \n",
       "4                     [Wit Studio]   \n",
       "...                            ...   \n",
       "1845                     [Sunrise]   \n",
       "1846  [OLM, TOHO animation STUDIO]   \n",
       "1847       [Bandai Namco Pictures]   \n",
       "1848                    [Madhouse]   \n",
       "1849                       [MAPPA]   \n",
       "\n",
       "                                         licensors.urls  \\\n",
       "0     [https://myanimelist.net/anime/producer/1468/C...   \n",
       "1     [https://myanimelist.net/anime/producer/102/Fu...   \n",
       "2                                                    []   \n",
       "3     [https://myanimelist.net/anime/producer/102/Fu...   \n",
       "4     [https://myanimelist.net/anime/producer/102/Fu...   \n",
       "...                                                 ...   \n",
       "1845                                                 []   \n",
       "1846  [https://myanimelist.net/anime/producer/1468/C...   \n",
       "1847                                                 []   \n",
       "1848  [https://myanimelist.net/anime/producer/119/VI...   \n",
       "1849  [https://myanimelist.net/anime/producer/102/Fu...   \n",
       "\n",
       "                       licensors.names statistics.favorites  \\\n",
       "0                        [Crunchyroll]                60921   \n",
       "1     [Funimation, Aniplex of America]               231092   \n",
       "2                                   []                 1898   \n",
       "3                         [Funimation]               193749   \n",
       "4                         [Funimation]                60277   \n",
       "...                                ...                  ...   \n",
       "1845                                []                 2123   \n",
       "1846                     [Crunchyroll]                15889   \n",
       "1847                                []                 1062   \n",
       "1848                       [VIZ Media]                56264   \n",
       "1849                      [Funimation]                16230   \n",
       "\n",
       "     statistics.scored_by statistics.rank statistics.score statistics.members  \\\n",
       "0                  582961               1             9.31            1005873   \n",
       "1                 2187344               2              9.1            3467699   \n",
       "2                   63634               3             9.07              83585   \n",
       "3                 1443824               4             9.07            2656250   \n",
       "4                 1661253               5             9.05            2393448   \n",
       "...                   ...             ...              ...                ...   \n",
       "1845               138840              21              8.9             248122   \n",
       "1846               282342              23             8.88             543047   \n",
       "1847                99990              22             8.88             208291   \n",
       "1848               453463              24             8.88            1198575   \n",
       "1849               435883              26             8.87             732898   \n",
       "\n",
       "     statistics.popularity             timestamp  \n",
       "0                      167  2025-01-25T01:56:55Z  \n",
       "1                        3  2025-01-25T01:56:55Z  \n",
       "2                     2470  2025-01-25T01:56:55Z  \n",
       "3                       14  2025-01-25T01:56:55Z  \n",
       "4                       21  2025-01-25T01:56:55Z  \n",
       "...                    ...                   ...  \n",
       "1845                  1030  2025-01-25T05:26:55Z  \n",
       "1846                   432  2025-01-25T05:26:55Z  \n",
       "1847                  1230  2025-01-25T05:26:55Z  \n",
       "1848                   126  2025-01-25T05:26:55Z  \n",
       "1849                   291  2025-01-25T05:26:55Z  \n",
       "\n",
       "[1850 rows x 18 columns]"
      ]
     },
     "execution_count": 25,
     "metadata": {},
     "output_type": "execute_result"
    }
   ],
   "source": [
    "data = get_analytics_data()\n",
    "df = data['top_25']\n",
    "df"
   ]
  },
  {
   "cell_type": "code",
   "execution_count": 21,
   "metadata": {},
   "outputs": [],
   "source": [
    "def members_line_plot(data):\n",
    "    \"\"\"\n",
    "    Function to create a line plot of the differences in members data over time,\n",
    "    showing the most recent day and allowing scrolling back for the past 100 days.\n",
    "    \"\"\"\n",
    "\n",
    "    # Ensure timestamp is in datetime format\n",
    "    data['timestamp'] = pd.to_datetime(data['timestamp'])\n",
    "\n",
    "    # Calculate the difference in 'statistics.members' for each anime\n",
    "    data['members_diff'] = data.groupby('title')['statistics.members'].diff()\n",
    "\n",
    "    # Sort by timestamp\n",
    "    data.sort_values(by='timestamp', inplace=True)\n",
    "\n",
    "    # Find the most recent timestamp and calculate the 100-day range\n",
    "    most_recent_date = data['timestamp'].max()\n",
    "    start_date = most_recent_date - pd.Timedelta(days=1)\n",
    "\n",
    "    # Create the Plotly line plot\n",
    "    fig = px.line(\n",
    "        data,\n",
    "        x='timestamp',\n",
    "        y='members_diff',\n",
    "        color='title',\n",
    "        title=\"Change in Members Over Time by Anime\",\n",
    "        labels={\n",
    "            \"timestamp\": \"Timestamp\",\n",
    "            \"members_diff\": \"Change in Members\",\n",
    "            \"title\": \"Anime Title\"\n",
    "        },\n",
    "    )\n",
    "\n",
    "    # Update the x-axis range and add grid lines\n",
    "    fig.update_layout(\n",
    "        xaxis=dict(\n",
    "            range=[start_date, most_recent_date],\n",
    "            showgrid=True,\n",
    "            rangeslider=dict(visible=True)  # Enable range slider for easier navigation\n",
    "        ),\n",
    "        yaxis=dict(showgrid=True),\n",
    "    )\n",
    "\n",
    "    return fig\n"
   ]
  },
  {
   "cell_type": "code",
   "execution_count": 27,
   "metadata": {},
   "outputs": [
    {
     "data": {
      "application/vnd.plotly.v1+json": {
       "config": {
        "plotlyServerURL": "https://plot.ly"
       },
       "data": [
        {
         "hovertemplate": "Anime Title=Gintama.<br>Timestamp=%{x}<br>Change in Members=%{y}<extra></extra>",
         "legendgroup": "Gintama.",
         "line": {
          "color": "#636efa",
          "dash": "solid"
         },
         "marker": {
          "symbol": "circle"
         },
         "mode": "lines",
         "name": "Gintama.",
         "showlegend": true,
         "type": "scattergl",
         "x": [
          "2025-01-22T08:19:01+00:00",
          "2025-01-22T08:20:01+00:00",
          "2025-01-22T08:21:01+00:00",
          "2025-01-22T08:24:01+00:00",
          "2025-01-22T08:26:52+00:00",
          "2025-01-22T08:27:18+00:00",
          "2025-01-22T08:28:18+00:00",
          "2025-01-22T08:29:30+00:00",
          "2025-01-22T08:31:18+00:00",
          "2025-01-22T08:35:18+00:00",
          "2025-01-22T08:38:18+00:00",
          "2025-01-22T09:26:56+00:00",
          "2025-01-22T10:26:56+00:00",
          "2025-01-22T12:26:56+00:00",
          "2025-01-22T12:56:56+00:00",
          "2025-01-22T15:56:57+00:00",
          "2025-01-22T16:26:56+00:00",
          "2025-01-22T16:56:56+00:00",
          "2025-01-22T18:56:56+00:00",
          "2025-01-22T20:26:56+00:00",
          "2025-01-22T22:56:56+00:00",
          "2025-01-22T23:26:56+00:00",
          "2025-01-22T23:56:56+00:00",
          "2025-01-23T00:26:57+00:00",
          "2025-01-23T00:56:56+00:00",
          "2025-01-23T01:56:56+00:00",
          "2025-01-23T03:56:56+00:00",
          "2025-01-23T05:26:55+00:00",
          "2025-01-23T07:26:56+00:00",
          "2025-01-23T10:26:56+00:00",
          "2025-01-23T12:26:56+00:00",
          "2025-01-23T13:26:56+00:00",
          "2025-01-23T13:56:56+00:00",
          "2025-01-23T15:26:56+00:00",
          "2025-01-23T17:26:56+00:00",
          "2025-01-23T20:26:56+00:00",
          "2025-01-23T20:56:56+00:00",
          "2025-01-23T21:26:56+00:00",
          "2025-01-23T21:56:56+00:00",
          "2025-01-23T22:56:56+00:00",
          "2025-01-24T00:56:56+00:00",
          "2025-01-24T02:56:56+00:00",
          "2025-01-24T03:56:56+00:00",
          "2025-01-24T04:26:56+00:00",
          "2025-01-24T05:26:56+00:00",
          "2025-01-24T06:26:56+00:00",
          "2025-01-24T07:26:56+00:00",
          "2025-01-24T07:56:55+00:00",
          "2025-01-24T08:56:56+00:00",
          "2025-01-24T09:56:56+00:00",
          "2025-01-24T10:26:56+00:00",
          "2025-01-24T10:56:56+00:00",
          "2025-01-24T12:56:56+00:00",
          "2025-01-24T13:56:56+00:00",
          "2025-01-24T14:26:56+00:00",
          "2025-01-24T14:56:56+00:00",
          "2025-01-24T16:26:56+00:00",
          "2025-01-24T17:56:56+00:00",
          "2025-01-24T18:26:57+00:00",
          "2025-01-24T19:56:56+00:00",
          "2025-01-24T21:26:56+00:00",
          "2025-01-25T00:26:56+00:00",
          "2025-01-25T00:56:56+00:00",
          "2025-01-25T01:26:56+00:00",
          "2025-01-25T01:56:55+00:00",
          "2025-01-25T02:26:56+00:00",
          "2025-01-25T02:56:56+00:00",
          "2025-01-25T04:56:56+00:00",
          "2025-01-25T05:26:55+00:00",
          "2025-01-25T05:56:56+00:00",
          "2025-01-25T06:26:55+00:00",
          "2025-01-25T06:56:56+00:00",
          "2025-01-25T07:26:56+00:00",
          "2025-01-25T07:56:56+00:00"
         ],
         "xaxis": "x",
         "y": [
          -41,
          -41,
          0,
          -127,
          -67,
          0,
          0,
          0,
          0,
          -41,
          -67,
          -127,
          -41,
          -41,
          -41,
          -127,
          0,
          0,
          -67,
          -26,
          -26,
          41,
          0,
          41,
          -86,
          -86,
          41,
          41,
          0,
          0,
          -26,
          -86,
          41,
          -26,
          -86,
          26,
          67,
          26,
          0,
          67,
          -60,
          0,
          26,
          67,
          0,
          67,
          0,
          0,
          67,
          -60,
          0,
          0,
          0,
          -60,
          67,
          26,
          -60,
          -60,
          0,
          0,
          60,
          60,
          86,
          60,
          null,
          60,
          86,
          127,
          60,
          0,
          86,
          60,
          60,
          60
         ],
         "yaxis": "y"
        },
        {
         "hovertemplate": "Anime Title=Shingeki no Kyojin: The Final Season - Kanketsu-hen<br>Timestamp=%{x}<br>Change in Members=%{y}<extra></extra>",
         "legendgroup": "Shingeki no Kyojin: The Final Season - Kanketsu-hen",
         "line": {
          "color": "#EF553B",
          "dash": "solid"
         },
         "marker": {
          "symbol": "circle"
         },
         "mode": "lines",
         "name": "Shingeki no Kyojin: The Final Season - Kanketsu-hen",
         "showlegend": true,
         "type": "scattergl",
         "x": [
          "2025-01-22T08:19:01+00:00",
          "2025-01-22T08:20:01+00:00",
          "2025-01-22T08:21:01+00:00",
          "2025-01-22T08:24:01+00:00",
          "2025-01-22T08:26:52+00:00",
          "2025-01-22T08:27:18+00:00",
          "2025-01-22T08:28:18+00:00",
          "2025-01-22T08:29:30+00:00",
          "2025-01-22T08:31:18+00:00",
          "2025-01-22T08:35:18+00:00",
          "2025-01-22T08:38:18+00:00",
          "2025-01-22T09:26:56+00:00",
          "2025-01-22T10:26:56+00:00",
          "2025-01-22T12:26:56+00:00",
          "2025-01-22T12:56:56+00:00",
          "2025-01-22T15:56:57+00:00",
          "2025-01-22T16:26:56+00:00",
          "2025-01-22T16:56:56+00:00",
          "2025-01-22T18:56:56+00:00",
          "2025-01-22T20:26:56+00:00",
          "2025-01-22T22:56:56+00:00",
          "2025-01-22T23:26:56+00:00",
          "2025-01-22T23:56:56+00:00",
          "2025-01-23T00:26:57+00:00",
          "2025-01-23T00:56:56+00:00",
          "2025-01-23T01:56:56+00:00",
          "2025-01-23T03:56:56+00:00",
          "2025-01-23T05:26:55+00:00",
          "2025-01-23T07:26:56+00:00",
          "2025-01-23T10:26:56+00:00",
          "2025-01-23T12:26:56+00:00",
          "2025-01-23T13:26:56+00:00",
          "2025-01-23T13:56:56+00:00",
          "2025-01-23T15:26:56+00:00",
          "2025-01-23T17:26:56+00:00",
          "2025-01-23T20:26:56+00:00",
          "2025-01-23T20:56:56+00:00",
          "2025-01-23T21:26:56+00:00",
          "2025-01-23T21:56:56+00:00",
          "2025-01-23T22:56:56+00:00",
          "2025-01-24T00:56:56+00:00",
          "2025-01-24T02:56:56+00:00",
          "2025-01-24T03:56:56+00:00",
          "2025-01-24T04:26:56+00:00",
          "2025-01-24T05:26:56+00:00",
          "2025-01-24T06:26:56+00:00",
          "2025-01-24T07:26:56+00:00",
          "2025-01-24T07:56:55+00:00",
          "2025-01-24T08:56:56+00:00",
          "2025-01-24T09:56:56+00:00",
          "2025-01-24T10:26:56+00:00",
          "2025-01-24T10:56:56+00:00",
          "2025-01-24T12:56:56+00:00",
          "2025-01-24T13:56:56+00:00",
          "2025-01-24T14:26:56+00:00",
          "2025-01-24T14:56:56+00:00",
          "2025-01-24T16:26:56+00:00",
          "2025-01-24T17:56:56+00:00",
          "2025-01-24T18:26:57+00:00",
          "2025-01-24T19:56:56+00:00",
          "2025-01-24T21:26:56+00:00",
          "2025-01-25T00:26:56+00:00",
          "2025-01-25T00:56:56+00:00",
          "2025-01-25T01:26:56+00:00",
          "2025-01-25T01:56:55+00:00",
          "2025-01-25T02:26:56+00:00",
          "2025-01-25T02:56:56+00:00",
          "2025-01-25T04:56:56+00:00",
          "2025-01-25T05:26:55+00:00",
          "2025-01-25T05:56:56+00:00",
          "2025-01-25T06:26:55+00:00",
          "2025-01-25T06:56:56+00:00",
          "2025-01-25T07:26:56+00:00",
          "2025-01-25T07:56:56+00:00"
         ],
         "xaxis": "x",
         "y": [
          -279,
          -279,
          0,
          -881,
          -643,
          0,
          0,
          0,
          0,
          -279,
          -643,
          -881,
          -279,
          -279,
          -279,
          -881,
          0,
          0,
          -643,
          -364,
          -364,
          279,
          0,
          279,
          -602,
          -602,
          279,
          279,
          0,
          0,
          -364,
          -602,
          279,
          -364,
          -602,
          364,
          643,
          364,
          0,
          643,
          -238,
          0,
          364,
          643,
          0,
          643,
          0,
          0,
          643,
          -238,
          0,
          0,
          0,
          -238,
          643,
          364,
          -238,
          -238,
          0,
          0,
          238,
          238,
          602,
          238,
          null,
          238,
          602,
          881,
          238,
          0,
          602,
          238,
          238,
          238
         ],
         "yaxis": "y"
        },
        {
         "hovertemplate": "Anime Title=Monster<br>Timestamp=%{x}<br>Change in Members=%{y}<extra></extra>",
         "legendgroup": "Monster",
         "line": {
          "color": "#00cc96",
          "dash": "solid"
         },
         "marker": {
          "symbol": "circle"
         },
         "mode": "lines",
         "name": "Monster",
         "showlegend": true,
         "type": "scattergl",
         "x": [
          "2025-01-22T08:19:01+00:00",
          "2025-01-22T08:20:01+00:00",
          "2025-01-22T08:21:01+00:00",
          "2025-01-22T08:24:01+00:00",
          "2025-01-22T08:26:52+00:00",
          "2025-01-22T08:27:18+00:00",
          "2025-01-22T08:28:18+00:00",
          "2025-01-22T08:29:30+00:00",
          "2025-01-22T08:31:18+00:00",
          "2025-01-22T08:35:18+00:00",
          "2025-01-22T08:38:18+00:00",
          "2025-01-22T09:26:56+00:00",
          "2025-01-22T10:26:56+00:00",
          "2025-01-22T12:26:56+00:00",
          "2025-01-22T12:56:56+00:00",
          "2025-01-22T15:56:57+00:00",
          "2025-01-22T16:26:56+00:00",
          "2025-01-22T16:56:56+00:00",
          "2025-01-22T18:56:56+00:00",
          "2025-01-22T20:26:56+00:00",
          "2025-01-22T22:56:56+00:00",
          "2025-01-22T23:26:56+00:00",
          "2025-01-22T23:56:56+00:00",
          "2025-01-23T00:26:57+00:00",
          "2025-01-23T00:56:56+00:00",
          "2025-01-23T01:56:56+00:00",
          "2025-01-23T03:56:56+00:00",
          "2025-01-23T05:26:55+00:00",
          "2025-01-23T07:26:56+00:00",
          "2025-01-23T10:26:56+00:00",
          "2025-01-23T12:26:56+00:00",
          "2025-01-23T13:26:56+00:00",
          "2025-01-23T13:56:56+00:00",
          "2025-01-23T15:26:56+00:00",
          "2025-01-23T17:26:56+00:00",
          "2025-01-23T20:26:56+00:00",
          "2025-01-23T20:56:56+00:00",
          "2025-01-23T21:26:56+00:00",
          "2025-01-23T21:56:56+00:00",
          "2025-01-23T22:56:56+00:00",
          "2025-01-24T00:56:56+00:00",
          "2025-01-24T02:56:56+00:00",
          "2025-01-24T03:56:56+00:00",
          "2025-01-24T04:26:56+00:00",
          "2025-01-24T05:26:56+00:00",
          "2025-01-24T06:26:56+00:00",
          "2025-01-24T07:26:56+00:00",
          "2025-01-24T07:56:55+00:00",
          "2025-01-24T08:56:56+00:00",
          "2025-01-24T09:56:56+00:00",
          "2025-01-24T10:26:56+00:00",
          "2025-01-24T10:56:56+00:00",
          "2025-01-24T12:56:56+00:00",
          "2025-01-24T13:56:56+00:00",
          "2025-01-24T14:26:56+00:00",
          "2025-01-24T14:56:56+00:00",
          "2025-01-24T16:26:56+00:00",
          "2025-01-24T17:56:56+00:00",
          "2025-01-24T18:26:57+00:00",
          "2025-01-24T19:56:56+00:00",
          "2025-01-24T21:26:56+00:00",
          "2025-01-25T00:26:56+00:00",
          "2025-01-25T00:56:56+00:00",
          "2025-01-25T01:26:56+00:00",
          "2025-01-25T01:56:55+00:00",
          "2025-01-25T02:26:56+00:00",
          "2025-01-25T02:56:56+00:00",
          "2025-01-25T04:56:56+00:00",
          "2025-01-25T05:26:55+00:00",
          "2025-01-25T05:56:56+00:00",
          "2025-01-25T06:26:55+00:00",
          "2025-01-25T06:56:56+00:00",
          "2025-01-25T07:26:56+00:00",
          "2025-01-25T07:56:56+00:00"
         ],
         "xaxis": "x",
         "y": [
          -229,
          0,
          0,
          -459,
          -229,
          0,
          0,
          0,
          0,
          0,
          -459,
          -459,
          0,
          -229,
          -229,
          -459,
          0,
          0,
          -459,
          -229,
          -229,
          0,
          0,
          0,
          -459,
          -459,
          0,
          0,
          -229,
          229,
          -230,
          -230,
          229,
          0,
          -230,
          0,
          229,
          229,
          -230,
          229,
          -230,
          -230,
          229,
          229,
          -230,
          229,
          0,
          0,
          459,
          0,
          230,
          230,
          230,
          0,
          459,
          459,
          0,
          0,
          230,
          0,
          0,
          0,
          459,
          230,
          null,
          230,
          459,
          459,
          230,
          0,
          230,
          0,
          0,
          0
         ],
         "yaxis": "y"
        },
        {
         "hovertemplate": "Anime Title=Gintama. Shirogane no Tamashii-hen - Kouhan-sen<br>Timestamp=%{x}<br>Change in Members=%{y}<extra></extra>",
         "legendgroup": "Gintama. Shirogane no Tamashii-hen - Kouhan-sen",
         "line": {
          "color": "#ab63fa",
          "dash": "solid"
         },
         "marker": {
          "symbol": "circle"
         },
         "mode": "lines",
         "name": "Gintama. Shirogane no Tamashii-hen - Kouhan-sen",
         "showlegend": true,
         "type": "scattergl",
         "x": [
          "2025-01-22T08:19:01+00:00",
          "2025-01-22T08:20:01+00:00",
          "2025-01-22T08:21:01+00:00",
          "2025-01-22T08:24:01+00:00",
          "2025-01-22T08:26:52+00:00",
          "2025-01-22T08:27:18+00:00",
          "2025-01-22T08:28:18+00:00",
          "2025-01-22T08:29:30+00:00",
          "2025-01-22T08:31:18+00:00",
          "2025-01-22T08:35:18+00:00",
          "2025-01-22T08:38:18+00:00",
          "2025-01-22T09:26:56+00:00",
          "2025-01-22T10:26:56+00:00",
          "2025-01-22T12:26:56+00:00",
          "2025-01-22T12:56:56+00:00",
          "2025-01-22T15:56:57+00:00",
          "2025-01-22T16:26:56+00:00",
          "2025-01-22T16:56:56+00:00",
          "2025-01-22T18:56:56+00:00",
          "2025-01-22T20:26:56+00:00",
          "2025-01-22T22:56:56+00:00",
          "2025-01-22T23:26:56+00:00",
          "2025-01-22T23:56:56+00:00",
          "2025-01-23T00:26:57+00:00",
          "2025-01-23T00:56:56+00:00",
          "2025-01-23T01:56:56+00:00",
          "2025-01-23T03:56:56+00:00",
          "2025-01-23T05:26:55+00:00",
          "2025-01-23T07:26:56+00:00",
          "2025-01-23T10:26:56+00:00",
          "2025-01-23T12:26:56+00:00",
          "2025-01-23T13:26:56+00:00",
          "2025-01-23T13:56:56+00:00",
          "2025-01-23T15:26:56+00:00",
          "2025-01-23T17:26:56+00:00",
          "2025-01-23T20:26:56+00:00",
          "2025-01-23T20:56:56+00:00",
          "2025-01-23T21:26:56+00:00",
          "2025-01-23T21:56:56+00:00",
          "2025-01-23T22:56:56+00:00",
          "2025-01-24T00:56:56+00:00",
          "2025-01-24T02:56:56+00:00",
          "2025-01-24T03:56:56+00:00",
          "2025-01-24T04:26:56+00:00",
          "2025-01-24T05:26:56+00:00",
          "2025-01-24T06:26:56+00:00",
          "2025-01-24T07:26:56+00:00",
          "2025-01-24T07:56:55+00:00",
          "2025-01-24T08:56:56+00:00",
          "2025-01-24T09:56:56+00:00",
          "2025-01-24T10:26:56+00:00",
          "2025-01-24T10:56:56+00:00",
          "2025-01-24T12:56:56+00:00",
          "2025-01-24T13:56:56+00:00",
          "2025-01-24T14:26:56+00:00",
          "2025-01-24T14:56:56+00:00",
          "2025-01-24T16:26:56+00:00",
          "2025-01-24T17:56:56+00:00",
          "2025-01-24T18:26:57+00:00",
          "2025-01-24T19:56:56+00:00",
          "2025-01-24T21:26:56+00:00",
          "2025-01-25T00:26:56+00:00",
          "2025-01-25T00:56:56+00:00",
          "2025-01-25T01:26:56+00:00",
          "2025-01-25T01:56:55+00:00",
          "2025-01-25T02:26:56+00:00",
          "2025-01-25T02:56:56+00:00",
          "2025-01-25T04:56:56+00:00",
          "2025-01-25T05:26:55+00:00",
          "2025-01-25T05:56:56+00:00",
          "2025-01-25T06:26:55+00:00",
          "2025-01-25T06:56:56+00:00",
          "2025-01-25T07:26:56+00:00",
          "2025-01-25T07:56:56+00:00"
         ],
         "xaxis": "x",
         "y": [
          -24,
          -24,
          0,
          -72,
          -72,
          0,
          0,
          0,
          0,
          0,
          -72,
          -72,
          0,
          -24,
          -24,
          -96,
          0,
          0,
          -72,
          -72,
          -24,
          0,
          -24,
          0,
          -96,
          -72,
          24,
          24,
          0,
          24,
          -48,
          -48,
          24,
          0,
          -72,
          0,
          24,
          24,
          -48,
          24,
          -72,
          0,
          48,
          72,
          0,
          72,
          0,
          0,
          72,
          -24,
          48,
          48,
          0,
          0,
          72,
          48,
          0,
          0,
          48,
          -24,
          0,
          0,
          72,
          0,
          null,
          48,
          96,
          96,
          24,
          24,
          72,
          24,
          24,
          24
         ],
         "yaxis": "y"
        },
        {
         "hovertemplate": "Anime Title=Kusuriya no Hitorigoto<br>Timestamp=%{x}<br>Change in Members=%{y}<extra></extra>",
         "legendgroup": "Kusuriya no Hitorigoto",
         "line": {
          "color": "#FFA15A",
          "dash": "solid"
         },
         "marker": {
          "symbol": "circle"
         },
         "mode": "lines",
         "name": "Kusuriya no Hitorigoto",
         "showlegend": true,
         "type": "scattergl",
         "x": [
          "2025-01-22T08:19:01+00:00",
          "2025-01-22T08:20:01+00:00",
          "2025-01-22T08:21:01+00:00",
          "2025-01-22T08:24:01+00:00",
          "2025-01-22T08:26:52+00:00",
          "2025-01-22T08:27:18+00:00",
          "2025-01-22T08:28:18+00:00",
          "2025-01-22T08:29:30+00:00",
          "2025-01-22T08:31:18+00:00",
          "2025-01-22T08:35:18+00:00",
          "2025-01-22T08:38:18+00:00",
          "2025-01-22T09:26:56+00:00",
          "2025-01-22T10:26:56+00:00",
          "2025-01-22T12:26:56+00:00",
          "2025-01-22T12:56:56+00:00",
          "2025-01-22T15:56:57+00:00",
          "2025-01-22T16:26:56+00:00",
          "2025-01-22T16:56:56+00:00",
          "2025-01-22T18:56:56+00:00",
          "2025-01-22T20:26:56+00:00",
          "2025-01-22T22:56:56+00:00",
          "2025-01-22T23:26:56+00:00",
          "2025-01-22T23:56:56+00:00",
          "2025-01-23T00:26:57+00:00",
          "2025-01-23T00:56:56+00:00",
          "2025-01-23T01:56:56+00:00",
          "2025-01-23T03:56:56+00:00",
          "2025-01-23T05:26:55+00:00",
          "2025-01-23T07:26:56+00:00",
          "2025-01-23T10:26:56+00:00",
          "2025-01-23T12:26:56+00:00",
          "2025-01-23T13:26:56+00:00",
          "2025-01-23T13:56:56+00:00",
          "2025-01-23T15:26:56+00:00",
          "2025-01-23T17:26:56+00:00",
          "2025-01-23T20:26:56+00:00",
          "2025-01-23T20:56:56+00:00",
          "2025-01-23T21:26:56+00:00",
          "2025-01-23T21:56:56+00:00",
          "2025-01-23T22:56:56+00:00",
          "2025-01-24T00:56:56+00:00",
          "2025-01-24T02:56:56+00:00",
          "2025-01-24T03:56:56+00:00",
          "2025-01-24T04:26:56+00:00",
          "2025-01-24T05:26:56+00:00",
          "2025-01-24T06:26:56+00:00",
          "2025-01-24T07:26:56+00:00",
          "2025-01-24T07:56:55+00:00",
          "2025-01-24T08:56:56+00:00",
          "2025-01-24T09:56:56+00:00",
          "2025-01-24T10:26:56+00:00",
          "2025-01-24T10:56:56+00:00",
          "2025-01-24T12:56:56+00:00",
          "2025-01-24T13:56:56+00:00",
          "2025-01-24T14:26:56+00:00",
          "2025-01-24T14:56:56+00:00",
          "2025-01-24T16:26:56+00:00",
          "2025-01-24T17:56:56+00:00",
          "2025-01-24T18:26:57+00:00",
          "2025-01-24T19:56:56+00:00",
          "2025-01-24T21:26:56+00:00",
          "2025-01-25T00:26:56+00:00",
          "2025-01-25T00:56:56+00:00",
          "2025-01-25T01:26:56+00:00",
          "2025-01-25T01:56:55+00:00",
          "2025-01-25T02:26:56+00:00",
          "2025-01-25T02:56:56+00:00",
          "2025-01-25T04:56:56+00:00",
          "2025-01-25T05:26:55+00:00",
          "2025-01-25T05:56:56+00:00",
          "2025-01-25T06:26:55+00:00",
          "2025-01-25T06:56:56+00:00",
          "2025-01-25T07:26:56+00:00",
          "2025-01-25T07:56:56+00:00"
         ],
         "xaxis": "x",
         "y": [
          -616,
          -616,
          0,
          -2091,
          -1228,
          0,
          0,
          0,
          0,
          -616,
          -1228,
          -1228,
          -616,
          -616,
          -616,
          -2091,
          0,
          0,
          -1228,
          -1228,
          0,
          616,
          0,
          616,
          -1475,
          -1475,
          616,
          616,
          0,
          0,
          -612,
          -1475,
          616,
          0,
          -1475,
          0,
          616,
          0,
          -612,
          1228,
          -863,
          0,
          612,
          1228,
          0,
          1228,
          0,
          0,
          1228,
          -863,
          612,
          612,
          0,
          0,
          1228,
          612,
          -863,
          -863,
          0,
          -863,
          0,
          863,
          1475,
          863,
          null,
          863,
          2091,
          2091,
          863,
          0,
          1475,
          863,
          863,
          863
         ],
         "yaxis": "y"
        },
        {
         "hovertemplate": "Anime Title=Gintama Movie 2: Kanketsu-hen - Yorozuya yo Eien Nare<br>Timestamp=%{x}<br>Change in Members=%{y}<extra></extra>",
         "legendgroup": "Gintama Movie 2: Kanketsu-hen - Yorozuya yo Eien Nare",
         "line": {
          "color": "#19d3f3",
          "dash": "solid"
         },
         "marker": {
          "symbol": "circle"
         },
         "mode": "lines",
         "name": "Gintama Movie 2: Kanketsu-hen - Yorozuya yo Eien Nare",
         "showlegend": true,
         "type": "scattergl",
         "x": [
          "2025-01-22T08:19:01+00:00",
          "2025-01-22T08:20:01+00:00",
          "2025-01-22T08:21:01+00:00",
          "2025-01-22T08:24:01+00:00",
          "2025-01-22T08:26:52+00:00",
          "2025-01-22T08:27:18+00:00",
          "2025-01-22T08:28:18+00:00",
          "2025-01-22T08:29:30+00:00",
          "2025-01-22T08:31:18+00:00",
          "2025-01-22T08:35:18+00:00",
          "2025-01-22T08:38:18+00:00",
          "2025-01-22T09:26:56+00:00",
          "2025-01-22T10:26:56+00:00",
          "2025-01-22T12:26:56+00:00",
          "2025-01-22T12:56:56+00:00",
          "2025-01-22T15:56:57+00:00",
          "2025-01-22T16:26:56+00:00",
          "2025-01-22T16:56:56+00:00",
          "2025-01-22T18:56:56+00:00",
          "2025-01-22T20:26:56+00:00",
          "2025-01-22T22:56:56+00:00",
          "2025-01-22T23:26:56+00:00",
          "2025-01-22T23:56:56+00:00",
          "2025-01-23T00:26:57+00:00",
          "2025-01-23T00:56:56+00:00",
          "2025-01-23T01:56:56+00:00",
          "2025-01-23T03:56:56+00:00",
          "2025-01-23T05:26:55+00:00",
          "2025-01-23T07:26:56+00:00",
          "2025-01-23T10:26:56+00:00",
          "2025-01-23T12:26:56+00:00",
          "2025-01-23T13:26:56+00:00",
          "2025-01-23T13:56:56+00:00",
          "2025-01-23T15:26:56+00:00",
          "2025-01-23T17:26:56+00:00",
          "2025-01-23T20:26:56+00:00",
          "2025-01-23T20:56:56+00:00",
          "2025-01-23T21:26:56+00:00",
          "2025-01-23T21:56:56+00:00",
          "2025-01-23T22:56:56+00:00",
          "2025-01-24T00:56:56+00:00",
          "2025-01-24T02:56:56+00:00",
          "2025-01-24T03:56:56+00:00",
          "2025-01-24T04:26:56+00:00",
          "2025-01-24T05:26:56+00:00",
          "2025-01-24T06:26:56+00:00",
          "2025-01-24T07:26:56+00:00",
          "2025-01-24T07:56:55+00:00",
          "2025-01-24T08:56:56+00:00",
          "2025-01-24T09:56:56+00:00",
          "2025-01-24T10:26:56+00:00",
          "2025-01-24T10:56:56+00:00",
          "2025-01-24T12:56:56+00:00",
          "2025-01-24T13:56:56+00:00",
          "2025-01-24T14:26:56+00:00",
          "2025-01-24T14:56:56+00:00",
          "2025-01-24T16:26:56+00:00",
          "2025-01-24T17:56:56+00:00",
          "2025-01-24T18:26:57+00:00",
          "2025-01-24T19:56:56+00:00",
          "2025-01-24T21:26:56+00:00",
          "2025-01-25T00:26:56+00:00",
          "2025-01-25T00:56:56+00:00",
          "2025-01-25T01:26:56+00:00",
          "2025-01-25T01:56:55+00:00",
          "2025-01-25T02:26:56+00:00",
          "2025-01-25T02:56:56+00:00",
          "2025-01-25T04:56:56+00:00",
          "2025-01-25T05:26:55+00:00",
          "2025-01-25T05:56:56+00:00",
          "2025-01-25T06:26:55+00:00",
          "2025-01-25T06:56:56+00:00",
          "2025-01-25T07:26:56+00:00",
          "2025-01-25T07:56:56+00:00"
         ],
         "xaxis": "x",
         "y": [
          -39,
          -39,
          0,
          -89,
          -57,
          0,
          0,
          0,
          0,
          -39,
          -57,
          -57,
          0,
          -39,
          -39,
          -89,
          0,
          0,
          -57,
          -57,
          -39,
          0,
          -39,
          39,
          -50,
          -50,
          39,
          39,
          0,
          39,
          -18,
          -18,
          39,
          0,
          -50,
          0,
          39,
          39,
          -18,
          39,
          -32,
          0,
          18,
          57,
          0,
          57,
          0,
          0,
          57,
          -32,
          18,
          18,
          0,
          0,
          57,
          18,
          -32,
          -32,
          0,
          -32,
          0,
          0,
          18,
          32,
          null,
          50,
          89,
          89,
          32,
          32,
          50,
          32,
          32,
          32
         ],
         "yaxis": "y"
        },
        {
         "hovertemplate": "Anime Title=Code Geass: Hangyaku no Lelouch R2<br>Timestamp=%{x}<br>Change in Members=%{y}<extra></extra>",
         "legendgroup": "Code Geass: Hangyaku no Lelouch R2",
         "line": {
          "color": "#FF6692",
          "dash": "solid"
         },
         "marker": {
          "symbol": "circle"
         },
         "mode": "lines",
         "name": "Code Geass: Hangyaku no Lelouch R2",
         "showlegend": true,
         "type": "scattergl",
         "x": [
          "2025-01-22T08:19:01+00:00",
          "2025-01-22T08:20:01+00:00",
          "2025-01-22T08:21:01+00:00",
          "2025-01-22T08:24:01+00:00",
          "2025-01-22T08:26:52+00:00",
          "2025-01-22T08:27:18+00:00",
          "2025-01-22T08:28:18+00:00",
          "2025-01-22T08:29:30+00:00",
          "2025-01-22T08:31:18+00:00",
          "2025-01-22T08:35:18+00:00",
          "2025-01-22T08:38:18+00:00",
          "2025-01-22T09:26:56+00:00",
          "2025-01-22T10:26:56+00:00",
          "2025-01-22T12:26:56+00:00",
          "2025-01-22T12:56:56+00:00",
          "2025-01-22T15:56:57+00:00",
          "2025-01-22T16:26:56+00:00",
          "2025-01-22T16:56:56+00:00",
          "2025-01-22T18:56:56+00:00",
          "2025-01-22T20:26:56+00:00",
          "2025-01-22T22:56:56+00:00",
          "2025-01-22T23:26:56+00:00",
          "2025-01-22T23:56:56+00:00",
          "2025-01-23T00:26:57+00:00",
          "2025-01-23T00:56:56+00:00",
          "2025-01-23T01:56:56+00:00",
          "2025-01-23T03:56:56+00:00",
          "2025-01-23T05:26:55+00:00",
          "2025-01-23T07:26:56+00:00",
          "2025-01-23T10:26:56+00:00",
          "2025-01-23T12:26:56+00:00",
          "2025-01-23T13:26:56+00:00",
          "2025-01-23T13:56:56+00:00",
          "2025-01-23T15:26:56+00:00",
          "2025-01-23T17:26:56+00:00",
          "2025-01-23T20:26:56+00:00",
          "2025-01-23T20:56:56+00:00",
          "2025-01-23T21:26:56+00:00",
          "2025-01-23T21:56:56+00:00",
          "2025-01-23T22:56:56+00:00",
          "2025-01-24T00:56:56+00:00",
          "2025-01-24T02:56:56+00:00",
          "2025-01-24T03:56:56+00:00",
          "2025-01-24T04:26:56+00:00",
          "2025-01-24T05:26:56+00:00",
          "2025-01-24T06:26:56+00:00",
          "2025-01-24T07:26:56+00:00",
          "2025-01-24T07:56:55+00:00",
          "2025-01-24T08:56:56+00:00",
          "2025-01-24T09:56:56+00:00",
          "2025-01-24T10:26:56+00:00",
          "2025-01-24T10:56:56+00:00",
          "2025-01-24T12:56:56+00:00",
          "2025-01-24T13:56:56+00:00",
          "2025-01-24T14:26:56+00:00",
          "2025-01-24T14:56:56+00:00",
          "2025-01-24T16:26:56+00:00",
          "2025-01-24T17:56:56+00:00",
          "2025-01-24T18:26:57+00:00",
          "2025-01-24T19:56:56+00:00",
          "2025-01-24T21:26:56+00:00",
          "2025-01-25T00:26:56+00:00",
          "2025-01-25T00:56:56+00:00",
          "2025-01-25T01:26:56+00:00",
          "2025-01-25T01:56:55+00:00",
          "2025-01-25T02:26:56+00:00",
          "2025-01-25T02:56:56+00:00",
          "2025-01-25T04:56:56+00:00",
          "2025-01-25T05:26:55+00:00",
          "2025-01-25T05:56:56+00:00",
          "2025-01-25T06:26:55+00:00",
          "2025-01-25T06:56:56+00:00",
          "2025-01-25T07:26:56+00:00",
          "2025-01-25T07:56:56+00:00"
         ],
         "xaxis": "x",
         "y": [
          -296,
          -296,
          0,
          -651,
          -469,
          0,
          -296,
          0,
          -296,
          -296,
          -469,
          -651,
          -296,
          -469,
          -173,
          -355,
          0,
          296,
          -355,
          -173,
          -173,
          296,
          0,
          296,
          -355,
          -355,
          296,
          296,
          0,
          0,
          -355,
          -355,
          469,
          0,
          -182,
          0,
          173,
          173,
          0,
          469,
          -182,
          -182,
          173,
          469,
          -182,
          469,
          0,
          0,
          469,
          -182,
          0,
          0,
          0,
          0,
          355,
          355,
          0,
          0,
          182,
          0,
          182,
          182,
          355,
          182,
          null,
          182,
          355,
          651,
          182,
          0,
          355,
          0,
          182,
          0
         ],
         "yaxis": "y"
        },
        {
         "hovertemplate": "Anime Title=3-gatsu no Lion 2nd Season<br>Timestamp=%{x}<br>Change in Members=%{y}<extra></extra>",
         "legendgroup": "3-gatsu no Lion 2nd Season",
         "line": {
          "color": "#B6E880",
          "dash": "solid"
         },
         "marker": {
          "symbol": "circle"
         },
         "mode": "lines",
         "name": "3-gatsu no Lion 2nd Season",
         "showlegend": true,
         "type": "scattergl",
         "x": [
          "2025-01-22T08:19:01+00:00",
          "2025-01-22T08:20:01+00:00",
          "2025-01-22T08:21:01+00:00",
          "2025-01-22T08:24:01+00:00",
          "2025-01-22T08:26:52+00:00",
          "2025-01-22T08:27:18+00:00",
          "2025-01-22T08:28:18+00:00",
          "2025-01-22T08:29:30+00:00",
          "2025-01-22T08:31:18+00:00",
          "2025-01-22T08:35:18+00:00",
          "2025-01-22T08:38:18+00:00",
          "2025-01-22T09:26:56+00:00",
          "2025-01-22T10:26:56+00:00",
          "2025-01-22T12:26:56+00:00",
          "2025-01-22T12:56:56+00:00",
          "2025-01-22T15:56:57+00:00",
          "2025-01-22T16:26:56+00:00",
          "2025-01-22T16:56:56+00:00",
          "2025-01-22T18:56:56+00:00",
          "2025-01-22T20:26:56+00:00",
          "2025-01-22T22:56:56+00:00",
          "2025-01-22T23:26:56+00:00",
          "2025-01-22T23:56:56+00:00",
          "2025-01-23T00:26:57+00:00",
          "2025-01-23T00:56:56+00:00",
          "2025-01-23T01:56:56+00:00",
          "2025-01-23T03:56:56+00:00",
          "2025-01-23T05:26:55+00:00",
          "2025-01-23T07:26:56+00:00",
          "2025-01-23T10:26:56+00:00",
          "2025-01-23T12:26:56+00:00",
          "2025-01-23T13:26:56+00:00",
          "2025-01-23T13:56:56+00:00",
          "2025-01-23T15:26:56+00:00",
          "2025-01-23T17:26:56+00:00",
          "2025-01-23T20:26:56+00:00",
          "2025-01-23T20:56:56+00:00",
          "2025-01-23T21:26:56+00:00",
          "2025-01-23T21:56:56+00:00",
          "2025-01-23T22:56:56+00:00",
          "2025-01-24T00:56:56+00:00",
          "2025-01-24T02:56:56+00:00",
          "2025-01-24T03:56:56+00:00",
          "2025-01-24T04:26:56+00:00",
          "2025-01-24T05:26:56+00:00",
          "2025-01-24T06:26:56+00:00",
          "2025-01-24T07:26:56+00:00",
          "2025-01-24T07:56:55+00:00",
          "2025-01-24T08:56:56+00:00",
          "2025-01-24T09:56:56+00:00",
          "2025-01-24T10:26:56+00:00",
          "2025-01-24T10:56:56+00:00",
          "2025-01-24T12:56:56+00:00",
          "2025-01-24T13:56:56+00:00",
          "2025-01-24T14:26:56+00:00",
          "2025-01-24T14:56:56+00:00",
          "2025-01-24T16:26:56+00:00",
          "2025-01-24T17:56:56+00:00",
          "2025-01-24T18:26:57+00:00",
          "2025-01-24T19:56:56+00:00",
          "2025-01-24T21:26:56+00:00",
          "2025-01-25T00:26:56+00:00",
          "2025-01-25T00:56:56+00:00",
          "2025-01-25T01:26:56+00:00",
          "2025-01-25T01:56:55+00:00",
          "2025-01-25T02:26:56+00:00",
          "2025-01-25T02:56:56+00:00",
          "2025-01-25T04:56:56+00:00",
          "2025-01-25T05:26:55+00:00",
          "2025-01-25T05:56:56+00:00",
          "2025-01-25T06:26:55+00:00",
          "2025-01-25T06:56:56+00:00",
          "2025-01-25T07:26:56+00:00",
          "2025-01-25T07:56:56+00:00"
         ],
         "xaxis": "x",
         "y": [
          -42,
          -42,
          0,
          -154,
          -90,
          0,
          0,
          0,
          0,
          -42,
          -90,
          -154,
          -42,
          -42,
          -42,
          -154,
          -42,
          0,
          -48,
          -48,
          -48,
          42,
          0,
          42,
          -112,
          -112,
          42,
          42,
          0,
          0,
          -48,
          -112,
          42,
          -48,
          -112,
          48,
          90,
          48,
          0,
          90,
          -64,
          0,
          48,
          90,
          0,
          90,
          0,
          0,
          90,
          -64,
          0,
          0,
          0,
          -64,
          90,
          48,
          -64,
          -64,
          0,
          0,
          64,
          64,
          112,
          64,
          null,
          64,
          112,
          154,
          64,
          0,
          112,
          64,
          64,
          64
         ],
         "yaxis": "y"
        },
        {
         "hovertemplate": "Anime Title=Koe no Katachi<br>Timestamp=%{x}<br>Change in Members=%{y}<extra></extra>",
         "legendgroup": "Koe no Katachi",
         "line": {
          "color": "#FF97FF",
          "dash": "solid"
         },
         "marker": {
          "symbol": "circle"
         },
         "mode": "lines",
         "name": "Koe no Katachi",
         "showlegend": true,
         "type": "scattergl",
         "x": [
          "2025-01-22T08:19:01+00:00",
          "2025-01-22T08:20:01+00:00",
          "2025-01-22T08:21:01+00:00",
          "2025-01-22T08:24:01+00:00",
          "2025-01-22T08:26:52+00:00",
          "2025-01-22T08:27:18+00:00",
          "2025-01-22T08:28:18+00:00",
          "2025-01-22T08:29:30+00:00",
          "2025-01-22T08:31:18+00:00",
          "2025-01-22T08:35:18+00:00",
          "2025-01-22T08:38:18+00:00",
          "2025-01-22T09:26:56+00:00",
          "2025-01-22T10:26:56+00:00",
          "2025-01-22T12:26:56+00:00",
          "2025-01-22T12:56:56+00:00",
          "2025-01-22T15:56:57+00:00",
          "2025-01-22T16:26:56+00:00",
          "2025-01-22T16:56:56+00:00",
          "2025-01-22T18:56:56+00:00",
          "2025-01-22T20:26:56+00:00",
          "2025-01-22T22:56:56+00:00",
          "2025-01-22T23:26:56+00:00",
          "2025-01-22T23:56:56+00:00",
          "2025-01-23T00:26:57+00:00",
          "2025-01-23T00:56:56+00:00",
          "2025-01-23T01:56:56+00:00",
          "2025-01-23T03:56:56+00:00",
          "2025-01-23T05:26:55+00:00",
          "2025-01-23T07:26:56+00:00",
          "2025-01-23T10:26:56+00:00",
          "2025-01-23T12:26:56+00:00",
          "2025-01-23T13:26:56+00:00",
          "2025-01-23T13:56:56+00:00",
          "2025-01-23T15:26:56+00:00",
          "2025-01-23T17:26:56+00:00",
          "2025-01-23T20:26:56+00:00",
          "2025-01-23T20:56:56+00:00",
          "2025-01-23T21:26:56+00:00",
          "2025-01-23T21:56:56+00:00",
          "2025-01-23T22:56:56+00:00",
          "2025-01-24T00:56:56+00:00",
          "2025-01-24T02:56:56+00:00",
          "2025-01-24T03:56:56+00:00",
          "2025-01-24T04:26:56+00:00",
          "2025-01-24T05:26:56+00:00",
          "2025-01-24T06:26:56+00:00",
          "2025-01-24T07:26:56+00:00",
          "2025-01-24T07:56:55+00:00",
          "2025-01-24T08:56:56+00:00",
          "2025-01-24T09:56:56+00:00",
          "2025-01-24T10:26:56+00:00",
          "2025-01-24T10:56:56+00:00",
          "2025-01-24T12:56:56+00:00",
          "2025-01-24T13:56:56+00:00",
          "2025-01-24T14:26:56+00:00",
          "2025-01-24T14:56:56+00:00",
          "2025-01-24T16:26:56+00:00",
          "2025-01-24T17:56:56+00:00",
          "2025-01-24T18:26:57+00:00",
          "2025-01-24T19:56:56+00:00",
          "2025-01-24T21:26:56+00:00",
          "2025-01-25T00:26:56+00:00",
          "2025-01-25T00:56:56+00:00",
          "2025-01-25T01:26:56+00:00",
          "2025-01-25T01:56:55+00:00",
          "2025-01-25T02:26:56+00:00",
          "2025-01-25T02:56:56+00:00",
          "2025-01-25T04:56:56+00:00",
          "2025-01-25T05:26:55+00:00",
          "2025-01-25T05:56:56+00:00",
          "2025-01-25T06:26:55+00:00",
          "2025-01-25T06:56:56+00:00",
          "2025-01-25T07:26:56+00:00",
          "2025-01-25T07:56:56+00:00"
         ],
         "xaxis": "x",
         "y": [
          -778,
          -339,
          0,
          -1101,
          -778,
          0,
          -339,
          0,
          -339,
          -339,
          -778,
          -1101,
          -339,
          -439,
          -439,
          -762,
          0,
          339,
          -762,
          -439,
          -439,
          339,
          0,
          339,
          -762,
          -762,
          339,
          339,
          -439,
          0,
          -323,
          -323,
          778,
          0,
          -323,
          0,
          439,
          439,
          -323,
          778,
          -323,
          -323,
          439,
          778,
          -323,
          778,
          0,
          0,
          778,
          -323,
          0,
          0,
          323,
          0,
          762,
          762,
          0,
          0,
          323,
          0,
          323,
          323,
          762,
          323,
          null,
          323,
          762,
          762,
          323,
          0,
          762,
          0,
          323,
          0
         ],
         "yaxis": "y"
        },
        {
         "hovertemplate": "Anime Title=Gintama<br>Timestamp=%{x}<br>Change in Members=%{y}<extra></extra>",
         "legendgroup": "Gintama",
         "line": {
          "color": "#FECB52",
          "dash": "solid"
         },
         "marker": {
          "symbol": "circle"
         },
         "mode": "lines",
         "name": "Gintama",
         "showlegend": true,
         "type": "scattergl",
         "x": [
          "2025-01-22T08:19:01+00:00",
          "2025-01-22T08:20:01+00:00",
          "2025-01-22T08:21:01+00:00",
          "2025-01-22T08:24:01+00:00",
          "2025-01-22T08:26:52+00:00",
          "2025-01-22T08:27:18+00:00",
          "2025-01-22T08:28:18+00:00",
          "2025-01-22T08:29:30+00:00",
          "2025-01-22T08:31:18+00:00",
          "2025-01-22T08:35:18+00:00",
          "2025-01-22T08:38:18+00:00",
          "2025-01-22T09:26:56+00:00",
          "2025-01-22T10:26:56+00:00",
          "2025-01-22T12:26:56+00:00",
          "2025-01-22T12:56:56+00:00",
          "2025-01-22T15:56:57+00:00",
          "2025-01-22T16:26:56+00:00",
          "2025-01-22T16:56:56+00:00",
          "2025-01-22T18:56:56+00:00",
          "2025-01-22T20:26:56+00:00",
          "2025-01-22T22:56:56+00:00",
          "2025-01-22T23:26:56+00:00",
          "2025-01-22T23:56:56+00:00",
          "2025-01-23T00:26:57+00:00",
          "2025-01-23T00:56:56+00:00",
          "2025-01-23T01:56:56+00:00",
          "2025-01-23T03:56:56+00:00",
          "2025-01-23T05:26:55+00:00",
          "2025-01-23T07:26:56+00:00",
          "2025-01-23T10:26:56+00:00",
          "2025-01-23T12:26:56+00:00",
          "2025-01-23T13:26:56+00:00",
          "2025-01-23T13:56:56+00:00",
          "2025-01-23T15:26:56+00:00",
          "2025-01-23T17:26:56+00:00",
          "2025-01-23T20:26:56+00:00",
          "2025-01-23T20:56:56+00:00",
          "2025-01-23T21:26:56+00:00",
          "2025-01-23T21:56:56+00:00",
          "2025-01-23T22:56:56+00:00",
          "2025-01-24T00:56:56+00:00",
          "2025-01-24T02:56:56+00:00",
          "2025-01-24T03:56:56+00:00",
          "2025-01-24T04:26:56+00:00",
          "2025-01-24T05:26:56+00:00",
          "2025-01-24T06:26:56+00:00",
          "2025-01-24T07:26:56+00:00",
          "2025-01-24T07:56:55+00:00",
          "2025-01-24T08:56:56+00:00",
          "2025-01-24T09:56:56+00:00",
          "2025-01-24T10:26:56+00:00",
          "2025-01-24T10:56:56+00:00",
          "2025-01-24T12:56:56+00:00",
          "2025-01-24T13:56:56+00:00",
          "2025-01-24T14:26:56+00:00",
          "2025-01-24T14:56:56+00:00",
          "2025-01-24T16:26:56+00:00",
          "2025-01-24T17:56:56+00:00",
          "2025-01-24T18:26:57+00:00",
          "2025-01-24T19:56:56+00:00",
          "2025-01-24T21:26:56+00:00",
          "2025-01-25T00:26:56+00:00",
          "2025-01-25T00:56:56+00:00",
          "2025-01-25T01:26:56+00:00",
          "2025-01-25T01:56:55+00:00",
          "2025-01-25T02:26:56+00:00",
          "2025-01-25T02:56:56+00:00",
          "2025-01-25T04:56:56+00:00",
          "2025-01-25T05:26:55+00:00",
          "2025-01-25T05:56:56+00:00",
          "2025-01-25T06:26:55+00:00",
          "2025-01-25T06:56:56+00:00",
          "2025-01-25T07:26:56+00:00",
          "2025-01-25T07:56:56+00:00"
         ],
         "xaxis": "x",
         "y": [
          -146,
          -146,
          0,
          -343,
          -231,
          0,
          0,
          0,
          0,
          -146,
          -231,
          -231,
          -146,
          -146,
          -146,
          -343,
          0,
          0,
          -231,
          -231,
          -85,
          146,
          0,
          146,
          -197,
          -197,
          146,
          146,
          0,
          0,
          -85,
          -197,
          146,
          -85,
          -197,
          0,
          231,
          85,
          0,
          231,
          -112,
          0,
          85,
          231,
          0,
          231,
          0,
          0,
          231,
          -112,
          0,
          85,
          0,
          -112,
          231,
          85,
          -112,
          -112,
          0,
          -112,
          112,
          112,
          197,
          112,
          null,
          112,
          343,
          343,
          112,
          0,
          197,
          112,
          112,
          112
         ],
         "yaxis": "y"
        },
        {
         "hovertemplate": "Anime Title=Steins;Gate<br>Timestamp=%{x}<br>Change in Members=%{y}<extra></extra>",
         "legendgroup": "Steins;Gate",
         "line": {
          "color": "#636efa",
          "dash": "solid"
         },
         "marker": {
          "symbol": "circle"
         },
         "mode": "lines",
         "name": "Steins;Gate",
         "showlegend": true,
         "type": "scattergl",
         "x": [
          "2025-01-22T08:19:01+00:00",
          "2025-01-22T08:20:01+00:00",
          "2025-01-22T08:21:01+00:00",
          "2025-01-22T08:24:01+00:00",
          "2025-01-22T08:26:52+00:00",
          "2025-01-22T08:27:18+00:00",
          "2025-01-22T08:28:18+00:00",
          "2025-01-22T08:29:30+00:00",
          "2025-01-22T08:31:18+00:00",
          "2025-01-22T08:35:18+00:00",
          "2025-01-22T08:38:18+00:00",
          "2025-01-22T09:26:56+00:00",
          "2025-01-22T10:26:56+00:00",
          "2025-01-22T12:26:56+00:00",
          "2025-01-22T12:56:56+00:00",
          "2025-01-22T15:56:57+00:00",
          "2025-01-22T16:26:56+00:00",
          "2025-01-22T16:56:56+00:00",
          "2025-01-22T18:56:56+00:00",
          "2025-01-22T20:26:56+00:00",
          "2025-01-22T22:56:56+00:00",
          "2025-01-22T23:26:56+00:00",
          "2025-01-22T23:56:56+00:00",
          "2025-01-23T00:26:57+00:00",
          "2025-01-23T00:56:56+00:00",
          "2025-01-23T01:56:56+00:00",
          "2025-01-23T03:56:56+00:00",
          "2025-01-23T05:26:55+00:00",
          "2025-01-23T07:26:56+00:00",
          "2025-01-23T10:26:56+00:00",
          "2025-01-23T12:26:56+00:00",
          "2025-01-23T13:26:56+00:00",
          "2025-01-23T13:56:56+00:00",
          "2025-01-23T15:26:56+00:00",
          "2025-01-23T17:26:56+00:00",
          "2025-01-23T20:26:56+00:00",
          "2025-01-23T20:56:56+00:00",
          "2025-01-23T21:26:56+00:00",
          "2025-01-23T21:56:56+00:00",
          "2025-01-23T22:56:56+00:00",
          "2025-01-24T00:56:56+00:00",
          "2025-01-24T02:56:56+00:00",
          "2025-01-24T03:56:56+00:00",
          "2025-01-24T04:26:56+00:00",
          "2025-01-24T05:26:56+00:00",
          "2025-01-24T06:26:56+00:00",
          "2025-01-24T07:26:56+00:00",
          "2025-01-24T07:56:55+00:00",
          "2025-01-24T08:56:56+00:00",
          "2025-01-24T09:56:56+00:00",
          "2025-01-24T10:26:56+00:00",
          "2025-01-24T10:56:56+00:00",
          "2025-01-24T12:56:56+00:00",
          "2025-01-24T13:56:56+00:00",
          "2025-01-24T14:26:56+00:00",
          "2025-01-24T14:56:56+00:00",
          "2025-01-24T16:26:56+00:00",
          "2025-01-24T17:56:56+00:00",
          "2025-01-24T18:26:57+00:00",
          "2025-01-24T19:56:56+00:00",
          "2025-01-24T21:26:56+00:00",
          "2025-01-25T00:26:56+00:00",
          "2025-01-25T00:56:56+00:00",
          "2025-01-25T01:26:56+00:00",
          "2025-01-25T01:56:55+00:00",
          "2025-01-25T02:26:56+00:00",
          "2025-01-25T02:56:56+00:00",
          "2025-01-25T04:56:56+00:00",
          "2025-01-25T05:26:55+00:00",
          "2025-01-25T05:56:56+00:00",
          "2025-01-25T06:26:55+00:00",
          "2025-01-25T06:56:56+00:00",
          "2025-01-25T07:26:56+00:00",
          "2025-01-25T07:56:56+00:00"
         ],
         "xaxis": "x",
         "y": [
          -261,
          0,
          0,
          -519,
          -519,
          0,
          0,
          0,
          0,
          0,
          -519,
          -519,
          0,
          -261,
          -261,
          -960,
          0,
          0,
          -519,
          -519,
          -261,
          0,
          -261,
          0,
          -960,
          -960,
          261,
          261,
          0,
          261,
          -258,
          -258,
          261,
          0,
          -699,
          0,
          261,
          261,
          -258,
          261,
          -699,
          0,
          258,
          519,
          0,
          519,
          0,
          0,
          519,
          -441,
          258,
          258,
          0,
          0,
          519,
          258,
          0,
          0,
          258,
          -441,
          0,
          0,
          519,
          0,
          null,
          258,
          960,
          960,
          441,
          441,
          699,
          441,
          441,
          441
         ],
         "yaxis": "y"
        },
        {
         "hovertemplate": "Anime Title=Clannad: After Story<br>Timestamp=%{x}<br>Change in Members=%{y}<extra></extra>",
         "legendgroup": "Clannad: After Story",
         "line": {
          "color": "#EF553B",
          "dash": "solid"
         },
         "marker": {
          "symbol": "circle"
         },
         "mode": "lines",
         "name": "Clannad: After Story",
         "showlegend": true,
         "type": "scattergl",
         "x": [
          "2025-01-22T08:19:01+00:00",
          "2025-01-22T08:20:01+00:00",
          "2025-01-22T08:21:01+00:00",
          "2025-01-22T08:24:01+00:00",
          "2025-01-22T08:26:52+00:00",
          "2025-01-22T08:27:18+00:00",
          "2025-01-22T08:28:18+00:00",
          "2025-01-22T08:29:30+00:00",
          "2025-01-22T08:31:18+00:00",
          "2025-01-22T08:35:18+00:00",
          "2025-01-22T08:38:18+00:00",
          "2025-01-22T09:26:56+00:00",
          "2025-01-22T10:26:56+00:00",
          "2025-01-22T12:26:56+00:00",
          "2025-01-22T12:56:56+00:00",
          "2025-01-22T15:56:57+00:00",
          "2025-01-22T16:26:56+00:00",
          "2025-01-22T16:56:56+00:00",
          "2025-01-22T18:56:56+00:00",
          "2025-01-22T20:26:56+00:00",
          "2025-01-22T22:56:56+00:00",
          "2025-01-22T23:26:56+00:00",
          "2025-01-22T23:56:56+00:00",
          "2025-01-23T00:26:57+00:00",
          "2025-01-23T00:56:56+00:00",
          "2025-01-23T01:56:56+00:00",
          "2025-01-23T03:56:56+00:00",
          "2025-01-23T05:26:55+00:00",
          "2025-01-23T07:26:56+00:00",
          "2025-01-23T10:26:56+00:00",
          "2025-01-23T12:26:56+00:00",
          "2025-01-23T13:26:56+00:00",
          "2025-01-23T13:56:56+00:00",
          "2025-01-23T15:26:56+00:00",
          "2025-01-23T17:26:56+00:00",
          "2025-01-23T20:26:56+00:00",
          "2025-01-23T20:56:56+00:00",
          "2025-01-23T21:26:56+00:00",
          "2025-01-23T21:56:56+00:00",
          "2025-01-23T22:56:56+00:00",
          "2025-01-24T00:56:56+00:00",
          "2025-01-24T02:56:56+00:00",
          "2025-01-24T03:56:56+00:00",
          "2025-01-24T04:26:56+00:00",
          "2025-01-24T05:26:56+00:00",
          "2025-01-24T06:26:56+00:00",
          "2025-01-24T07:26:56+00:00",
          "2025-01-24T07:56:55+00:00",
          "2025-01-24T08:56:56+00:00",
          "2025-01-24T09:56:56+00:00",
          "2025-01-24T10:26:56+00:00",
          "2025-01-24T10:56:56+00:00",
          "2025-01-24T12:56:56+00:00",
          "2025-01-24T13:56:56+00:00",
          "2025-01-24T14:26:56+00:00",
          "2025-01-24T14:56:56+00:00",
          "2025-01-24T16:26:56+00:00",
          "2025-01-24T17:56:56+00:00",
          "2025-01-24T18:26:57+00:00",
          "2025-01-24T19:56:56+00:00",
          "2025-01-24T21:26:56+00:00",
          "2025-01-25T00:26:56+00:00",
          "2025-01-25T00:56:56+00:00",
          "2025-01-25T01:26:56+00:00",
          "2025-01-25T01:56:55+00:00",
          "2025-01-25T02:26:56+00:00",
          "2025-01-25T02:56:56+00:00",
          "2025-01-25T04:56:56+00:00",
          "2025-01-25T05:26:55+00:00",
          "2025-01-25T05:56:56+00:00",
          "2025-01-25T06:26:55+00:00",
          "2025-01-25T06:56:56+00:00",
          "2025-01-25T07:26:56+00:00",
          "2025-01-25T07:56:56+00:00"
         ],
         "xaxis": "x",
         "y": [
          -92,
          -92,
          0,
          -370,
          -187,
          0,
          0,
          0,
          0,
          -92,
          -187,
          -187,
          0,
          -92,
          -92,
          -370,
          0,
          0,
          -187,
          -187,
          -92,
          0,
          -92,
          92,
          -278,
          -278,
          92,
          92,
          0,
          92,
          -95,
          -95,
          92,
          0,
          -278,
          0,
          92,
          92,
          -95,
          92,
          -183,
          0,
          95,
          187,
          0,
          187,
          0,
          0,
          187,
          -183,
          95,
          95,
          0,
          0,
          187,
          95,
          -183,
          -183,
          0,
          -183,
          0,
          0,
          95,
          183,
          null,
          278,
          370,
          370,
          183,
          183,
          278,
          183,
          183,
          183
         ],
         "yaxis": "y"
        },
        {
         "hovertemplate": "Anime Title=Kaguya-sama wa Kokurasetai: Ultra Romantic<br>Timestamp=%{x}<br>Change in Members=%{y}<extra></extra>",
         "legendgroup": "Kaguya-sama wa Kokurasetai: Ultra Romantic",
         "line": {
          "color": "#00cc96",
          "dash": "solid"
         },
         "marker": {
          "symbol": "circle"
         },
         "mode": "lines",
         "name": "Kaguya-sama wa Kokurasetai: Ultra Romantic",
         "showlegend": true,
         "type": "scattergl",
         "x": [
          "2025-01-22T08:19:01+00:00",
          "2025-01-22T08:20:01+00:00",
          "2025-01-22T08:21:01+00:00",
          "2025-01-22T08:24:01+00:00",
          "2025-01-22T08:26:52+00:00",
          "2025-01-22T08:27:18+00:00",
          "2025-01-22T08:28:18+00:00",
          "2025-01-22T08:29:30+00:00",
          "2025-01-22T08:31:18+00:00",
          "2025-01-22T08:35:18+00:00",
          "2025-01-22T08:38:18+00:00",
          "2025-01-22T09:26:56+00:00",
          "2025-01-22T10:26:56+00:00",
          "2025-01-22T12:26:56+00:00",
          "2025-01-22T12:56:56+00:00",
          "2025-01-22T15:56:57+00:00",
          "2025-01-22T16:26:56+00:00",
          "2025-01-22T16:56:56+00:00",
          "2025-01-22T18:56:56+00:00",
          "2025-01-22T20:26:56+00:00",
          "2025-01-22T22:56:56+00:00",
          "2025-01-22T23:26:56+00:00",
          "2025-01-22T23:56:56+00:00",
          "2025-01-23T00:26:57+00:00",
          "2025-01-23T00:56:56+00:00",
          "2025-01-23T01:56:56+00:00",
          "2025-01-23T03:56:56+00:00",
          "2025-01-23T05:26:55+00:00",
          "2025-01-23T07:26:56+00:00",
          "2025-01-23T10:26:56+00:00",
          "2025-01-23T12:26:56+00:00",
          "2025-01-23T13:26:56+00:00",
          "2025-01-23T13:56:56+00:00",
          "2025-01-23T15:26:56+00:00",
          "2025-01-23T17:26:56+00:00",
          "2025-01-23T20:26:56+00:00",
          "2025-01-23T20:56:56+00:00",
          "2025-01-23T21:26:56+00:00",
          "2025-01-23T21:56:56+00:00",
          "2025-01-23T22:56:56+00:00",
          "2025-01-24T00:56:56+00:00",
          "2025-01-24T02:56:56+00:00",
          "2025-01-24T03:56:56+00:00",
          "2025-01-24T04:26:56+00:00",
          "2025-01-24T05:26:56+00:00",
          "2025-01-24T06:26:56+00:00",
          "2025-01-24T07:26:56+00:00",
          "2025-01-24T07:56:55+00:00",
          "2025-01-24T08:56:56+00:00",
          "2025-01-24T09:56:56+00:00",
          "2025-01-24T10:26:56+00:00",
          "2025-01-24T10:56:56+00:00",
          "2025-01-24T12:56:56+00:00",
          "2025-01-24T13:56:56+00:00",
          "2025-01-24T14:26:56+00:00",
          "2025-01-24T14:56:56+00:00",
          "2025-01-24T16:26:56+00:00",
          "2025-01-24T17:56:56+00:00",
          "2025-01-24T18:26:57+00:00",
          "2025-01-24T19:56:56+00:00",
          "2025-01-24T21:26:56+00:00",
          "2025-01-25T00:26:56+00:00",
          "2025-01-25T00:56:56+00:00",
          "2025-01-25T01:26:56+00:00",
          "2025-01-25T01:56:55+00:00",
          "2025-01-25T02:26:56+00:00",
          "2025-01-25T02:56:56+00:00",
          "2025-01-25T04:56:56+00:00",
          "2025-01-25T05:26:55+00:00",
          "2025-01-25T05:56:56+00:00",
          "2025-01-25T06:26:55+00:00",
          "2025-01-25T06:56:56+00:00",
          "2025-01-25T07:26:56+00:00",
          "2025-01-25T07:56:56+00:00"
         ],
         "xaxis": "x",
         "y": [
          -192,
          0,
          0,
          -493,
          -192,
          0,
          0,
          0,
          0,
          0,
          -493,
          -493,
          0,
          -192,
          -192,
          -682,
          0,
          0,
          -493,
          -493,
          -192,
          0,
          0,
          0,
          -493,
          -493,
          0,
          0,
          0,
          192,
          -301,
          -301,
          192,
          0,
          -301,
          0,
          192,
          192,
          -301,
          192,
          -301,
          -301,
          0,
          192,
          -301,
          192,
          301,
          301,
          493,
          0,
          301,
          301,
          301,
          0,
          493,
          493,
          0,
          0,
          301,
          -189,
          0,
          0,
          493,
          0,
          null,
          301,
          493,
          493,
          301,
          0,
          301,
          0,
          189,
          189
         ],
         "yaxis": "y"
        },
        {
         "hovertemplate": "Anime Title=Bleach: Sennen Kessen-hen<br>Timestamp=%{x}<br>Change in Members=%{y}<extra></extra>",
         "legendgroup": "Bleach: Sennen Kessen-hen",
         "line": {
          "color": "#ab63fa",
          "dash": "solid"
         },
         "marker": {
          "symbol": "circle"
         },
         "mode": "lines",
         "name": "Bleach: Sennen Kessen-hen",
         "showlegend": true,
         "type": "scattergl",
         "x": [
          "2025-01-22T08:19:01+00:00",
          "2025-01-22T08:20:01+00:00",
          "2025-01-22T08:21:01+00:00",
          "2025-01-22T08:24:01+00:00",
          "2025-01-22T08:26:52+00:00",
          "2025-01-22T08:27:18+00:00",
          "2025-01-22T08:28:18+00:00",
          "2025-01-22T08:29:30+00:00",
          "2025-01-22T08:31:18+00:00",
          "2025-01-22T08:35:18+00:00",
          "2025-01-22T08:38:18+00:00",
          "2025-01-22T09:26:56+00:00",
          "2025-01-22T10:26:56+00:00",
          "2025-01-22T12:26:56+00:00",
          "2025-01-22T12:56:56+00:00",
          "2025-01-22T15:56:57+00:00",
          "2025-01-22T16:26:56+00:00",
          "2025-01-22T16:56:56+00:00",
          "2025-01-22T18:56:56+00:00",
          "2025-01-22T20:26:56+00:00",
          "2025-01-22T22:56:56+00:00",
          "2025-01-22T23:26:56+00:00",
          "2025-01-22T23:56:56+00:00",
          "2025-01-23T00:26:57+00:00",
          "2025-01-23T00:56:56+00:00",
          "2025-01-23T01:56:56+00:00",
          "2025-01-23T03:56:56+00:00",
          "2025-01-23T05:26:55+00:00",
          "2025-01-23T07:26:56+00:00",
          "2025-01-23T10:26:56+00:00",
          "2025-01-23T12:26:56+00:00",
          "2025-01-23T13:26:56+00:00",
          "2025-01-23T13:56:56+00:00",
          "2025-01-23T15:26:56+00:00",
          "2025-01-23T17:26:56+00:00",
          "2025-01-23T20:26:56+00:00",
          "2025-01-23T20:56:56+00:00",
          "2025-01-23T21:26:56+00:00",
          "2025-01-23T21:56:56+00:00",
          "2025-01-23T22:56:56+00:00",
          "2025-01-24T00:56:56+00:00",
          "2025-01-24T02:56:56+00:00",
          "2025-01-24T03:56:56+00:00",
          "2025-01-24T04:26:56+00:00",
          "2025-01-24T05:26:56+00:00",
          "2025-01-24T06:26:56+00:00",
          "2025-01-24T07:26:56+00:00",
          "2025-01-24T07:56:55+00:00",
          "2025-01-24T08:56:56+00:00",
          "2025-01-24T09:56:56+00:00",
          "2025-01-24T10:26:56+00:00",
          "2025-01-24T10:56:56+00:00",
          "2025-01-24T12:56:56+00:00",
          "2025-01-24T13:56:56+00:00",
          "2025-01-24T14:26:56+00:00",
          "2025-01-24T14:56:56+00:00",
          "2025-01-24T16:26:56+00:00",
          "2025-01-24T17:56:56+00:00",
          "2025-01-24T18:26:57+00:00",
          "2025-01-24T19:56:56+00:00",
          "2025-01-24T21:26:56+00:00",
          "2025-01-25T00:26:56+00:00",
          "2025-01-25T00:56:56+00:00",
          "2025-01-25T01:26:56+00:00",
          "2025-01-25T01:56:55+00:00",
          "2025-01-25T02:26:56+00:00",
          "2025-01-25T02:56:56+00:00",
          "2025-01-25T04:56:56+00:00",
          "2025-01-25T05:26:55+00:00",
          "2025-01-25T05:56:56+00:00",
          "2025-01-25T06:26:55+00:00",
          "2025-01-25T06:56:56+00:00",
          "2025-01-25T07:26:56+00:00",
          "2025-01-25T07:56:56+00:00"
         ],
         "xaxis": "x",
         "y": [
          -191,
          -191,
          0,
          -702,
          -529,
          0,
          0,
          0,
          0,
          -191,
          -529,
          -529,
          0,
          -191,
          -191,
          -702,
          0,
          0,
          -529,
          -529,
          -191,
          0,
          -191,
          191,
          -511,
          -511,
          191,
          191,
          0,
          191,
          -338,
          -511,
          191,
          0,
          -511,
          0,
          191,
          191,
          -338,
          191,
          -173,
          0,
          338,
          529,
          0,
          529,
          0,
          0,
          529,
          -173,
          338,
          338,
          0,
          0,
          529,
          338,
          -173,
          -173,
          0,
          -173,
          0,
          173,
          511,
          173,
          null,
          511,
          702,
          702,
          173,
          0,
          511,
          173,
          173,
          173
         ],
         "yaxis": "y"
        },
        {
         "hovertemplate": "Anime Title=Ginga Eiyuu Densetsu<br>Timestamp=%{x}<br>Change in Members=%{y}<extra></extra>",
         "legendgroup": "Ginga Eiyuu Densetsu",
         "line": {
          "color": "#FFA15A",
          "dash": "solid"
         },
         "marker": {
          "symbol": "circle"
         },
         "mode": "lines",
         "name": "Ginga Eiyuu Densetsu",
         "showlegend": true,
         "type": "scattergl",
         "x": [
          "2025-01-22T08:19:01+00:00",
          "2025-01-22T08:20:01+00:00",
          "2025-01-22T08:21:01+00:00",
          "2025-01-22T08:24:01+00:00",
          "2025-01-22T08:26:52+00:00",
          "2025-01-22T08:27:18+00:00",
          "2025-01-22T08:28:18+00:00",
          "2025-01-22T08:29:30+00:00",
          "2025-01-22T08:31:18+00:00",
          "2025-01-22T08:35:18+00:00",
          "2025-01-22T08:38:18+00:00",
          "2025-01-22T09:26:56+00:00",
          "2025-01-22T10:26:56+00:00",
          "2025-01-22T12:26:56+00:00",
          "2025-01-22T12:56:56+00:00",
          "2025-01-22T15:56:57+00:00",
          "2025-01-22T16:26:56+00:00",
          "2025-01-22T16:56:56+00:00",
          "2025-01-22T18:56:56+00:00",
          "2025-01-22T20:26:56+00:00",
          "2025-01-22T22:56:56+00:00",
          "2025-01-22T23:26:56+00:00",
          "2025-01-22T23:56:56+00:00",
          "2025-01-23T00:26:57+00:00",
          "2025-01-23T00:56:56+00:00",
          "2025-01-23T01:56:56+00:00",
          "2025-01-23T03:56:56+00:00",
          "2025-01-23T05:26:55+00:00",
          "2025-01-23T07:26:56+00:00",
          "2025-01-23T10:26:56+00:00",
          "2025-01-23T12:26:56+00:00",
          "2025-01-23T13:26:56+00:00",
          "2025-01-23T13:56:56+00:00",
          "2025-01-23T15:26:56+00:00",
          "2025-01-23T17:26:56+00:00",
          "2025-01-23T20:26:56+00:00",
          "2025-01-23T20:56:56+00:00",
          "2025-01-23T21:26:56+00:00",
          "2025-01-23T21:56:56+00:00",
          "2025-01-23T22:56:56+00:00",
          "2025-01-24T00:56:56+00:00",
          "2025-01-24T02:56:56+00:00",
          "2025-01-24T03:56:56+00:00",
          "2025-01-24T04:26:56+00:00",
          "2025-01-24T05:26:56+00:00",
          "2025-01-24T06:26:56+00:00",
          "2025-01-24T07:26:56+00:00",
          "2025-01-24T07:56:55+00:00",
          "2025-01-24T08:56:56+00:00",
          "2025-01-24T09:56:56+00:00",
          "2025-01-24T10:26:56+00:00",
          "2025-01-24T10:56:56+00:00",
          "2025-01-24T12:56:56+00:00",
          "2025-01-24T13:56:56+00:00",
          "2025-01-24T14:26:56+00:00",
          "2025-01-24T14:56:56+00:00",
          "2025-01-24T16:26:56+00:00",
          "2025-01-24T17:56:56+00:00",
          "2025-01-24T18:26:57+00:00",
          "2025-01-24T19:56:56+00:00",
          "2025-01-24T21:26:56+00:00",
          "2025-01-25T00:26:56+00:00",
          "2025-01-25T00:56:56+00:00",
          "2025-01-25T01:26:56+00:00",
          "2025-01-25T01:56:55+00:00",
          "2025-01-25T02:26:56+00:00",
          "2025-01-25T02:56:56+00:00",
          "2025-01-25T04:56:56+00:00",
          "2025-01-25T05:26:55+00:00",
          "2025-01-25T05:56:56+00:00",
          "2025-01-25T06:26:55+00:00",
          "2025-01-25T06:56:56+00:00",
          "2025-01-25T07:26:56+00:00",
          "2025-01-25T07:56:56+00:00"
         ],
         "xaxis": "x",
         "y": [
          -69,
          -43,
          -43,
          -142,
          -69,
          0,
          -43,
          0,
          -43,
          -43,
          -69,
          -142,
          0,
          -26,
          -26,
          -99,
          0,
          43,
          -99,
          -26,
          -26,
          43,
          0,
          43,
          -99,
          -99,
          43,
          43,
          -26,
          0,
          -73,
          -73,
          69,
          0,
          -73,
          0,
          26,
          26,
          -73,
          69,
          -73,
          -73,
          26,
          69,
          -73,
          69,
          0,
          0,
          69,
          -73,
          0,
          73,
          73,
          0,
          99,
          99,
          0,
          0,
          73,
          0,
          73,
          73,
          99,
          73,
          null,
          73,
          99,
          99,
          73,
          0,
          99,
          0,
          0,
          0
         ],
         "yaxis": "y"
        },
        {
         "hovertemplate": "Anime Title=Gintama': Enchousen<br>Timestamp=%{x}<br>Change in Members=%{y}<extra></extra>",
         "legendgroup": "Gintama': Enchousen",
         "line": {
          "color": "#19d3f3",
          "dash": "solid"
         },
         "marker": {
          "symbol": "circle"
         },
         "mode": "lines",
         "name": "Gintama': Enchousen",
         "showlegend": true,
         "type": "scattergl",
         "x": [
          "2025-01-22T08:19:01+00:00",
          "2025-01-22T08:20:01+00:00",
          "2025-01-22T08:21:01+00:00",
          "2025-01-22T08:24:01+00:00",
          "2025-01-22T08:26:52+00:00",
          "2025-01-22T08:27:18+00:00",
          "2025-01-22T08:28:18+00:00",
          "2025-01-22T08:29:30+00:00",
          "2025-01-22T08:31:18+00:00",
          "2025-01-22T08:35:18+00:00",
          "2025-01-22T08:38:18+00:00",
          "2025-01-22T09:26:56+00:00",
          "2025-01-22T10:26:56+00:00",
          "2025-01-22T12:26:56+00:00",
          "2025-01-22T12:56:56+00:00",
          "2025-01-22T15:56:57+00:00",
          "2025-01-22T16:26:56+00:00",
          "2025-01-22T16:56:56+00:00",
          "2025-01-22T18:56:56+00:00",
          "2025-01-22T20:26:56+00:00",
          "2025-01-22T22:56:56+00:00",
          "2025-01-22T23:26:56+00:00",
          "2025-01-22T23:56:56+00:00",
          "2025-01-23T00:26:57+00:00",
          "2025-01-23T00:56:56+00:00",
          "2025-01-23T01:56:56+00:00",
          "2025-01-23T03:56:56+00:00",
          "2025-01-23T05:26:55+00:00",
          "2025-01-23T07:26:56+00:00",
          "2025-01-23T10:26:56+00:00",
          "2025-01-23T12:26:56+00:00",
          "2025-01-23T13:26:56+00:00",
          "2025-01-23T13:56:56+00:00",
          "2025-01-23T15:26:56+00:00",
          "2025-01-23T17:26:56+00:00",
          "2025-01-23T20:26:56+00:00",
          "2025-01-23T20:56:56+00:00",
          "2025-01-23T21:26:56+00:00",
          "2025-01-23T21:56:56+00:00",
          "2025-01-23T22:56:56+00:00",
          "2025-01-24T00:56:56+00:00",
          "2025-01-24T02:56:56+00:00",
          "2025-01-24T03:56:56+00:00",
          "2025-01-24T04:26:56+00:00",
          "2025-01-24T05:26:56+00:00",
          "2025-01-24T06:26:56+00:00",
          "2025-01-24T07:26:56+00:00",
          "2025-01-24T07:56:55+00:00",
          "2025-01-24T08:56:56+00:00",
          "2025-01-24T09:56:56+00:00",
          "2025-01-24T10:26:56+00:00",
          "2025-01-24T10:56:56+00:00",
          "2025-01-24T12:56:56+00:00",
          "2025-01-24T13:56:56+00:00",
          "2025-01-24T14:26:56+00:00",
          "2025-01-24T14:56:56+00:00",
          "2025-01-24T16:26:56+00:00",
          "2025-01-24T17:56:56+00:00",
          "2025-01-24T18:26:57+00:00",
          "2025-01-24T19:56:56+00:00",
          "2025-01-24T21:26:56+00:00",
          "2025-01-25T00:26:56+00:00",
          "2025-01-25T00:56:56+00:00",
          "2025-01-25T01:26:56+00:00",
          "2025-01-25T01:56:55+00:00",
          "2025-01-25T02:26:56+00:00",
          "2025-01-25T02:56:56+00:00",
          "2025-01-25T04:56:56+00:00",
          "2025-01-25T05:26:55+00:00",
          "2025-01-25T05:56:56+00:00",
          "2025-01-25T06:26:55+00:00",
          "2025-01-25T06:56:56+00:00",
          "2025-01-25T07:26:56+00:00",
          "2025-01-25T07:56:56+00:00"
         ],
         "xaxis": "x",
         "y": [
          -34,
          -34,
          0,
          -109,
          -61,
          0,
          -34,
          0,
          -34,
          -34,
          -61,
          -109,
          -34,
          -34,
          -61,
          -75,
          0,
          34,
          -75,
          -27,
          -27,
          34,
          0,
          34,
          -75,
          -75,
          34,
          34,
          0,
          0,
          -27,
          -75,
          34,
          -27,
          -48,
          27,
          27,
          27,
          0,
          61,
          -48,
          -48,
          27,
          61,
          0,
          61,
          0,
          0,
          61,
          -48,
          0,
          0,
          0,
          -48,
          61,
          27,
          -48,
          0,
          48,
          0,
          48,
          48,
          75,
          48,
          null,
          48,
          75,
          109,
          48,
          0,
          75,
          48,
          48,
          48
         ],
         "yaxis": "y"
        },
        {
         "hovertemplate": "Anime Title=Hunter x Hunter (2011)<br>Timestamp=%{x}<br>Change in Members=%{y}<extra></extra>",
         "legendgroup": "Hunter x Hunter (2011)",
         "line": {
          "color": "#FF6692",
          "dash": "solid"
         },
         "marker": {
          "symbol": "circle"
         },
         "mode": "lines",
         "name": "Hunter x Hunter (2011)",
         "showlegend": true,
         "type": "scattergl",
         "x": [
          "2025-01-22T08:19:01+00:00",
          "2025-01-22T08:20:01+00:00",
          "2025-01-22T08:21:01+00:00",
          "2025-01-22T08:24:01+00:00",
          "2025-01-22T08:26:52+00:00",
          "2025-01-22T08:27:18+00:00",
          "2025-01-22T08:28:18+00:00",
          "2025-01-22T08:29:30+00:00",
          "2025-01-22T08:31:18+00:00",
          "2025-01-22T08:35:18+00:00",
          "2025-01-22T08:38:18+00:00",
          "2025-01-22T09:26:56+00:00",
          "2025-01-22T10:26:56+00:00",
          "2025-01-22T12:26:56+00:00",
          "2025-01-22T12:56:56+00:00",
          "2025-01-22T15:56:57+00:00",
          "2025-01-22T16:26:56+00:00",
          "2025-01-22T16:56:56+00:00",
          "2025-01-22T18:56:56+00:00",
          "2025-01-22T20:26:56+00:00",
          "2025-01-22T22:56:56+00:00",
          "2025-01-22T23:26:56+00:00",
          "2025-01-22T23:56:56+00:00",
          "2025-01-23T00:26:57+00:00",
          "2025-01-23T00:56:56+00:00",
          "2025-01-23T01:56:56+00:00",
          "2025-01-23T03:56:56+00:00",
          "2025-01-23T05:26:55+00:00",
          "2025-01-23T07:26:56+00:00",
          "2025-01-23T10:26:56+00:00",
          "2025-01-23T12:26:56+00:00",
          "2025-01-23T13:26:56+00:00",
          "2025-01-23T13:56:56+00:00",
          "2025-01-23T15:26:56+00:00",
          "2025-01-23T17:26:56+00:00",
          "2025-01-23T20:26:56+00:00",
          "2025-01-23T20:56:56+00:00",
          "2025-01-23T21:26:56+00:00",
          "2025-01-23T21:56:56+00:00",
          "2025-01-23T22:56:56+00:00",
          "2025-01-24T00:56:56+00:00",
          "2025-01-24T02:56:56+00:00",
          "2025-01-24T03:56:56+00:00",
          "2025-01-24T04:26:56+00:00",
          "2025-01-24T05:26:56+00:00",
          "2025-01-24T06:26:56+00:00",
          "2025-01-24T07:26:56+00:00",
          "2025-01-24T07:56:55+00:00",
          "2025-01-24T08:56:56+00:00",
          "2025-01-24T09:56:56+00:00",
          "2025-01-24T10:26:56+00:00",
          "2025-01-24T10:56:56+00:00",
          "2025-01-24T12:56:56+00:00",
          "2025-01-24T13:56:56+00:00",
          "2025-01-24T14:26:56+00:00",
          "2025-01-24T14:56:56+00:00",
          "2025-01-24T16:26:56+00:00",
          "2025-01-24T17:56:56+00:00",
          "2025-01-24T18:26:57+00:00",
          "2025-01-24T19:56:56+00:00",
          "2025-01-24T21:26:56+00:00",
          "2025-01-25T00:26:56+00:00",
          "2025-01-25T00:56:56+00:00",
          "2025-01-25T01:26:56+00:00",
          "2025-01-25T01:56:55+00:00",
          "2025-01-25T02:26:56+00:00",
          "2025-01-25T02:56:56+00:00",
          "2025-01-25T04:56:56+00:00",
          "2025-01-25T05:26:55+00:00",
          "2025-01-25T05:56:56+00:00",
          "2025-01-25T06:26:55+00:00",
          "2025-01-25T06:56:56+00:00",
          "2025-01-25T07:26:56+00:00",
          "2025-01-25T07:56:56+00:00"
         ],
         "xaxis": "x",
         "y": [
          -604,
          -604,
          0,
          -1374,
          -998,
          0,
          -604,
          0,
          -604,
          -604,
          -998,
          -1374,
          -604,
          -998,
          -998,
          -770,
          0,
          604,
          -770,
          -394,
          -394,
          604,
          0,
          604,
          -770,
          -770,
          604,
          604,
          0,
          0,
          -770,
          -770,
          998,
          0,
          -376,
          0,
          394,
          394,
          0,
          998,
          -376,
          -376,
          394,
          998,
          -376,
          998,
          0,
          0,
          998,
          -376,
          0,
          0,
          0,
          0,
          1374,
          770,
          0,
          0,
          376,
          0,
          376,
          376,
          770,
          376,
          null,
          376,
          770,
          1374,
          376,
          0,
          770,
          0,
          376,
          0
         ],
         "yaxis": "y"
        },
        {
         "hovertemplate": "Anime Title=Gintama'<br>Timestamp=%{x}<br>Change in Members=%{y}<extra></extra>",
         "legendgroup": "Gintama'",
         "line": {
          "color": "#B6E880",
          "dash": "solid"
         },
         "marker": {
          "symbol": "circle"
         },
         "mode": "lines",
         "name": "Gintama'",
         "showlegend": true,
         "type": "scattergl",
         "x": [
          "2025-01-22T08:19:01+00:00",
          "2025-01-22T08:20:01+00:00",
          "2025-01-22T08:21:01+00:00",
          "2025-01-22T08:24:01+00:00",
          "2025-01-22T08:26:52+00:00",
          "2025-01-22T08:27:18+00:00",
          "2025-01-22T08:28:18+00:00",
          "2025-01-22T08:29:30+00:00",
          "2025-01-22T08:31:18+00:00",
          "2025-01-22T08:35:18+00:00",
          "2025-01-22T08:38:18+00:00",
          "2025-01-22T09:26:56+00:00",
          "2025-01-22T10:26:56+00:00",
          "2025-01-22T12:26:56+00:00",
          "2025-01-22T12:56:56+00:00",
          "2025-01-22T15:56:57+00:00",
          "2025-01-22T16:26:56+00:00",
          "2025-01-22T16:56:56+00:00",
          "2025-01-22T18:56:56+00:00",
          "2025-01-22T20:26:56+00:00",
          "2025-01-22T22:56:56+00:00",
          "2025-01-22T23:26:56+00:00",
          "2025-01-22T23:56:56+00:00",
          "2025-01-23T00:26:57+00:00",
          "2025-01-23T00:56:56+00:00",
          "2025-01-23T01:56:56+00:00",
          "2025-01-23T03:56:56+00:00",
          "2025-01-23T05:26:55+00:00",
          "2025-01-23T07:26:56+00:00",
          "2025-01-23T10:26:56+00:00",
          "2025-01-23T12:26:56+00:00",
          "2025-01-23T13:26:56+00:00",
          "2025-01-23T13:56:56+00:00",
          "2025-01-23T15:26:56+00:00",
          "2025-01-23T17:26:56+00:00",
          "2025-01-23T20:26:56+00:00",
          "2025-01-23T20:56:56+00:00",
          "2025-01-23T21:26:56+00:00",
          "2025-01-23T21:56:56+00:00",
          "2025-01-23T22:56:56+00:00",
          "2025-01-24T00:56:56+00:00",
          "2025-01-24T02:56:56+00:00",
          "2025-01-24T03:56:56+00:00",
          "2025-01-24T04:26:56+00:00",
          "2025-01-24T05:26:56+00:00",
          "2025-01-24T06:26:56+00:00",
          "2025-01-24T07:26:56+00:00",
          "2025-01-24T07:56:55+00:00",
          "2025-01-24T08:56:56+00:00",
          "2025-01-24T09:56:56+00:00",
          "2025-01-24T10:26:56+00:00",
          "2025-01-24T10:56:56+00:00",
          "2025-01-24T12:56:56+00:00",
          "2025-01-24T13:56:56+00:00",
          "2025-01-24T14:26:56+00:00",
          "2025-01-24T14:56:56+00:00",
          "2025-01-24T16:26:56+00:00",
          "2025-01-24T17:56:56+00:00",
          "2025-01-24T18:26:57+00:00",
          "2025-01-24T19:56:56+00:00",
          "2025-01-24T21:26:56+00:00",
          "2025-01-25T00:26:56+00:00",
          "2025-01-25T00:56:56+00:00",
          "2025-01-25T01:26:56+00:00",
          "2025-01-25T01:56:55+00:00",
          "2025-01-25T02:26:56+00:00",
          "2025-01-25T02:56:56+00:00",
          "2025-01-25T04:56:56+00:00",
          "2025-01-25T05:26:55+00:00",
          "2025-01-25T05:56:56+00:00",
          "2025-01-25T06:26:55+00:00",
          "2025-01-25T06:56:56+00:00",
          "2025-01-25T07:26:56+00:00",
          "2025-01-25T07:56:56+00:00"
         ],
         "xaxis": "x",
         "y": [
          -88,
          -88,
          0,
          -235,
          -167,
          0,
          0,
          0,
          0,
          -88,
          -167,
          -235,
          -88,
          -88,
          -88,
          -235,
          -88,
          0,
          -79,
          -79,
          -79,
          88,
          0,
          88,
          -147,
          -147,
          88,
          88,
          0,
          0,
          -79,
          -147,
          88,
          -79,
          -147,
          79,
          167,
          79,
          0,
          167,
          -68,
          0,
          79,
          167,
          0,
          167,
          0,
          0,
          167,
          -68,
          0,
          0,
          0,
          -68,
          167,
          79,
          -68,
          -68,
          0,
          0,
          68,
          68,
          147,
          68,
          null,
          68,
          147,
          235,
          68,
          0,
          147,
          68,
          68,
          68
         ],
         "yaxis": "y"
        },
        {
         "hovertemplate": "Anime Title=Gintama: The Final<br>Timestamp=%{x}<br>Change in Members=%{y}<extra></extra>",
         "legendgroup": "Gintama: The Final",
         "line": {
          "color": "#FF97FF",
          "dash": "solid"
         },
         "marker": {
          "symbol": "circle"
         },
         "mode": "lines",
         "name": "Gintama: The Final",
         "showlegend": true,
         "type": "scattergl",
         "x": [
          "2025-01-22T08:19:01+00:00",
          "2025-01-22T08:20:01+00:00",
          "2025-01-22T08:21:01+00:00",
          "2025-01-22T08:24:01+00:00",
          "2025-01-22T08:26:52+00:00",
          "2025-01-22T08:27:18+00:00",
          "2025-01-22T08:28:18+00:00",
          "2025-01-22T08:29:30+00:00",
          "2025-01-22T08:31:18+00:00",
          "2025-01-22T08:35:18+00:00",
          "2025-01-22T08:38:18+00:00",
          "2025-01-22T09:26:56+00:00",
          "2025-01-22T10:26:56+00:00",
          "2025-01-22T12:26:56+00:00",
          "2025-01-22T12:56:56+00:00",
          "2025-01-22T15:56:57+00:00",
          "2025-01-22T16:26:56+00:00",
          "2025-01-22T16:56:56+00:00",
          "2025-01-22T18:56:56+00:00",
          "2025-01-22T20:26:56+00:00",
          "2025-01-22T22:56:56+00:00",
          "2025-01-22T23:26:56+00:00",
          "2025-01-22T23:56:56+00:00",
          "2025-01-23T00:26:57+00:00",
          "2025-01-23T00:56:56+00:00",
          "2025-01-23T01:56:56+00:00",
          "2025-01-23T03:56:56+00:00",
          "2025-01-23T05:26:55+00:00",
          "2025-01-23T07:26:56+00:00",
          "2025-01-23T10:26:56+00:00",
          "2025-01-23T12:26:56+00:00",
          "2025-01-23T13:26:56+00:00",
          "2025-01-23T13:56:56+00:00",
          "2025-01-23T15:26:56+00:00",
          "2025-01-23T17:26:56+00:00",
          "2025-01-23T20:26:56+00:00",
          "2025-01-23T20:56:56+00:00",
          "2025-01-23T21:26:56+00:00",
          "2025-01-23T21:56:56+00:00",
          "2025-01-23T22:56:56+00:00",
          "2025-01-24T00:56:56+00:00",
          "2025-01-24T02:56:56+00:00",
          "2025-01-24T03:56:56+00:00",
          "2025-01-24T04:26:56+00:00",
          "2025-01-24T05:26:56+00:00",
          "2025-01-24T06:26:56+00:00",
          "2025-01-24T07:26:56+00:00",
          "2025-01-24T07:56:55+00:00",
          "2025-01-24T08:56:56+00:00",
          "2025-01-24T09:56:56+00:00",
          "2025-01-24T10:26:56+00:00",
          "2025-01-24T10:56:56+00:00",
          "2025-01-24T12:56:56+00:00",
          "2025-01-24T13:56:56+00:00",
          "2025-01-24T14:26:56+00:00",
          "2025-01-24T14:56:56+00:00",
          "2025-01-24T16:26:56+00:00",
          "2025-01-24T17:56:56+00:00",
          "2025-01-24T18:26:57+00:00",
          "2025-01-24T19:56:56+00:00",
          "2025-01-24T21:26:56+00:00",
          "2025-01-25T00:26:56+00:00",
          "2025-01-25T00:56:56+00:00",
          "2025-01-25T01:26:56+00:00",
          "2025-01-25T01:56:55+00:00",
          "2025-01-25T02:26:56+00:00",
          "2025-01-25T02:56:56+00:00",
          "2025-01-25T04:56:56+00:00",
          "2025-01-25T05:26:55+00:00",
          "2025-01-25T05:56:56+00:00",
          "2025-01-25T06:26:55+00:00",
          "2025-01-25T06:56:56+00:00",
          "2025-01-25T07:26:56+00:00",
          "2025-01-25T07:56:56+00:00"
         ],
         "xaxis": "x",
         "y": [
          -47,
          -47,
          0,
          -125,
          -77,
          0,
          -47,
          0,
          -47,
          -47,
          -77,
          -125,
          -47,
          -77,
          -30,
          -78,
          0,
          47,
          -78,
          -30,
          -30,
          47,
          0,
          47,
          -78,
          -78,
          47,
          47,
          0,
          0,
          -78,
          -78,
          77,
          0,
          -48,
          0,
          30,
          30,
          0,
          77,
          -48,
          -48,
          30,
          77,
          -48,
          77,
          0,
          0,
          77,
          -48,
          0,
          0,
          0,
          0,
          78,
          78,
          0,
          0,
          48,
          0,
          48,
          48,
          78,
          48,
          null,
          48,
          78,
          125,
          48,
          0,
          78,
          0,
          48,
          0
         ],
         "yaxis": "y"
        },
        {
         "hovertemplate": "Anime Title=Gintama°<br>Timestamp=%{x}<br>Change in Members=%{y}<extra></extra>",
         "legendgroup": "Gintama°",
         "line": {
          "color": "#FECB52",
          "dash": "solid"
         },
         "marker": {
          "symbol": "circle"
         },
         "mode": "lines",
         "name": "Gintama°",
         "showlegend": true,
         "type": "scattergl",
         "x": [
          "2025-01-22T08:19:01+00:00",
          "2025-01-22T08:20:01+00:00",
          "2025-01-22T08:21:01+00:00",
          "2025-01-22T08:24:01+00:00",
          "2025-01-22T08:26:52+00:00",
          "2025-01-22T08:27:18+00:00",
          "2025-01-22T08:28:18+00:00",
          "2025-01-22T08:29:30+00:00",
          "2025-01-22T08:31:18+00:00",
          "2025-01-22T08:35:18+00:00",
          "2025-01-22T08:38:18+00:00",
          "2025-01-22T09:26:56+00:00",
          "2025-01-22T10:26:56+00:00",
          "2025-01-22T12:26:56+00:00",
          "2025-01-22T12:56:56+00:00",
          "2025-01-22T15:56:57+00:00",
          "2025-01-22T16:26:56+00:00",
          "2025-01-22T16:56:56+00:00",
          "2025-01-22T18:56:56+00:00",
          "2025-01-22T20:26:56+00:00",
          "2025-01-22T22:56:56+00:00",
          "2025-01-22T23:26:56+00:00",
          "2025-01-22T23:56:56+00:00",
          "2025-01-23T00:26:57+00:00",
          "2025-01-23T00:56:56+00:00",
          "2025-01-23T01:56:56+00:00",
          "2025-01-23T03:56:56+00:00",
          "2025-01-23T05:26:55+00:00",
          "2025-01-23T07:26:56+00:00",
          "2025-01-23T10:26:56+00:00",
          "2025-01-23T12:26:56+00:00",
          "2025-01-23T13:26:56+00:00",
          "2025-01-23T13:56:56+00:00",
          "2025-01-23T15:26:56+00:00",
          "2025-01-23T17:26:56+00:00",
          "2025-01-23T20:26:56+00:00",
          "2025-01-23T20:56:56+00:00",
          "2025-01-23T21:26:56+00:00",
          "2025-01-23T21:56:56+00:00",
          "2025-01-23T22:56:56+00:00",
          "2025-01-24T00:56:56+00:00",
          "2025-01-24T02:56:56+00:00",
          "2025-01-24T03:56:56+00:00",
          "2025-01-24T04:26:56+00:00",
          "2025-01-24T05:26:56+00:00",
          "2025-01-24T06:26:56+00:00",
          "2025-01-24T07:26:56+00:00",
          "2025-01-24T07:56:55+00:00",
          "2025-01-24T08:56:56+00:00",
          "2025-01-24T09:56:56+00:00",
          "2025-01-24T10:26:56+00:00",
          "2025-01-24T10:56:56+00:00",
          "2025-01-24T12:56:56+00:00",
          "2025-01-24T13:56:56+00:00",
          "2025-01-24T14:26:56+00:00",
          "2025-01-24T14:56:56+00:00",
          "2025-01-24T16:26:56+00:00",
          "2025-01-24T17:56:56+00:00",
          "2025-01-24T18:26:57+00:00",
          "2025-01-24T19:56:56+00:00",
          "2025-01-24T21:26:56+00:00",
          "2025-01-25T00:26:56+00:00",
          "2025-01-25T00:56:56+00:00",
          "2025-01-25T01:26:56+00:00",
          "2025-01-25T01:56:55+00:00",
          "2025-01-25T02:26:56+00:00",
          "2025-01-25T02:56:56+00:00",
          "2025-01-25T04:56:56+00:00",
          "2025-01-25T05:26:55+00:00",
          "2025-01-25T05:56:56+00:00",
          "2025-01-25T06:26:55+00:00",
          "2025-01-25T06:56:56+00:00",
          "2025-01-25T07:26:56+00:00",
          "2025-01-25T07:56:56+00:00"
         ],
         "xaxis": "x",
         "y": [
          -94,
          -94,
          0,
          -148,
          -148,
          0,
          0,
          0,
          0,
          0,
          -148,
          -148,
          0,
          -94,
          -94,
          -214,
          0,
          0,
          -148,
          -148,
          -94,
          0,
          -94,
          0,
          -214,
          -120,
          94,
          94,
          0,
          94,
          -54,
          -54,
          94,
          0,
          -120,
          0,
          94,
          94,
          -54,
          94,
          -120,
          0,
          54,
          148,
          0,
          148,
          0,
          0,
          148,
          -66,
          54,
          54,
          0,
          0,
          148,
          54,
          0,
          0,
          54,
          -66,
          0,
          0,
          148,
          0,
          null,
          54,
          214,
          214,
          66,
          66,
          120,
          66,
          66,
          66
         ],
         "yaxis": "y"
        },
        {
         "hovertemplate": "Anime Title=Shingeki no Kyojin Season 3 Part 2<br>Timestamp=%{x}<br>Change in Members=%{y}<extra></extra>",
         "legendgroup": "Shingeki no Kyojin Season 3 Part 2",
         "line": {
          "color": "#636efa",
          "dash": "solid"
         },
         "marker": {
          "symbol": "circle"
         },
         "mode": "lines",
         "name": "Shingeki no Kyojin Season 3 Part 2",
         "showlegend": true,
         "type": "scattergl",
         "x": [
          "2025-01-22T08:19:01+00:00",
          "2025-01-22T08:20:01+00:00",
          "2025-01-22T08:21:01+00:00",
          "2025-01-22T08:24:01+00:00",
          "2025-01-22T08:26:52+00:00",
          "2025-01-22T08:27:18+00:00",
          "2025-01-22T08:28:18+00:00",
          "2025-01-22T08:29:30+00:00",
          "2025-01-22T08:31:18+00:00",
          "2025-01-22T08:35:18+00:00",
          "2025-01-22T08:38:18+00:00",
          "2025-01-22T09:26:56+00:00",
          "2025-01-22T10:26:56+00:00",
          "2025-01-22T12:26:56+00:00",
          "2025-01-22T12:56:56+00:00",
          "2025-01-22T15:56:57+00:00",
          "2025-01-22T16:26:56+00:00",
          "2025-01-22T16:56:56+00:00",
          "2025-01-22T18:56:56+00:00",
          "2025-01-22T20:26:56+00:00",
          "2025-01-22T22:56:56+00:00",
          "2025-01-22T23:26:56+00:00",
          "2025-01-22T23:56:56+00:00",
          "2025-01-23T00:26:57+00:00",
          "2025-01-23T00:56:56+00:00",
          "2025-01-23T01:56:56+00:00",
          "2025-01-23T03:56:56+00:00",
          "2025-01-23T05:26:55+00:00",
          "2025-01-23T07:26:56+00:00",
          "2025-01-23T10:26:56+00:00",
          "2025-01-23T12:26:56+00:00",
          "2025-01-23T13:26:56+00:00",
          "2025-01-23T13:56:56+00:00",
          "2025-01-23T15:26:56+00:00",
          "2025-01-23T17:26:56+00:00",
          "2025-01-23T20:26:56+00:00",
          "2025-01-23T20:56:56+00:00",
          "2025-01-23T21:26:56+00:00",
          "2025-01-23T21:56:56+00:00",
          "2025-01-23T22:56:56+00:00",
          "2025-01-24T00:56:56+00:00",
          "2025-01-24T02:56:56+00:00",
          "2025-01-24T03:56:56+00:00",
          "2025-01-24T04:26:56+00:00",
          "2025-01-24T05:26:56+00:00",
          "2025-01-24T06:26:56+00:00",
          "2025-01-24T07:26:56+00:00",
          "2025-01-24T07:56:55+00:00",
          "2025-01-24T08:56:56+00:00",
          "2025-01-24T09:56:56+00:00",
          "2025-01-24T10:26:56+00:00",
          "2025-01-24T10:56:56+00:00",
          "2025-01-24T12:56:56+00:00",
          "2025-01-24T13:56:56+00:00",
          "2025-01-24T14:26:56+00:00",
          "2025-01-24T14:56:56+00:00",
          "2025-01-24T16:26:56+00:00",
          "2025-01-24T17:56:56+00:00",
          "2025-01-24T18:26:57+00:00",
          "2025-01-24T19:56:56+00:00",
          "2025-01-24T21:26:56+00:00",
          "2025-01-25T00:26:56+00:00",
          "2025-01-25T00:56:56+00:00",
          "2025-01-25T01:26:56+00:00",
          "2025-01-25T01:56:55+00:00",
          "2025-01-25T02:26:56+00:00",
          "2025-01-25T02:56:56+00:00",
          "2025-01-25T04:56:56+00:00",
          "2025-01-25T05:26:55+00:00",
          "2025-01-25T05:56:56+00:00",
          "2025-01-25T06:26:55+00:00",
          "2025-01-25T06:56:56+00:00",
          "2025-01-25T07:26:56+00:00",
          "2025-01-25T07:56:56+00:00"
         ],
         "xaxis": "x",
         "y": [
          -510,
          0,
          0,
          -844,
          -510,
          0,
          0,
          0,
          0,
          0,
          -844,
          -844,
          0,
          -510,
          -510,
          -1172,
          0,
          0,
          -844,
          -844,
          -510,
          0,
          -510,
          0,
          -1172,
          -1172,
          510,
          510,
          0,
          510,
          -334,
          -334,
          510,
          0,
          -662,
          0,
          510,
          510,
          -334,
          510,
          -662,
          -334,
          0,
          844,
          0,
          844,
          0,
          0,
          844,
          0,
          334,
          334,
          334,
          0,
          844,
          334,
          0,
          0,
          334,
          -328,
          0,
          0,
          844,
          0,
          null,
          334,
          844,
          1172,
          328,
          328,
          662,
          328,
          328,
          328
         ],
         "yaxis": "y"
        },
        {
         "hovertemplate": "Anime Title=Fruits Basket: The Final<br>Timestamp=%{x}<br>Change in Members=%{y}<extra></extra>",
         "legendgroup": "Fruits Basket: The Final",
         "line": {
          "color": "#EF553B",
          "dash": "solid"
         },
         "marker": {
          "symbol": "circle"
         },
         "mode": "lines",
         "name": "Fruits Basket: The Final",
         "showlegend": true,
         "type": "scattergl",
         "x": [
          "2025-01-22T08:19:01+00:00",
          "2025-01-22T08:20:01+00:00",
          "2025-01-22T08:21:01+00:00",
          "2025-01-22T08:24:01+00:00",
          "2025-01-22T08:26:52+00:00",
          "2025-01-22T08:27:18+00:00",
          "2025-01-22T08:28:18+00:00",
          "2025-01-22T08:29:30+00:00",
          "2025-01-22T08:31:18+00:00",
          "2025-01-22T08:35:18+00:00",
          "2025-01-22T08:38:18+00:00",
          "2025-01-22T09:26:56+00:00",
          "2025-01-22T10:26:56+00:00",
          "2025-01-22T12:26:56+00:00",
          "2025-01-22T12:56:56+00:00",
          "2025-01-22T15:56:57+00:00",
          "2025-01-22T16:26:56+00:00",
          "2025-01-22T16:56:56+00:00",
          "2025-01-22T18:56:56+00:00",
          "2025-01-22T20:26:56+00:00",
          "2025-01-22T22:56:56+00:00",
          "2025-01-22T23:26:56+00:00",
          "2025-01-22T23:56:56+00:00",
          "2025-01-23T00:26:57+00:00",
          "2025-01-23T00:56:56+00:00",
          "2025-01-23T01:56:56+00:00",
          "2025-01-23T03:56:56+00:00",
          "2025-01-23T05:26:55+00:00",
          "2025-01-23T07:26:56+00:00",
          "2025-01-23T10:26:56+00:00",
          "2025-01-23T12:26:56+00:00",
          "2025-01-23T13:26:56+00:00",
          "2025-01-23T13:56:56+00:00",
          "2025-01-23T15:26:56+00:00",
          "2025-01-23T17:26:56+00:00",
          "2025-01-23T20:26:56+00:00",
          "2025-01-23T20:56:56+00:00",
          "2025-01-23T21:26:56+00:00",
          "2025-01-23T21:56:56+00:00",
          "2025-01-23T22:56:56+00:00",
          "2025-01-24T00:56:56+00:00",
          "2025-01-24T02:56:56+00:00",
          "2025-01-24T03:56:56+00:00",
          "2025-01-24T04:26:56+00:00",
          "2025-01-24T05:26:56+00:00",
          "2025-01-24T06:26:56+00:00",
          "2025-01-24T07:26:56+00:00",
          "2025-01-24T07:56:55+00:00",
          "2025-01-24T08:56:56+00:00",
          "2025-01-24T09:56:56+00:00",
          "2025-01-24T10:26:56+00:00",
          "2025-01-24T10:56:56+00:00",
          "2025-01-24T12:56:56+00:00",
          "2025-01-24T13:56:56+00:00",
          "2025-01-24T14:26:56+00:00",
          "2025-01-24T14:56:56+00:00",
          "2025-01-24T16:26:56+00:00",
          "2025-01-24T17:56:56+00:00",
          "2025-01-24T18:26:57+00:00",
          "2025-01-24T19:56:56+00:00",
          "2025-01-24T21:26:56+00:00",
          "2025-01-25T00:26:56+00:00",
          "2025-01-25T00:56:56+00:00",
          "2025-01-25T01:26:56+00:00",
          "2025-01-25T01:56:55+00:00",
          "2025-01-25T02:26:56+00:00",
          "2025-01-25T02:56:56+00:00",
          "2025-01-25T04:56:56+00:00",
          "2025-01-25T05:26:55+00:00",
          "2025-01-25T05:56:56+00:00",
          "2025-01-25T06:26:55+00:00",
          "2025-01-25T06:56:56+00:00",
          "2025-01-25T07:26:56+00:00",
          "2025-01-25T07:56:56+00:00"
         ],
         "xaxis": "x",
         "y": [
          -157,
          0,
          0,
          -261,
          -157,
          0,
          0,
          0,
          0,
          0,
          -157,
          -261,
          0,
          -157,
          -157,
          -261,
          0,
          0,
          -261,
          -157,
          -157,
          0,
          0,
          0,
          -261,
          -261,
          0,
          0,
          -157,
          157,
          -104,
          -104,
          157,
          0,
          -104,
          0,
          157,
          157,
          -104,
          157,
          -104,
          -104,
          157,
          157,
          -104,
          157,
          0,
          0,
          157,
          0,
          104,
          104,
          104,
          0,
          261,
          261,
          0,
          0,
          104,
          0,
          0,
          0,
          261,
          104,
          null,
          104,
          261,
          261,
          104,
          0,
          104,
          0,
          0,
          0
         ],
         "yaxis": "y"
        },
        {
         "hovertemplate": "Anime Title=Sousou no Frieren<br>Timestamp=%{x}<br>Change in Members=%{y}<extra></extra>",
         "legendgroup": "Sousou no Frieren",
         "line": {
          "color": "#00cc96",
          "dash": "solid"
         },
         "marker": {
          "symbol": "circle"
         },
         "mode": "lines",
         "name": "Sousou no Frieren",
         "showlegend": true,
         "type": "scattergl",
         "x": [
          "2025-01-22T08:19:01+00:00",
          "2025-01-22T08:20:01+00:00",
          "2025-01-22T08:21:01+00:00",
          "2025-01-22T08:24:01+00:00",
          "2025-01-22T08:26:52+00:00",
          "2025-01-22T08:27:18+00:00",
          "2025-01-22T08:28:18+00:00",
          "2025-01-22T08:29:30+00:00",
          "2025-01-22T08:31:18+00:00",
          "2025-01-22T08:35:18+00:00",
          "2025-01-22T08:38:18+00:00",
          "2025-01-22T09:26:56+00:00",
          "2025-01-22T10:26:56+00:00",
          "2025-01-22T12:26:56+00:00",
          "2025-01-22T12:56:56+00:00",
          "2025-01-22T15:56:57+00:00",
          "2025-01-22T16:26:56+00:00",
          "2025-01-22T16:56:56+00:00",
          "2025-01-22T18:56:56+00:00",
          "2025-01-22T20:26:56+00:00",
          "2025-01-22T22:56:56+00:00",
          "2025-01-22T23:26:56+00:00",
          "2025-01-22T23:56:56+00:00",
          "2025-01-23T00:26:57+00:00",
          "2025-01-23T00:56:56+00:00",
          "2025-01-23T01:56:56+00:00",
          "2025-01-23T03:56:56+00:00",
          "2025-01-23T05:26:55+00:00",
          "2025-01-23T07:26:56+00:00",
          "2025-01-23T10:26:56+00:00",
          "2025-01-23T12:26:56+00:00",
          "2025-01-23T13:26:56+00:00",
          "2025-01-23T13:56:56+00:00",
          "2025-01-23T15:26:56+00:00",
          "2025-01-23T17:26:56+00:00",
          "2025-01-23T20:26:56+00:00",
          "2025-01-23T20:56:56+00:00",
          "2025-01-23T21:26:56+00:00",
          "2025-01-23T21:56:56+00:00",
          "2025-01-23T22:56:56+00:00",
          "2025-01-24T00:56:56+00:00",
          "2025-01-24T02:56:56+00:00",
          "2025-01-24T03:56:56+00:00",
          "2025-01-24T04:26:56+00:00",
          "2025-01-24T05:26:56+00:00",
          "2025-01-24T06:26:56+00:00",
          "2025-01-24T07:26:56+00:00",
          "2025-01-24T07:56:55+00:00",
          "2025-01-24T08:56:56+00:00",
          "2025-01-24T09:56:56+00:00",
          "2025-01-24T10:26:56+00:00",
          "2025-01-24T10:56:56+00:00",
          "2025-01-24T12:56:56+00:00",
          "2025-01-24T13:56:56+00:00",
          "2025-01-24T14:26:56+00:00",
          "2025-01-24T14:56:56+00:00",
          "2025-01-24T16:26:56+00:00",
          "2025-01-24T17:56:56+00:00",
          "2025-01-24T18:26:57+00:00",
          "2025-01-24T19:56:56+00:00",
          "2025-01-24T21:26:56+00:00",
          "2025-01-25T00:26:56+00:00",
          "2025-01-25T00:56:56+00:00",
          "2025-01-25T01:26:56+00:00",
          "2025-01-25T01:56:55+00:00",
          "2025-01-25T02:26:56+00:00",
          "2025-01-25T02:56:56+00:00",
          "2025-01-25T04:56:56+00:00",
          "2025-01-25T05:26:55+00:00",
          "2025-01-25T05:56:56+00:00",
          "2025-01-25T06:26:55+00:00",
          "2025-01-25T06:56:56+00:00",
          "2025-01-25T07:26:56+00:00",
          "2025-01-25T07:56:56+00:00"
         ],
         "xaxis": "x",
         "y": [
          -835,
          -835,
          0,
          -2658,
          -1570,
          0,
          -835,
          0,
          -835,
          -835,
          -1570,
          -2658,
          -835,
          -1570,
          -1570,
          -1823,
          0,
          835,
          -1823,
          -735,
          -735,
          835,
          0,
          835,
          -1823,
          -1823,
          835,
          835,
          0,
          0,
          -1823,
          -1823,
          1570,
          0,
          -1088,
          0,
          735,
          735,
          0,
          1570,
          -1088,
          -1088,
          735,
          1570,
          -1088,
          1570,
          0,
          0,
          1570,
          -1088,
          0,
          0,
          0,
          0,
          2658,
          1823,
          0,
          0,
          1088,
          0,
          1088,
          1088,
          1823,
          1088,
          null,
          1088,
          1823,
          2658,
          1088,
          0,
          1823,
          0,
          1088,
          0
         ],
         "yaxis": "y"
        },
        {
         "hovertemplate": "Anime Title=Fullmetal Alchemist: Brotherhood<br>Timestamp=%{x}<br>Change in Members=%{y}<extra></extra>",
         "legendgroup": "Fullmetal Alchemist: Brotherhood",
         "line": {
          "color": "#ab63fa",
          "dash": "solid"
         },
         "marker": {
          "symbol": "circle"
         },
         "mode": "lines",
         "name": "Fullmetal Alchemist: Brotherhood",
         "showlegend": true,
         "type": "scattergl",
         "x": [
          "2025-01-22T08:19:01+00:00",
          "2025-01-22T08:20:01+00:00",
          "2025-01-22T08:21:01+00:00",
          "2025-01-22T08:24:01+00:00",
          "2025-01-22T08:26:52+00:00",
          "2025-01-22T08:27:18+00:00",
          "2025-01-22T08:28:18+00:00",
          "2025-01-22T08:29:30+00:00",
          "2025-01-22T08:31:18+00:00",
          "2025-01-22T08:35:18+00:00",
          "2025-01-22T08:38:18+00:00",
          "2025-01-22T09:26:56+00:00",
          "2025-01-22T10:26:56+00:00",
          "2025-01-22T12:26:56+00:00",
          "2025-01-22T12:56:56+00:00",
          "2025-01-22T15:56:57+00:00",
          "2025-01-22T16:26:56+00:00",
          "2025-01-22T16:56:56+00:00",
          "2025-01-22T18:56:56+00:00",
          "2025-01-22T20:26:56+00:00",
          "2025-01-22T22:56:56+00:00",
          "2025-01-22T23:26:56+00:00",
          "2025-01-22T23:56:56+00:00",
          "2025-01-23T00:26:57+00:00",
          "2025-01-23T00:56:56+00:00",
          "2025-01-23T01:56:56+00:00",
          "2025-01-23T03:56:56+00:00",
          "2025-01-23T05:26:55+00:00",
          "2025-01-23T07:26:56+00:00",
          "2025-01-23T10:26:56+00:00",
          "2025-01-23T12:26:56+00:00",
          "2025-01-23T13:26:56+00:00",
          "2025-01-23T13:56:56+00:00",
          "2025-01-23T15:26:56+00:00",
          "2025-01-23T17:26:56+00:00",
          "2025-01-23T20:26:56+00:00",
          "2025-01-23T20:56:56+00:00",
          "2025-01-23T21:26:56+00:00",
          "2025-01-23T21:56:56+00:00",
          "2025-01-23T22:56:56+00:00",
          "2025-01-24T00:56:56+00:00",
          "2025-01-24T02:56:56+00:00",
          "2025-01-24T03:56:56+00:00",
          "2025-01-24T04:26:56+00:00",
          "2025-01-24T05:26:56+00:00",
          "2025-01-24T06:26:56+00:00",
          "2025-01-24T07:26:56+00:00",
          "2025-01-24T07:56:55+00:00",
          "2025-01-24T08:56:56+00:00",
          "2025-01-24T09:56:56+00:00",
          "2025-01-24T10:26:56+00:00",
          "2025-01-24T10:56:56+00:00",
          "2025-01-24T12:56:56+00:00",
          "2025-01-24T13:56:56+00:00",
          "2025-01-24T14:26:56+00:00",
          "2025-01-24T14:56:56+00:00",
          "2025-01-24T16:26:56+00:00",
          "2025-01-24T17:56:56+00:00",
          "2025-01-24T18:26:57+00:00",
          "2025-01-24T19:56:56+00:00",
          "2025-01-24T21:26:56+00:00",
          "2025-01-25T00:26:56+00:00",
          "2025-01-25T00:56:56+00:00",
          "2025-01-25T01:26:56+00:00",
          "2025-01-25T01:56:55+00:00",
          "2025-01-25T02:26:56+00:00",
          "2025-01-25T02:56:56+00:00",
          "2025-01-25T04:56:56+00:00",
          "2025-01-25T05:26:55+00:00",
          "2025-01-25T05:56:56+00:00",
          "2025-01-25T06:26:55+00:00",
          "2025-01-25T06:56:56+00:00",
          "2025-01-25T07:26:56+00:00",
          "2025-01-25T07:56:56+00:00"
         ],
         "xaxis": "x",
         "y": [
          -384,
          -384,
          0,
          -1338,
          -789,
          0,
          -384,
          0,
          -384,
          -384,
          -789,
          -1338,
          -384,
          -384,
          -789,
          -954,
          0,
          384,
          -954,
          -405,
          -405,
          384,
          0,
          384,
          -954,
          -954,
          384,
          384,
          0,
          0,
          -405,
          -954,
          384,
          0,
          -549,
          0,
          405,
          405,
          0,
          789,
          -549,
          -549,
          405,
          789,
          0,
          789,
          0,
          0,
          789,
          -549,
          0,
          0,
          0,
          -549,
          789,
          405,
          0,
          0,
          549,
          0,
          549,
          549,
          954,
          549,
          null,
          549,
          954,
          1338,
          549,
          0,
          954,
          0,
          549,
          549
         ],
         "yaxis": "y"
        },
        {
         "hovertemplate": "Anime Title=One Piece Fan Letter<br>Timestamp=%{x}<br>Change in Members=%{y}<extra></extra>",
         "legendgroup": "One Piece Fan Letter",
         "line": {
          "color": "#FFA15A",
          "dash": "solid"
         },
         "marker": {
          "symbol": "circle"
         },
         "mode": "lines",
         "name": "One Piece Fan Letter",
         "showlegend": true,
         "type": "scattergl",
         "x": [
          "2025-01-22T08:19:01+00:00",
          "2025-01-22T08:20:01+00:00",
          "2025-01-22T08:21:01+00:00",
          "2025-01-22T08:24:01+00:00",
          "2025-01-22T08:26:52+00:00",
          "2025-01-22T08:27:18+00:00",
          "2025-01-22T08:28:18+00:00",
          "2025-01-22T08:29:30+00:00",
          "2025-01-22T08:31:18+00:00",
          "2025-01-22T08:35:18+00:00",
          "2025-01-22T08:38:18+00:00",
          "2025-01-22T09:26:56+00:00",
          "2025-01-22T10:26:56+00:00",
          "2025-01-22T12:26:56+00:00",
          "2025-01-22T12:56:56+00:00",
          "2025-01-22T15:56:57+00:00",
          "2025-01-22T16:26:56+00:00",
          "2025-01-22T16:56:56+00:00",
          "2025-01-22T18:56:56+00:00",
          "2025-01-22T20:26:56+00:00",
          "2025-01-22T22:56:56+00:00",
          "2025-01-22T23:26:56+00:00",
          "2025-01-22T23:56:56+00:00",
          "2025-01-23T00:26:57+00:00",
          "2025-01-23T00:56:56+00:00",
          "2025-01-23T01:56:56+00:00",
          "2025-01-23T03:56:56+00:00",
          "2025-01-23T05:26:55+00:00",
          "2025-01-23T07:26:56+00:00",
          "2025-01-23T10:26:56+00:00",
          "2025-01-23T12:26:56+00:00",
          "2025-01-23T13:26:56+00:00",
          "2025-01-23T13:56:56+00:00",
          "2025-01-23T15:26:56+00:00",
          "2025-01-23T17:26:56+00:00",
          "2025-01-23T20:26:56+00:00",
          "2025-01-23T20:56:56+00:00",
          "2025-01-23T21:26:56+00:00",
          "2025-01-23T21:56:56+00:00",
          "2025-01-23T22:56:56+00:00",
          "2025-01-24T00:56:56+00:00",
          "2025-01-24T02:56:56+00:00",
          "2025-01-24T03:56:56+00:00",
          "2025-01-24T04:26:56+00:00",
          "2025-01-24T05:26:56+00:00",
          "2025-01-24T06:26:56+00:00",
          "2025-01-24T07:26:56+00:00",
          "2025-01-24T07:56:55+00:00",
          "2025-01-24T08:56:56+00:00",
          "2025-01-24T09:56:56+00:00",
          "2025-01-24T10:26:56+00:00",
          "2025-01-24T10:56:56+00:00",
          "2025-01-24T12:56:56+00:00",
          "2025-01-24T13:56:56+00:00",
          "2025-01-24T14:26:56+00:00",
          "2025-01-24T14:56:56+00:00",
          "2025-01-24T16:26:56+00:00",
          "2025-01-24T17:56:56+00:00",
          "2025-01-24T18:26:57+00:00",
          "2025-01-24T19:56:56+00:00",
          "2025-01-24T21:26:56+00:00",
          "2025-01-25T00:26:56+00:00",
          "2025-01-25T00:56:56+00:00",
          "2025-01-25T01:26:56+00:00",
          "2025-01-25T01:56:55+00:00",
          "2025-01-25T02:26:56+00:00",
          "2025-01-25T02:56:56+00:00",
          "2025-01-25T04:56:56+00:00",
          "2025-01-25T05:26:55+00:00",
          "2025-01-25T05:56:56+00:00",
          "2025-01-25T06:26:55+00:00",
          "2025-01-25T06:56:56+00:00",
          "2025-01-25T07:26:56+00:00",
          "2025-01-25T07:56:56+00:00"
         ],
         "xaxis": "x",
         "y": [
          -341,
          -341,
          0,
          -736,
          -535,
          0,
          0,
          0,
          0,
          -341,
          -535,
          -736,
          -341,
          -341,
          -341,
          -736,
          -341,
          0,
          -194,
          -194,
          -194,
          341,
          0,
          341,
          -395,
          -395,
          341,
          341,
          0,
          0,
          -194,
          -395,
          341,
          -194,
          -395,
          194,
          535,
          194,
          0,
          535,
          -201,
          0,
          194,
          535,
          0,
          535,
          0,
          0,
          535,
          -201,
          0,
          0,
          0,
          -201,
          535,
          194,
          -201,
          -201,
          0,
          0,
          201,
          201,
          395,
          201,
          null,
          201,
          395,
          736,
          201,
          0,
          395,
          201,
          201,
          201
         ],
         "yaxis": "y"
        }
       ],
       "layout": {
        "legend": {
         "title": {
          "text": "Anime Title"
         },
         "tracegroupgap": 0
        },
        "template": {
         "data": {
          "bar": [
           {
            "error_x": {
             "color": "#2a3f5f"
            },
            "error_y": {
             "color": "#2a3f5f"
            },
            "marker": {
             "line": {
              "color": "#E5ECF6",
              "width": 0.5
             },
             "pattern": {
              "fillmode": "overlay",
              "size": 10,
              "solidity": 0.2
             }
            },
            "type": "bar"
           }
          ],
          "barpolar": [
           {
            "marker": {
             "line": {
              "color": "#E5ECF6",
              "width": 0.5
             },
             "pattern": {
              "fillmode": "overlay",
              "size": 10,
              "solidity": 0.2
             }
            },
            "type": "barpolar"
           }
          ],
          "carpet": [
           {
            "aaxis": {
             "endlinecolor": "#2a3f5f",
             "gridcolor": "white",
             "linecolor": "white",
             "minorgridcolor": "white",
             "startlinecolor": "#2a3f5f"
            },
            "baxis": {
             "endlinecolor": "#2a3f5f",
             "gridcolor": "white",
             "linecolor": "white",
             "minorgridcolor": "white",
             "startlinecolor": "#2a3f5f"
            },
            "type": "carpet"
           }
          ],
          "choropleth": [
           {
            "colorbar": {
             "outlinewidth": 0,
             "ticks": ""
            },
            "type": "choropleth"
           }
          ],
          "contour": [
           {
            "colorbar": {
             "outlinewidth": 0,
             "ticks": ""
            },
            "colorscale": [
             [
              0,
              "#0d0887"
             ],
             [
              0.1111111111111111,
              "#46039f"
             ],
             [
              0.2222222222222222,
              "#7201a8"
             ],
             [
              0.3333333333333333,
              "#9c179e"
             ],
             [
              0.4444444444444444,
              "#bd3786"
             ],
             [
              0.5555555555555556,
              "#d8576b"
             ],
             [
              0.6666666666666666,
              "#ed7953"
             ],
             [
              0.7777777777777778,
              "#fb9f3a"
             ],
             [
              0.8888888888888888,
              "#fdca26"
             ],
             [
              1,
              "#f0f921"
             ]
            ],
            "type": "contour"
           }
          ],
          "contourcarpet": [
           {
            "colorbar": {
             "outlinewidth": 0,
             "ticks": ""
            },
            "type": "contourcarpet"
           }
          ],
          "heatmap": [
           {
            "colorbar": {
             "outlinewidth": 0,
             "ticks": ""
            },
            "colorscale": [
             [
              0,
              "#0d0887"
             ],
             [
              0.1111111111111111,
              "#46039f"
             ],
             [
              0.2222222222222222,
              "#7201a8"
             ],
             [
              0.3333333333333333,
              "#9c179e"
             ],
             [
              0.4444444444444444,
              "#bd3786"
             ],
             [
              0.5555555555555556,
              "#d8576b"
             ],
             [
              0.6666666666666666,
              "#ed7953"
             ],
             [
              0.7777777777777778,
              "#fb9f3a"
             ],
             [
              0.8888888888888888,
              "#fdca26"
             ],
             [
              1,
              "#f0f921"
             ]
            ],
            "type": "heatmap"
           }
          ],
          "heatmapgl": [
           {
            "colorbar": {
             "outlinewidth": 0,
             "ticks": ""
            },
            "colorscale": [
             [
              0,
              "#0d0887"
             ],
             [
              0.1111111111111111,
              "#46039f"
             ],
             [
              0.2222222222222222,
              "#7201a8"
             ],
             [
              0.3333333333333333,
              "#9c179e"
             ],
             [
              0.4444444444444444,
              "#bd3786"
             ],
             [
              0.5555555555555556,
              "#d8576b"
             ],
             [
              0.6666666666666666,
              "#ed7953"
             ],
             [
              0.7777777777777778,
              "#fb9f3a"
             ],
             [
              0.8888888888888888,
              "#fdca26"
             ],
             [
              1,
              "#f0f921"
             ]
            ],
            "type": "heatmapgl"
           }
          ],
          "histogram": [
           {
            "marker": {
             "pattern": {
              "fillmode": "overlay",
              "size": 10,
              "solidity": 0.2
             }
            },
            "type": "histogram"
           }
          ],
          "histogram2d": [
           {
            "colorbar": {
             "outlinewidth": 0,
             "ticks": ""
            },
            "colorscale": [
             [
              0,
              "#0d0887"
             ],
             [
              0.1111111111111111,
              "#46039f"
             ],
             [
              0.2222222222222222,
              "#7201a8"
             ],
             [
              0.3333333333333333,
              "#9c179e"
             ],
             [
              0.4444444444444444,
              "#bd3786"
             ],
             [
              0.5555555555555556,
              "#d8576b"
             ],
             [
              0.6666666666666666,
              "#ed7953"
             ],
             [
              0.7777777777777778,
              "#fb9f3a"
             ],
             [
              0.8888888888888888,
              "#fdca26"
             ],
             [
              1,
              "#f0f921"
             ]
            ],
            "type": "histogram2d"
           }
          ],
          "histogram2dcontour": [
           {
            "colorbar": {
             "outlinewidth": 0,
             "ticks": ""
            },
            "colorscale": [
             [
              0,
              "#0d0887"
             ],
             [
              0.1111111111111111,
              "#46039f"
             ],
             [
              0.2222222222222222,
              "#7201a8"
             ],
             [
              0.3333333333333333,
              "#9c179e"
             ],
             [
              0.4444444444444444,
              "#bd3786"
             ],
             [
              0.5555555555555556,
              "#d8576b"
             ],
             [
              0.6666666666666666,
              "#ed7953"
             ],
             [
              0.7777777777777778,
              "#fb9f3a"
             ],
             [
              0.8888888888888888,
              "#fdca26"
             ],
             [
              1,
              "#f0f921"
             ]
            ],
            "type": "histogram2dcontour"
           }
          ],
          "mesh3d": [
           {
            "colorbar": {
             "outlinewidth": 0,
             "ticks": ""
            },
            "type": "mesh3d"
           }
          ],
          "parcoords": [
           {
            "line": {
             "colorbar": {
              "outlinewidth": 0,
              "ticks": ""
             }
            },
            "type": "parcoords"
           }
          ],
          "pie": [
           {
            "automargin": true,
            "type": "pie"
           }
          ],
          "scatter": [
           {
            "fillpattern": {
             "fillmode": "overlay",
             "size": 10,
             "solidity": 0.2
            },
            "type": "scatter"
           }
          ],
          "scatter3d": [
           {
            "line": {
             "colorbar": {
              "outlinewidth": 0,
              "ticks": ""
             }
            },
            "marker": {
             "colorbar": {
              "outlinewidth": 0,
              "ticks": ""
             }
            },
            "type": "scatter3d"
           }
          ],
          "scattercarpet": [
           {
            "marker": {
             "colorbar": {
              "outlinewidth": 0,
              "ticks": ""
             }
            },
            "type": "scattercarpet"
           }
          ],
          "scattergeo": [
           {
            "marker": {
             "colorbar": {
              "outlinewidth": 0,
              "ticks": ""
             }
            },
            "type": "scattergeo"
           }
          ],
          "scattergl": [
           {
            "marker": {
             "colorbar": {
              "outlinewidth": 0,
              "ticks": ""
             }
            },
            "type": "scattergl"
           }
          ],
          "scattermapbox": [
           {
            "marker": {
             "colorbar": {
              "outlinewidth": 0,
              "ticks": ""
             }
            },
            "type": "scattermapbox"
           }
          ],
          "scatterpolar": [
           {
            "marker": {
             "colorbar": {
              "outlinewidth": 0,
              "ticks": ""
             }
            },
            "type": "scatterpolar"
           }
          ],
          "scatterpolargl": [
           {
            "marker": {
             "colorbar": {
              "outlinewidth": 0,
              "ticks": ""
             }
            },
            "type": "scatterpolargl"
           }
          ],
          "scatterternary": [
           {
            "marker": {
             "colorbar": {
              "outlinewidth": 0,
              "ticks": ""
             }
            },
            "type": "scatterternary"
           }
          ],
          "surface": [
           {
            "colorbar": {
             "outlinewidth": 0,
             "ticks": ""
            },
            "colorscale": [
             [
              0,
              "#0d0887"
             ],
             [
              0.1111111111111111,
              "#46039f"
             ],
             [
              0.2222222222222222,
              "#7201a8"
             ],
             [
              0.3333333333333333,
              "#9c179e"
             ],
             [
              0.4444444444444444,
              "#bd3786"
             ],
             [
              0.5555555555555556,
              "#d8576b"
             ],
             [
              0.6666666666666666,
              "#ed7953"
             ],
             [
              0.7777777777777778,
              "#fb9f3a"
             ],
             [
              0.8888888888888888,
              "#fdca26"
             ],
             [
              1,
              "#f0f921"
             ]
            ],
            "type": "surface"
           }
          ],
          "table": [
           {
            "cells": {
             "fill": {
              "color": "#EBF0F8"
             },
             "line": {
              "color": "white"
             }
            },
            "header": {
             "fill": {
              "color": "#C8D4E3"
             },
             "line": {
              "color": "white"
             }
            },
            "type": "table"
           }
          ]
         },
         "layout": {
          "annotationdefaults": {
           "arrowcolor": "#2a3f5f",
           "arrowhead": 0,
           "arrowwidth": 1
          },
          "autotypenumbers": "strict",
          "coloraxis": {
           "colorbar": {
            "outlinewidth": 0,
            "ticks": ""
           }
          },
          "colorscale": {
           "diverging": [
            [
             0,
             "#8e0152"
            ],
            [
             0.1,
             "#c51b7d"
            ],
            [
             0.2,
             "#de77ae"
            ],
            [
             0.3,
             "#f1b6da"
            ],
            [
             0.4,
             "#fde0ef"
            ],
            [
             0.5,
             "#f7f7f7"
            ],
            [
             0.6,
             "#e6f5d0"
            ],
            [
             0.7,
             "#b8e186"
            ],
            [
             0.8,
             "#7fbc41"
            ],
            [
             0.9,
             "#4d9221"
            ],
            [
             1,
             "#276419"
            ]
           ],
           "sequential": [
            [
             0,
             "#0d0887"
            ],
            [
             0.1111111111111111,
             "#46039f"
            ],
            [
             0.2222222222222222,
             "#7201a8"
            ],
            [
             0.3333333333333333,
             "#9c179e"
            ],
            [
             0.4444444444444444,
             "#bd3786"
            ],
            [
             0.5555555555555556,
             "#d8576b"
            ],
            [
             0.6666666666666666,
             "#ed7953"
            ],
            [
             0.7777777777777778,
             "#fb9f3a"
            ],
            [
             0.8888888888888888,
             "#fdca26"
            ],
            [
             1,
             "#f0f921"
            ]
           ],
           "sequentialminus": [
            [
             0,
             "#0d0887"
            ],
            [
             0.1111111111111111,
             "#46039f"
            ],
            [
             0.2222222222222222,
             "#7201a8"
            ],
            [
             0.3333333333333333,
             "#9c179e"
            ],
            [
             0.4444444444444444,
             "#bd3786"
            ],
            [
             0.5555555555555556,
             "#d8576b"
            ],
            [
             0.6666666666666666,
             "#ed7953"
            ],
            [
             0.7777777777777778,
             "#fb9f3a"
            ],
            [
             0.8888888888888888,
             "#fdca26"
            ],
            [
             1,
             "#f0f921"
            ]
           ]
          },
          "colorway": [
           "#636efa",
           "#EF553B",
           "#00cc96",
           "#ab63fa",
           "#FFA15A",
           "#19d3f3",
           "#FF6692",
           "#B6E880",
           "#FF97FF",
           "#FECB52"
          ],
          "font": {
           "color": "#2a3f5f"
          },
          "geo": {
           "bgcolor": "white",
           "lakecolor": "white",
           "landcolor": "#E5ECF6",
           "showlakes": true,
           "showland": true,
           "subunitcolor": "white"
          },
          "hoverlabel": {
           "align": "left"
          },
          "hovermode": "closest",
          "mapbox": {
           "style": "light"
          },
          "paper_bgcolor": "white",
          "plot_bgcolor": "#E5ECF6",
          "polar": {
           "angularaxis": {
            "gridcolor": "white",
            "linecolor": "white",
            "ticks": ""
           },
           "bgcolor": "#E5ECF6",
           "radialaxis": {
            "gridcolor": "white",
            "linecolor": "white",
            "ticks": ""
           }
          },
          "scene": {
           "xaxis": {
            "backgroundcolor": "#E5ECF6",
            "gridcolor": "white",
            "gridwidth": 2,
            "linecolor": "white",
            "showbackground": true,
            "ticks": "",
            "zerolinecolor": "white"
           },
           "yaxis": {
            "backgroundcolor": "#E5ECF6",
            "gridcolor": "white",
            "gridwidth": 2,
            "linecolor": "white",
            "showbackground": true,
            "ticks": "",
            "zerolinecolor": "white"
           },
           "zaxis": {
            "backgroundcolor": "#E5ECF6",
            "gridcolor": "white",
            "gridwidth": 2,
            "linecolor": "white",
            "showbackground": true,
            "ticks": "",
            "zerolinecolor": "white"
           }
          },
          "shapedefaults": {
           "line": {
            "color": "#2a3f5f"
           }
          },
          "ternary": {
           "aaxis": {
            "gridcolor": "white",
            "linecolor": "white",
            "ticks": ""
           },
           "baxis": {
            "gridcolor": "white",
            "linecolor": "white",
            "ticks": ""
           },
           "bgcolor": "#E5ECF6",
           "caxis": {
            "gridcolor": "white",
            "linecolor": "white",
            "ticks": ""
           }
          },
          "title": {
           "x": 0.05
          },
          "xaxis": {
           "automargin": true,
           "gridcolor": "white",
           "linecolor": "white",
           "ticks": "",
           "title": {
            "standoff": 15
           },
           "zerolinecolor": "white",
           "zerolinewidth": 2
          },
          "yaxis": {
           "automargin": true,
           "gridcolor": "white",
           "linecolor": "white",
           "ticks": "",
           "title": {
            "standoff": 15
           },
           "zerolinecolor": "white",
           "zerolinewidth": 2
          }
         }
        },
        "title": {
         "text": "Change in Members Over Time by Anime"
        },
        "xaxis": {
         "anchor": "y",
         "domain": [
          0,
          1
         ],
         "range": [
          "2025-01-24T07:56:56+00:00",
          "2025-01-25T07:56:56+00:00"
         ],
         "rangeslider": {
          "visible": true
         },
         "showgrid": true,
         "title": {
          "text": "Timestamp"
         }
        },
        "yaxis": {
         "anchor": "x",
         "domain": [
          0,
          1
         ],
         "showgrid": true,
         "title": {
          "text": "Change in Members"
         }
        }
       }
      }
     },
     "metadata": {},
     "output_type": "display_data"
    }
   ],
   "source": [
    "members_line_plot(df.copy())"
   ]
  },
  {
   "cell_type": "code",
   "execution_count": 50,
   "metadata": {},
   "outputs": [],
   "source": [
    "import pandas as pd\n",
    "import plotly.express as px\n",
    "\n",
    "def studios_in_top_25(data):\n",
    "    \"\"\"\n",
    "    Function to create a bar chart to switch between displaying studio and licensor data,\n",
    "    with hover information showing associated titles and a button to toggle between the two.\n",
    "    \"\"\"\n",
    "    # Get most recent date\n",
    "    most_recent_date = data['timestamp'].max()\n",
    "    data = data[data['timestamp'] == most_recent_date]\n",
    "\n",
    "    # Prepare the studio data\n",
    "    studio_data = data[['title', 'studios.names']].dropna()\n",
    "    studio_data = studio_data.explode('studios.names')  # Explode nested list into rows\n",
    "    studio_data = (\n",
    "        studio_data.groupby('studios.names')\n",
    "        .agg(titles=('title', list), count=('studios.names', 'count'))\n",
    "        .reset_index()\n",
    "        .rename(columns={'studios.names': 'name'})\n",
    "    )\n",
    "    studio_data['type'] = 'Studio'\n",
    "\n",
    "    # Prepare the licensor data\n",
    "    licensor_data = data[['title', 'licensors.names']].dropna()\n",
    "    licensor_data = licensor_data.explode('licensors.names')  # Explode nested list into rows\n",
    "    licensor_data = (\n",
    "        licensor_data.groupby('licensors.names')\n",
    "        .agg(titles=('title', list), count=('licensors.names', 'count'))\n",
    "        .reset_index()\n",
    "        .rename(columns={'licensors.names': 'name'})\n",
    "    )\n",
    "    licensor_data['type'] = 'Licensor'\n",
    "\n",
    "    # Combine the data\n",
    "    combined_data = pd.concat([studio_data, licensor_data], ignore_index=True)\n",
    "\n",
    "    # Add a hover data for titles\n",
    "    combined_data['hover_titles'] = combined_data['titles'].apply(lambda x: ', '.join(x))\n",
    "\n",
    "    # Create the bar chart\n",
    "    fig = px.bar(\n",
    "        combined_data,\n",
    "        x='name',\n",
    "        y='count',\n",
    "        color='type',\n",
    "        hover_data={'hover_titles': True, 'count': True, 'type': False},\n",
    "        title=\"Number of Studios vs Licensors\",\n",
    "        labels={\n",
    "            'name': 'Name',\n",
    "            'count': 'Number of Titles',\n",
    "        }\n",
    "    )\n",
    "\n",
    "    # Update the layout for better appearance and add toggle buttons\n",
    "    fig.update_layout(\n",
    "        xaxis=dict(title=\"Name\", tickangle=45),\n",
    "        yaxis=dict(title=\"Number of Titles\"),\n",
    "        updatemenus=[\n",
    "            {\n",
    "                \"buttons\": [\n",
    "                    {\n",
    "                        \"label\": \"Studio\",\n",
    "                        \"method\": \"update\",\n",
    "                        \"args\": [\n",
    "                            {\"visible\": [True, False]},  # Show only Studio bars\n",
    "                            {\"title\": \"Number of Studios\"}\n",
    "                        ],\n",
    "                    },\n",
    "                    {\n",
    "                        \"label\": \"Licensor\",\n",
    "                        \"method\": \"update\",\n",
    "                        \"args\": [\n",
    "                            {\"visible\": [False, True]},  # Show only Licensor bars\n",
    "                            {\"title\": \"Number of Licensors\"}\n",
    "                        ],\n",
    "                    },\n",
    "                ],\n",
    "                \"direction\": \"left\",\n",
    "                \"pad\": {\"r\": 10, \"t\": 10},\n",
    "                \"showactive\": True,\n",
    "                \"type\": \"buttons\",\n",
    "                \"x\": 0.1,\n",
    "                \"xanchor\": \"left\",\n",
    "                \"y\": 1.2,\n",
    "                \"yanchor\": \"top\",\n",
    "            }\n",
    "        ]\n",
    "    )\n",
    "\n",
    "    return fig\n"
   ]
  },
  {
   "cell_type": "code",
   "execution_count": 52,
   "metadata": {},
   "outputs": [
    {
     "data": {
      "application/vnd.plotly.v1+json": {
       "config": {
        "plotlyServerURL": "https://plot.ly"
       },
       "data": [
        {
         "alignmentgroup": "True",
         "customdata": [
          [
           "Kaguya-sama wa Kokurasetai: Ultra Romantic",
           "Studio"
          ],
          [
           "Gintama°, Gintama: The Final, Gintama., Gintama. Shirogane no Tamashii-hen - Kouhan-sen",
           "Studio"
          ],
          [
           "Fullmetal Alchemist: Brotherhood",
           "Studio"
          ],
          [
           "Ginga Eiyuu Densetsu",
           "Studio"
          ],
          [
           "Ginga Eiyuu Densetsu",
           "Studio"
          ],
          [
           "Clannad: After Story, Koe no Katachi",
           "Studio"
          ],
          [
           "Shingeki no Kyojin: The Final Season - Kanketsu-hen",
           "Studio"
          ],
          [
           "Sousou no Frieren, Hunter x Hunter (2011), Monster",
           "Studio"
          ],
          [
           "Kusuriya no Hitorigoto",
           "Studio"
          ],
          [
           "Bleach: Sennen Kessen-hen",
           "Studio"
          ],
          [
           "3-gatsu no Lion 2nd Season",
           "Studio"
          ],
          [
           "Gintama', Gintama': Enchousen, Gintama, Code Geass: Hangyaku no Lelouch R2, Gintama Movie 2: Kanketsu-hen - Yorozuya yo Eien Nare",
           "Studio"
          ],
          [
           "Fruits Basket: The Final",
           "Studio"
          ],
          [
           "Kusuriya no Hitorigoto",
           "Studio"
          ],
          [
           "One Piece Fan Letter",
           "Studio"
          ],
          [
           "Steins;Gate",
           "Studio"
          ],
          [
           "Shingeki no Kyojin Season 3 Part 2",
           "Studio"
          ]
         ],
         "hovertemplate": "Name=%{x}<br>Number of Titles=%{y}<br>hover_titles=%{customdata[0]}<extra></extra>",
         "legendgroup": "Studio",
         "marker": {
          "color": "#636efa",
          "pattern": {
           "shape": ""
          }
         },
         "name": "Studio",
         "offsetgroup": "Studio",
         "orientation": "v",
         "showlegend": true,
         "textposition": "auto",
         "type": "bar",
         "x": [
          "A-1 Pictures",
          "Bandai Namco Pictures",
          "Bones",
          "K-Factory",
          "Kitty Film Mitaka Studio",
          "Kyoto Animation",
          "MAPPA",
          "Madhouse",
          "OLM",
          "Pierrot",
          "Shaft",
          "Sunrise",
          "TMS Entertainment",
          "TOHO animation STUDIO",
          "Toei Animation",
          "White Fox",
          "Wit Studio"
         ],
         "xaxis": "x",
         "y": [
          1,
          4,
          1,
          1,
          1,
          2,
          1,
          3,
          1,
          1,
          1,
          5,
          1,
          1,
          1,
          1,
          1
         ],
         "yaxis": "y"
        },
        {
         "alignmentgroup": "True",
         "customdata": [
          [
           "Fullmetal Alchemist: Brotherhood, Kaguya-sama wa Kokurasetai: Ultra Romantic, 3-gatsu no Lion 2nd Season",
           "Licensor"
          ],
          [
           "Code Geass: Hangyaku no Lelouch R2",
           "Licensor"
          ],
          [
           "Sousou no Frieren, Gintama°, Gintama, Kusuriya no Hitorigoto",
           "Licensor"
          ],
          [
           "Gintama: The Final, Koe no Katachi",
           "Licensor"
          ],
          [
           "Fullmetal Alchemist: Brotherhood, Steins;Gate, Shingeki no Kyojin Season 3 Part 2, Gintama°, Fruits Basket: The Final, Code Geass: Hangyaku no Lelouch R2, Shingeki no Kyojin: The Final Season - Kanketsu-hen",
           "Licensor"
          ],
          [
           "Koe no Katachi",
           "Licensor"
          ],
          [
           "Koe no Katachi",
           "Licensor"
          ],
          [
           "Ginga Eiyuu Densetsu, Clannad: After Story, Gintama",
           "Licensor"
          ],
          [
           "Hunter x Hunter (2011), Bleach: Sennen Kessen-hen, Monster",
           "Licensor"
          ]
         ],
         "hovertemplate": "Name=%{x}<br>Number of Titles=%{y}<br>hover_titles=%{customdata[0]}<extra></extra>",
         "legendgroup": "Licensor",
         "marker": {
          "color": "#EF553B",
          "pattern": {
           "shape": ""
          }
         },
         "name": "Licensor",
         "offsetgroup": "Licensor",
         "orientation": "v",
         "showlegend": true,
         "textposition": "auto",
         "type": "bar",
         "x": [
          "Aniplex of America",
          "Bandai Entertainment",
          "Crunchyroll",
          "Eleven Arts",
          "Funimation",
          "GKIDS",
          "NYAV Post",
          "Sentai Filmworks",
          "VIZ Media"
         ],
         "xaxis": "x",
         "y": [
          3,
          1,
          4,
          2,
          7,
          1,
          1,
          3,
          3
         ],
         "yaxis": "y"
        }
       ],
       "layout": {
        "barmode": "relative",
        "legend": {
         "title": {
          "text": "type"
         },
         "tracegroupgap": 0
        },
        "template": {
         "data": {
          "bar": [
           {
            "error_x": {
             "color": "#2a3f5f"
            },
            "error_y": {
             "color": "#2a3f5f"
            },
            "marker": {
             "line": {
              "color": "#E5ECF6",
              "width": 0.5
             },
             "pattern": {
              "fillmode": "overlay",
              "size": 10,
              "solidity": 0.2
             }
            },
            "type": "bar"
           }
          ],
          "barpolar": [
           {
            "marker": {
             "line": {
              "color": "#E5ECF6",
              "width": 0.5
             },
             "pattern": {
              "fillmode": "overlay",
              "size": 10,
              "solidity": 0.2
             }
            },
            "type": "barpolar"
           }
          ],
          "carpet": [
           {
            "aaxis": {
             "endlinecolor": "#2a3f5f",
             "gridcolor": "white",
             "linecolor": "white",
             "minorgridcolor": "white",
             "startlinecolor": "#2a3f5f"
            },
            "baxis": {
             "endlinecolor": "#2a3f5f",
             "gridcolor": "white",
             "linecolor": "white",
             "minorgridcolor": "white",
             "startlinecolor": "#2a3f5f"
            },
            "type": "carpet"
           }
          ],
          "choropleth": [
           {
            "colorbar": {
             "outlinewidth": 0,
             "ticks": ""
            },
            "type": "choropleth"
           }
          ],
          "contour": [
           {
            "colorbar": {
             "outlinewidth": 0,
             "ticks": ""
            },
            "colorscale": [
             [
              0,
              "#0d0887"
             ],
             [
              0.1111111111111111,
              "#46039f"
             ],
             [
              0.2222222222222222,
              "#7201a8"
             ],
             [
              0.3333333333333333,
              "#9c179e"
             ],
             [
              0.4444444444444444,
              "#bd3786"
             ],
             [
              0.5555555555555556,
              "#d8576b"
             ],
             [
              0.6666666666666666,
              "#ed7953"
             ],
             [
              0.7777777777777778,
              "#fb9f3a"
             ],
             [
              0.8888888888888888,
              "#fdca26"
             ],
             [
              1,
              "#f0f921"
             ]
            ],
            "type": "contour"
           }
          ],
          "contourcarpet": [
           {
            "colorbar": {
             "outlinewidth": 0,
             "ticks": ""
            },
            "type": "contourcarpet"
           }
          ],
          "heatmap": [
           {
            "colorbar": {
             "outlinewidth": 0,
             "ticks": ""
            },
            "colorscale": [
             [
              0,
              "#0d0887"
             ],
             [
              0.1111111111111111,
              "#46039f"
             ],
             [
              0.2222222222222222,
              "#7201a8"
             ],
             [
              0.3333333333333333,
              "#9c179e"
             ],
             [
              0.4444444444444444,
              "#bd3786"
             ],
             [
              0.5555555555555556,
              "#d8576b"
             ],
             [
              0.6666666666666666,
              "#ed7953"
             ],
             [
              0.7777777777777778,
              "#fb9f3a"
             ],
             [
              0.8888888888888888,
              "#fdca26"
             ],
             [
              1,
              "#f0f921"
             ]
            ],
            "type": "heatmap"
           }
          ],
          "heatmapgl": [
           {
            "colorbar": {
             "outlinewidth": 0,
             "ticks": ""
            },
            "colorscale": [
             [
              0,
              "#0d0887"
             ],
             [
              0.1111111111111111,
              "#46039f"
             ],
             [
              0.2222222222222222,
              "#7201a8"
             ],
             [
              0.3333333333333333,
              "#9c179e"
             ],
             [
              0.4444444444444444,
              "#bd3786"
             ],
             [
              0.5555555555555556,
              "#d8576b"
             ],
             [
              0.6666666666666666,
              "#ed7953"
             ],
             [
              0.7777777777777778,
              "#fb9f3a"
             ],
             [
              0.8888888888888888,
              "#fdca26"
             ],
             [
              1,
              "#f0f921"
             ]
            ],
            "type": "heatmapgl"
           }
          ],
          "histogram": [
           {
            "marker": {
             "pattern": {
              "fillmode": "overlay",
              "size": 10,
              "solidity": 0.2
             }
            },
            "type": "histogram"
           }
          ],
          "histogram2d": [
           {
            "colorbar": {
             "outlinewidth": 0,
             "ticks": ""
            },
            "colorscale": [
             [
              0,
              "#0d0887"
             ],
             [
              0.1111111111111111,
              "#46039f"
             ],
             [
              0.2222222222222222,
              "#7201a8"
             ],
             [
              0.3333333333333333,
              "#9c179e"
             ],
             [
              0.4444444444444444,
              "#bd3786"
             ],
             [
              0.5555555555555556,
              "#d8576b"
             ],
             [
              0.6666666666666666,
              "#ed7953"
             ],
             [
              0.7777777777777778,
              "#fb9f3a"
             ],
             [
              0.8888888888888888,
              "#fdca26"
             ],
             [
              1,
              "#f0f921"
             ]
            ],
            "type": "histogram2d"
           }
          ],
          "histogram2dcontour": [
           {
            "colorbar": {
             "outlinewidth": 0,
             "ticks": ""
            },
            "colorscale": [
             [
              0,
              "#0d0887"
             ],
             [
              0.1111111111111111,
              "#46039f"
             ],
             [
              0.2222222222222222,
              "#7201a8"
             ],
             [
              0.3333333333333333,
              "#9c179e"
             ],
             [
              0.4444444444444444,
              "#bd3786"
             ],
             [
              0.5555555555555556,
              "#d8576b"
             ],
             [
              0.6666666666666666,
              "#ed7953"
             ],
             [
              0.7777777777777778,
              "#fb9f3a"
             ],
             [
              0.8888888888888888,
              "#fdca26"
             ],
             [
              1,
              "#f0f921"
             ]
            ],
            "type": "histogram2dcontour"
           }
          ],
          "mesh3d": [
           {
            "colorbar": {
             "outlinewidth": 0,
             "ticks": ""
            },
            "type": "mesh3d"
           }
          ],
          "parcoords": [
           {
            "line": {
             "colorbar": {
              "outlinewidth": 0,
              "ticks": ""
             }
            },
            "type": "parcoords"
           }
          ],
          "pie": [
           {
            "automargin": true,
            "type": "pie"
           }
          ],
          "scatter": [
           {
            "fillpattern": {
             "fillmode": "overlay",
             "size": 10,
             "solidity": 0.2
            },
            "type": "scatter"
           }
          ],
          "scatter3d": [
           {
            "line": {
             "colorbar": {
              "outlinewidth": 0,
              "ticks": ""
             }
            },
            "marker": {
             "colorbar": {
              "outlinewidth": 0,
              "ticks": ""
             }
            },
            "type": "scatter3d"
           }
          ],
          "scattercarpet": [
           {
            "marker": {
             "colorbar": {
              "outlinewidth": 0,
              "ticks": ""
             }
            },
            "type": "scattercarpet"
           }
          ],
          "scattergeo": [
           {
            "marker": {
             "colorbar": {
              "outlinewidth": 0,
              "ticks": ""
             }
            },
            "type": "scattergeo"
           }
          ],
          "scattergl": [
           {
            "marker": {
             "colorbar": {
              "outlinewidth": 0,
              "ticks": ""
             }
            },
            "type": "scattergl"
           }
          ],
          "scattermapbox": [
           {
            "marker": {
             "colorbar": {
              "outlinewidth": 0,
              "ticks": ""
             }
            },
            "type": "scattermapbox"
           }
          ],
          "scatterpolar": [
           {
            "marker": {
             "colorbar": {
              "outlinewidth": 0,
              "ticks": ""
             }
            },
            "type": "scatterpolar"
           }
          ],
          "scatterpolargl": [
           {
            "marker": {
             "colorbar": {
              "outlinewidth": 0,
              "ticks": ""
             }
            },
            "type": "scatterpolargl"
           }
          ],
          "scatterternary": [
           {
            "marker": {
             "colorbar": {
              "outlinewidth": 0,
              "ticks": ""
             }
            },
            "type": "scatterternary"
           }
          ],
          "surface": [
           {
            "colorbar": {
             "outlinewidth": 0,
             "ticks": ""
            },
            "colorscale": [
             [
              0,
              "#0d0887"
             ],
             [
              0.1111111111111111,
              "#46039f"
             ],
             [
              0.2222222222222222,
              "#7201a8"
             ],
             [
              0.3333333333333333,
              "#9c179e"
             ],
             [
              0.4444444444444444,
              "#bd3786"
             ],
             [
              0.5555555555555556,
              "#d8576b"
             ],
             [
              0.6666666666666666,
              "#ed7953"
             ],
             [
              0.7777777777777778,
              "#fb9f3a"
             ],
             [
              0.8888888888888888,
              "#fdca26"
             ],
             [
              1,
              "#f0f921"
             ]
            ],
            "type": "surface"
           }
          ],
          "table": [
           {
            "cells": {
             "fill": {
              "color": "#EBF0F8"
             },
             "line": {
              "color": "white"
             }
            },
            "header": {
             "fill": {
              "color": "#C8D4E3"
             },
             "line": {
              "color": "white"
             }
            },
            "type": "table"
           }
          ]
         },
         "layout": {
          "annotationdefaults": {
           "arrowcolor": "#2a3f5f",
           "arrowhead": 0,
           "arrowwidth": 1
          },
          "autotypenumbers": "strict",
          "coloraxis": {
           "colorbar": {
            "outlinewidth": 0,
            "ticks": ""
           }
          },
          "colorscale": {
           "diverging": [
            [
             0,
             "#8e0152"
            ],
            [
             0.1,
             "#c51b7d"
            ],
            [
             0.2,
             "#de77ae"
            ],
            [
             0.3,
             "#f1b6da"
            ],
            [
             0.4,
             "#fde0ef"
            ],
            [
             0.5,
             "#f7f7f7"
            ],
            [
             0.6,
             "#e6f5d0"
            ],
            [
             0.7,
             "#b8e186"
            ],
            [
             0.8,
             "#7fbc41"
            ],
            [
             0.9,
             "#4d9221"
            ],
            [
             1,
             "#276419"
            ]
           ],
           "sequential": [
            [
             0,
             "#0d0887"
            ],
            [
             0.1111111111111111,
             "#46039f"
            ],
            [
             0.2222222222222222,
             "#7201a8"
            ],
            [
             0.3333333333333333,
             "#9c179e"
            ],
            [
             0.4444444444444444,
             "#bd3786"
            ],
            [
             0.5555555555555556,
             "#d8576b"
            ],
            [
             0.6666666666666666,
             "#ed7953"
            ],
            [
             0.7777777777777778,
             "#fb9f3a"
            ],
            [
             0.8888888888888888,
             "#fdca26"
            ],
            [
             1,
             "#f0f921"
            ]
           ],
           "sequentialminus": [
            [
             0,
             "#0d0887"
            ],
            [
             0.1111111111111111,
             "#46039f"
            ],
            [
             0.2222222222222222,
             "#7201a8"
            ],
            [
             0.3333333333333333,
             "#9c179e"
            ],
            [
             0.4444444444444444,
             "#bd3786"
            ],
            [
             0.5555555555555556,
             "#d8576b"
            ],
            [
             0.6666666666666666,
             "#ed7953"
            ],
            [
             0.7777777777777778,
             "#fb9f3a"
            ],
            [
             0.8888888888888888,
             "#fdca26"
            ],
            [
             1,
             "#f0f921"
            ]
           ]
          },
          "colorway": [
           "#636efa",
           "#EF553B",
           "#00cc96",
           "#ab63fa",
           "#FFA15A",
           "#19d3f3",
           "#FF6692",
           "#B6E880",
           "#FF97FF",
           "#FECB52"
          ],
          "font": {
           "color": "#2a3f5f"
          },
          "geo": {
           "bgcolor": "white",
           "lakecolor": "white",
           "landcolor": "#E5ECF6",
           "showlakes": true,
           "showland": true,
           "subunitcolor": "white"
          },
          "hoverlabel": {
           "align": "left"
          },
          "hovermode": "closest",
          "mapbox": {
           "style": "light"
          },
          "paper_bgcolor": "white",
          "plot_bgcolor": "#E5ECF6",
          "polar": {
           "angularaxis": {
            "gridcolor": "white",
            "linecolor": "white",
            "ticks": ""
           },
           "bgcolor": "#E5ECF6",
           "radialaxis": {
            "gridcolor": "white",
            "linecolor": "white",
            "ticks": ""
           }
          },
          "scene": {
           "xaxis": {
            "backgroundcolor": "#E5ECF6",
            "gridcolor": "white",
            "gridwidth": 2,
            "linecolor": "white",
            "showbackground": true,
            "ticks": "",
            "zerolinecolor": "white"
           },
           "yaxis": {
            "backgroundcolor": "#E5ECF6",
            "gridcolor": "white",
            "gridwidth": 2,
            "linecolor": "white",
            "showbackground": true,
            "ticks": "",
            "zerolinecolor": "white"
           },
           "zaxis": {
            "backgroundcolor": "#E5ECF6",
            "gridcolor": "white",
            "gridwidth": 2,
            "linecolor": "white",
            "showbackground": true,
            "ticks": "",
            "zerolinecolor": "white"
           }
          },
          "shapedefaults": {
           "line": {
            "color": "#2a3f5f"
           }
          },
          "ternary": {
           "aaxis": {
            "gridcolor": "white",
            "linecolor": "white",
            "ticks": ""
           },
           "baxis": {
            "gridcolor": "white",
            "linecolor": "white",
            "ticks": ""
           },
           "bgcolor": "#E5ECF6",
           "caxis": {
            "gridcolor": "white",
            "linecolor": "white",
            "ticks": ""
           }
          },
          "title": {
           "x": 0.05
          },
          "xaxis": {
           "automargin": true,
           "gridcolor": "white",
           "linecolor": "white",
           "ticks": "",
           "title": {
            "standoff": 15
           },
           "zerolinecolor": "white",
           "zerolinewidth": 2
          },
          "yaxis": {
           "automargin": true,
           "gridcolor": "white",
           "linecolor": "white",
           "ticks": "",
           "title": {
            "standoff": 15
           },
           "zerolinecolor": "white",
           "zerolinewidth": 2
          }
         }
        },
        "title": {
         "text": "Number of Studios vs Licensors"
        },
        "updatemenus": [
         {
          "buttons": [
           {
            "args": [
             {
              "visible": [
               true,
               false
              ]
             },
             {
              "title": "Number of Studios"
             }
            ],
            "label": "Studio",
            "method": "update"
           },
           {
            "args": [
             {
              "visible": [
               false,
               true
              ]
             },
             {
              "title": "Number of Licensors"
             }
            ],
            "label": "Licensor",
            "method": "update"
           }
          ],
          "direction": "left",
          "pad": {
           "r": 10,
           "t": 10
          },
          "showactive": true,
          "type": "buttons",
          "x": 0.1,
          "xanchor": "left",
          "y": 1.2,
          "yanchor": "top"
         }
        ],
        "xaxis": {
         "anchor": "y",
         "domain": [
          0,
          1
         ],
         "tickangle": 45,
         "title": {
          "text": "Name"
         }
        },
        "yaxis": {
         "anchor": "x",
         "domain": [
          0,
          1
         ],
         "title": {
          "text": "Number of Titles"
         }
        }
       }
      }
     },
     "metadata": {},
     "output_type": "display_data"
    }
   ],
   "source": [
    "studios_in_top_25(df.copy())"
   ]
  },
  {
   "cell_type": "code",
   "execution_count": null,
   "metadata": {},
   "outputs": [],
   "source": []
  }
 ],
 "metadata": {
  "kernelspec": {
   "display_name": "dashboard",
   "language": "python",
   "name": "python3"
  },
  "language_info": {
   "codemirror_mode": {
    "name": "ipython",
    "version": 3
   },
   "file_extension": ".py",
   "mimetype": "text/x-python",
   "name": "python",
   "nbconvert_exporter": "python",
   "pygments_lexer": "ipython3",
   "version": "3.12.8"
  }
 },
 "nbformat": 4,
 "nbformat_minor": 2
}
