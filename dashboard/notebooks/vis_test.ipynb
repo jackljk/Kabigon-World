{
 "cells": [
  {
   "cell_type": "code",
   "execution_count": 26,
   "metadata": {},
   "outputs": [],
   "source": [
    "from dotenv import load_dotenv\n",
    "import jikanpy\n",
    "import os\n",
    "import requests\n",
    "import pandas as pd\n",
    "\n",
    "import plotly.express as px\n",
    "import plotly.graph_objects as go\n",
    "load_dotenv()\n",
    "\n",
    "secret = os.getenv(\"secret\")\n",
    "id = os.getenv(\"id\")\n",
    "AWS_ACCESS_KEY_ID = os.getenv(\"AWS_ACCESS_KEY\")\n",
    "AWS_SECRET_ACCESS_KEY = os.getenv(\"AWS_SECRET_KEY\")\n",
    "jikan = jikanpy.Jikan()"
   ]
  },
  {
   "cell_type": "code",
   "execution_count": 2,
   "metadata": {},
   "outputs": [],
   "source": [
    "from boto3.dynamodb.types import TypeDeserializer\n",
    "import boto3\n",
    "\n",
    "def get_analytics_data():\n",
    "    # Connect to dynamodb\n",
    "    dynamodb = boto3.client(\n",
    "        \"dynamodb\",\n",
    "        aws_access_key_id=AWS_ACCESS_KEY_ID,\n",
    "        aws_secret_access_key=AWS_SECRET_ACCESS_KEY,\n",
    "        region_name=\"us-west-2\"\n",
    "    )\n",
    "    df_dicts = {}\n",
    "    \n",
    "    \n",
    "    # get top 25 data\n",
    "    response_top_25 = dynamodb.scan(TableName=\"anime-dashboard-top-25\",)\n",
    "    \n",
    "    # convert to pandas dataframe\n",
    "    df_dicts['top_25'] = parse_analytics_data(response_top_25['Items'])\n",
    "    \n",
    "    \n",
    "    return df_dicts\n",
    "\n",
    "\n",
    "def _deserialize(data):\n",
    "    deserializer = TypeDeserializer()\n",
    "    return {k: deserializer.deserialize(v) for k, v in data.items()}\n",
    "\n",
    "def parse_analytics_data(data):\n",
    "    deserialized_data = [_deserialize(x) for x in data]\n",
    "    data = [pd.json_normalize(x, 'data', ['timestamp']) for x in deserialized_data]\n",
    "    return pd.concat(data, ignore_index=True)"
   ]
  },
  {
   "cell_type": "code",
   "execution_count": 3,
   "metadata": {},
   "outputs": [
    {
     "data": {
      "text/html": [
       "<div>\n",
       "<style scoped>\n",
       "    .dataframe tbody tr th:only-of-type {\n",
       "        vertical-align: middle;\n",
       "    }\n",
       "\n",
       "    .dataframe tbody tr th {\n",
       "        vertical-align: top;\n",
       "    }\n",
       "\n",
       "    .dataframe thead th {\n",
       "        text-align: right;\n",
       "    }\n",
       "</style>\n",
       "<table border=\"1\" class=\"dataframe\">\n",
       "  <thead>\n",
       "    <tr style=\"text-align: right;\">\n",
       "      <th></th>\n",
       "      <th>title_japanese</th>\n",
       "      <th>image_url</th>\n",
       "      <th>genres</th>\n",
       "      <th>title_english</th>\n",
       "      <th>mal_id</th>\n",
       "      <th>title</th>\n",
       "      <th>url</th>\n",
       "      <th>studios.urls</th>\n",
       "      <th>studios.names</th>\n",
       "      <th>licensors.urls</th>\n",
       "      <th>licensors.names</th>\n",
       "      <th>statistics.favorites</th>\n",
       "      <th>statistics.scored_by</th>\n",
       "      <th>statistics.rank</th>\n",
       "      <th>statistics.score</th>\n",
       "      <th>statistics.members</th>\n",
       "      <th>statistics.popularity</th>\n",
       "      <th>timestamp</th>\n",
       "    </tr>\n",
       "  </thead>\n",
       "  <tbody>\n",
       "    <tr>\n",
       "      <th>0</th>\n",
       "      <td>葬送のフリーレン</td>\n",
       "      <td>https://cdn.myanimelist.net/images/anime/1015/...</td>\n",
       "      <td>[Adventure, Drama, Fantasy]</td>\n",
       "      <td>Frieren: Beyond Journey's End</td>\n",
       "      <td>52991</td>\n",
       "      <td>Sousou no Frieren</td>\n",
       "      <td>https://myanimelist.net/anime/52991/Sousou_no_...</td>\n",
       "      <td>[https://myanimelist.net/anime/producer/11/Mad...</td>\n",
       "      <td>[Madhouse]</td>\n",
       "      <td>[https://myanimelist.net/anime/producer/1468/C...</td>\n",
       "      <td>[Crunchyroll]</td>\n",
       "      <td>61056</td>\n",
       "      <td>583970</td>\n",
       "      <td>1</td>\n",
       "      <td>9.31</td>\n",
       "      <td>1007399</td>\n",
       "      <td>166</td>\n",
       "      <td>2025-01-27T02:26:56Z</td>\n",
       "    </tr>\n",
       "    <tr>\n",
       "      <th>1</th>\n",
       "      <td>鋼の錬金術師 FULLMETAL ALCHEMIST</td>\n",
       "      <td>https://cdn.myanimelist.net/images/anime/1208/...</td>\n",
       "      <td>[Action, Adventure, Drama, Fantasy]</td>\n",
       "      <td>Fullmetal Alchemist: Brotherhood</td>\n",
       "      <td>5114</td>\n",
       "      <td>Fullmetal Alchemist: Brotherhood</td>\n",
       "      <td>https://myanimelist.net/anime/5114/Fullmetal_A...</td>\n",
       "      <td>[https://myanimelist.net/anime/producer/4/Bones]</td>\n",
       "      <td>[Bones]</td>\n",
       "      <td>[https://myanimelist.net/anime/producer/102/Fu...</td>\n",
       "      <td>[Funimation, Aniplex of America]</td>\n",
       "      <td>231137</td>\n",
       "      <td>2187771</td>\n",
       "      <td>2</td>\n",
       "      <td>9.1</td>\n",
       "      <td>3468468</td>\n",
       "      <td>3</td>\n",
       "      <td>2025-01-27T02:26:56Z</td>\n",
       "    </tr>\n",
       "    <tr>\n",
       "      <th>2</th>\n",
       "      <td>ONE PIECE FAN LETTER</td>\n",
       "      <td>https://cdn.myanimelist.net/images/anime/1455/...</td>\n",
       "      <td>[Action, Adventure, Fantasy]</td>\n",
       "      <td>None</td>\n",
       "      <td>60022</td>\n",
       "      <td>One Piece Fan Letter</td>\n",
       "      <td>https://myanimelist.net/anime/60022/One_Piece_...</td>\n",
       "      <td>[https://myanimelist.net/anime/producer/18/Toe...</td>\n",
       "      <td>[Toei Animation]</td>\n",
       "      <td>[]</td>\n",
       "      <td>[]</td>\n",
       "      <td>1906</td>\n",
       "      <td>63986</td>\n",
       "      <td>3</td>\n",
       "      <td>9.07</td>\n",
       "      <td>84069</td>\n",
       "      <td>2462</td>\n",
       "      <td>2025-01-27T02:26:56Z</td>\n",
       "    </tr>\n",
       "    <tr>\n",
       "      <th>3</th>\n",
       "      <td>STEINS;GATE</td>\n",
       "      <td>https://cdn.myanimelist.net/images/anime/1935/...</td>\n",
       "      <td>[Drama, Sci-Fi, Suspense]</td>\n",
       "      <td>Steins;Gate</td>\n",
       "      <td>9253</td>\n",
       "      <td>Steins;Gate</td>\n",
       "      <td>https://myanimelist.net/anime/9253/Steins_Gate</td>\n",
       "      <td>[https://myanimelist.net/anime/producer/314/Wh...</td>\n",
       "      <td>[White Fox]</td>\n",
       "      <td>[https://myanimelist.net/anime/producer/102/Fu...</td>\n",
       "      <td>[Funimation]</td>\n",
       "      <td>193789</td>\n",
       "      <td>1444184</td>\n",
       "      <td>4</td>\n",
       "      <td>9.07</td>\n",
       "      <td>2656952</td>\n",
       "      <td>14</td>\n",
       "      <td>2025-01-27T02:26:56Z</td>\n",
       "    </tr>\n",
       "    <tr>\n",
       "      <th>4</th>\n",
       "      <td>進撃の巨人 Season3 Part.2</td>\n",
       "      <td>https://cdn.myanimelist.net/images/anime/1517/...</td>\n",
       "      <td>[Action, Drama, Suspense]</td>\n",
       "      <td>Attack on Titan Season 3 Part 2</td>\n",
       "      <td>38524</td>\n",
       "      <td>Shingeki no Kyojin Season 3 Part 2</td>\n",
       "      <td>https://myanimelist.net/anime/38524/Shingeki_n...</td>\n",
       "      <td>[https://myanimelist.net/anime/producer/858/Wi...</td>\n",
       "      <td>[Wit Studio]</td>\n",
       "      <td>[https://myanimelist.net/anime/producer/102/Fu...</td>\n",
       "      <td>[Funimation]</td>\n",
       "      <td>60298</td>\n",
       "      <td>1661812</td>\n",
       "      <td>5</td>\n",
       "      <td>9.05</td>\n",
       "      <td>2394326</td>\n",
       "      <td>21</td>\n",
       "      <td>2025-01-27T02:26:56Z</td>\n",
       "    </tr>\n",
       "    <tr>\n",
       "      <th>...</th>\n",
       "      <td>...</td>\n",
       "      <td>...</td>\n",
       "      <td>...</td>\n",
       "      <td>...</td>\n",
       "      <td>...</td>\n",
       "      <td>...</td>\n",
       "      <td>...</td>\n",
       "      <td>...</td>\n",
       "      <td>...</td>\n",
       "      <td>...</td>\n",
       "      <td>...</td>\n",
       "      <td>...</td>\n",
       "      <td>...</td>\n",
       "      <td>...</td>\n",
       "      <td>...</td>\n",
       "      <td>...</td>\n",
       "      <td>...</td>\n",
       "      <td>...</td>\n",
       "    </tr>\n",
       "    <tr>\n",
       "      <th>1845</th>\n",
       "      <td>劇場版 銀魂 完結篇 万事屋よ永遠なれ</td>\n",
       "      <td>https://cdn.myanimelist.net/images/anime/10/51...</td>\n",
       "      <td>[Action, Comedy, Sci-Fi]</td>\n",
       "      <td>Gintama: The Movie: The Final Chapter: Be Fore...</td>\n",
       "      <td>15335</td>\n",
       "      <td>Gintama Movie 2: Kanketsu-hen - Yorozuya yo Ei...</td>\n",
       "      <td>https://myanimelist.net/anime/15335/Gintama_Mo...</td>\n",
       "      <td>[https://myanimelist.net/anime/producer/14/Sun...</td>\n",
       "      <td>[Sunrise]</td>\n",
       "      <td>[]</td>\n",
       "      <td>[]</td>\n",
       "      <td>2123</td>\n",
       "      <td>138846</td>\n",
       "      <td>21</td>\n",
       "      <td>8.9</td>\n",
       "      <td>248145</td>\n",
       "      <td>1031</td>\n",
       "      <td>2025-01-26T03:56:56Z</td>\n",
       "    </tr>\n",
       "    <tr>\n",
       "      <th>1846</th>\n",
       "      <td>薬屋のひとりごと</td>\n",
       "      <td>https://cdn.myanimelist.net/images/anime/1708/...</td>\n",
       "      <td>[Drama, Mystery]</td>\n",
       "      <td>The Apothecary Diaries</td>\n",
       "      <td>54492</td>\n",
       "      <td>Kusuriya no Hitorigoto</td>\n",
       "      <td>https://myanimelist.net/anime/54492/Kusuriya_n...</td>\n",
       "      <td>[https://myanimelist.net/anime/producer/28/OLM...</td>\n",
       "      <td>[OLM, TOHO animation STUDIO]</td>\n",
       "      <td>[https://myanimelist.net/anime/producer/1468/C...</td>\n",
       "      <td>[Crunchyroll]</td>\n",
       "      <td>15930</td>\n",
       "      <td>282689</td>\n",
       "      <td>23</td>\n",
       "      <td>8.88</td>\n",
       "      <td>543639</td>\n",
       "      <td>432</td>\n",
       "      <td>2025-01-26T03:56:56Z</td>\n",
       "    </tr>\n",
       "    <tr>\n",
       "      <th>1847</th>\n",
       "      <td>銀魂. 銀ノ魂篇 後半戦</td>\n",
       "      <td>https://cdn.myanimelist.net/images/anime/1776/...</td>\n",
       "      <td>[Action, Comedy, Sci-Fi]</td>\n",
       "      <td>Gintama. Silver Soul Arc - Second Half War</td>\n",
       "      <td>37491</td>\n",
       "      <td>Gintama. Shirogane no Tamashii-hen - Kouhan-sen</td>\n",
       "      <td>https://myanimelist.net/anime/37491/Gintama_Sh...</td>\n",
       "      <td>[https://myanimelist.net/anime/producer/1258/B...</td>\n",
       "      <td>[Bandai Namco Pictures]</td>\n",
       "      <td>[]</td>\n",
       "      <td>[]</td>\n",
       "      <td>1062</td>\n",
       "      <td>100008</td>\n",
       "      <td>22</td>\n",
       "      <td>8.88</td>\n",
       "      <td>208331</td>\n",
       "      <td>1229</td>\n",
       "      <td>2025-01-26T03:56:56Z</td>\n",
       "    </tr>\n",
       "    <tr>\n",
       "      <th>1848</th>\n",
       "      <td>モンスター</td>\n",
       "      <td>https://cdn.myanimelist.net/images/anime/10/18...</td>\n",
       "      <td>[Drama, Mystery, Suspense]</td>\n",
       "      <td>Monster</td>\n",
       "      <td>19</td>\n",
       "      <td>Monster</td>\n",
       "      <td>https://myanimelist.net/anime/19/Monster</td>\n",
       "      <td>[https://myanimelist.net/anime/producer/11/Mad...</td>\n",
       "      <td>[Madhouse]</td>\n",
       "      <td>[https://myanimelist.net/anime/producer/119/VI...</td>\n",
       "      <td>[VIZ Media]</td>\n",
       "      <td>56275</td>\n",
       "      <td>453619</td>\n",
       "      <td>24</td>\n",
       "      <td>8.88</td>\n",
       "      <td>1198905</td>\n",
       "      <td>126</td>\n",
       "      <td>2025-01-26T03:56:56Z</td>\n",
       "    </tr>\n",
       "    <tr>\n",
       "      <th>1849</th>\n",
       "      <td>進撃の巨人 The Final Season完結編</td>\n",
       "      <td>https://cdn.myanimelist.net/images/anime/1279/...</td>\n",
       "      <td>[Action, Drama, Suspense]</td>\n",
       "      <td>Attack on Titan: Final Season - The Final Chap...</td>\n",
       "      <td>51535</td>\n",
       "      <td>Shingeki no Kyojin: The Final Season - Kankets...</td>\n",
       "      <td>https://myanimelist.net/anime/51535/Shingeki_n...</td>\n",
       "      <td>[https://myanimelist.net/anime/producer/569/MA...</td>\n",
       "      <td>[MAPPA]</td>\n",
       "      <td>[https://myanimelist.net/anime/producer/102/Fu...</td>\n",
       "      <td>[Funimation]</td>\n",
       "      <td>16235</td>\n",
       "      <td>436041</td>\n",
       "      <td>26</td>\n",
       "      <td>8.87</td>\n",
       "      <td>733136</td>\n",
       "      <td>291</td>\n",
       "      <td>2025-01-26T03:56:56Z</td>\n",
       "    </tr>\n",
       "  </tbody>\n",
       "</table>\n",
       "<p>1850 rows × 18 columns</p>\n",
       "</div>"
      ],
      "text/plain": [
       "                  title_japanese  \\\n",
       "0                       葬送のフリーレン   \n",
       "1     鋼の錬金術師 FULLMETAL ALCHEMIST   \n",
       "2           ONE PIECE FAN LETTER   \n",
       "3                    STEINS;GATE   \n",
       "4           進撃の巨人 Season3 Part.2   \n",
       "...                          ...   \n",
       "1845         劇場版 銀魂 完結篇 万事屋よ永遠なれ   \n",
       "1846                    薬屋のひとりごと   \n",
       "1847                銀魂. 銀ノ魂篇 後半戦   \n",
       "1848                       モンスター   \n",
       "1849   進撃の巨人 The Final Season完結編   \n",
       "\n",
       "                                              image_url  \\\n",
       "0     https://cdn.myanimelist.net/images/anime/1015/...   \n",
       "1     https://cdn.myanimelist.net/images/anime/1208/...   \n",
       "2     https://cdn.myanimelist.net/images/anime/1455/...   \n",
       "3     https://cdn.myanimelist.net/images/anime/1935/...   \n",
       "4     https://cdn.myanimelist.net/images/anime/1517/...   \n",
       "...                                                 ...   \n",
       "1845  https://cdn.myanimelist.net/images/anime/10/51...   \n",
       "1846  https://cdn.myanimelist.net/images/anime/1708/...   \n",
       "1847  https://cdn.myanimelist.net/images/anime/1776/...   \n",
       "1848  https://cdn.myanimelist.net/images/anime/10/18...   \n",
       "1849  https://cdn.myanimelist.net/images/anime/1279/...   \n",
       "\n",
       "                                   genres  \\\n",
       "0             [Adventure, Drama, Fantasy]   \n",
       "1     [Action, Adventure, Drama, Fantasy]   \n",
       "2            [Action, Adventure, Fantasy]   \n",
       "3               [Drama, Sci-Fi, Suspense]   \n",
       "4               [Action, Drama, Suspense]   \n",
       "...                                   ...   \n",
       "1845             [Action, Comedy, Sci-Fi]   \n",
       "1846                     [Drama, Mystery]   \n",
       "1847             [Action, Comedy, Sci-Fi]   \n",
       "1848           [Drama, Mystery, Suspense]   \n",
       "1849            [Action, Drama, Suspense]   \n",
       "\n",
       "                                          title_english mal_id  \\\n",
       "0                         Frieren: Beyond Journey's End  52991   \n",
       "1                      Fullmetal Alchemist: Brotherhood   5114   \n",
       "2                                                  None  60022   \n",
       "3                                           Steins;Gate   9253   \n",
       "4                       Attack on Titan Season 3 Part 2  38524   \n",
       "...                                                 ...    ...   \n",
       "1845  Gintama: The Movie: The Final Chapter: Be Fore...  15335   \n",
       "1846                             The Apothecary Diaries  54492   \n",
       "1847         Gintama. Silver Soul Arc - Second Half War  37491   \n",
       "1848                                            Monster     19   \n",
       "1849  Attack on Titan: Final Season - The Final Chap...  51535   \n",
       "\n",
       "                                                  title  \\\n",
       "0                                     Sousou no Frieren   \n",
       "1                      Fullmetal Alchemist: Brotherhood   \n",
       "2                                  One Piece Fan Letter   \n",
       "3                                           Steins;Gate   \n",
       "4                    Shingeki no Kyojin Season 3 Part 2   \n",
       "...                                                 ...   \n",
       "1845  Gintama Movie 2: Kanketsu-hen - Yorozuya yo Ei...   \n",
       "1846                             Kusuriya no Hitorigoto   \n",
       "1847    Gintama. Shirogane no Tamashii-hen - Kouhan-sen   \n",
       "1848                                            Monster   \n",
       "1849  Shingeki no Kyojin: The Final Season - Kankets...   \n",
       "\n",
       "                                                    url  \\\n",
       "0     https://myanimelist.net/anime/52991/Sousou_no_...   \n",
       "1     https://myanimelist.net/anime/5114/Fullmetal_A...   \n",
       "2     https://myanimelist.net/anime/60022/One_Piece_...   \n",
       "3        https://myanimelist.net/anime/9253/Steins_Gate   \n",
       "4     https://myanimelist.net/anime/38524/Shingeki_n...   \n",
       "...                                                 ...   \n",
       "1845  https://myanimelist.net/anime/15335/Gintama_Mo...   \n",
       "1846  https://myanimelist.net/anime/54492/Kusuriya_n...   \n",
       "1847  https://myanimelist.net/anime/37491/Gintama_Sh...   \n",
       "1848           https://myanimelist.net/anime/19/Monster   \n",
       "1849  https://myanimelist.net/anime/51535/Shingeki_n...   \n",
       "\n",
       "                                           studios.urls  \\\n",
       "0     [https://myanimelist.net/anime/producer/11/Mad...   \n",
       "1      [https://myanimelist.net/anime/producer/4/Bones]   \n",
       "2     [https://myanimelist.net/anime/producer/18/Toe...   \n",
       "3     [https://myanimelist.net/anime/producer/314/Wh...   \n",
       "4     [https://myanimelist.net/anime/producer/858/Wi...   \n",
       "...                                                 ...   \n",
       "1845  [https://myanimelist.net/anime/producer/14/Sun...   \n",
       "1846  [https://myanimelist.net/anime/producer/28/OLM...   \n",
       "1847  [https://myanimelist.net/anime/producer/1258/B...   \n",
       "1848  [https://myanimelist.net/anime/producer/11/Mad...   \n",
       "1849  [https://myanimelist.net/anime/producer/569/MA...   \n",
       "\n",
       "                     studios.names  \\\n",
       "0                       [Madhouse]   \n",
       "1                          [Bones]   \n",
       "2                 [Toei Animation]   \n",
       "3                      [White Fox]   \n",
       "4                     [Wit Studio]   \n",
       "...                            ...   \n",
       "1845                     [Sunrise]   \n",
       "1846  [OLM, TOHO animation STUDIO]   \n",
       "1847       [Bandai Namco Pictures]   \n",
       "1848                    [Madhouse]   \n",
       "1849                       [MAPPA]   \n",
       "\n",
       "                                         licensors.urls  \\\n",
       "0     [https://myanimelist.net/anime/producer/1468/C...   \n",
       "1     [https://myanimelist.net/anime/producer/102/Fu...   \n",
       "2                                                    []   \n",
       "3     [https://myanimelist.net/anime/producer/102/Fu...   \n",
       "4     [https://myanimelist.net/anime/producer/102/Fu...   \n",
       "...                                                 ...   \n",
       "1845                                                 []   \n",
       "1846  [https://myanimelist.net/anime/producer/1468/C...   \n",
       "1847                                                 []   \n",
       "1848  [https://myanimelist.net/anime/producer/119/VI...   \n",
       "1849  [https://myanimelist.net/anime/producer/102/Fu...   \n",
       "\n",
       "                       licensors.names statistics.favorites  \\\n",
       "0                        [Crunchyroll]                61056   \n",
       "1     [Funimation, Aniplex of America]               231137   \n",
       "2                                   []                 1906   \n",
       "3                         [Funimation]               193789   \n",
       "4                         [Funimation]                60298   \n",
       "...                                ...                  ...   \n",
       "1845                                []                 2123   \n",
       "1846                     [Crunchyroll]                15930   \n",
       "1847                                []                 1062   \n",
       "1848                       [VIZ Media]                56275   \n",
       "1849                      [Funimation]                16235   \n",
       "\n",
       "     statistics.scored_by statistics.rank statistics.score statistics.members  \\\n",
       "0                  583970               1             9.31            1007399   \n",
       "1                 2187771               2              9.1            3468468   \n",
       "2                   63986               3             9.07              84069   \n",
       "3                 1444184               4             9.07            2656952   \n",
       "4                 1661812               5             9.05            2394326   \n",
       "...                   ...             ...              ...                ...   \n",
       "1845               138846              21              8.9             248145   \n",
       "1846               282689              23             8.88             543639   \n",
       "1847               100008              22             8.88             208331   \n",
       "1848               453619              24             8.88            1198905   \n",
       "1849               436041              26             8.87             733136   \n",
       "\n",
       "     statistics.popularity             timestamp  \n",
       "0                      166  2025-01-27T02:26:56Z  \n",
       "1                        3  2025-01-27T02:26:56Z  \n",
       "2                     2462  2025-01-27T02:26:56Z  \n",
       "3                       14  2025-01-27T02:26:56Z  \n",
       "4                       21  2025-01-27T02:26:56Z  \n",
       "...                    ...                   ...  \n",
       "1845                  1031  2025-01-26T03:56:56Z  \n",
       "1846                   432  2025-01-26T03:56:56Z  \n",
       "1847                  1229  2025-01-26T03:56:56Z  \n",
       "1848                   126  2025-01-26T03:56:56Z  \n",
       "1849                   291  2025-01-26T03:56:56Z  \n",
       "\n",
       "[1850 rows x 18 columns]"
      ]
     },
     "execution_count": 3,
     "metadata": {},
     "output_type": "execute_result"
    }
   ],
   "source": [
    "data = get_analytics_data()\n",
    "df = data['top_25']\n",
    "df"
   ]
  },
  {
   "cell_type": "code",
   "execution_count": 4,
   "metadata": {},
   "outputs": [],
   "source": [
    "def members_line_plot(data):\n",
    "    \"\"\"\n",
    "    Function to create a line plot of the differences in members data over time,\n",
    "    showing the most recent day and allowing scrolling back for the past 100 days.\n",
    "    \"\"\"\n",
    "\n",
    "    # Ensure timestamp is in datetime format\n",
    "    data['timestamp'] = pd.to_datetime(data['timestamp'])\n",
    "\n",
    "    # Calculate the difference in 'statistics.members' for each anime\n",
    "    data['members_diff'] = data.groupby('title')['statistics.members'].diff()\n",
    "\n",
    "    # Sort by timestamp\n",
    "    data.sort_values(by='timestamp', inplace=True)\n",
    "\n",
    "    # Find the most recent timestamp and calculate the 100-day range\n",
    "    most_recent_date = data['timestamp'].max()\n",
    "    start_date = most_recent_date - pd.Timedelta(days=1)\n",
    "\n",
    "    # Create the Plotly line plot\n",
    "    fig = px.line(\n",
    "        data,\n",
    "        x='timestamp',\n",
    "        y='members_diff',\n",
    "        color='title',\n",
    "        title=\"Change in Members Over Time by Anime\",\n",
    "        labels={\n",
    "            \"timestamp\": \"Timestamp\",\n",
    "            \"members_diff\": \"Change in Members\",\n",
    "            \"title\": \"Anime Title\"\n",
    "        },\n",
    "    )\n",
    "\n",
    "    # Update the x-axis range and add grid lines\n",
    "    fig.update_layout(\n",
    "        xaxis=dict(\n",
    "            range=[start_date, most_recent_date],\n",
    "            showgrid=True,\n",
    "            rangeslider=dict(visible=True)  # Enable range slider for easier navigation\n",
    "        ),\n",
    "        yaxis=dict(showgrid=True),\n",
    "    )\n",
    "\n",
    "    return fig\n"
   ]
  },
  {
   "cell_type": "code",
   "execution_count": 5,
   "metadata": {},
   "outputs": [
    {
     "data": {
      "application/vnd.plotly.v1+json": {
       "config": {
        "plotlyServerURL": "https://plot.ly"
       },
       "data": [
        {
         "hovertemplate": "Anime Title=3-gatsu no Lion 2nd Season<br>Timestamp=%{x}<br>Change in Members=%{y}<extra></extra>",
         "legendgroup": "3-gatsu no Lion 2nd Season",
         "line": {
          "color": "#636efa",
          "dash": "solid"
         },
         "marker": {
          "symbol": "circle"
         },
         "mode": "lines",
         "name": "3-gatsu no Lion 2nd Season",
         "showlegend": true,
         "type": "scattergl",
         "x": [
          "2025-01-22T08:24:01+00:00",
          "2025-01-22T08:26:52+00:00",
          "2025-01-22T08:28:18+00:00",
          "2025-01-22T12:26:56+00:00",
          "2025-01-22T12:56:56+00:00",
          "2025-01-22T16:26:56+00:00",
          "2025-01-22T18:56:56+00:00",
          "2025-01-22T20:26:56+00:00",
          "2025-01-22T23:56:56+00:00",
          "2025-01-23T00:56:56+00:00",
          "2025-01-23T03:56:56+00:00",
          "2025-01-23T07:26:56+00:00",
          "2025-01-23T10:26:56+00:00",
          "2025-01-23T12:26:56+00:00",
          "2025-01-23T13:56:56+00:00",
          "2025-01-23T17:26:56+00:00",
          "2025-01-24T00:56:56+00:00",
          "2025-01-24T03:56:56+00:00",
          "2025-01-24T05:26:56+00:00",
          "2025-01-24T06:26:56+00:00",
          "2025-01-24T07:26:56+00:00",
          "2025-01-24T07:56:55+00:00",
          "2025-01-24T09:56:56+00:00",
          "2025-01-24T13:56:56+00:00",
          "2025-01-24T14:26:56+00:00",
          "2025-01-24T16:26:56+00:00",
          "2025-01-24T18:26:57+00:00",
          "2025-01-24T21:26:56+00:00",
          "2025-01-25T00:56:56+00:00",
          "2025-01-25T01:26:56+00:00",
          "2025-01-25T01:56:55+00:00",
          "2025-01-25T02:56:56+00:00",
          "2025-01-25T04:56:56+00:00",
          "2025-01-25T05:56:56+00:00",
          "2025-01-25T06:26:55+00:00",
          "2025-01-25T06:56:56+00:00",
          "2025-01-25T10:56:56+00:00",
          "2025-01-25T16:56:56+00:00",
          "2025-01-25T17:26:56+00:00",
          "2025-01-25T18:26:56+00:00",
          "2025-01-25T22:26:56+00:00",
          "2025-01-25T23:26:56+00:00",
          "2025-01-25T23:56:56+00:00",
          "2025-01-26T00:56:56+00:00",
          "2025-01-26T03:26:56+00:00",
          "2025-01-26T03:56:56+00:00",
          "2025-01-26T06:26:56+00:00",
          "2025-01-26T10:56:56+00:00",
          "2025-01-26T12:56:56+00:00",
          "2025-01-26T13:56:56+00:00",
          "2025-01-26T15:26:56+00:00",
          "2025-01-26T15:56:56+00:00",
          "2025-01-26T19:56:56+00:00",
          "2025-01-26T21:26:56+00:00",
          "2025-01-26T22:56:56+00:00",
          "2025-01-27T02:26:56+00:00",
          "2025-01-27T03:56:56+00:00",
          "2025-01-27T04:56:56+00:00",
          "2025-01-27T06:26:56+00:00",
          "2025-01-27T06:56:56+00:00",
          "2025-01-27T08:56:56+00:00",
          "2025-01-27T09:56:56+00:00",
          "2025-01-27T11:56:55+00:00",
          "2025-01-27T13:26:56+00:00",
          "2025-01-27T15:56:56+00:00",
          "2025-01-27T18:26:56+00:00",
          "2025-01-27T19:56:57+00:00",
          "2025-01-27T20:26:56+00:00",
          "2025-01-27T20:56:56+00:00",
          "2025-01-27T23:56:56+00:00",
          "2025-01-28T00:56:56+00:00",
          "2025-01-28T02:56:56+00:00",
          "2025-01-28T03:56:56+00:00",
          "2025-01-28T04:56:56+00:00"
         ],
         "xaxis": "x",
         "y": [
          -154,
          -90,
          0,
          -216,
          -42,
          -42,
          -138,
          -48,
          -138,
          -112,
          -138,
          -112,
          -242,
          -48,
          -138,
          -112,
          -126,
          48,
          -126,
          90,
          -126,
          0,
          -64,
          -126,
          90,
          -64,
          0,
          -62,
          112,
          -26,
          0,
          -130,
          154,
          -62,
          -62,
          64,
          112,
          112,
          -26,
          -62,
          26,
          0,
          90,
          -36,
          138,
          26,
          180,
          -36,
          90,
          138,
          -36,
          -36,
          -104,
          0,
          36,
          null,
          174,
          36,
          0,
          36,
          -68,
          62,
          36,
          126,
          -68,
          62,
          126,
          174,
          216,
          130,
          68,
          194,
          104,
          130
         ],
         "yaxis": "y"
        },
        {
         "hovertemplate": "Anime Title=Sousou no Frieren<br>Timestamp=%{x}<br>Change in Members=%{y}<extra></extra>",
         "legendgroup": "Sousou no Frieren",
         "line": {
          "color": "#EF553B",
          "dash": "solid"
         },
         "marker": {
          "symbol": "circle"
         },
         "mode": "lines",
         "name": "Sousou no Frieren",
         "showlegend": true,
         "type": "scattergl",
         "x": [
          "2025-01-22T08:24:01+00:00",
          "2025-01-22T08:26:52+00:00",
          "2025-01-22T08:28:18+00:00",
          "2025-01-22T12:26:56+00:00",
          "2025-01-22T12:56:56+00:00",
          "2025-01-22T16:26:56+00:00",
          "2025-01-22T18:56:56+00:00",
          "2025-01-22T20:26:56+00:00",
          "2025-01-22T23:56:56+00:00",
          "2025-01-23T00:56:56+00:00",
          "2025-01-23T03:56:56+00:00",
          "2025-01-23T07:26:56+00:00",
          "2025-01-23T10:26:56+00:00",
          "2025-01-23T12:26:56+00:00",
          "2025-01-23T13:56:56+00:00",
          "2025-01-23T17:26:56+00:00",
          "2025-01-24T00:56:56+00:00",
          "2025-01-24T03:56:56+00:00",
          "2025-01-24T05:26:56+00:00",
          "2025-01-24T06:26:56+00:00",
          "2025-01-24T07:26:56+00:00",
          "2025-01-24T07:56:55+00:00",
          "2025-01-24T09:56:56+00:00",
          "2025-01-24T13:56:56+00:00",
          "2025-01-24T14:26:56+00:00",
          "2025-01-24T16:26:56+00:00",
          "2025-01-24T18:26:57+00:00",
          "2025-01-24T21:26:56+00:00",
          "2025-01-25T00:56:56+00:00",
          "2025-01-25T01:26:56+00:00",
          "2025-01-25T01:56:55+00:00",
          "2025-01-25T02:56:56+00:00",
          "2025-01-25T04:56:56+00:00",
          "2025-01-25T05:56:56+00:00",
          "2025-01-25T06:26:55+00:00",
          "2025-01-25T06:56:56+00:00",
          "2025-01-25T10:56:56+00:00",
          "2025-01-25T16:56:56+00:00",
          "2025-01-25T17:26:56+00:00",
          "2025-01-25T18:26:56+00:00",
          "2025-01-25T22:26:56+00:00",
          "2025-01-25T23:26:56+00:00",
          "2025-01-25T23:56:56+00:00",
          "2025-01-26T00:56:56+00:00",
          "2025-01-26T03:26:56+00:00",
          "2025-01-26T03:56:56+00:00",
          "2025-01-26T06:26:56+00:00",
          "2025-01-26T10:56:56+00:00",
          "2025-01-26T12:56:56+00:00",
          "2025-01-26T13:56:56+00:00",
          "2025-01-26T15:26:56+00:00",
          "2025-01-26T15:56:56+00:00",
          "2025-01-26T19:56:56+00:00",
          "2025-01-26T21:26:56+00:00",
          "2025-01-26T22:56:56+00:00",
          "2025-01-27T02:26:56+00:00",
          "2025-01-27T03:56:56+00:00",
          "2025-01-27T04:56:56+00:00",
          "2025-01-27T06:26:56+00:00",
          "2025-01-27T06:56:56+00:00",
          "2025-01-27T08:56:56+00:00",
          "2025-01-27T09:56:56+00:00",
          "2025-01-27T11:56:55+00:00",
          "2025-01-27T13:26:56+00:00",
          "2025-01-27T15:56:56+00:00",
          "2025-01-27T18:26:56+00:00",
          "2025-01-27T19:56:57+00:00",
          "2025-01-27T20:26:56+00:00",
          "2025-01-27T20:56:56+00:00",
          "2025-01-27T23:56:56+00:00",
          "2025-01-28T00:56:56+00:00",
          "2025-01-28T02:56:56+00:00",
          "2025-01-28T03:56:56+00:00",
          "2025-01-28T04:56:56+00:00"
         ],
         "xaxis": "x",
         "y": [
          -2658,
          -1570,
          -835,
          -4184,
          -1570,
          0,
          -2594,
          -735,
          -3349,
          -1823,
          -3349,
          -1823,
          -4635,
          -1823,
          -1859,
          -1088,
          -2614,
          735,
          -3900,
          1570,
          -3900,
          0,
          -1088,
          -1526,
          2658,
          0,
          1088,
          -1526,
          1823,
          -771,
          -771,
          -2812,
          2658,
          -2812,
          -1526,
          0,
          1823,
          2594,
          -755,
          -755,
          771,
          0,
          1859,
          -755,
          1859,
          771,
          3429,
          -755,
          771,
          2594,
          -1286,
          0,
          -1286,
          -1286,
          755,
          null,
          3349,
          755,
          0,
          755,
          -1286,
          1526,
          755,
          2614,
          0,
          2812,
          3900,
          4635,
          5470,
          2041,
          1286,
          2812,
          2041,
          2041
         ],
         "yaxis": "y"
        },
        {
         "hovertemplate": "Anime Title=Fullmetal Alchemist: Brotherhood<br>Timestamp=%{x}<br>Change in Members=%{y}<extra></extra>",
         "legendgroup": "Fullmetal Alchemist: Brotherhood",
         "line": {
          "color": "#00cc96",
          "dash": "solid"
         },
         "marker": {
          "symbol": "circle"
         },
         "mode": "lines",
         "name": "Fullmetal Alchemist: Brotherhood",
         "showlegend": true,
         "type": "scattergl",
         "x": [
          "2025-01-22T08:24:01+00:00",
          "2025-01-22T08:26:52+00:00",
          "2025-01-22T08:28:18+00:00",
          "2025-01-22T12:26:56+00:00",
          "2025-01-22T12:56:56+00:00",
          "2025-01-22T16:26:56+00:00",
          "2025-01-22T18:56:56+00:00",
          "2025-01-22T20:26:56+00:00",
          "2025-01-22T23:56:56+00:00",
          "2025-01-23T00:56:56+00:00",
          "2025-01-23T03:56:56+00:00",
          "2025-01-23T07:26:56+00:00",
          "2025-01-23T10:26:56+00:00",
          "2025-01-23T12:26:56+00:00",
          "2025-01-23T13:56:56+00:00",
          "2025-01-23T17:26:56+00:00",
          "2025-01-24T00:56:56+00:00",
          "2025-01-24T03:56:56+00:00",
          "2025-01-24T05:26:56+00:00",
          "2025-01-24T06:26:56+00:00",
          "2025-01-24T07:26:56+00:00",
          "2025-01-24T07:56:55+00:00",
          "2025-01-24T09:56:56+00:00",
          "2025-01-24T13:56:56+00:00",
          "2025-01-24T14:26:56+00:00",
          "2025-01-24T16:26:56+00:00",
          "2025-01-24T18:26:57+00:00",
          "2025-01-24T21:26:56+00:00",
          "2025-01-25T00:56:56+00:00",
          "2025-01-25T01:26:56+00:00",
          "2025-01-25T01:56:55+00:00",
          "2025-01-25T02:56:56+00:00",
          "2025-01-25T04:56:56+00:00",
          "2025-01-25T05:56:56+00:00",
          "2025-01-25T06:26:55+00:00",
          "2025-01-25T06:56:56+00:00",
          "2025-01-25T10:56:56+00:00",
          "2025-01-25T16:56:56+00:00",
          "2025-01-25T17:26:56+00:00",
          "2025-01-25T18:26:56+00:00",
          "2025-01-25T22:26:56+00:00",
          "2025-01-25T23:26:56+00:00",
          "2025-01-25T23:56:56+00:00",
          "2025-01-26T00:56:56+00:00",
          "2025-01-26T03:26:56+00:00",
          "2025-01-26T03:56:56+00:00",
          "2025-01-26T06:26:56+00:00",
          "2025-01-26T10:56:56+00:00",
          "2025-01-26T12:56:56+00:00",
          "2025-01-26T13:56:56+00:00",
          "2025-01-26T15:26:56+00:00",
          "2025-01-26T15:56:56+00:00",
          "2025-01-26T19:56:56+00:00",
          "2025-01-26T21:26:56+00:00",
          "2025-01-26T22:56:56+00:00",
          "2025-01-27T02:26:56+00:00",
          "2025-01-27T03:56:56+00:00",
          "2025-01-27T04:56:56+00:00",
          "2025-01-27T06:26:56+00:00",
          "2025-01-27T06:56:56+00:00",
          "2025-01-27T08:56:56+00:00",
          "2025-01-27T09:56:56+00:00",
          "2025-01-27T11:56:55+00:00",
          "2025-01-27T13:26:56+00:00",
          "2025-01-27T15:56:56+00:00",
          "2025-01-27T18:26:56+00:00",
          "2025-01-27T19:56:57+00:00",
          "2025-01-27T20:26:56+00:00",
          "2025-01-27T20:56:56+00:00",
          "2025-01-27T23:56:56+00:00",
          "2025-01-28T00:56:56+00:00",
          "2025-01-28T02:56:56+00:00",
          "2025-01-28T03:56:56+00:00",
          "2025-01-28T04:56:56+00:00"
         ],
         "xaxis": "x",
         "y": [
          -1338,
          -789,
          -384,
          -2107,
          -789,
          0,
          -1327,
          -405,
          -1723,
          -954,
          -1327,
          -954,
          -2352,
          -405,
          -1327,
          -549,
          -1318,
          405,
          -1947,
          789,
          -1947,
          0,
          -549,
          -1318,
          789,
          0,
          549,
          -769,
          954,
          -373,
          -373,
          -1398,
          1338,
          -1398,
          -769,
          0,
          954,
          1327,
          -396,
          -396,
          373,
          0,
          922,
          -396,
          1327,
          373,
          1711,
          -396,
          373,
          1327,
          -1025,
          0,
          -629,
          -629,
          396,
          null,
          1723,
          396,
          0,
          396,
          -629,
          769,
          396,
          1318,
          0,
          1398,
          1947,
          2352,
          2736,
          1025,
          629,
          1947,
          1025,
          1025
         ],
         "yaxis": "y"
        },
        {
         "hovertemplate": "Anime Title=One Piece Fan Letter<br>Timestamp=%{x}<br>Change in Members=%{y}<extra></extra>",
         "legendgroup": "One Piece Fan Letter",
         "line": {
          "color": "#ab63fa",
          "dash": "solid"
         },
         "marker": {
          "symbol": "circle"
         },
         "mode": "lines",
         "name": "One Piece Fan Letter",
         "showlegend": true,
         "type": "scattergl",
         "x": [
          "2025-01-22T08:24:01+00:00",
          "2025-01-22T08:26:52+00:00",
          "2025-01-22T08:28:18+00:00",
          "2025-01-22T12:26:56+00:00",
          "2025-01-22T12:56:56+00:00",
          "2025-01-22T16:26:56+00:00",
          "2025-01-22T18:56:56+00:00",
          "2025-01-22T20:26:56+00:00",
          "2025-01-22T23:56:56+00:00",
          "2025-01-23T00:56:56+00:00",
          "2025-01-23T03:56:56+00:00",
          "2025-01-23T07:26:56+00:00",
          "2025-01-23T10:26:56+00:00",
          "2025-01-23T12:26:56+00:00",
          "2025-01-23T13:56:56+00:00",
          "2025-01-23T17:26:56+00:00",
          "2025-01-24T00:56:56+00:00",
          "2025-01-24T03:56:56+00:00",
          "2025-01-24T05:26:56+00:00",
          "2025-01-24T06:26:56+00:00",
          "2025-01-24T07:26:56+00:00",
          "2025-01-24T07:56:55+00:00",
          "2025-01-24T09:56:56+00:00",
          "2025-01-24T13:56:56+00:00",
          "2025-01-24T14:26:56+00:00",
          "2025-01-24T16:26:56+00:00",
          "2025-01-24T18:26:57+00:00",
          "2025-01-24T21:26:56+00:00",
          "2025-01-25T00:56:56+00:00",
          "2025-01-25T01:26:56+00:00",
          "2025-01-25T01:56:55+00:00",
          "2025-01-25T02:56:56+00:00",
          "2025-01-25T04:56:56+00:00",
          "2025-01-25T05:56:56+00:00",
          "2025-01-25T06:26:55+00:00",
          "2025-01-25T06:56:56+00:00",
          "2025-01-25T10:56:56+00:00",
          "2025-01-25T16:56:56+00:00",
          "2025-01-25T17:26:56+00:00",
          "2025-01-25T18:26:56+00:00",
          "2025-01-25T22:26:56+00:00",
          "2025-01-25T23:26:56+00:00",
          "2025-01-25T23:56:56+00:00",
          "2025-01-26T00:56:56+00:00",
          "2025-01-26T03:26:56+00:00",
          "2025-01-26T03:56:56+00:00",
          "2025-01-26T06:26:56+00:00",
          "2025-01-26T10:56:56+00:00",
          "2025-01-26T12:56:56+00:00",
          "2025-01-26T13:56:56+00:00",
          "2025-01-26T15:26:56+00:00",
          "2025-01-26T15:56:56+00:00",
          "2025-01-26T19:56:56+00:00",
          "2025-01-26T21:26:56+00:00",
          "2025-01-26T22:56:56+00:00",
          "2025-01-27T02:26:56+00:00",
          "2025-01-27T03:56:56+00:00",
          "2025-01-27T04:56:56+00:00",
          "2025-01-27T06:26:56+00:00",
          "2025-01-27T06:56:56+00:00",
          "2025-01-27T08:56:56+00:00",
          "2025-01-27T09:56:56+00:00",
          "2025-01-27T11:56:55+00:00",
          "2025-01-27T13:26:56+00:00",
          "2025-01-27T15:56:56+00:00",
          "2025-01-27T18:26:56+00:00",
          "2025-01-27T19:56:57+00:00",
          "2025-01-27T20:26:56+00:00",
          "2025-01-27T20:56:56+00:00",
          "2025-01-27T23:56:56+00:00",
          "2025-01-28T00:56:56+00:00",
          "2025-01-28T02:56:56+00:00",
          "2025-01-28T03:56:56+00:00",
          "2025-01-28T04:56:56+00:00"
         ],
         "xaxis": "x",
         "y": [
          -736,
          -535,
          0,
          -1220,
          -341,
          -341,
          -699,
          -194,
          -699,
          -395,
          -699,
          -395,
          -1170,
          -194,
          -699,
          -395,
          -685,
          194,
          -685,
          535,
          -685,
          0,
          -201,
          -685,
          535,
          -201,
          0,
          -484,
          395,
          -304,
          0,
          -775,
          736,
          -484,
          -484,
          201,
          395,
          395,
          -304,
          -484,
          304,
          0,
          505,
          -180,
          699,
          304,
          1040,
          -180,
          505,
          699,
          -180,
          -180,
          -471,
          0,
          180,
          null,
          879,
          180,
          0,
          180,
          -291,
          484,
          180,
          685,
          -291,
          484,
          685,
          879,
          1220,
          775,
          291,
          976,
          471,
          775
         ],
         "yaxis": "y"
        },
        {
         "hovertemplate": "Anime Title=Steins;Gate<br>Timestamp=%{x}<br>Change in Members=%{y}<extra></extra>",
         "legendgroup": "Steins;Gate",
         "line": {
          "color": "#FFA15A",
          "dash": "solid"
         },
         "marker": {
          "symbol": "circle"
         },
         "mode": "lines",
         "name": "Steins;Gate",
         "showlegend": true,
         "type": "scattergl",
         "x": [
          "2025-01-22T08:24:01+00:00",
          "2025-01-22T08:26:52+00:00",
          "2025-01-22T08:28:18+00:00",
          "2025-01-22T12:26:56+00:00",
          "2025-01-22T12:56:56+00:00",
          "2025-01-22T16:26:56+00:00",
          "2025-01-22T18:56:56+00:00",
          "2025-01-22T20:26:56+00:00",
          "2025-01-22T23:56:56+00:00",
          "2025-01-23T00:56:56+00:00",
          "2025-01-23T03:56:56+00:00",
          "2025-01-23T07:26:56+00:00",
          "2025-01-23T10:26:56+00:00",
          "2025-01-23T12:26:56+00:00",
          "2025-01-23T13:56:56+00:00",
          "2025-01-23T17:26:56+00:00",
          "2025-01-24T00:56:56+00:00",
          "2025-01-24T03:56:56+00:00",
          "2025-01-24T05:26:56+00:00",
          "2025-01-24T06:26:56+00:00",
          "2025-01-24T07:26:56+00:00",
          "2025-01-24T07:56:55+00:00",
          "2025-01-24T09:56:56+00:00",
          "2025-01-24T13:56:56+00:00",
          "2025-01-24T14:26:56+00:00",
          "2025-01-24T16:26:56+00:00",
          "2025-01-24T18:26:57+00:00",
          "2025-01-24T21:26:56+00:00",
          "2025-01-25T00:56:56+00:00",
          "2025-01-25T01:26:56+00:00",
          "2025-01-25T01:56:55+00:00",
          "2025-01-25T02:56:56+00:00",
          "2025-01-25T04:56:56+00:00",
          "2025-01-25T05:56:56+00:00",
          "2025-01-25T06:26:55+00:00",
          "2025-01-25T06:56:56+00:00",
          "2025-01-25T10:56:56+00:00",
          "2025-01-25T16:56:56+00:00",
          "2025-01-25T17:26:56+00:00",
          "2025-01-25T18:26:56+00:00",
          "2025-01-25T22:26:56+00:00",
          "2025-01-25T23:26:56+00:00",
          "2025-01-25T23:56:56+00:00",
          "2025-01-26T00:56:56+00:00",
          "2025-01-26T03:26:56+00:00",
          "2025-01-26T03:56:56+00:00",
          "2025-01-26T06:26:56+00:00",
          "2025-01-26T10:56:56+00:00",
          "2025-01-26T12:56:56+00:00",
          "2025-01-26T13:56:56+00:00",
          "2025-01-26T15:26:56+00:00",
          "2025-01-26T15:56:56+00:00",
          "2025-01-26T19:56:56+00:00",
          "2025-01-26T21:26:56+00:00",
          "2025-01-26T22:56:56+00:00",
          "2025-01-27T02:26:56+00:00",
          "2025-01-27T03:56:56+00:00",
          "2025-01-27T04:56:56+00:00",
          "2025-01-27T06:26:56+00:00",
          "2025-01-27T06:56:56+00:00",
          "2025-01-27T08:56:56+00:00",
          "2025-01-27T09:56:56+00:00",
          "2025-01-27T11:56:55+00:00",
          "2025-01-27T13:26:56+00:00",
          "2025-01-27T15:56:56+00:00",
          "2025-01-27T18:26:56+00:00",
          "2025-01-27T19:56:57+00:00",
          "2025-01-27T20:26:56+00:00",
          "2025-01-27T20:56:56+00:00",
          "2025-01-27T23:56:56+00:00",
          "2025-01-28T00:56:56+00:00",
          "2025-01-28T02:56:56+00:00",
          "2025-01-28T03:56:56+00:00",
          "2025-01-28T04:56:56+00:00"
         ],
         "xaxis": "x",
         "y": [
          -519,
          -519,
          0,
          -1476,
          -261,
          0,
          -1221,
          -519,
          -1221,
          -960,
          -960,
          -699,
          -1215,
          -258,
          -960,
          -699,
          -1215,
          258,
          -957,
          519,
          -957,
          0,
          -441,
          -957,
          519,
          0,
          258,
          -957,
          519,
          -441,
          -441,
          -1037,
          960,
          -516,
          -516,
          441,
          699,
          960,
          -261,
          -261,
          441,
          -261,
          441,
          -516,
          960,
          261,
          1221,
          -255,
          702,
          960,
          -255,
          0,
          -776,
          -255,
          261,
          null,
          1215,
          516,
          0,
          255,
          0,
          516,
          255,
          957,
          -521,
          957,
          957,
          1476,
          1476,
          516,
          255,
          1478,
          1037,
          1037
         ],
         "yaxis": "y"
        },
        {
         "hovertemplate": "Anime Title=Shingeki no Kyojin Season 3 Part 2<br>Timestamp=%{x}<br>Change in Members=%{y}<extra></extra>",
         "legendgroup": "Shingeki no Kyojin Season 3 Part 2",
         "line": {
          "color": "#19d3f3",
          "dash": "solid"
         },
         "marker": {
          "symbol": "circle"
         },
         "mode": "lines",
         "name": "Shingeki no Kyojin Season 3 Part 2",
         "showlegend": true,
         "type": "scattergl",
         "x": [
          "2025-01-22T08:24:01+00:00",
          "2025-01-22T08:26:52+00:00",
          "2025-01-22T08:28:18+00:00",
          "2025-01-22T12:26:56+00:00",
          "2025-01-22T12:56:56+00:00",
          "2025-01-22T16:26:56+00:00",
          "2025-01-22T18:56:56+00:00",
          "2025-01-22T20:26:56+00:00",
          "2025-01-22T23:56:56+00:00",
          "2025-01-23T00:56:56+00:00",
          "2025-01-23T03:56:56+00:00",
          "2025-01-23T07:26:56+00:00",
          "2025-01-23T10:26:56+00:00",
          "2025-01-23T12:26:56+00:00",
          "2025-01-23T13:56:56+00:00",
          "2025-01-23T17:26:56+00:00",
          "2025-01-24T00:56:56+00:00",
          "2025-01-24T03:56:56+00:00",
          "2025-01-24T05:26:56+00:00",
          "2025-01-24T06:26:56+00:00",
          "2025-01-24T07:26:56+00:00",
          "2025-01-24T07:56:55+00:00",
          "2025-01-24T09:56:56+00:00",
          "2025-01-24T13:56:56+00:00",
          "2025-01-24T14:26:56+00:00",
          "2025-01-24T16:26:56+00:00",
          "2025-01-24T18:26:57+00:00",
          "2025-01-24T21:26:56+00:00",
          "2025-01-25T00:56:56+00:00",
          "2025-01-25T01:26:56+00:00",
          "2025-01-25T01:56:55+00:00",
          "2025-01-25T02:56:56+00:00",
          "2025-01-25T04:56:56+00:00",
          "2025-01-25T05:56:56+00:00",
          "2025-01-25T06:26:55+00:00",
          "2025-01-25T06:56:56+00:00",
          "2025-01-25T10:56:56+00:00",
          "2025-01-25T16:56:56+00:00",
          "2025-01-25T17:26:56+00:00",
          "2025-01-25T18:26:56+00:00",
          "2025-01-25T22:26:56+00:00",
          "2025-01-25T23:26:56+00:00",
          "2025-01-25T23:56:56+00:00",
          "2025-01-26T00:56:56+00:00",
          "2025-01-26T03:26:56+00:00",
          "2025-01-26T03:56:56+00:00",
          "2025-01-26T06:26:56+00:00",
          "2025-01-26T10:56:56+00:00",
          "2025-01-26T12:56:56+00:00",
          "2025-01-26T13:56:56+00:00",
          "2025-01-26T15:26:56+00:00",
          "2025-01-26T15:56:56+00:00",
          "2025-01-26T19:56:56+00:00",
          "2025-01-26T21:26:56+00:00",
          "2025-01-26T22:56:56+00:00",
          "2025-01-27T02:26:56+00:00",
          "2025-01-27T03:56:56+00:00",
          "2025-01-27T04:56:56+00:00",
          "2025-01-27T06:26:56+00:00",
          "2025-01-27T06:56:56+00:00",
          "2025-01-27T08:56:56+00:00",
          "2025-01-27T09:56:56+00:00",
          "2025-01-27T11:56:55+00:00",
          "2025-01-27T13:26:56+00:00",
          "2025-01-27T15:56:56+00:00",
          "2025-01-27T18:26:56+00:00",
          "2025-01-27T19:56:57+00:00",
          "2025-01-27T20:26:56+00:00",
          "2025-01-27T20:56:56+00:00",
          "2025-01-27T23:56:56+00:00",
          "2025-01-28T00:56:56+00:00",
          "2025-01-28T02:56:56+00:00",
          "2025-01-28T03:56:56+00:00",
          "2025-01-28T04:56:56+00:00"
         ],
         "xaxis": "x",
         "y": [
          -844,
          -510,
          0,
          -2125,
          -510,
          0,
          -1722,
          -844,
          -1722,
          -1172,
          -1212,
          -662,
          -1615,
          -334,
          -1212,
          -662,
          -1615,
          0,
          -1281,
          844,
          -1281,
          0,
          0,
          -1281,
          844,
          0,
          334,
          -1281,
          844,
          -328,
          -328,
          -1637,
          1172,
          -953,
          -953,
          328,
          662,
          1172,
          -550,
          -550,
          328,
          -550,
          328,
          -953,
          1212,
          550,
          1722,
          -403,
          878,
          1212,
          -403,
          0,
          -403,
          -403,
          550,
          null,
          1615,
          953,
          0,
          403,
          0,
          953,
          403,
          1281,
          0,
          1281,
          1281,
          2125,
          2125,
          953,
          403,
          1281,
          953,
          1309
         ],
         "yaxis": "y"
        },
        {
         "hovertemplate": "Anime Title=Gintama°<br>Timestamp=%{x}<br>Change in Members=%{y}<extra></extra>",
         "legendgroup": "Gintama°",
         "line": {
          "color": "#FF6692",
          "dash": "solid"
         },
         "marker": {
          "symbol": "circle"
         },
         "mode": "lines",
         "name": "Gintama°",
         "showlegend": true,
         "type": "scattergl",
         "x": [
          "2025-01-22T08:24:01+00:00",
          "2025-01-22T08:26:52+00:00",
          "2025-01-22T08:28:18+00:00",
          "2025-01-22T12:26:56+00:00",
          "2025-01-22T12:56:56+00:00",
          "2025-01-22T16:26:56+00:00",
          "2025-01-22T18:56:56+00:00",
          "2025-01-22T20:26:56+00:00",
          "2025-01-22T23:56:56+00:00",
          "2025-01-23T00:56:56+00:00",
          "2025-01-23T03:56:56+00:00",
          "2025-01-23T07:26:56+00:00",
          "2025-01-23T10:26:56+00:00",
          "2025-01-23T12:26:56+00:00",
          "2025-01-23T13:56:56+00:00",
          "2025-01-23T17:26:56+00:00",
          "2025-01-24T00:56:56+00:00",
          "2025-01-24T03:56:56+00:00",
          "2025-01-24T05:26:56+00:00",
          "2025-01-24T06:26:56+00:00",
          "2025-01-24T07:26:56+00:00",
          "2025-01-24T07:56:55+00:00",
          "2025-01-24T09:56:56+00:00",
          "2025-01-24T13:56:56+00:00",
          "2025-01-24T14:26:56+00:00",
          "2025-01-24T16:26:56+00:00",
          "2025-01-24T18:26:57+00:00",
          "2025-01-24T21:26:56+00:00",
          "2025-01-25T00:56:56+00:00",
          "2025-01-25T01:26:56+00:00",
          "2025-01-25T01:56:55+00:00",
          "2025-01-25T02:56:56+00:00",
          "2025-01-25T04:56:56+00:00",
          "2025-01-25T05:56:56+00:00",
          "2025-01-25T06:26:55+00:00",
          "2025-01-25T06:56:56+00:00",
          "2025-01-25T10:56:56+00:00",
          "2025-01-25T16:56:56+00:00",
          "2025-01-25T17:26:56+00:00",
          "2025-01-25T18:26:56+00:00",
          "2025-01-25T22:26:56+00:00",
          "2025-01-25T23:26:56+00:00",
          "2025-01-25T23:56:56+00:00",
          "2025-01-26T00:56:56+00:00",
          "2025-01-26T03:26:56+00:00",
          "2025-01-26T03:56:56+00:00",
          "2025-01-26T06:26:56+00:00",
          "2025-01-26T10:56:56+00:00",
          "2025-01-26T12:56:56+00:00",
          "2025-01-26T13:56:56+00:00",
          "2025-01-26T15:26:56+00:00",
          "2025-01-26T15:56:56+00:00",
          "2025-01-26T19:56:56+00:00",
          "2025-01-26T21:26:56+00:00",
          "2025-01-26T22:56:56+00:00",
          "2025-01-27T02:26:56+00:00",
          "2025-01-27T03:56:56+00:00",
          "2025-01-27T04:56:56+00:00",
          "2025-01-27T06:26:56+00:00",
          "2025-01-27T06:56:56+00:00",
          "2025-01-27T08:56:56+00:00",
          "2025-01-27T09:56:56+00:00",
          "2025-01-27T11:56:55+00:00",
          "2025-01-27T13:26:56+00:00",
          "2025-01-27T15:56:56+00:00",
          "2025-01-27T18:26:56+00:00",
          "2025-01-27T19:56:57+00:00",
          "2025-01-27T20:26:56+00:00",
          "2025-01-27T20:56:56+00:00",
          "2025-01-27T23:56:56+00:00",
          "2025-01-28T00:56:56+00:00",
          "2025-01-28T02:56:56+00:00",
          "2025-01-28T03:56:56+00:00",
          "2025-01-28T04:56:56+00:00"
         ],
         "xaxis": "x",
         "y": [
          -148,
          -148,
          0,
          -362,
          -94,
          0,
          -304,
          -148,
          -304,
          -214,
          -210,
          -120,
          -268,
          -54,
          -210,
          -120,
          -268,
          54,
          -214,
          148,
          -214,
          0,
          -66,
          -214,
          148,
          0,
          54,
          -214,
          148,
          -66,
          -66,
          -247,
          214,
          -148,
          -148,
          66,
          120,
          214,
          -90,
          -90,
          66,
          -90,
          66,
          -148,
          210,
          90,
          304,
          -58,
          156,
          210,
          -58,
          0,
          -58,
          -58,
          90,
          null,
          268,
          148,
          0,
          58,
          0,
          148,
          58,
          214,
          0,
          214,
          214,
          362,
          362,
          148,
          58,
          214,
          148,
          247
         ],
         "yaxis": "y"
        },
        {
         "hovertemplate": "Anime Title=Gintama'<br>Timestamp=%{x}<br>Change in Members=%{y}<extra></extra>",
         "legendgroup": "Gintama'",
         "line": {
          "color": "#B6E880",
          "dash": "solid"
         },
         "marker": {
          "symbol": "circle"
         },
         "mode": "lines",
         "name": "Gintama'",
         "showlegend": true,
         "type": "scattergl",
         "x": [
          "2025-01-22T08:24:01+00:00",
          "2025-01-22T08:26:52+00:00",
          "2025-01-22T08:28:18+00:00",
          "2025-01-22T12:26:56+00:00",
          "2025-01-22T12:56:56+00:00",
          "2025-01-22T16:26:56+00:00",
          "2025-01-22T18:56:56+00:00",
          "2025-01-22T20:26:56+00:00",
          "2025-01-22T23:56:56+00:00",
          "2025-01-23T00:56:56+00:00",
          "2025-01-23T03:56:56+00:00",
          "2025-01-23T07:26:56+00:00",
          "2025-01-23T10:26:56+00:00",
          "2025-01-23T12:26:56+00:00",
          "2025-01-23T13:56:56+00:00",
          "2025-01-23T17:26:56+00:00",
          "2025-01-24T00:56:56+00:00",
          "2025-01-24T03:56:56+00:00",
          "2025-01-24T05:26:56+00:00",
          "2025-01-24T06:26:56+00:00",
          "2025-01-24T07:26:56+00:00",
          "2025-01-24T07:56:55+00:00",
          "2025-01-24T09:56:56+00:00",
          "2025-01-24T13:56:56+00:00",
          "2025-01-24T14:26:56+00:00",
          "2025-01-24T16:26:56+00:00",
          "2025-01-24T18:26:57+00:00",
          "2025-01-24T21:26:56+00:00",
          "2025-01-25T00:56:56+00:00",
          "2025-01-25T01:26:56+00:00",
          "2025-01-25T01:56:55+00:00",
          "2025-01-25T02:56:56+00:00",
          "2025-01-25T04:56:56+00:00",
          "2025-01-25T05:56:56+00:00",
          "2025-01-25T06:26:55+00:00",
          "2025-01-25T06:56:56+00:00",
          "2025-01-25T10:56:56+00:00",
          "2025-01-25T16:56:56+00:00",
          "2025-01-25T17:26:56+00:00",
          "2025-01-25T18:26:56+00:00",
          "2025-01-25T22:26:56+00:00",
          "2025-01-25T23:26:56+00:00",
          "2025-01-25T23:56:56+00:00",
          "2025-01-26T00:56:56+00:00",
          "2025-01-26T03:26:56+00:00",
          "2025-01-26T03:56:56+00:00",
          "2025-01-26T06:26:56+00:00",
          "2025-01-26T10:56:56+00:00",
          "2025-01-26T12:56:56+00:00",
          "2025-01-26T13:56:56+00:00",
          "2025-01-26T15:26:56+00:00",
          "2025-01-26T15:56:56+00:00",
          "2025-01-26T19:56:56+00:00",
          "2025-01-26T21:26:56+00:00",
          "2025-01-26T22:56:56+00:00",
          "2025-01-27T02:26:56+00:00",
          "2025-01-27T03:56:56+00:00",
          "2025-01-27T04:56:56+00:00",
          "2025-01-27T06:26:56+00:00",
          "2025-01-27T06:56:56+00:00",
          "2025-01-27T08:56:56+00:00",
          "2025-01-27T09:56:56+00:00",
          "2025-01-27T11:56:55+00:00",
          "2025-01-27T13:26:56+00:00",
          "2025-01-27T15:56:56+00:00",
          "2025-01-27T18:26:56+00:00",
          "2025-01-27T19:56:57+00:00",
          "2025-01-27T20:26:56+00:00",
          "2025-01-27T20:56:56+00:00",
          "2025-01-27T23:56:56+00:00",
          "2025-01-28T00:56:56+00:00",
          "2025-01-28T02:56:56+00:00",
          "2025-01-28T03:56:56+00:00",
          "2025-01-28T04:56:56+00:00"
         ],
         "xaxis": "x",
         "y": [
          -235,
          -167,
          0,
          -383,
          -88,
          -88,
          -198,
          -79,
          -198,
          -147,
          -198,
          -147,
          -360,
          -79,
          -198,
          -147,
          -216,
          79,
          -216,
          167,
          -281,
          0,
          -68,
          -216,
          167,
          -68,
          0,
          -148,
          147,
          -51,
          0,
          -213,
          235,
          -148,
          -148,
          68,
          147,
          147,
          -51,
          -148,
          51,
          0,
          119,
          -97,
          198,
          51,
          286,
          -97,
          119,
          198,
          -162,
          -97,
          -162,
          -65,
          97,
          null,
          295,
          97,
          0,
          97,
          -65,
          148,
          97,
          216,
          -65,
          148,
          281,
          360,
          448,
          213,
          65,
          281,
          162,
          213
         ],
         "yaxis": "y"
        },
        {
         "hovertemplate": "Anime Title=Hunter x Hunter (2011)<br>Timestamp=%{x}<br>Change in Members=%{y}<extra></extra>",
         "legendgroup": "Hunter x Hunter (2011)",
         "line": {
          "color": "#FF97FF",
          "dash": "solid"
         },
         "marker": {
          "symbol": "circle"
         },
         "mode": "lines",
         "name": "Hunter x Hunter (2011)",
         "showlegend": true,
         "type": "scattergl",
         "x": [
          "2025-01-22T08:24:01+00:00",
          "2025-01-22T08:26:52+00:00",
          "2025-01-22T08:28:18+00:00",
          "2025-01-22T12:26:56+00:00",
          "2025-01-22T12:56:56+00:00",
          "2025-01-22T16:26:56+00:00",
          "2025-01-22T18:56:56+00:00",
          "2025-01-22T20:26:56+00:00",
          "2025-01-22T23:56:56+00:00",
          "2025-01-23T00:56:56+00:00",
          "2025-01-23T03:56:56+00:00",
          "2025-01-23T07:26:56+00:00",
          "2025-01-23T10:26:56+00:00",
          "2025-01-23T12:26:56+00:00",
          "2025-01-23T13:56:56+00:00",
          "2025-01-23T17:26:56+00:00",
          "2025-01-24T00:56:56+00:00",
          "2025-01-24T03:56:56+00:00",
          "2025-01-24T05:26:56+00:00",
          "2025-01-24T06:26:56+00:00",
          "2025-01-24T07:26:56+00:00",
          "2025-01-24T07:56:55+00:00",
          "2025-01-24T09:56:56+00:00",
          "2025-01-24T13:56:56+00:00",
          "2025-01-24T14:26:56+00:00",
          "2025-01-24T16:26:56+00:00",
          "2025-01-24T18:26:57+00:00",
          "2025-01-24T21:26:56+00:00",
          "2025-01-25T00:56:56+00:00",
          "2025-01-25T01:26:56+00:00",
          "2025-01-25T01:56:55+00:00",
          "2025-01-25T02:56:56+00:00",
          "2025-01-25T04:56:56+00:00",
          "2025-01-25T05:56:56+00:00",
          "2025-01-25T06:26:55+00:00",
          "2025-01-25T06:56:56+00:00",
          "2025-01-25T10:56:56+00:00",
          "2025-01-25T16:56:56+00:00",
          "2025-01-25T17:26:56+00:00",
          "2025-01-25T18:26:56+00:00",
          "2025-01-25T22:26:56+00:00",
          "2025-01-25T23:26:56+00:00",
          "2025-01-25T23:56:56+00:00",
          "2025-01-26T00:56:56+00:00",
          "2025-01-26T03:26:56+00:00",
          "2025-01-26T03:56:56+00:00",
          "2025-01-26T06:26:56+00:00",
          "2025-01-26T10:56:56+00:00",
          "2025-01-26T12:56:56+00:00",
          "2025-01-26T13:56:56+00:00",
          "2025-01-26T15:26:56+00:00",
          "2025-01-26T15:56:56+00:00",
          "2025-01-26T19:56:56+00:00",
          "2025-01-26T21:26:56+00:00",
          "2025-01-26T22:56:56+00:00",
          "2025-01-27T02:26:56+00:00",
          "2025-01-27T03:56:56+00:00",
          "2025-01-27T04:56:56+00:00",
          "2025-01-27T06:26:56+00:00",
          "2025-01-27T06:56:56+00:00",
          "2025-01-27T08:56:56+00:00",
          "2025-01-27T09:56:56+00:00",
          "2025-01-27T11:56:55+00:00",
          "2025-01-27T13:26:56+00:00",
          "2025-01-27T15:56:56+00:00",
          "2025-01-27T18:26:56+00:00",
          "2025-01-27T19:56:57+00:00",
          "2025-01-27T20:26:56+00:00",
          "2025-01-27T20:56:56+00:00",
          "2025-01-27T23:56:56+00:00",
          "2025-01-28T00:56:56+00:00",
          "2025-01-28T02:56:56+00:00",
          "2025-01-28T03:56:56+00:00",
          "2025-01-28T04:56:56+00:00"
         ],
         "xaxis": "x",
         "y": [
          -1374,
          -998,
          -604,
          -2368,
          -998,
          0,
          -1347,
          -394,
          -1764,
          -770,
          -1764,
          -770,
          -2438,
          -770,
          -953,
          -376,
          -1370,
          394,
          -2044,
          998,
          -2044,
          0,
          -376,
          -994,
          1374,
          0,
          376,
          -994,
          770,
          -577,
          -577,
          -1668,
          1374,
          -1668,
          -994,
          0,
          770,
          1347,
          -417,
          -417,
          577,
          0,
          953,
          -417,
          953,
          577,
          1951,
          -417,
          577,
          1347,
          -674,
          0,
          -674,
          -674,
          417,
          null,
          1764,
          417,
          0,
          417,
          -674,
          994,
          417,
          1370,
          0,
          1668,
          2044,
          2438,
          3042,
          1091,
          674,
          1668,
          1091,
          1091
         ],
         "yaxis": "y"
        },
        {
         "hovertemplate": "Anime Title=Gintama': Enchousen<br>Timestamp=%{x}<br>Change in Members=%{y}<extra></extra>",
         "legendgroup": "Gintama': Enchousen",
         "line": {
          "color": "#FECB52",
          "dash": "solid"
         },
         "marker": {
          "symbol": "circle"
         },
         "mode": "lines",
         "name": "Gintama': Enchousen",
         "showlegend": true,
         "type": "scattergl",
         "x": [
          "2025-01-22T08:24:01+00:00",
          "2025-01-22T08:26:52+00:00",
          "2025-01-22T08:28:18+00:00",
          "2025-01-22T12:26:56+00:00",
          "2025-01-22T12:56:56+00:00",
          "2025-01-22T16:26:56+00:00",
          "2025-01-22T18:56:56+00:00",
          "2025-01-22T20:26:56+00:00",
          "2025-01-22T23:56:56+00:00",
          "2025-01-23T00:56:56+00:00",
          "2025-01-23T03:56:56+00:00",
          "2025-01-23T07:26:56+00:00",
          "2025-01-23T10:26:56+00:00",
          "2025-01-23T12:26:56+00:00",
          "2025-01-23T13:56:56+00:00",
          "2025-01-23T17:26:56+00:00",
          "2025-01-24T00:56:56+00:00",
          "2025-01-24T03:56:56+00:00",
          "2025-01-24T05:26:56+00:00",
          "2025-01-24T06:26:56+00:00",
          "2025-01-24T07:26:56+00:00",
          "2025-01-24T07:56:55+00:00",
          "2025-01-24T09:56:56+00:00",
          "2025-01-24T13:56:56+00:00",
          "2025-01-24T14:26:56+00:00",
          "2025-01-24T16:26:56+00:00",
          "2025-01-24T18:26:57+00:00",
          "2025-01-24T21:26:56+00:00",
          "2025-01-25T00:56:56+00:00",
          "2025-01-25T01:26:56+00:00",
          "2025-01-25T01:56:55+00:00",
          "2025-01-25T02:56:56+00:00",
          "2025-01-25T04:56:56+00:00",
          "2025-01-25T05:56:56+00:00",
          "2025-01-25T06:26:55+00:00",
          "2025-01-25T06:56:56+00:00",
          "2025-01-25T10:56:56+00:00",
          "2025-01-25T16:56:56+00:00",
          "2025-01-25T17:26:56+00:00",
          "2025-01-25T18:26:56+00:00",
          "2025-01-25T22:26:56+00:00",
          "2025-01-25T23:26:56+00:00",
          "2025-01-25T23:56:56+00:00",
          "2025-01-26T00:56:56+00:00",
          "2025-01-26T03:26:56+00:00",
          "2025-01-26T03:56:56+00:00",
          "2025-01-26T06:26:56+00:00",
          "2025-01-26T10:56:56+00:00",
          "2025-01-26T12:56:56+00:00",
          "2025-01-26T13:56:56+00:00",
          "2025-01-26T15:26:56+00:00",
          "2025-01-26T15:56:56+00:00",
          "2025-01-26T19:56:56+00:00",
          "2025-01-26T21:26:56+00:00",
          "2025-01-26T22:56:56+00:00",
          "2025-01-27T02:26:56+00:00",
          "2025-01-27T03:56:56+00:00",
          "2025-01-27T04:56:56+00:00",
          "2025-01-27T06:26:56+00:00",
          "2025-01-27T06:56:56+00:00",
          "2025-01-27T08:56:56+00:00",
          "2025-01-27T09:56:56+00:00",
          "2025-01-27T11:56:55+00:00",
          "2025-01-27T13:26:56+00:00",
          "2025-01-27T15:56:56+00:00",
          "2025-01-27T18:26:56+00:00",
          "2025-01-27T19:56:57+00:00",
          "2025-01-27T20:26:56+00:00",
          "2025-01-27T20:56:56+00:00",
          "2025-01-27T23:56:56+00:00",
          "2025-01-28T00:56:56+00:00",
          "2025-01-28T02:56:56+00:00",
          "2025-01-28T03:56:56+00:00",
          "2025-01-28T04:56:56+00:00"
         ],
         "xaxis": "x",
         "y": [
          -109,
          -61,
          -34,
          -196,
          -61,
          0,
          -104,
          -27,
          -104,
          -75,
          -104,
          -75,
          -187,
          -27,
          -104,
          -48,
          -135,
          27,
          -135,
          61,
          -160,
          0,
          -48,
          -135,
          61,
          -48,
          48,
          -87,
          75,
          -29,
          -29,
          -112,
          109,
          -87,
          -87,
          48,
          75,
          75,
          -87,
          -58,
          29,
          0,
          77,
          -58,
          104,
          29,
          138,
          -58,
          29,
          104,
          -83,
          -58,
          -25,
          -25,
          58,
          null,
          162,
          58,
          0,
          58,
          -25,
          87,
          58,
          135,
          -25,
          87,
          160,
          187,
          221,
          112,
          25,
          160,
          83,
          112
         ],
         "yaxis": "y"
        },
        {
         "hovertemplate": "Anime Title=Ginga Eiyuu Densetsu<br>Timestamp=%{x}<br>Change in Members=%{y}<extra></extra>",
         "legendgroup": "Ginga Eiyuu Densetsu",
         "line": {
          "color": "#636efa",
          "dash": "solid"
         },
         "marker": {
          "symbol": "circle"
         },
         "mode": "lines",
         "name": "Ginga Eiyuu Densetsu",
         "showlegend": true,
         "type": "scattergl",
         "x": [
          "2025-01-22T08:24:01+00:00",
          "2025-01-22T08:26:52+00:00",
          "2025-01-22T08:28:18+00:00",
          "2025-01-22T12:26:56+00:00",
          "2025-01-22T12:56:56+00:00",
          "2025-01-22T16:26:56+00:00",
          "2025-01-22T18:56:56+00:00",
          "2025-01-22T20:26:56+00:00",
          "2025-01-22T23:56:56+00:00",
          "2025-01-23T00:56:56+00:00",
          "2025-01-23T03:56:56+00:00",
          "2025-01-23T07:26:56+00:00",
          "2025-01-23T10:26:56+00:00",
          "2025-01-23T12:26:56+00:00",
          "2025-01-23T13:56:56+00:00",
          "2025-01-23T17:26:56+00:00",
          "2025-01-24T00:56:56+00:00",
          "2025-01-24T03:56:56+00:00",
          "2025-01-24T05:26:56+00:00",
          "2025-01-24T06:26:56+00:00",
          "2025-01-24T07:26:56+00:00",
          "2025-01-24T07:56:55+00:00",
          "2025-01-24T09:56:56+00:00",
          "2025-01-24T13:56:56+00:00",
          "2025-01-24T14:26:56+00:00",
          "2025-01-24T16:26:56+00:00",
          "2025-01-24T18:26:57+00:00",
          "2025-01-24T21:26:56+00:00",
          "2025-01-25T00:56:56+00:00",
          "2025-01-25T01:26:56+00:00",
          "2025-01-25T01:56:55+00:00",
          "2025-01-25T02:56:56+00:00",
          "2025-01-25T04:56:56+00:00",
          "2025-01-25T05:56:56+00:00",
          "2025-01-25T06:26:55+00:00",
          "2025-01-25T06:56:56+00:00",
          "2025-01-25T10:56:56+00:00",
          "2025-01-25T16:56:56+00:00",
          "2025-01-25T17:26:56+00:00",
          "2025-01-25T18:26:56+00:00",
          "2025-01-25T22:26:56+00:00",
          "2025-01-25T23:26:56+00:00",
          "2025-01-25T23:56:56+00:00",
          "2025-01-26T00:56:56+00:00",
          "2025-01-26T03:26:56+00:00",
          "2025-01-26T03:56:56+00:00",
          "2025-01-26T06:26:56+00:00",
          "2025-01-26T10:56:56+00:00",
          "2025-01-26T12:56:56+00:00",
          "2025-01-26T13:56:56+00:00",
          "2025-01-26T15:26:56+00:00",
          "2025-01-26T15:56:56+00:00",
          "2025-01-26T19:56:56+00:00",
          "2025-01-26T21:26:56+00:00",
          "2025-01-26T22:56:56+00:00",
          "2025-01-27T02:26:56+00:00",
          "2025-01-27T03:56:56+00:00",
          "2025-01-27T04:56:56+00:00",
          "2025-01-27T06:26:56+00:00",
          "2025-01-27T06:56:56+00:00",
          "2025-01-27T08:56:56+00:00",
          "2025-01-27T09:56:56+00:00",
          "2025-01-27T11:56:55+00:00",
          "2025-01-27T13:26:56+00:00",
          "2025-01-27T15:56:56+00:00",
          "2025-01-27T18:26:56+00:00",
          "2025-01-27T19:56:57+00:00",
          "2025-01-27T20:26:56+00:00",
          "2025-01-27T20:56:56+00:00",
          "2025-01-27T23:56:56+00:00",
          "2025-01-28T00:56:56+00:00",
          "2025-01-28T02:56:56+00:00",
          "2025-01-28T03:56:56+00:00",
          "2025-01-28T04:56:56+00:00"
         ],
         "xaxis": "x",
         "y": [
          -142,
          -69,
          -43,
          -187,
          -26,
          0,
          -187,
          -26,
          -187,
          -99,
          -187,
          -142,
          -224,
          -73,
          -116,
          -73,
          -161,
          26,
          -198,
          69,
          -198,
          0,
          -73,
          -88,
          99,
          0,
          73,
          -125,
          99,
          -43,
          -43,
          -125,
          99,
          -125,
          -88,
          0,
          116,
          142,
          -45,
          -45,
          43,
          -45,
          116,
          -45,
          116,
          43,
          185,
          -45,
          88,
          187,
          -37,
          0,
          -37,
          -37,
          45,
          null,
          187,
          45,
          0,
          45,
          -37,
          88,
          45,
          198,
          0,
          125,
          198,
          224,
          267,
          82,
          37,
          125,
          82,
          82
         ],
         "yaxis": "y"
        },
        {
         "hovertemplate": "Anime Title=Bleach: Sennen Kessen-hen<br>Timestamp=%{x}<br>Change in Members=%{y}<extra></extra>",
         "legendgroup": "Bleach: Sennen Kessen-hen",
         "line": {
          "color": "#EF553B",
          "dash": "solid"
         },
         "marker": {
          "symbol": "circle"
         },
         "mode": "lines",
         "name": "Bleach: Sennen Kessen-hen",
         "showlegend": true,
         "type": "scattergl",
         "x": [
          "2025-01-22T08:24:01+00:00",
          "2025-01-22T08:26:52+00:00",
          "2025-01-22T08:28:18+00:00",
          "2025-01-22T12:26:56+00:00",
          "2025-01-22T12:56:56+00:00",
          "2025-01-22T16:26:56+00:00",
          "2025-01-22T18:56:56+00:00",
          "2025-01-22T20:26:56+00:00",
          "2025-01-22T23:56:56+00:00",
          "2025-01-23T00:56:56+00:00",
          "2025-01-23T03:56:56+00:00",
          "2025-01-23T07:26:56+00:00",
          "2025-01-23T10:26:56+00:00",
          "2025-01-23T12:26:56+00:00",
          "2025-01-23T13:56:56+00:00",
          "2025-01-23T17:26:56+00:00",
          "2025-01-24T00:56:56+00:00",
          "2025-01-24T03:56:56+00:00",
          "2025-01-24T05:26:56+00:00",
          "2025-01-24T06:26:56+00:00",
          "2025-01-24T07:26:56+00:00",
          "2025-01-24T07:56:55+00:00",
          "2025-01-24T09:56:56+00:00",
          "2025-01-24T13:56:56+00:00",
          "2025-01-24T14:26:56+00:00",
          "2025-01-24T16:26:56+00:00",
          "2025-01-24T18:26:57+00:00",
          "2025-01-24T21:26:56+00:00",
          "2025-01-25T00:56:56+00:00",
          "2025-01-25T01:26:56+00:00",
          "2025-01-25T01:56:55+00:00",
          "2025-01-25T02:56:56+00:00",
          "2025-01-25T04:56:56+00:00",
          "2025-01-25T05:56:56+00:00",
          "2025-01-25T06:26:55+00:00",
          "2025-01-25T06:56:56+00:00",
          "2025-01-25T10:56:56+00:00",
          "2025-01-25T16:56:56+00:00",
          "2025-01-25T17:26:56+00:00",
          "2025-01-25T18:26:56+00:00",
          "2025-01-25T22:26:56+00:00",
          "2025-01-25T23:26:56+00:00",
          "2025-01-25T23:56:56+00:00",
          "2025-01-26T00:56:56+00:00",
          "2025-01-26T03:26:56+00:00",
          "2025-01-26T03:56:56+00:00",
          "2025-01-26T06:26:56+00:00",
          "2025-01-26T10:56:56+00:00",
          "2025-01-26T12:56:56+00:00",
          "2025-01-26T13:56:56+00:00",
          "2025-01-26T15:26:56+00:00",
          "2025-01-26T15:56:56+00:00",
          "2025-01-26T19:56:56+00:00",
          "2025-01-26T21:26:56+00:00",
          "2025-01-26T22:56:56+00:00",
          "2025-01-27T02:26:56+00:00",
          "2025-01-27T03:56:56+00:00",
          "2025-01-27T04:56:56+00:00",
          "2025-01-27T06:26:56+00:00",
          "2025-01-27T06:56:56+00:00",
          "2025-01-27T08:56:56+00:00",
          "2025-01-27T09:56:56+00:00",
          "2025-01-27T11:56:55+00:00",
          "2025-01-27T13:26:56+00:00",
          "2025-01-27T15:56:56+00:00",
          "2025-01-27T18:26:56+00:00",
          "2025-01-27T19:56:57+00:00",
          "2025-01-27T20:26:56+00:00",
          "2025-01-27T20:56:56+00:00",
          "2025-01-27T23:56:56+00:00",
          "2025-01-28T00:56:56+00:00",
          "2025-01-28T02:56:56+00:00",
          "2025-01-28T03:56:56+00:00",
          "2025-01-28T04:56:56+00:00"
         ],
         "xaxis": "x",
         "y": [
          -702,
          -529,
          0,
          -1157,
          -191,
          0,
          -874,
          -529,
          -874,
          -511,
          -683,
          -511,
          -1202,
          -338,
          -683,
          -511,
          -628,
          338,
          -628,
          529,
          -628,
          0,
          -173,
          -628,
          529,
          -173,
          0,
          -628,
          511,
          0,
          0,
          -691,
          702,
          -455,
          -455,
          173,
          511,
          702,
          -172,
          -455,
          173,
          -172,
          173,
          -283,
          683,
          172,
          874,
          -283,
          345,
          683,
          -283,
          0,
          -519,
          -283,
          172,
          null,
          966,
          455,
          0,
          283,
          0,
          455,
          283,
          628,
          -236,
          455,
          628,
          1157,
          1157,
          455,
          519,
          864,
          519,
          691
         ],
         "yaxis": "y"
        },
        {
         "hovertemplate": "Anime Title=Gintama: The Final<br>Timestamp=%{x}<br>Change in Members=%{y}<extra></extra>",
         "legendgroup": "Gintama: The Final",
         "line": {
          "color": "#00cc96",
          "dash": "solid"
         },
         "marker": {
          "symbol": "circle"
         },
         "mode": "lines",
         "name": "Gintama: The Final",
         "showlegend": true,
         "type": "scattergl",
         "x": [
          "2025-01-22T08:24:01+00:00",
          "2025-01-22T08:26:52+00:00",
          "2025-01-22T08:28:18+00:00",
          "2025-01-22T12:26:56+00:00",
          "2025-01-22T12:56:56+00:00",
          "2025-01-22T16:26:56+00:00",
          "2025-01-22T18:56:56+00:00",
          "2025-01-22T20:26:56+00:00",
          "2025-01-22T23:56:56+00:00",
          "2025-01-23T00:56:56+00:00",
          "2025-01-23T03:56:56+00:00",
          "2025-01-23T07:26:56+00:00",
          "2025-01-23T10:26:56+00:00",
          "2025-01-23T12:26:56+00:00",
          "2025-01-23T13:56:56+00:00",
          "2025-01-23T17:26:56+00:00",
          "2025-01-24T00:56:56+00:00",
          "2025-01-24T03:56:56+00:00",
          "2025-01-24T05:26:56+00:00",
          "2025-01-24T06:26:56+00:00",
          "2025-01-24T07:26:56+00:00",
          "2025-01-24T07:56:55+00:00",
          "2025-01-24T09:56:56+00:00",
          "2025-01-24T13:56:56+00:00",
          "2025-01-24T14:26:56+00:00",
          "2025-01-24T16:26:56+00:00",
          "2025-01-24T18:26:57+00:00",
          "2025-01-24T21:26:56+00:00",
          "2025-01-25T00:56:56+00:00",
          "2025-01-25T01:26:56+00:00",
          "2025-01-25T01:56:55+00:00",
          "2025-01-25T02:56:56+00:00",
          "2025-01-25T04:56:56+00:00",
          "2025-01-25T05:56:56+00:00",
          "2025-01-25T06:26:55+00:00",
          "2025-01-25T06:56:56+00:00",
          "2025-01-25T10:56:56+00:00",
          "2025-01-25T16:56:56+00:00",
          "2025-01-25T17:26:56+00:00",
          "2025-01-25T18:26:56+00:00",
          "2025-01-25T22:26:56+00:00",
          "2025-01-25T23:26:56+00:00",
          "2025-01-25T23:56:56+00:00",
          "2025-01-26T00:56:56+00:00",
          "2025-01-26T03:26:56+00:00",
          "2025-01-26T03:56:56+00:00",
          "2025-01-26T06:26:56+00:00",
          "2025-01-26T10:56:56+00:00",
          "2025-01-26T12:56:56+00:00",
          "2025-01-26T13:56:56+00:00",
          "2025-01-26T15:26:56+00:00",
          "2025-01-26T15:56:56+00:00",
          "2025-01-26T19:56:56+00:00",
          "2025-01-26T21:26:56+00:00",
          "2025-01-26T22:56:56+00:00",
          "2025-01-27T02:26:56+00:00",
          "2025-01-27T03:56:56+00:00",
          "2025-01-27T04:56:56+00:00",
          "2025-01-27T06:26:56+00:00",
          "2025-01-27T06:56:56+00:00",
          "2025-01-27T08:56:56+00:00",
          "2025-01-27T09:56:56+00:00",
          "2025-01-27T11:56:55+00:00",
          "2025-01-27T13:26:56+00:00",
          "2025-01-27T15:56:56+00:00",
          "2025-01-27T18:26:56+00:00",
          "2025-01-27T19:56:57+00:00",
          "2025-01-27T20:26:56+00:00",
          "2025-01-27T20:56:56+00:00",
          "2025-01-27T23:56:56+00:00",
          "2025-01-28T00:56:56+00:00",
          "2025-01-28T02:56:56+00:00",
          "2025-01-28T03:56:56+00:00",
          "2025-01-28T04:56:56+00:00"
         ],
         "xaxis": "x",
         "y": [
          -125,
          -77,
          -47,
          -194,
          -30,
          0,
          -112,
          -30,
          -147,
          -78,
          -147,
          -78,
          -191,
          -78,
          -82,
          -48,
          -117,
          30,
          -161,
          77,
          -161,
          0,
          -48,
          -69,
          78,
          0,
          48,
          -69,
          78,
          -34,
          -34,
          -113,
          125,
          -113,
          -69,
          0,
          78,
          112,
          -35,
          -35,
          34,
          0,
          82,
          -35,
          82,
          34,
          159,
          -35,
          34,
          112,
          -44,
          0,
          -44,
          -44,
          35,
          null,
          147,
          35,
          0,
          35,
          -44,
          69,
          35,
          117,
          0,
          113,
          161,
          191,
          238,
          79,
          44,
          113,
          79,
          79
         ],
         "yaxis": "y"
        },
        {
         "hovertemplate": "Anime Title=Gintama.<br>Timestamp=%{x}<br>Change in Members=%{y}<extra></extra>",
         "legendgroup": "Gintama.",
         "line": {
          "color": "#ab63fa",
          "dash": "solid"
         },
         "marker": {
          "symbol": "circle"
         },
         "mode": "lines",
         "name": "Gintama.",
         "showlegend": true,
         "type": "scattergl",
         "x": [
          "2025-01-22T08:24:01+00:00",
          "2025-01-22T08:26:52+00:00",
          "2025-01-22T08:28:18+00:00",
          "2025-01-22T12:26:56+00:00",
          "2025-01-22T12:56:56+00:00",
          "2025-01-22T16:26:56+00:00",
          "2025-01-22T18:56:56+00:00",
          "2025-01-22T20:26:56+00:00",
          "2025-01-22T23:56:56+00:00",
          "2025-01-23T00:56:56+00:00",
          "2025-01-23T03:56:56+00:00",
          "2025-01-23T07:26:56+00:00",
          "2025-01-23T10:26:56+00:00",
          "2025-01-23T12:26:56+00:00",
          "2025-01-23T13:56:56+00:00",
          "2025-01-23T17:26:56+00:00",
          "2025-01-24T00:56:56+00:00",
          "2025-01-24T03:56:56+00:00",
          "2025-01-24T05:26:56+00:00",
          "2025-01-24T06:26:56+00:00",
          "2025-01-24T07:26:56+00:00",
          "2025-01-24T07:56:55+00:00",
          "2025-01-24T09:56:56+00:00",
          "2025-01-24T13:56:56+00:00",
          "2025-01-24T14:26:56+00:00",
          "2025-01-24T16:26:56+00:00",
          "2025-01-24T18:26:57+00:00",
          "2025-01-24T21:26:56+00:00",
          "2025-01-25T00:56:56+00:00",
          "2025-01-25T01:26:56+00:00",
          "2025-01-25T01:56:55+00:00",
          "2025-01-25T02:56:56+00:00",
          "2025-01-25T04:56:56+00:00",
          "2025-01-25T05:56:56+00:00",
          "2025-01-25T06:26:55+00:00",
          "2025-01-25T06:56:56+00:00",
          "2025-01-25T10:56:56+00:00",
          "2025-01-25T16:56:56+00:00",
          "2025-01-25T17:26:56+00:00",
          "2025-01-25T18:26:56+00:00",
          "2025-01-25T22:26:56+00:00",
          "2025-01-25T23:26:56+00:00",
          "2025-01-25T23:56:56+00:00",
          "2025-01-26T00:56:56+00:00",
          "2025-01-26T03:26:56+00:00",
          "2025-01-26T03:56:56+00:00",
          "2025-01-26T06:26:56+00:00",
          "2025-01-26T10:56:56+00:00",
          "2025-01-26T12:56:56+00:00",
          "2025-01-26T13:56:56+00:00",
          "2025-01-26T15:26:56+00:00",
          "2025-01-26T15:56:56+00:00",
          "2025-01-26T19:56:56+00:00",
          "2025-01-26T21:26:56+00:00",
          "2025-01-26T22:56:56+00:00",
          "2025-01-27T02:26:56+00:00",
          "2025-01-27T03:56:56+00:00",
          "2025-01-27T04:56:56+00:00",
          "2025-01-27T06:26:56+00:00",
          "2025-01-27T06:56:56+00:00",
          "2025-01-27T08:56:56+00:00",
          "2025-01-27T09:56:56+00:00",
          "2025-01-27T11:56:55+00:00",
          "2025-01-27T13:26:56+00:00",
          "2025-01-27T15:56:56+00:00",
          "2025-01-27T18:26:56+00:00",
          "2025-01-27T19:56:57+00:00",
          "2025-01-27T20:26:56+00:00",
          "2025-01-27T20:56:56+00:00",
          "2025-01-27T23:56:56+00:00",
          "2025-01-28T00:56:56+00:00",
          "2025-01-28T02:56:56+00:00",
          "2025-01-28T03:56:56+00:00",
          "2025-01-28T04:56:56+00:00"
         ],
         "xaxis": "x",
         "y": [
          -127,
          -67,
          0,
          -190,
          -41,
          0,
          -157,
          -26,
          -116,
          -86,
          -116,
          -86,
          -194,
          -26,
          -116,
          -86,
          -123,
          26,
          -123,
          67,
          -123,
          0,
          -60,
          -123,
          67,
          -60,
          0,
          -63,
          86,
          -30,
          0,
          -108,
          127,
          -63,
          -63,
          60,
          86,
          86,
          -30,
          -63,
          30,
          0,
          90,
          -33,
          116,
          30,
          157,
          -33,
          90,
          116,
          -33,
          -33,
          -78,
          0,
          33,
          null,
          149,
          33,
          0,
          33,
          -45,
          63,
          33,
          123,
          -45,
          63,
          123,
          149,
          190,
          108,
          45,
          168,
          78,
          108
         ],
         "yaxis": "y"
        },
        {
         "hovertemplate": "Anime Title=Kaguya-sama wa Kokurasetai: Ultra Romantic<br>Timestamp=%{x}<br>Change in Members=%{y}<extra></extra>",
         "legendgroup": "Kaguya-sama wa Kokurasetai: Ultra Romantic",
         "line": {
          "color": "#FFA15A",
          "dash": "solid"
         },
         "marker": {
          "symbol": "circle"
         },
         "mode": "lines",
         "name": "Kaguya-sama wa Kokurasetai: Ultra Romantic",
         "showlegend": true,
         "type": "scattergl",
         "x": [
          "2025-01-22T08:24:01+00:00",
          "2025-01-22T08:26:52+00:00",
          "2025-01-22T08:28:18+00:00",
          "2025-01-22T12:26:56+00:00",
          "2025-01-22T12:56:56+00:00",
          "2025-01-22T16:26:56+00:00",
          "2025-01-22T18:56:56+00:00",
          "2025-01-22T20:26:56+00:00",
          "2025-01-22T23:56:56+00:00",
          "2025-01-23T00:56:56+00:00",
          "2025-01-23T03:56:56+00:00",
          "2025-01-23T07:26:56+00:00",
          "2025-01-23T10:26:56+00:00",
          "2025-01-23T12:26:56+00:00",
          "2025-01-23T13:56:56+00:00",
          "2025-01-23T17:26:56+00:00",
          "2025-01-24T00:56:56+00:00",
          "2025-01-24T03:56:56+00:00",
          "2025-01-24T05:26:56+00:00",
          "2025-01-24T06:26:56+00:00",
          "2025-01-24T07:26:56+00:00",
          "2025-01-24T07:56:55+00:00",
          "2025-01-24T09:56:56+00:00",
          "2025-01-24T13:56:56+00:00",
          "2025-01-24T14:26:56+00:00",
          "2025-01-24T16:26:56+00:00",
          "2025-01-24T18:26:57+00:00",
          "2025-01-24T21:26:56+00:00",
          "2025-01-25T00:56:56+00:00",
          "2025-01-25T01:26:56+00:00",
          "2025-01-25T01:56:55+00:00",
          "2025-01-25T02:56:56+00:00",
          "2025-01-25T04:56:56+00:00",
          "2025-01-25T05:56:56+00:00",
          "2025-01-25T06:26:55+00:00",
          "2025-01-25T06:56:56+00:00",
          "2025-01-25T10:56:56+00:00",
          "2025-01-25T16:56:56+00:00",
          "2025-01-25T17:26:56+00:00",
          "2025-01-25T18:26:56+00:00",
          "2025-01-25T22:26:56+00:00",
          "2025-01-25T23:26:56+00:00",
          "2025-01-25T23:56:56+00:00",
          "2025-01-26T00:56:56+00:00",
          "2025-01-26T03:26:56+00:00",
          "2025-01-26T03:56:56+00:00",
          "2025-01-26T06:26:56+00:00",
          "2025-01-26T10:56:56+00:00",
          "2025-01-26T12:56:56+00:00",
          "2025-01-26T13:56:56+00:00",
          "2025-01-26T15:26:56+00:00",
          "2025-01-26T15:56:56+00:00",
          "2025-01-26T19:56:56+00:00",
          "2025-01-26T21:26:56+00:00",
          "2025-01-26T22:56:56+00:00",
          "2025-01-27T02:26:56+00:00",
          "2025-01-27T03:56:56+00:00",
          "2025-01-27T04:56:56+00:00",
          "2025-01-27T06:26:56+00:00",
          "2025-01-27T06:56:56+00:00",
          "2025-01-27T08:56:56+00:00",
          "2025-01-27T09:56:56+00:00",
          "2025-01-27T11:56:55+00:00",
          "2025-01-27T13:26:56+00:00",
          "2025-01-27T15:56:56+00:00",
          "2025-01-27T18:26:56+00:00",
          "2025-01-27T19:56:57+00:00",
          "2025-01-27T20:26:56+00:00",
          "2025-01-27T20:56:56+00:00",
          "2025-01-27T23:56:56+00:00",
          "2025-01-28T00:56:56+00:00",
          "2025-01-28T02:56:56+00:00",
          "2025-01-28T03:56:56+00:00",
          "2025-01-28T04:56:56+00:00"
         ],
         "xaxis": "x",
         "y": [
          -493,
          -192,
          0,
          -1210,
          -192,
          0,
          -880,
          -493,
          -880,
          -493,
          -880,
          -490,
          -1018,
          -301,
          -490,
          -301,
          -688,
          0,
          -1018,
          192,
          -717,
          301,
          0,
          -387,
          493,
          0,
          301,
          -717,
          493,
          -189,
          -189,
          -717,
          493,
          -717,
          -387,
          0,
          490,
          682,
          -198,
          -198,
          189,
          -198,
          189,
          -198,
          490,
          189,
          682,
          -330,
          387,
          880,
          -330,
          0,
          -330,
          -330,
          198,
          null,
          688,
          198,
          -330,
          0,
          0,
          717,
          528,
          717,
          0,
          717,
          1018,
          1210,
          1210,
          528,
          330,
          717,
          528,
          528
         ],
         "yaxis": "y"
        },
        {
         "hovertemplate": "Anime Title=Shingeki no Kyojin: The Final Season - Kanketsu-hen<br>Timestamp=%{x}<br>Change in Members=%{y}<extra></extra>",
         "legendgroup": "Shingeki no Kyojin: The Final Season - Kanketsu-hen",
         "line": {
          "color": "#19d3f3",
          "dash": "solid"
         },
         "marker": {
          "symbol": "circle"
         },
         "mode": "lines",
         "name": "Shingeki no Kyojin: The Final Season - Kanketsu-hen",
         "showlegend": true,
         "type": "scattergl",
         "x": [
          "2025-01-22T08:24:01+00:00",
          "2025-01-22T08:26:52+00:00",
          "2025-01-22T08:28:18+00:00",
          "2025-01-22T12:26:56+00:00",
          "2025-01-22T12:56:56+00:00",
          "2025-01-22T16:26:56+00:00",
          "2025-01-22T18:56:56+00:00",
          "2025-01-22T20:26:56+00:00",
          "2025-01-22T23:56:56+00:00",
          "2025-01-23T00:56:56+00:00",
          "2025-01-23T03:56:56+00:00",
          "2025-01-23T07:26:56+00:00",
          "2025-01-23T10:26:56+00:00",
          "2025-01-23T12:26:56+00:00",
          "2025-01-23T13:56:56+00:00",
          "2025-01-23T17:26:56+00:00",
          "2025-01-24T00:56:56+00:00",
          "2025-01-24T03:56:56+00:00",
          "2025-01-24T05:26:56+00:00",
          "2025-01-24T06:26:56+00:00",
          "2025-01-24T07:26:56+00:00",
          "2025-01-24T07:56:55+00:00",
          "2025-01-24T09:56:56+00:00",
          "2025-01-24T13:56:56+00:00",
          "2025-01-24T14:26:56+00:00",
          "2025-01-24T16:26:56+00:00",
          "2025-01-24T18:26:57+00:00",
          "2025-01-24T21:26:56+00:00",
          "2025-01-25T00:56:56+00:00",
          "2025-01-25T01:26:56+00:00",
          "2025-01-25T01:56:55+00:00",
          "2025-01-25T02:56:56+00:00",
          "2025-01-25T04:56:56+00:00",
          "2025-01-25T05:56:56+00:00",
          "2025-01-25T06:26:55+00:00",
          "2025-01-25T06:56:56+00:00",
          "2025-01-25T10:56:56+00:00",
          "2025-01-25T16:56:56+00:00",
          "2025-01-25T17:26:56+00:00",
          "2025-01-25T18:26:56+00:00",
          "2025-01-25T22:26:56+00:00",
          "2025-01-25T23:26:56+00:00",
          "2025-01-25T23:56:56+00:00",
          "2025-01-26T00:56:56+00:00",
          "2025-01-26T03:26:56+00:00",
          "2025-01-26T03:56:56+00:00",
          "2025-01-26T06:26:56+00:00",
          "2025-01-26T10:56:56+00:00",
          "2025-01-26T12:56:56+00:00",
          "2025-01-26T13:56:56+00:00",
          "2025-01-26T15:26:56+00:00",
          "2025-01-26T15:56:56+00:00",
          "2025-01-26T19:56:56+00:00",
          "2025-01-26T21:26:56+00:00",
          "2025-01-26T22:56:56+00:00",
          "2025-01-27T02:26:56+00:00",
          "2025-01-27T03:56:56+00:00",
          "2025-01-27T04:56:56+00:00",
          "2025-01-27T06:26:56+00:00",
          "2025-01-27T06:56:56+00:00",
          "2025-01-27T08:56:56+00:00",
          "2025-01-27T09:56:56+00:00",
          "2025-01-27T11:56:55+00:00",
          "2025-01-27T13:26:56+00:00",
          "2025-01-27T15:56:56+00:00",
          "2025-01-27T18:26:56+00:00",
          "2025-01-27T19:56:57+00:00",
          "2025-01-27T20:26:56+00:00",
          "2025-01-27T20:56:56+00:00",
          "2025-01-27T23:56:56+00:00",
          "2025-01-28T00:56:56+00:00",
          "2025-01-28T02:56:56+00:00",
          "2025-01-28T03:56:56+00:00",
          "2025-01-28T04:56:56+00:00"
         ],
         "xaxis": "x",
         "y": [
          -881,
          -643,
          0,
          -1412,
          -279,
          0,
          -1119,
          -364,
          -840,
          -602,
          -840,
          -602,
          -1540,
          -364,
          -840,
          -602,
          -769,
          364,
          -769,
          643,
          -1176,
          0,
          -238,
          -769,
          643,
          -238,
          0,
          -531,
          602,
          -238,
          0,
          -938,
          881,
          -531,
          -531,
          238,
          602,
          602,
          -238,
          -531,
          238,
          0,
          476,
          -293,
          840,
          238,
          1119,
          -293,
          476,
          840,
          -700,
          -293,
          -700,
          -407,
          293,
          null,
          1133,
          293,
          0,
          293,
          -407,
          531,
          293,
          769,
          -407,
          531,
          1176,
          1540,
          1819,
          938,
          407,
          1176,
          700,
          938
         ],
         "yaxis": "y"
        },
        {
         "hovertemplate": "Anime Title=Monster<br>Timestamp=%{x}<br>Change in Members=%{y}<extra></extra>",
         "legendgroup": "Monster",
         "line": {
          "color": "#FF6692",
          "dash": "solid"
         },
         "marker": {
          "symbol": "circle"
         },
         "mode": "lines",
         "name": "Monster",
         "showlegend": true,
         "type": "scattergl",
         "x": [
          "2025-01-22T08:24:01+00:00",
          "2025-01-22T08:26:52+00:00",
          "2025-01-22T08:28:18+00:00",
          "2025-01-22T12:26:56+00:00",
          "2025-01-22T12:56:56+00:00",
          "2025-01-22T16:26:56+00:00",
          "2025-01-22T18:56:56+00:00",
          "2025-01-22T20:26:56+00:00",
          "2025-01-22T23:56:56+00:00",
          "2025-01-23T00:56:56+00:00",
          "2025-01-23T03:56:56+00:00",
          "2025-01-23T07:26:56+00:00",
          "2025-01-23T10:26:56+00:00",
          "2025-01-23T12:26:56+00:00",
          "2025-01-23T13:56:56+00:00",
          "2025-01-23T17:26:56+00:00",
          "2025-01-24T00:56:56+00:00",
          "2025-01-24T03:56:56+00:00",
          "2025-01-24T05:26:56+00:00",
          "2025-01-24T06:26:56+00:00",
          "2025-01-24T07:26:56+00:00",
          "2025-01-24T07:56:55+00:00",
          "2025-01-24T09:56:56+00:00",
          "2025-01-24T13:56:56+00:00",
          "2025-01-24T14:26:56+00:00",
          "2025-01-24T16:26:56+00:00",
          "2025-01-24T18:26:57+00:00",
          "2025-01-24T21:26:56+00:00",
          "2025-01-25T00:56:56+00:00",
          "2025-01-25T01:26:56+00:00",
          "2025-01-25T01:56:55+00:00",
          "2025-01-25T02:56:56+00:00",
          "2025-01-25T04:56:56+00:00",
          "2025-01-25T05:56:56+00:00",
          "2025-01-25T06:26:55+00:00",
          "2025-01-25T06:56:56+00:00",
          "2025-01-25T10:56:56+00:00",
          "2025-01-25T16:56:56+00:00",
          "2025-01-25T17:26:56+00:00",
          "2025-01-25T18:26:56+00:00",
          "2025-01-25T22:26:56+00:00",
          "2025-01-25T23:26:56+00:00",
          "2025-01-25T23:56:56+00:00",
          "2025-01-26T00:56:56+00:00",
          "2025-01-26T03:26:56+00:00",
          "2025-01-26T03:56:56+00:00",
          "2025-01-26T06:26:56+00:00",
          "2025-01-26T10:56:56+00:00",
          "2025-01-26T12:56:56+00:00",
          "2025-01-26T13:56:56+00:00",
          "2025-01-26T15:26:56+00:00",
          "2025-01-26T15:56:56+00:00",
          "2025-01-26T19:56:56+00:00",
          "2025-01-26T21:26:56+00:00",
          "2025-01-26T22:56:56+00:00",
          "2025-01-27T02:26:56+00:00",
          "2025-01-27T03:56:56+00:00",
          "2025-01-27T04:56:56+00:00",
          "2025-01-27T06:26:56+00:00",
          "2025-01-27T06:56:56+00:00",
          "2025-01-27T08:56:56+00:00",
          "2025-01-27T09:56:56+00:00",
          "2025-01-27T11:56:55+00:00",
          "2025-01-27T13:26:56+00:00",
          "2025-01-27T15:56:56+00:00",
          "2025-01-27T18:26:56+00:00",
          "2025-01-27T19:56:57+00:00",
          "2025-01-27T20:26:56+00:00",
          "2025-01-27T20:56:56+00:00",
          "2025-01-27T23:56:56+00:00",
          "2025-01-28T00:56:56+00:00",
          "2025-01-28T02:56:56+00:00",
          "2025-01-28T03:56:56+00:00",
          "2025-01-28T04:56:56+00:00"
         ],
         "xaxis": "x",
         "y": [
          -459,
          -229,
          0,
          -1316,
          -229,
          0,
          -1047,
          -229,
          -1047,
          -459,
          -1047,
          -789,
          -1087,
          -230,
          -560,
          -230,
          -818,
          229,
          -1087,
          229,
          -1087,
          0,
          0,
          -588,
          459,
          0,
          230,
          -857,
          459,
          -330,
          -330,
          -857,
          459,
          -857,
          -588,
          0,
          560,
          789,
          -258,
          -258,
          330,
          -258,
          560,
          -258,
          560,
          330,
          789,
          -269,
          588,
          1047,
          -269,
          0,
          -269,
          -269,
          258,
          null,
          818,
          258,
          -269,
          0,
          0,
          857,
          527,
          857,
          0,
          857,
          1087,
          1316,
          1316,
          527,
          269,
          857,
          527,
          527
         ],
         "yaxis": "y"
        },
        {
         "hovertemplate": "Anime Title=Gintama. Shirogane no Tamashii-hen - Kouhan-sen<br>Timestamp=%{x}<br>Change in Members=%{y}<extra></extra>",
         "legendgroup": "Gintama. Shirogane no Tamashii-hen - Kouhan-sen",
         "line": {
          "color": "#B6E880",
          "dash": "solid"
         },
         "marker": {
          "symbol": "circle"
         },
         "mode": "lines",
         "name": "Gintama. Shirogane no Tamashii-hen - Kouhan-sen",
         "showlegend": true,
         "type": "scattergl",
         "x": [
          "2025-01-22T08:24:01+00:00",
          "2025-01-22T08:26:52+00:00",
          "2025-01-22T08:28:18+00:00",
          "2025-01-22T12:26:56+00:00",
          "2025-01-22T12:56:56+00:00",
          "2025-01-22T16:26:56+00:00",
          "2025-01-22T18:56:56+00:00",
          "2025-01-22T20:26:56+00:00",
          "2025-01-22T23:56:56+00:00",
          "2025-01-23T00:56:56+00:00",
          "2025-01-23T03:56:56+00:00",
          "2025-01-23T07:26:56+00:00",
          "2025-01-23T10:26:56+00:00",
          "2025-01-23T12:26:56+00:00",
          "2025-01-23T13:56:56+00:00",
          "2025-01-23T17:26:56+00:00",
          "2025-01-24T00:56:56+00:00",
          "2025-01-24T03:56:56+00:00",
          "2025-01-24T05:26:56+00:00",
          "2025-01-24T06:26:56+00:00",
          "2025-01-24T07:26:56+00:00",
          "2025-01-24T07:56:55+00:00",
          "2025-01-24T09:56:56+00:00",
          "2025-01-24T13:56:56+00:00",
          "2025-01-24T14:26:56+00:00",
          "2025-01-24T16:26:56+00:00",
          "2025-01-24T18:26:57+00:00",
          "2025-01-24T21:26:56+00:00",
          "2025-01-25T00:56:56+00:00",
          "2025-01-25T01:26:56+00:00",
          "2025-01-25T01:56:55+00:00",
          "2025-01-25T02:56:56+00:00",
          "2025-01-25T04:56:56+00:00",
          "2025-01-25T05:56:56+00:00",
          "2025-01-25T06:26:55+00:00",
          "2025-01-25T06:56:56+00:00",
          "2025-01-25T10:56:56+00:00",
          "2025-01-25T16:56:56+00:00",
          "2025-01-25T17:26:56+00:00",
          "2025-01-25T18:26:56+00:00",
          "2025-01-25T22:26:56+00:00",
          "2025-01-25T23:26:56+00:00",
          "2025-01-25T23:56:56+00:00",
          "2025-01-26T00:56:56+00:00",
          "2025-01-26T03:26:56+00:00",
          "2025-01-26T03:56:56+00:00",
          "2025-01-26T06:26:56+00:00",
          "2025-01-26T10:56:56+00:00",
          "2025-01-26T12:56:56+00:00",
          "2025-01-26T13:56:56+00:00",
          "2025-01-26T15:26:56+00:00",
          "2025-01-26T15:56:56+00:00",
          "2025-01-26T19:56:56+00:00",
          "2025-01-26T21:26:56+00:00",
          "2025-01-26T22:56:56+00:00",
          "2025-01-27T02:26:56+00:00",
          "2025-01-27T03:56:56+00:00",
          "2025-01-27T04:56:56+00:00",
          "2025-01-27T06:26:56+00:00",
          "2025-01-27T06:56:56+00:00",
          "2025-01-27T08:56:56+00:00",
          "2025-01-27T09:56:56+00:00",
          "2025-01-27T11:56:55+00:00",
          "2025-01-27T13:26:56+00:00",
          "2025-01-27T15:56:56+00:00",
          "2025-01-27T18:26:56+00:00",
          "2025-01-27T19:56:57+00:00",
          "2025-01-27T20:26:56+00:00",
          "2025-01-27T20:56:56+00:00",
          "2025-01-27T23:56:56+00:00",
          "2025-01-28T00:56:56+00:00",
          "2025-01-28T02:56:56+00:00",
          "2025-01-28T03:56:56+00:00",
          "2025-01-28T04:56:56+00:00"
         ],
         "xaxis": "x",
         "y": [
          -72,
          -72,
          0,
          -156,
          -24,
          0,
          -136,
          -72,
          -136,
          -96,
          -112,
          -72,
          -132,
          -48,
          -112,
          -72,
          -132,
          48,
          -84,
          72,
          -84,
          0,
          -24,
          -84,
          72,
          0,
          48,
          -84,
          72,
          -24,
          -24,
          -60,
          96,
          -60,
          -60,
          24,
          72,
          96,
          -40,
          -40,
          24,
          -40,
          24,
          -60,
          112,
          40,
          136,
          -20,
          64,
          112,
          -20,
          0,
          -20,
          -20,
          40,
          null,
          132,
          60,
          0,
          20,
          0,
          60,
          20,
          84,
          0,
          84,
          84,
          156,
          156,
          60,
          20,
          84,
          60,
          60
         ],
         "yaxis": "y"
        },
        {
         "hovertemplate": "Anime Title=Gintama Movie 2: Kanketsu-hen - Yorozuya yo Eien Nare<br>Timestamp=%{x}<br>Change in Members=%{y}<extra></extra>",
         "legendgroup": "Gintama Movie 2: Kanketsu-hen - Yorozuya yo Eien Nare",
         "line": {
          "color": "#FF97FF",
          "dash": "solid"
         },
         "marker": {
          "symbol": "circle"
         },
         "mode": "lines",
         "name": "Gintama Movie 2: Kanketsu-hen - Yorozuya yo Eien Nare",
         "showlegend": true,
         "type": "scattergl",
         "x": [
          "2025-01-22T08:24:01+00:00",
          "2025-01-22T08:26:52+00:00",
          "2025-01-22T08:28:18+00:00",
          "2025-01-22T12:26:56+00:00",
          "2025-01-22T12:56:56+00:00",
          "2025-01-22T16:26:56+00:00",
          "2025-01-22T18:56:56+00:00",
          "2025-01-22T20:26:56+00:00",
          "2025-01-22T23:56:56+00:00",
          "2025-01-23T00:56:56+00:00",
          "2025-01-23T03:56:56+00:00",
          "2025-01-23T07:26:56+00:00",
          "2025-01-23T10:26:56+00:00",
          "2025-01-23T12:26:56+00:00",
          "2025-01-23T13:56:56+00:00",
          "2025-01-23T17:26:56+00:00",
          "2025-01-24T00:56:56+00:00",
          "2025-01-24T03:56:56+00:00",
          "2025-01-24T05:26:56+00:00",
          "2025-01-24T06:26:56+00:00",
          "2025-01-24T07:26:56+00:00",
          "2025-01-24T07:56:55+00:00",
          "2025-01-24T09:56:56+00:00",
          "2025-01-24T13:56:56+00:00",
          "2025-01-24T14:26:56+00:00",
          "2025-01-24T16:26:56+00:00",
          "2025-01-24T18:26:57+00:00",
          "2025-01-24T21:26:56+00:00",
          "2025-01-25T00:56:56+00:00",
          "2025-01-25T01:26:56+00:00",
          "2025-01-25T01:56:55+00:00",
          "2025-01-25T02:56:56+00:00",
          "2025-01-25T04:56:56+00:00",
          "2025-01-25T05:56:56+00:00",
          "2025-01-25T06:26:55+00:00",
          "2025-01-25T06:56:56+00:00",
          "2025-01-25T10:56:56+00:00",
          "2025-01-25T16:56:56+00:00",
          "2025-01-25T17:26:56+00:00",
          "2025-01-25T18:26:56+00:00",
          "2025-01-25T22:26:56+00:00",
          "2025-01-25T23:26:56+00:00",
          "2025-01-25T23:56:56+00:00",
          "2025-01-26T00:56:56+00:00",
          "2025-01-26T03:26:56+00:00",
          "2025-01-26T03:56:56+00:00",
          "2025-01-26T06:26:56+00:00",
          "2025-01-26T10:56:56+00:00",
          "2025-01-26T12:56:56+00:00",
          "2025-01-26T13:56:56+00:00",
          "2025-01-26T15:26:56+00:00",
          "2025-01-26T15:56:56+00:00",
          "2025-01-26T19:56:56+00:00",
          "2025-01-26T21:26:56+00:00",
          "2025-01-26T22:56:56+00:00",
          "2025-01-27T02:26:56+00:00",
          "2025-01-27T03:56:56+00:00",
          "2025-01-27T04:56:56+00:00",
          "2025-01-27T06:26:56+00:00",
          "2025-01-27T06:56:56+00:00",
          "2025-01-27T08:56:56+00:00",
          "2025-01-27T09:56:56+00:00",
          "2025-01-27T11:56:55+00:00",
          "2025-01-27T13:26:56+00:00",
          "2025-01-27T15:56:56+00:00",
          "2025-01-27T18:26:56+00:00",
          "2025-01-27T19:56:57+00:00",
          "2025-01-27T20:26:56+00:00",
          "2025-01-27T20:56:56+00:00",
          "2025-01-27T23:56:56+00:00",
          "2025-01-28T00:56:56+00:00",
          "2025-01-28T02:56:56+00:00",
          "2025-01-28T03:56:56+00:00",
          "2025-01-28T04:56:56+00:00"
         ],
         "xaxis": "x",
         "y": [
          -89,
          -57,
          0,
          -128,
          -39,
          0,
          -112,
          -57,
          -112,
          -50,
          -73,
          -50,
          -89,
          -18,
          -73,
          -50,
          -71,
          18,
          -71,
          57,
          -71,
          0,
          -32,
          -71,
          57,
          -32,
          0,
          -71,
          18,
          0,
          0,
          -60,
          89,
          -39,
          -39,
          32,
          50,
          89,
          -23,
          -23,
          32,
          -23,
          32,
          -39,
          73,
          23,
          112,
          -16,
          55,
          73,
          -16,
          0,
          -37,
          -16,
          23,
          null,
          89,
          39,
          0,
          16,
          0,
          39,
          16,
          71,
          -21,
          71,
          71,
          128,
          128,
          39,
          16,
          92,
          60,
          60
         ],
         "yaxis": "y"
        },
        {
         "hovertemplate": "Anime Title=Kusuriya no Hitorigoto<br>Timestamp=%{x}<br>Change in Members=%{y}<extra></extra>",
         "legendgroup": "Kusuriya no Hitorigoto",
         "line": {
          "color": "#FECB52",
          "dash": "solid"
         },
         "marker": {
          "symbol": "circle"
         },
         "mode": "lines",
         "name": "Kusuriya no Hitorigoto",
         "showlegend": true,
         "type": "scattergl",
         "x": [
          "2025-01-22T08:24:01+00:00",
          "2025-01-22T08:26:52+00:00",
          "2025-01-22T08:28:18+00:00",
          "2025-01-22T12:26:56+00:00",
          "2025-01-22T12:56:56+00:00",
          "2025-01-22T16:26:56+00:00",
          "2025-01-22T18:56:56+00:00",
          "2025-01-22T20:26:56+00:00",
          "2025-01-22T23:56:56+00:00",
          "2025-01-23T00:56:56+00:00",
          "2025-01-23T03:56:56+00:00",
          "2025-01-23T07:26:56+00:00",
          "2025-01-23T10:26:56+00:00",
          "2025-01-23T12:26:56+00:00",
          "2025-01-23T13:56:56+00:00",
          "2025-01-23T17:26:56+00:00",
          "2025-01-24T00:56:56+00:00",
          "2025-01-24T03:56:56+00:00",
          "2025-01-24T05:26:56+00:00",
          "2025-01-24T06:26:56+00:00",
          "2025-01-24T07:26:56+00:00",
          "2025-01-24T07:56:55+00:00",
          "2025-01-24T09:56:56+00:00",
          "2025-01-24T13:56:56+00:00",
          "2025-01-24T14:26:56+00:00",
          "2025-01-24T16:26:56+00:00",
          "2025-01-24T18:26:57+00:00",
          "2025-01-24T21:26:56+00:00",
          "2025-01-25T00:56:56+00:00",
          "2025-01-25T01:26:56+00:00",
          "2025-01-25T01:56:55+00:00",
          "2025-01-25T02:56:56+00:00",
          "2025-01-25T04:56:56+00:00",
          "2025-01-25T05:56:56+00:00",
          "2025-01-25T06:26:55+00:00",
          "2025-01-25T06:56:56+00:00",
          "2025-01-25T10:56:56+00:00",
          "2025-01-25T16:56:56+00:00",
          "2025-01-25T17:26:56+00:00",
          "2025-01-25T18:26:56+00:00",
          "2025-01-25T22:26:56+00:00",
          "2025-01-25T23:26:56+00:00",
          "2025-01-25T23:56:56+00:00",
          "2025-01-26T00:56:56+00:00",
          "2025-01-26T03:26:56+00:00",
          "2025-01-26T03:56:56+00:00",
          "2025-01-26T06:26:56+00:00",
          "2025-01-26T10:56:56+00:00",
          "2025-01-26T12:56:56+00:00",
          "2025-01-26T13:56:56+00:00",
          "2025-01-26T15:26:56+00:00",
          "2025-01-26T15:56:56+00:00",
          "2025-01-26T19:56:56+00:00",
          "2025-01-26T21:26:56+00:00",
          "2025-01-26T22:56:56+00:00",
          "2025-01-27T02:26:56+00:00",
          "2025-01-27T03:56:56+00:00",
          "2025-01-27T04:56:56+00:00",
          "2025-01-27T06:26:56+00:00",
          "2025-01-27T06:56:56+00:00",
          "2025-01-27T08:56:56+00:00",
          "2025-01-27T09:56:56+00:00",
          "2025-01-27T11:56:55+00:00",
          "2025-01-27T13:26:56+00:00",
          "2025-01-27T15:56:56+00:00",
          "2025-01-27T18:26:56+00:00",
          "2025-01-27T19:56:57+00:00",
          "2025-01-27T20:26:56+00:00",
          "2025-01-27T20:56:56+00:00",
          "2025-01-27T23:56:56+00:00",
          "2025-01-28T00:56:56+00:00",
          "2025-01-28T02:56:56+00:00",
          "2025-01-28T03:56:56+00:00",
          "2025-01-28T04:56:56+00:00"
         ],
         "xaxis": "x",
         "y": [
          -2091,
          -1228,
          0,
          -3375,
          -616,
          0,
          -2683,
          -1228,
          -2067,
          -1475,
          -2067,
          -1475,
          -3799,
          -612,
          -2067,
          -1475,
          -2147,
          612,
          -2147,
          1228,
          -2147,
          0,
          -863,
          -2147,
          1228,
          -863,
          0,
          -2147,
          1475,
          -592,
          0,
          -2324,
          2091,
          -1284,
          -1284,
          863,
          1475,
          2091,
          -592,
          -1284,
          863,
          0,
          1455,
          -692,
          2067,
          592,
          2683,
          -692,
          1455,
          2067,
          -692,
          0,
          -1732,
          -692,
          0,
          null,
          2759,
          1284,
          0,
          692,
          0,
          1284,
          692,
          2147,
          -1040,
          1284,
          2147,
          2759,
          3375,
          1284,
          1732,
          3187,
          1732,
          2324
         ],
         "yaxis": "y"
        },
        {
         "hovertemplate": "Anime Title=Koe no Katachi<br>Timestamp=%{x}<br>Change in Members=%{y}<extra></extra>",
         "legendgroup": "Koe no Katachi",
         "line": {
          "color": "#636efa",
          "dash": "solid"
         },
         "marker": {
          "symbol": "circle"
         },
         "mode": "lines",
         "name": "Koe no Katachi",
         "showlegend": true,
         "type": "scattergl",
         "x": [
          "2025-01-22T08:24:01+00:00",
          "2025-01-22T08:26:52+00:00",
          "2025-01-22T08:28:18+00:00",
          "2025-01-22T12:26:56+00:00",
          "2025-01-22T12:56:56+00:00",
          "2025-01-22T16:26:56+00:00",
          "2025-01-22T18:56:56+00:00",
          "2025-01-22T20:26:56+00:00",
          "2025-01-22T23:56:56+00:00",
          "2025-01-23T00:56:56+00:00",
          "2025-01-23T03:56:56+00:00",
          "2025-01-23T07:26:56+00:00",
          "2025-01-23T10:26:56+00:00",
          "2025-01-23T12:26:56+00:00",
          "2025-01-23T13:56:56+00:00",
          "2025-01-23T17:26:56+00:00",
          "2025-01-24T00:56:56+00:00",
          "2025-01-24T03:56:56+00:00",
          "2025-01-24T05:26:56+00:00",
          "2025-01-24T06:26:56+00:00",
          "2025-01-24T07:26:56+00:00",
          "2025-01-24T07:56:55+00:00",
          "2025-01-24T09:56:56+00:00",
          "2025-01-24T13:56:56+00:00",
          "2025-01-24T14:26:56+00:00",
          "2025-01-24T16:26:56+00:00",
          "2025-01-24T18:26:57+00:00",
          "2025-01-24T21:26:56+00:00",
          "2025-01-25T00:56:56+00:00",
          "2025-01-25T01:26:56+00:00",
          "2025-01-25T01:56:55+00:00",
          "2025-01-25T02:56:56+00:00",
          "2025-01-25T04:56:56+00:00",
          "2025-01-25T05:56:56+00:00",
          "2025-01-25T06:26:55+00:00",
          "2025-01-25T06:56:56+00:00",
          "2025-01-25T10:56:56+00:00",
          "2025-01-25T16:56:56+00:00",
          "2025-01-25T17:26:56+00:00",
          "2025-01-25T18:26:56+00:00",
          "2025-01-25T22:26:56+00:00",
          "2025-01-25T23:26:56+00:00",
          "2025-01-25T23:56:56+00:00",
          "2025-01-26T00:56:56+00:00",
          "2025-01-26T03:26:56+00:00",
          "2025-01-26T03:56:56+00:00",
          "2025-01-26T06:26:56+00:00",
          "2025-01-26T10:56:56+00:00",
          "2025-01-26T12:56:56+00:00",
          "2025-01-26T13:56:56+00:00",
          "2025-01-26T15:26:56+00:00",
          "2025-01-26T15:56:56+00:00",
          "2025-01-26T19:56:56+00:00",
          "2025-01-26T21:26:56+00:00",
          "2025-01-26T22:56:56+00:00",
          "2025-01-27T02:26:56+00:00",
          "2025-01-27T03:56:56+00:00",
          "2025-01-27T04:56:56+00:00",
          "2025-01-27T06:26:56+00:00",
          "2025-01-27T06:56:56+00:00",
          "2025-01-27T08:56:56+00:00",
          "2025-01-27T09:56:56+00:00",
          "2025-01-27T11:56:55+00:00",
          "2025-01-27T13:26:56+00:00",
          "2025-01-27T15:56:56+00:00",
          "2025-01-27T18:26:56+00:00",
          "2025-01-27T19:56:57+00:00",
          "2025-01-27T20:26:56+00:00",
          "2025-01-27T20:56:56+00:00",
          "2025-01-27T23:56:56+00:00",
          "2025-01-28T00:56:56+00:00",
          "2025-01-28T02:56:56+00:00",
          "2025-01-28T03:56:56+00:00",
          "2025-01-28T04:56:56+00:00"
         ],
         "xaxis": "x",
         "y": [
          -1101,
          -778,
          -339,
          -1641,
          -439,
          0,
          -1641,
          -439,
          -1641,
          -762,
          -1641,
          -762,
          -2021,
          -323,
          -657,
          -323,
          -1202,
          439,
          -1582,
          778,
          -1582,
          0,
          -323,
          -879,
          762,
          0,
          323,
          -1259,
          762,
          -334,
          -334,
          -1259,
          762,
          -1259,
          -879,
          0,
          323,
          1096,
          -545,
          -545,
          334,
          -545,
          657,
          -545,
          657,
          334,
          1435,
          -545,
          879,
          1641,
          -380,
          0,
          -380,
          -380,
          545,
          null,
          1641,
          545,
          0,
          545,
          -380,
          879,
          545,
          1582,
          0,
          1259,
          1582,
          2021,
          2360,
          925,
          380,
          1259,
          925,
          925
         ],
         "yaxis": "y"
        },
        {
         "hovertemplate": "Anime Title=Gintama<br>Timestamp=%{x}<br>Change in Members=%{y}<extra></extra>",
         "legendgroup": "Gintama",
         "line": {
          "color": "#EF553B",
          "dash": "solid"
         },
         "marker": {
          "symbol": "circle"
         },
         "mode": "lines",
         "name": "Gintama",
         "showlegend": true,
         "type": "scattergl",
         "x": [
          "2025-01-22T08:24:01+00:00",
          "2025-01-22T08:26:52+00:00",
          "2025-01-22T08:28:18+00:00",
          "2025-01-22T12:26:56+00:00",
          "2025-01-22T12:56:56+00:00",
          "2025-01-22T16:26:56+00:00",
          "2025-01-22T18:56:56+00:00",
          "2025-01-22T20:26:56+00:00",
          "2025-01-22T23:56:56+00:00",
          "2025-01-23T00:56:56+00:00",
          "2025-01-23T03:56:56+00:00",
          "2025-01-23T07:26:56+00:00",
          "2025-01-23T10:26:56+00:00",
          "2025-01-23T12:26:56+00:00",
          "2025-01-23T13:56:56+00:00",
          "2025-01-23T17:26:56+00:00",
          "2025-01-24T00:56:56+00:00",
          "2025-01-24T03:56:56+00:00",
          "2025-01-24T05:26:56+00:00",
          "2025-01-24T06:26:56+00:00",
          "2025-01-24T07:26:56+00:00",
          "2025-01-24T07:56:55+00:00",
          "2025-01-24T09:56:56+00:00",
          "2025-01-24T13:56:56+00:00",
          "2025-01-24T14:26:56+00:00",
          "2025-01-24T16:26:56+00:00",
          "2025-01-24T18:26:57+00:00",
          "2025-01-24T21:26:56+00:00",
          "2025-01-25T00:56:56+00:00",
          "2025-01-25T01:26:56+00:00",
          "2025-01-25T01:56:55+00:00",
          "2025-01-25T02:56:56+00:00",
          "2025-01-25T04:56:56+00:00",
          "2025-01-25T05:56:56+00:00",
          "2025-01-25T06:26:55+00:00",
          "2025-01-25T06:56:56+00:00",
          "2025-01-25T10:56:56+00:00",
          "2025-01-25T16:56:56+00:00",
          "2025-01-25T17:26:56+00:00",
          "2025-01-25T18:26:56+00:00",
          "2025-01-25T22:26:56+00:00",
          "2025-01-25T23:26:56+00:00",
          "2025-01-25T23:56:56+00:00",
          "2025-01-26T00:56:56+00:00",
          "2025-01-26T03:26:56+00:00",
          "2025-01-26T03:56:56+00:00",
          "2025-01-26T06:26:56+00:00",
          "2025-01-26T10:56:56+00:00",
          "2025-01-26T12:56:56+00:00",
          "2025-01-26T13:56:56+00:00",
          "2025-01-26T15:26:56+00:00",
          "2025-01-26T15:56:56+00:00",
          "2025-01-26T19:56:56+00:00",
          "2025-01-26T21:26:56+00:00",
          "2025-01-26T22:56:56+00:00",
          "2025-01-27T02:26:56+00:00",
          "2025-01-27T03:56:56+00:00",
          "2025-01-27T04:56:56+00:00",
          "2025-01-27T06:26:56+00:00",
          "2025-01-27T06:56:56+00:00",
          "2025-01-27T08:56:56+00:00",
          "2025-01-27T09:56:56+00:00",
          "2025-01-27T11:56:55+00:00",
          "2025-01-27T13:26:56+00:00",
          "2025-01-27T15:56:56+00:00",
          "2025-01-27T18:26:56+00:00",
          "2025-01-27T19:56:57+00:00",
          "2025-01-27T20:26:56+00:00",
          "2025-01-27T20:56:56+00:00",
          "2025-01-27T23:56:56+00:00",
          "2025-01-28T00:56:56+00:00",
          "2025-01-28T02:56:56+00:00",
          "2025-01-28T03:56:56+00:00",
          "2025-01-28T04:56:56+00:00"
         ],
         "xaxis": "x",
         "y": [
          -343,
          -231,
          0,
          -574,
          -146,
          0,
          -473,
          -231,
          -327,
          -197,
          -327,
          -197,
          -556,
          -85,
          -327,
          -197,
          -343,
          85,
          -343,
          231,
          -343,
          0,
          -112,
          -343,
          231,
          -112,
          0,
          -231,
          197,
          -130,
          0,
          -359,
          343,
          -231,
          -231,
          112,
          197,
          343,
          -130,
          -231,
          130,
          0,
          242,
          -101,
          327,
          130,
          473,
          -101,
          242,
          327,
          -101,
          -101,
          -229,
          0,
          101,
          null,
          428,
          101,
          0,
          101,
          -128,
          231,
          101,
          343,
          -128,
          231,
          343,
          428,
          574,
          359,
          128,
          471,
          229,
          359
         ],
         "yaxis": "y"
        },
        {
         "hovertemplate": "Anime Title=Clannad: After Story<br>Timestamp=%{x}<br>Change in Members=%{y}<extra></extra>",
         "legendgroup": "Clannad: After Story",
         "line": {
          "color": "#00cc96",
          "dash": "solid"
         },
         "marker": {
          "symbol": "circle"
         },
         "mode": "lines",
         "name": "Clannad: After Story",
         "showlegend": true,
         "type": "scattergl",
         "x": [
          "2025-01-22T08:24:01+00:00",
          "2025-01-22T08:26:52+00:00",
          "2025-01-22T08:28:18+00:00",
          "2025-01-22T12:26:56+00:00",
          "2025-01-22T12:56:56+00:00",
          "2025-01-22T16:26:56+00:00",
          "2025-01-22T18:56:56+00:00",
          "2025-01-22T20:26:56+00:00",
          "2025-01-22T23:56:56+00:00",
          "2025-01-23T00:56:56+00:00",
          "2025-01-23T03:56:56+00:00",
          "2025-01-23T07:26:56+00:00",
          "2025-01-23T10:26:56+00:00",
          "2025-01-23T12:26:56+00:00",
          "2025-01-23T13:56:56+00:00",
          "2025-01-23T17:26:56+00:00",
          "2025-01-24T00:56:56+00:00",
          "2025-01-24T03:56:56+00:00",
          "2025-01-24T05:26:56+00:00",
          "2025-01-24T06:26:56+00:00",
          "2025-01-24T07:26:56+00:00",
          "2025-01-24T07:56:55+00:00",
          "2025-01-24T09:56:56+00:00",
          "2025-01-24T13:56:56+00:00",
          "2025-01-24T14:26:56+00:00",
          "2025-01-24T16:26:56+00:00",
          "2025-01-24T18:26:57+00:00",
          "2025-01-24T21:26:56+00:00",
          "2025-01-25T00:56:56+00:00",
          "2025-01-25T01:26:56+00:00",
          "2025-01-25T01:56:55+00:00",
          "2025-01-25T02:56:56+00:00",
          "2025-01-25T04:56:56+00:00",
          "2025-01-25T05:56:56+00:00",
          "2025-01-25T06:26:55+00:00",
          "2025-01-25T06:56:56+00:00",
          "2025-01-25T10:56:56+00:00",
          "2025-01-25T16:56:56+00:00",
          "2025-01-25T17:26:56+00:00",
          "2025-01-25T18:26:56+00:00",
          "2025-01-25T22:26:56+00:00",
          "2025-01-25T23:26:56+00:00",
          "2025-01-25T23:56:56+00:00",
          "2025-01-26T00:56:56+00:00",
          "2025-01-26T03:26:56+00:00",
          "2025-01-26T03:56:56+00:00",
          "2025-01-26T06:26:56+00:00",
          "2025-01-26T10:56:56+00:00",
          "2025-01-26T12:56:56+00:00",
          "2025-01-26T13:56:56+00:00",
          "2025-01-26T15:26:56+00:00",
          "2025-01-26T15:56:56+00:00",
          "2025-01-26T19:56:56+00:00",
          "2025-01-26T21:26:56+00:00",
          "2025-01-26T22:56:56+00:00",
          "2025-01-27T02:26:56+00:00",
          "2025-01-27T03:56:56+00:00",
          "2025-01-27T04:56:56+00:00",
          "2025-01-27T06:26:56+00:00",
          "2025-01-27T06:56:56+00:00",
          "2025-01-27T08:56:56+00:00",
          "2025-01-27T09:56:56+00:00",
          "2025-01-27T11:56:55+00:00",
          "2025-01-27T13:26:56+00:00",
          "2025-01-27T15:56:56+00:00",
          "2025-01-27T18:26:56+00:00",
          "2025-01-27T19:56:57+00:00",
          "2025-01-27T20:26:56+00:00",
          "2025-01-27T20:56:56+00:00",
          "2025-01-27T23:56:56+00:00",
          "2025-01-28T00:56:56+00:00",
          "2025-01-28T02:56:56+00:00",
          "2025-01-28T03:56:56+00:00",
          "2025-01-28T04:56:56+00:00"
         ],
         "xaxis": "x",
         "y": [
          -370,
          -187,
          0,
          -543,
          -92,
          0,
          -445,
          -187,
          -445,
          -278,
          -353,
          -278,
          -451,
          -95,
          -353,
          -278,
          -356,
          95,
          -356,
          187,
          -356,
          0,
          -183,
          -356,
          187,
          -183,
          0,
          -356,
          95,
          0,
          0,
          -357,
          370,
          -173,
          -173,
          183,
          278,
          370,
          -75,
          -173,
          183,
          -75,
          183,
          -98,
          353,
          75,
          445,
          -98,
          258,
          353,
          -98,
          0,
          -282,
          -98,
          75,
          null,
          451,
          173,
          0,
          98,
          0,
          173,
          98,
          356,
          -184,
          356,
          356,
          543,
          543,
          173,
          98,
          540,
          282,
          357
         ],
         "yaxis": "y"
        },
        {
         "hovertemplate": "Anime Title=Fruits Basket: The Final<br>Timestamp=%{x}<br>Change in Members=%{y}<extra></extra>",
         "legendgroup": "Fruits Basket: The Final",
         "line": {
          "color": "#ab63fa",
          "dash": "solid"
         },
         "marker": {
          "symbol": "circle"
         },
         "mode": "lines",
         "name": "Fruits Basket: The Final",
         "showlegend": true,
         "type": "scattergl",
         "x": [
          "2025-01-22T08:24:01+00:00",
          "2025-01-22T08:26:52+00:00",
          "2025-01-22T08:28:18+00:00",
          "2025-01-22T12:26:56+00:00",
          "2025-01-22T12:56:56+00:00",
          "2025-01-22T16:26:56+00:00",
          "2025-01-22T18:56:56+00:00",
          "2025-01-22T20:26:56+00:00",
          "2025-01-22T23:56:56+00:00",
          "2025-01-23T00:56:56+00:00",
          "2025-01-23T03:56:56+00:00",
          "2025-01-23T07:26:56+00:00",
          "2025-01-23T10:26:56+00:00",
          "2025-01-23T12:26:56+00:00",
          "2025-01-23T13:56:56+00:00",
          "2025-01-23T17:26:56+00:00",
          "2025-01-24T00:56:56+00:00",
          "2025-01-24T03:56:56+00:00",
          "2025-01-24T05:26:56+00:00",
          "2025-01-24T06:26:56+00:00",
          "2025-01-24T07:26:56+00:00",
          "2025-01-24T07:56:55+00:00",
          "2025-01-24T09:56:56+00:00",
          "2025-01-24T13:56:56+00:00",
          "2025-01-24T14:26:56+00:00",
          "2025-01-24T16:26:56+00:00",
          "2025-01-24T18:26:57+00:00",
          "2025-01-24T21:26:56+00:00",
          "2025-01-25T00:56:56+00:00",
          "2025-01-25T01:26:56+00:00",
          "2025-01-25T01:56:55+00:00",
          "2025-01-25T02:56:56+00:00",
          "2025-01-25T04:56:56+00:00",
          "2025-01-25T05:56:56+00:00",
          "2025-01-25T06:26:55+00:00",
          "2025-01-25T06:56:56+00:00",
          "2025-01-25T10:56:56+00:00",
          "2025-01-25T16:56:56+00:00",
          "2025-01-25T17:26:56+00:00",
          "2025-01-25T18:26:56+00:00",
          "2025-01-25T22:26:56+00:00",
          "2025-01-25T23:26:56+00:00",
          "2025-01-25T23:56:56+00:00",
          "2025-01-26T00:56:56+00:00",
          "2025-01-26T03:26:56+00:00",
          "2025-01-26T03:56:56+00:00",
          "2025-01-26T06:26:56+00:00",
          "2025-01-26T10:56:56+00:00",
          "2025-01-26T12:56:56+00:00",
          "2025-01-26T13:56:56+00:00",
          "2025-01-26T15:26:56+00:00",
          "2025-01-26T15:56:56+00:00",
          "2025-01-26T19:56:56+00:00",
          "2025-01-26T21:26:56+00:00",
          "2025-01-26T22:56:56+00:00",
          "2025-01-27T02:26:56+00:00",
          "2025-01-27T03:56:56+00:00",
          "2025-01-27T04:56:56+00:00",
          "2025-01-27T06:26:56+00:00",
          "2025-01-27T06:56:56+00:00",
          "2025-01-27T08:56:56+00:00",
          "2025-01-27T09:56:56+00:00",
          "2025-01-27T11:56:55+00:00",
          "2025-01-27T13:26:56+00:00",
          "2025-01-27T15:56:56+00:00",
          "2025-01-27T18:26:56+00:00",
          "2025-01-27T19:56:57+00:00",
          "2025-01-27T20:26:56+00:00",
          "2025-01-27T20:56:56+00:00",
          "2025-01-27T23:56:56+00:00",
          "2025-01-28T00:56:56+00:00",
          "2025-01-28T02:56:56+00:00",
          "2025-01-28T03:56:56+00:00",
          "2025-01-28T04:56:56+00:00"
         ],
         "xaxis": "x",
         "y": [
          -261,
          -157,
          0,
          -611,
          -157,
          0,
          -483,
          -157,
          -483,
          -261,
          -483,
          -373,
          -454,
          -104,
          -216,
          -104,
          -326,
          157,
          -454,
          157,
          -454,
          0,
          0,
          -222,
          261,
          0,
          104,
          -350,
          261,
          -112,
          -112,
          -350,
          261,
          -350,
          -222,
          0,
          216,
          373,
          -110,
          -110,
          112,
          -110,
          216,
          -110,
          216,
          112,
          373,
          0,
          222,
          483,
          -128,
          0,
          -128,
          -128,
          110,
          null,
          326,
          110,
          -128,
          0,
          -128,
          350,
          238,
          350,
          0,
          350,
          454,
          611,
          611,
          238,
          128,
          350,
          238,
          238
         ],
         "yaxis": "y"
        },
        {
         "hovertemplate": "Anime Title=Code Geass: Hangyaku no Lelouch R2<br>Timestamp=%{x}<br>Change in Members=%{y}<extra></extra>",
         "legendgroup": "Code Geass: Hangyaku no Lelouch R2",
         "line": {
          "color": "#FFA15A",
          "dash": "solid"
         },
         "marker": {
          "symbol": "circle"
         },
         "mode": "lines",
         "name": "Code Geass: Hangyaku no Lelouch R2",
         "showlegend": true,
         "type": "scattergl",
         "x": [
          "2025-01-22T08:24:01+00:00",
          "2025-01-22T08:26:52+00:00",
          "2025-01-22T08:28:18+00:00",
          "2025-01-22T12:26:56+00:00",
          "2025-01-22T12:56:56+00:00",
          "2025-01-22T16:26:56+00:00",
          "2025-01-22T18:56:56+00:00",
          "2025-01-22T20:26:56+00:00",
          "2025-01-22T23:56:56+00:00",
          "2025-01-23T00:56:56+00:00",
          "2025-01-23T03:56:56+00:00",
          "2025-01-23T07:26:56+00:00",
          "2025-01-23T10:26:56+00:00",
          "2025-01-23T12:26:56+00:00",
          "2025-01-23T13:56:56+00:00",
          "2025-01-23T17:26:56+00:00",
          "2025-01-24T00:56:56+00:00",
          "2025-01-24T03:56:56+00:00",
          "2025-01-24T05:26:56+00:00",
          "2025-01-24T06:26:56+00:00",
          "2025-01-24T07:26:56+00:00",
          "2025-01-24T07:56:55+00:00",
          "2025-01-24T09:56:56+00:00",
          "2025-01-24T13:56:56+00:00",
          "2025-01-24T14:26:56+00:00",
          "2025-01-24T16:26:56+00:00",
          "2025-01-24T18:26:57+00:00",
          "2025-01-24T21:26:56+00:00",
          "2025-01-25T00:56:56+00:00",
          "2025-01-25T01:26:56+00:00",
          "2025-01-25T01:56:55+00:00",
          "2025-01-25T02:56:56+00:00",
          "2025-01-25T04:56:56+00:00",
          "2025-01-25T05:56:56+00:00",
          "2025-01-25T06:26:55+00:00",
          "2025-01-25T06:56:56+00:00",
          "2025-01-25T10:56:56+00:00",
          "2025-01-25T16:56:56+00:00",
          "2025-01-25T17:26:56+00:00",
          "2025-01-25T18:26:56+00:00",
          "2025-01-25T22:26:56+00:00",
          "2025-01-25T23:26:56+00:00",
          "2025-01-25T23:56:56+00:00",
          "2025-01-26T00:56:56+00:00",
          "2025-01-26T03:26:56+00:00",
          "2025-01-26T03:56:56+00:00",
          "2025-01-26T06:26:56+00:00",
          "2025-01-26T10:56:56+00:00",
          "2025-01-26T12:56:56+00:00",
          "2025-01-26T13:56:56+00:00",
          "2025-01-26T15:26:56+00:00",
          "2025-01-26T15:56:56+00:00",
          "2025-01-26T19:56:56+00:00",
          "2025-01-26T21:26:56+00:00",
          "2025-01-26T22:56:56+00:00",
          "2025-01-27T02:26:56+00:00",
          "2025-01-27T03:56:56+00:00",
          "2025-01-27T04:56:56+00:00",
          "2025-01-27T06:26:56+00:00",
          "2025-01-27T06:56:56+00:00",
          "2025-01-27T08:56:56+00:00",
          "2025-01-27T09:56:56+00:00",
          "2025-01-27T11:56:55+00:00",
          "2025-01-27T13:26:56+00:00",
          "2025-01-27T15:56:56+00:00",
          "2025-01-27T18:26:56+00:00",
          "2025-01-27T19:56:57+00:00",
          "2025-01-27T20:26:56+00:00",
          "2025-01-27T20:56:56+00:00",
          "2025-01-27T23:56:56+00:00",
          "2025-01-28T00:56:56+00:00",
          "2025-01-28T02:56:56+00:00",
          "2025-01-28T03:56:56+00:00",
          "2025-01-28T04:56:56+00:00"
         ],
         "xaxis": "x",
         "y": [
          -651,
          -469,
          -296,
          -1092,
          -173,
          0,
          -594,
          -173,
          -796,
          -355,
          -796,
          -355,
          -1018,
          -355,
          -421,
          -182,
          -623,
          173,
          -845,
          469,
          -845,
          0,
          -182,
          -441,
          355,
          0,
          182,
          -441,
          355,
          -239,
          -239,
          -663,
          651,
          -663,
          -441,
          0,
          355,
          594,
          -202,
          -202,
          239,
          0,
          421,
          -202,
          421,
          239,
          890,
          -202,
          239,
          594,
          -222,
          0,
          -222,
          -222,
          202,
          null,
          796,
          202,
          0,
          202,
          -222,
          441,
          202,
          623,
          0,
          663,
          845,
          1018,
          1314,
          424,
          222,
          663,
          424,
          424
         ],
         "yaxis": "y"
        }
       ],
       "layout": {
        "legend": {
         "title": {
          "text": "Anime Title"
         },
         "tracegroupgap": 0
        },
        "template": {
         "data": {
          "bar": [
           {
            "error_x": {
             "color": "#2a3f5f"
            },
            "error_y": {
             "color": "#2a3f5f"
            },
            "marker": {
             "line": {
              "color": "#E5ECF6",
              "width": 0.5
             },
             "pattern": {
              "fillmode": "overlay",
              "size": 10,
              "solidity": 0.2
             }
            },
            "type": "bar"
           }
          ],
          "barpolar": [
           {
            "marker": {
             "line": {
              "color": "#E5ECF6",
              "width": 0.5
             },
             "pattern": {
              "fillmode": "overlay",
              "size": 10,
              "solidity": 0.2
             }
            },
            "type": "barpolar"
           }
          ],
          "carpet": [
           {
            "aaxis": {
             "endlinecolor": "#2a3f5f",
             "gridcolor": "white",
             "linecolor": "white",
             "minorgridcolor": "white",
             "startlinecolor": "#2a3f5f"
            },
            "baxis": {
             "endlinecolor": "#2a3f5f",
             "gridcolor": "white",
             "linecolor": "white",
             "minorgridcolor": "white",
             "startlinecolor": "#2a3f5f"
            },
            "type": "carpet"
           }
          ],
          "choropleth": [
           {
            "colorbar": {
             "outlinewidth": 0,
             "ticks": ""
            },
            "type": "choropleth"
           }
          ],
          "contour": [
           {
            "colorbar": {
             "outlinewidth": 0,
             "ticks": ""
            },
            "colorscale": [
             [
              0,
              "#0d0887"
             ],
             [
              0.1111111111111111,
              "#46039f"
             ],
             [
              0.2222222222222222,
              "#7201a8"
             ],
             [
              0.3333333333333333,
              "#9c179e"
             ],
             [
              0.4444444444444444,
              "#bd3786"
             ],
             [
              0.5555555555555556,
              "#d8576b"
             ],
             [
              0.6666666666666666,
              "#ed7953"
             ],
             [
              0.7777777777777778,
              "#fb9f3a"
             ],
             [
              0.8888888888888888,
              "#fdca26"
             ],
             [
              1,
              "#f0f921"
             ]
            ],
            "type": "contour"
           }
          ],
          "contourcarpet": [
           {
            "colorbar": {
             "outlinewidth": 0,
             "ticks": ""
            },
            "type": "contourcarpet"
           }
          ],
          "heatmap": [
           {
            "colorbar": {
             "outlinewidth": 0,
             "ticks": ""
            },
            "colorscale": [
             [
              0,
              "#0d0887"
             ],
             [
              0.1111111111111111,
              "#46039f"
             ],
             [
              0.2222222222222222,
              "#7201a8"
             ],
             [
              0.3333333333333333,
              "#9c179e"
             ],
             [
              0.4444444444444444,
              "#bd3786"
             ],
             [
              0.5555555555555556,
              "#d8576b"
             ],
             [
              0.6666666666666666,
              "#ed7953"
             ],
             [
              0.7777777777777778,
              "#fb9f3a"
             ],
             [
              0.8888888888888888,
              "#fdca26"
             ],
             [
              1,
              "#f0f921"
             ]
            ],
            "type": "heatmap"
           }
          ],
          "heatmapgl": [
           {
            "colorbar": {
             "outlinewidth": 0,
             "ticks": ""
            },
            "colorscale": [
             [
              0,
              "#0d0887"
             ],
             [
              0.1111111111111111,
              "#46039f"
             ],
             [
              0.2222222222222222,
              "#7201a8"
             ],
             [
              0.3333333333333333,
              "#9c179e"
             ],
             [
              0.4444444444444444,
              "#bd3786"
             ],
             [
              0.5555555555555556,
              "#d8576b"
             ],
             [
              0.6666666666666666,
              "#ed7953"
             ],
             [
              0.7777777777777778,
              "#fb9f3a"
             ],
             [
              0.8888888888888888,
              "#fdca26"
             ],
             [
              1,
              "#f0f921"
             ]
            ],
            "type": "heatmapgl"
           }
          ],
          "histogram": [
           {
            "marker": {
             "pattern": {
              "fillmode": "overlay",
              "size": 10,
              "solidity": 0.2
             }
            },
            "type": "histogram"
           }
          ],
          "histogram2d": [
           {
            "colorbar": {
             "outlinewidth": 0,
             "ticks": ""
            },
            "colorscale": [
             [
              0,
              "#0d0887"
             ],
             [
              0.1111111111111111,
              "#46039f"
             ],
             [
              0.2222222222222222,
              "#7201a8"
             ],
             [
              0.3333333333333333,
              "#9c179e"
             ],
             [
              0.4444444444444444,
              "#bd3786"
             ],
             [
              0.5555555555555556,
              "#d8576b"
             ],
             [
              0.6666666666666666,
              "#ed7953"
             ],
             [
              0.7777777777777778,
              "#fb9f3a"
             ],
             [
              0.8888888888888888,
              "#fdca26"
             ],
             [
              1,
              "#f0f921"
             ]
            ],
            "type": "histogram2d"
           }
          ],
          "histogram2dcontour": [
           {
            "colorbar": {
             "outlinewidth": 0,
             "ticks": ""
            },
            "colorscale": [
             [
              0,
              "#0d0887"
             ],
             [
              0.1111111111111111,
              "#46039f"
             ],
             [
              0.2222222222222222,
              "#7201a8"
             ],
             [
              0.3333333333333333,
              "#9c179e"
             ],
             [
              0.4444444444444444,
              "#bd3786"
             ],
             [
              0.5555555555555556,
              "#d8576b"
             ],
             [
              0.6666666666666666,
              "#ed7953"
             ],
             [
              0.7777777777777778,
              "#fb9f3a"
             ],
             [
              0.8888888888888888,
              "#fdca26"
             ],
             [
              1,
              "#f0f921"
             ]
            ],
            "type": "histogram2dcontour"
           }
          ],
          "mesh3d": [
           {
            "colorbar": {
             "outlinewidth": 0,
             "ticks": ""
            },
            "type": "mesh3d"
           }
          ],
          "parcoords": [
           {
            "line": {
             "colorbar": {
              "outlinewidth": 0,
              "ticks": ""
             }
            },
            "type": "parcoords"
           }
          ],
          "pie": [
           {
            "automargin": true,
            "type": "pie"
           }
          ],
          "scatter": [
           {
            "fillpattern": {
             "fillmode": "overlay",
             "size": 10,
             "solidity": 0.2
            },
            "type": "scatter"
           }
          ],
          "scatter3d": [
           {
            "line": {
             "colorbar": {
              "outlinewidth": 0,
              "ticks": ""
             }
            },
            "marker": {
             "colorbar": {
              "outlinewidth": 0,
              "ticks": ""
             }
            },
            "type": "scatter3d"
           }
          ],
          "scattercarpet": [
           {
            "marker": {
             "colorbar": {
              "outlinewidth": 0,
              "ticks": ""
             }
            },
            "type": "scattercarpet"
           }
          ],
          "scattergeo": [
           {
            "marker": {
             "colorbar": {
              "outlinewidth": 0,
              "ticks": ""
             }
            },
            "type": "scattergeo"
           }
          ],
          "scattergl": [
           {
            "marker": {
             "colorbar": {
              "outlinewidth": 0,
              "ticks": ""
             }
            },
            "type": "scattergl"
           }
          ],
          "scattermapbox": [
           {
            "marker": {
             "colorbar": {
              "outlinewidth": 0,
              "ticks": ""
             }
            },
            "type": "scattermapbox"
           }
          ],
          "scatterpolar": [
           {
            "marker": {
             "colorbar": {
              "outlinewidth": 0,
              "ticks": ""
             }
            },
            "type": "scatterpolar"
           }
          ],
          "scatterpolargl": [
           {
            "marker": {
             "colorbar": {
              "outlinewidth": 0,
              "ticks": ""
             }
            },
            "type": "scatterpolargl"
           }
          ],
          "scatterternary": [
           {
            "marker": {
             "colorbar": {
              "outlinewidth": 0,
              "ticks": ""
             }
            },
            "type": "scatterternary"
           }
          ],
          "surface": [
           {
            "colorbar": {
             "outlinewidth": 0,
             "ticks": ""
            },
            "colorscale": [
             [
              0,
              "#0d0887"
             ],
             [
              0.1111111111111111,
              "#46039f"
             ],
             [
              0.2222222222222222,
              "#7201a8"
             ],
             [
              0.3333333333333333,
              "#9c179e"
             ],
             [
              0.4444444444444444,
              "#bd3786"
             ],
             [
              0.5555555555555556,
              "#d8576b"
             ],
             [
              0.6666666666666666,
              "#ed7953"
             ],
             [
              0.7777777777777778,
              "#fb9f3a"
             ],
             [
              0.8888888888888888,
              "#fdca26"
             ],
             [
              1,
              "#f0f921"
             ]
            ],
            "type": "surface"
           }
          ],
          "table": [
           {
            "cells": {
             "fill": {
              "color": "#EBF0F8"
             },
             "line": {
              "color": "white"
             }
            },
            "header": {
             "fill": {
              "color": "#C8D4E3"
             },
             "line": {
              "color": "white"
             }
            },
            "type": "table"
           }
          ]
         },
         "layout": {
          "annotationdefaults": {
           "arrowcolor": "#2a3f5f",
           "arrowhead": 0,
           "arrowwidth": 1
          },
          "autotypenumbers": "strict",
          "coloraxis": {
           "colorbar": {
            "outlinewidth": 0,
            "ticks": ""
           }
          },
          "colorscale": {
           "diverging": [
            [
             0,
             "#8e0152"
            ],
            [
             0.1,
             "#c51b7d"
            ],
            [
             0.2,
             "#de77ae"
            ],
            [
             0.3,
             "#f1b6da"
            ],
            [
             0.4,
             "#fde0ef"
            ],
            [
             0.5,
             "#f7f7f7"
            ],
            [
             0.6,
             "#e6f5d0"
            ],
            [
             0.7,
             "#b8e186"
            ],
            [
             0.8,
             "#7fbc41"
            ],
            [
             0.9,
             "#4d9221"
            ],
            [
             1,
             "#276419"
            ]
           ],
           "sequential": [
            [
             0,
             "#0d0887"
            ],
            [
             0.1111111111111111,
             "#46039f"
            ],
            [
             0.2222222222222222,
             "#7201a8"
            ],
            [
             0.3333333333333333,
             "#9c179e"
            ],
            [
             0.4444444444444444,
             "#bd3786"
            ],
            [
             0.5555555555555556,
             "#d8576b"
            ],
            [
             0.6666666666666666,
             "#ed7953"
            ],
            [
             0.7777777777777778,
             "#fb9f3a"
            ],
            [
             0.8888888888888888,
             "#fdca26"
            ],
            [
             1,
             "#f0f921"
            ]
           ],
           "sequentialminus": [
            [
             0,
             "#0d0887"
            ],
            [
             0.1111111111111111,
             "#46039f"
            ],
            [
             0.2222222222222222,
             "#7201a8"
            ],
            [
             0.3333333333333333,
             "#9c179e"
            ],
            [
             0.4444444444444444,
             "#bd3786"
            ],
            [
             0.5555555555555556,
             "#d8576b"
            ],
            [
             0.6666666666666666,
             "#ed7953"
            ],
            [
             0.7777777777777778,
             "#fb9f3a"
            ],
            [
             0.8888888888888888,
             "#fdca26"
            ],
            [
             1,
             "#f0f921"
            ]
           ]
          },
          "colorway": [
           "#636efa",
           "#EF553B",
           "#00cc96",
           "#ab63fa",
           "#FFA15A",
           "#19d3f3",
           "#FF6692",
           "#B6E880",
           "#FF97FF",
           "#FECB52"
          ],
          "font": {
           "color": "#2a3f5f"
          },
          "geo": {
           "bgcolor": "white",
           "lakecolor": "white",
           "landcolor": "#E5ECF6",
           "showlakes": true,
           "showland": true,
           "subunitcolor": "white"
          },
          "hoverlabel": {
           "align": "left"
          },
          "hovermode": "closest",
          "mapbox": {
           "style": "light"
          },
          "paper_bgcolor": "white",
          "plot_bgcolor": "#E5ECF6",
          "polar": {
           "angularaxis": {
            "gridcolor": "white",
            "linecolor": "white",
            "ticks": ""
           },
           "bgcolor": "#E5ECF6",
           "radialaxis": {
            "gridcolor": "white",
            "linecolor": "white",
            "ticks": ""
           }
          },
          "scene": {
           "xaxis": {
            "backgroundcolor": "#E5ECF6",
            "gridcolor": "white",
            "gridwidth": 2,
            "linecolor": "white",
            "showbackground": true,
            "ticks": "",
            "zerolinecolor": "white"
           },
           "yaxis": {
            "backgroundcolor": "#E5ECF6",
            "gridcolor": "white",
            "gridwidth": 2,
            "linecolor": "white",
            "showbackground": true,
            "ticks": "",
            "zerolinecolor": "white"
           },
           "zaxis": {
            "backgroundcolor": "#E5ECF6",
            "gridcolor": "white",
            "gridwidth": 2,
            "linecolor": "white",
            "showbackground": true,
            "ticks": "",
            "zerolinecolor": "white"
           }
          },
          "shapedefaults": {
           "line": {
            "color": "#2a3f5f"
           }
          },
          "ternary": {
           "aaxis": {
            "gridcolor": "white",
            "linecolor": "white",
            "ticks": ""
           },
           "baxis": {
            "gridcolor": "white",
            "linecolor": "white",
            "ticks": ""
           },
           "bgcolor": "#E5ECF6",
           "caxis": {
            "gridcolor": "white",
            "linecolor": "white",
            "ticks": ""
           }
          },
          "title": {
           "x": 0.05
          },
          "xaxis": {
           "automargin": true,
           "gridcolor": "white",
           "linecolor": "white",
           "ticks": "",
           "title": {
            "standoff": 15
           },
           "zerolinecolor": "white",
           "zerolinewidth": 2
          },
          "yaxis": {
           "automargin": true,
           "gridcolor": "white",
           "linecolor": "white",
           "ticks": "",
           "title": {
            "standoff": 15
           },
           "zerolinecolor": "white",
           "zerolinewidth": 2
          }
         }
        },
        "title": {
         "text": "Change in Members Over Time by Anime"
        },
        "xaxis": {
         "anchor": "y",
         "domain": [
          0,
          1
         ],
         "range": [
          "2025-01-27T04:56:56+00:00",
          "2025-01-28T04:56:56+00:00"
         ],
         "rangeslider": {
          "visible": true
         },
         "showgrid": true,
         "title": {
          "text": "Timestamp"
         }
        },
        "yaxis": {
         "anchor": "x",
         "domain": [
          0,
          1
         ],
         "showgrid": true,
         "title": {
          "text": "Change in Members"
         }
        }
       }
      }
     },
     "metadata": {},
     "output_type": "display_data"
    }
   ],
   "source": [
    "members_line_plot(df.copy())"
   ]
  },
  {
   "cell_type": "code",
   "execution_count": 6,
   "metadata": {},
   "outputs": [],
   "source": [
    "import pandas as pd\n",
    "import plotly.express as px\n",
    "\n",
    "def studios_in_top_25(data):\n",
    "    \"\"\"\n",
    "    Function to create a bar chart to switch between displaying studio and licensor data,\n",
    "    with hover information showing associated titles and a button to toggle between the two.\n",
    "    \"\"\"\n",
    "    # Get most recent date\n",
    "    most_recent_date = data['timestamp'].max()\n",
    "    data = data[data['timestamp'] == most_recent_date]\n",
    "\n",
    "    # Prepare the studio data\n",
    "    studio_data = data[['title', 'studios.names']].dropna()\n",
    "    studio_data = studio_data.explode('studios.names')  # Explode nested list into rows\n",
    "    studio_data = (\n",
    "        studio_data.groupby('studios.names')\n",
    "        .agg(titles=('title', list), count=('studios.names', 'count'))\n",
    "        .reset_index()\n",
    "        .rename(columns={'studios.names': 'name'})\n",
    "    )\n",
    "    studio_data['type'] = 'Studio'\n",
    "\n",
    "    # Prepare the licensor data\n",
    "    licensor_data = data[['title', 'licensors.names']].dropna()\n",
    "    licensor_data = licensor_data.explode('licensors.names')  # Explode nested list into rows\n",
    "    licensor_data = (\n",
    "        licensor_data.groupby('licensors.names')\n",
    "        .agg(titles=('title', list), count=('licensors.names', 'count'))\n",
    "        .reset_index()\n",
    "        .rename(columns={'licensors.names': 'name'})\n",
    "    )\n",
    "    licensor_data['type'] = 'Licensor'\n",
    "\n",
    "    # Combine the data\n",
    "    combined_data = pd.concat([studio_data, licensor_data], ignore_index=True)\n",
    "\n",
    "    # Add a hover data for titles\n",
    "    combined_data['hover_titles'] = combined_data['titles'].apply(lambda x: ', '.join(x))\n",
    "\n",
    "    # Create the bar chart\n",
    "    fig = px.bar(\n",
    "        combined_data,\n",
    "        x='name',\n",
    "        y='count',\n",
    "        color='type',\n",
    "        hover_data={'hover_titles': True, 'count': True, 'type': False},\n",
    "        title=\"Number of Studios vs Licensors\",\n",
    "        labels={\n",
    "            'name': 'Name',\n",
    "            'count': 'Number of Titles',\n",
    "        }\n",
    "    )\n",
    "\n",
    "    # Update the layout for better appearance and add toggle buttons\n",
    "    fig.update_layout(\n",
    "        xaxis=dict(title=\"Name\", tickangle=45),\n",
    "        yaxis=dict(title=\"Number of Titles\"),\n",
    "        updatemenus=[\n",
    "            {\n",
    "                \"buttons\": [\n",
    "                    {\n",
    "                        \"label\": \"Studio\",\n",
    "                        \"method\": \"update\",\n",
    "                        \"args\": [\n",
    "                            {\"visible\": [True, False]},  # Show only Studio bars\n",
    "                            {\"title\": \"Number of Studios\"}\n",
    "                        ],\n",
    "                    },\n",
    "                    {\n",
    "                        \"label\": \"Licensor\",\n",
    "                        \"method\": \"update\",\n",
    "                        \"args\": [\n",
    "                            {\"visible\": [False, True]},  # Show only Licensor bars\n",
    "                            {\"title\": \"Number of Licensors\"}\n",
    "                        ],\n",
    "                    },\n",
    "                ],\n",
    "                \"direction\": \"left\",\n",
    "                \"pad\": {\"r\": 10, \"t\": 10},\n",
    "                \"showactive\": True,\n",
    "                \"type\": \"buttons\",\n",
    "                \"x\": 0.1,\n",
    "                \"xanchor\": \"left\",\n",
    "                \"y\": 1.2,\n",
    "                \"yanchor\": \"top\",\n",
    "            }\n",
    "        ]\n",
    "    )\n",
    "\n",
    "    return fig\n"
   ]
  },
  {
   "cell_type": "code",
   "execution_count": 7,
   "metadata": {},
   "outputs": [
    {
     "data": {
      "application/vnd.plotly.v1+json": {
       "config": {
        "plotlyServerURL": "https://plot.ly"
       },
       "data": [
        {
         "alignmentgroup": "True",
         "customdata": [
          [
           "Kaguya-sama wa Kokurasetai: Ultra Romantic",
           "Studio"
          ],
          [
           "Gintama°, Gintama: The Final, Gintama., Gintama. Shirogane no Tamashii-hen - Kouhan-sen",
           "Studio"
          ],
          [
           "Fullmetal Alchemist: Brotherhood",
           "Studio"
          ],
          [
           "Ginga Eiyuu Densetsu",
           "Studio"
          ],
          [
           "Ginga Eiyuu Densetsu",
           "Studio"
          ],
          [
           "Clannad: After Story, Koe no Katachi",
           "Studio"
          ],
          [
           "Shingeki no Kyojin: The Final Season - Kanketsu-hen",
           "Studio"
          ],
          [
           "Sousou no Frieren, Hunter x Hunter (2011), Monster",
           "Studio"
          ],
          [
           "Kusuriya no Hitorigoto",
           "Studio"
          ],
          [
           "Bleach: Sennen Kessen-hen",
           "Studio"
          ],
          [
           "3-gatsu no Lion 2nd Season",
           "Studio"
          ],
          [
           "Gintama', Gintama': Enchousen, Gintama, Code Geass: Hangyaku no Lelouch R2, Gintama Movie 2: Kanketsu-hen - Yorozuya yo Eien Nare",
           "Studio"
          ],
          [
           "Fruits Basket: The Final",
           "Studio"
          ],
          [
           "Kusuriya no Hitorigoto",
           "Studio"
          ],
          [
           "One Piece Fan Letter",
           "Studio"
          ],
          [
           "Steins;Gate",
           "Studio"
          ],
          [
           "Shingeki no Kyojin Season 3 Part 2",
           "Studio"
          ]
         ],
         "hovertemplate": "Name=%{x}<br>Number of Titles=%{y}<br>hover_titles=%{customdata[0]}<extra></extra>",
         "legendgroup": "Studio",
         "marker": {
          "color": "#636efa",
          "pattern": {
           "shape": ""
          }
         },
         "name": "Studio",
         "offsetgroup": "Studio",
         "orientation": "v",
         "showlegend": true,
         "textposition": "auto",
         "type": "bar",
         "x": [
          "A-1 Pictures",
          "Bandai Namco Pictures",
          "Bones",
          "K-Factory",
          "Kitty Film Mitaka Studio",
          "Kyoto Animation",
          "MAPPA",
          "Madhouse",
          "OLM",
          "Pierrot",
          "Shaft",
          "Sunrise",
          "TMS Entertainment",
          "TOHO animation STUDIO",
          "Toei Animation",
          "White Fox",
          "Wit Studio"
         ],
         "xaxis": "x",
         "y": [
          1,
          4,
          1,
          1,
          1,
          2,
          1,
          3,
          1,
          1,
          1,
          5,
          1,
          1,
          1,
          1,
          1
         ],
         "yaxis": "y"
        },
        {
         "alignmentgroup": "True",
         "customdata": [
          [
           "Fullmetal Alchemist: Brotherhood, Kaguya-sama wa Kokurasetai: Ultra Romantic, 3-gatsu no Lion 2nd Season",
           "Licensor"
          ],
          [
           "Code Geass: Hangyaku no Lelouch R2",
           "Licensor"
          ],
          [
           "Sousou no Frieren, Gintama°, Gintama, Kusuriya no Hitorigoto",
           "Licensor"
          ],
          [
           "Gintama: The Final, Koe no Katachi",
           "Licensor"
          ],
          [
           "Fullmetal Alchemist: Brotherhood, Steins;Gate, Shingeki no Kyojin Season 3 Part 2, Gintama°, Fruits Basket: The Final, Code Geass: Hangyaku no Lelouch R2, Shingeki no Kyojin: The Final Season - Kanketsu-hen",
           "Licensor"
          ],
          [
           "Koe no Katachi",
           "Licensor"
          ],
          [
           "Koe no Katachi",
           "Licensor"
          ],
          [
           "Ginga Eiyuu Densetsu, Clannad: After Story, Gintama",
           "Licensor"
          ],
          [
           "Hunter x Hunter (2011), Bleach: Sennen Kessen-hen, Monster",
           "Licensor"
          ]
         ],
         "hovertemplate": "Name=%{x}<br>Number of Titles=%{y}<br>hover_titles=%{customdata[0]}<extra></extra>",
         "legendgroup": "Licensor",
         "marker": {
          "color": "#EF553B",
          "pattern": {
           "shape": ""
          }
         },
         "name": "Licensor",
         "offsetgroup": "Licensor",
         "orientation": "v",
         "showlegend": true,
         "textposition": "auto",
         "type": "bar",
         "x": [
          "Aniplex of America",
          "Bandai Entertainment",
          "Crunchyroll",
          "Eleven Arts",
          "Funimation",
          "GKIDS",
          "NYAV Post",
          "Sentai Filmworks",
          "VIZ Media"
         ],
         "xaxis": "x",
         "y": [
          3,
          1,
          4,
          2,
          7,
          1,
          1,
          3,
          3
         ],
         "yaxis": "y"
        }
       ],
       "layout": {
        "barmode": "relative",
        "legend": {
         "title": {
          "text": "type"
         },
         "tracegroupgap": 0
        },
        "template": {
         "data": {
          "bar": [
           {
            "error_x": {
             "color": "#2a3f5f"
            },
            "error_y": {
             "color": "#2a3f5f"
            },
            "marker": {
             "line": {
              "color": "#E5ECF6",
              "width": 0.5
             },
             "pattern": {
              "fillmode": "overlay",
              "size": 10,
              "solidity": 0.2
             }
            },
            "type": "bar"
           }
          ],
          "barpolar": [
           {
            "marker": {
             "line": {
              "color": "#E5ECF6",
              "width": 0.5
             },
             "pattern": {
              "fillmode": "overlay",
              "size": 10,
              "solidity": 0.2
             }
            },
            "type": "barpolar"
           }
          ],
          "carpet": [
           {
            "aaxis": {
             "endlinecolor": "#2a3f5f",
             "gridcolor": "white",
             "linecolor": "white",
             "minorgridcolor": "white",
             "startlinecolor": "#2a3f5f"
            },
            "baxis": {
             "endlinecolor": "#2a3f5f",
             "gridcolor": "white",
             "linecolor": "white",
             "minorgridcolor": "white",
             "startlinecolor": "#2a3f5f"
            },
            "type": "carpet"
           }
          ],
          "choropleth": [
           {
            "colorbar": {
             "outlinewidth": 0,
             "ticks": ""
            },
            "type": "choropleth"
           }
          ],
          "contour": [
           {
            "colorbar": {
             "outlinewidth": 0,
             "ticks": ""
            },
            "colorscale": [
             [
              0,
              "#0d0887"
             ],
             [
              0.1111111111111111,
              "#46039f"
             ],
             [
              0.2222222222222222,
              "#7201a8"
             ],
             [
              0.3333333333333333,
              "#9c179e"
             ],
             [
              0.4444444444444444,
              "#bd3786"
             ],
             [
              0.5555555555555556,
              "#d8576b"
             ],
             [
              0.6666666666666666,
              "#ed7953"
             ],
             [
              0.7777777777777778,
              "#fb9f3a"
             ],
             [
              0.8888888888888888,
              "#fdca26"
             ],
             [
              1,
              "#f0f921"
             ]
            ],
            "type": "contour"
           }
          ],
          "contourcarpet": [
           {
            "colorbar": {
             "outlinewidth": 0,
             "ticks": ""
            },
            "type": "contourcarpet"
           }
          ],
          "heatmap": [
           {
            "colorbar": {
             "outlinewidth": 0,
             "ticks": ""
            },
            "colorscale": [
             [
              0,
              "#0d0887"
             ],
             [
              0.1111111111111111,
              "#46039f"
             ],
             [
              0.2222222222222222,
              "#7201a8"
             ],
             [
              0.3333333333333333,
              "#9c179e"
             ],
             [
              0.4444444444444444,
              "#bd3786"
             ],
             [
              0.5555555555555556,
              "#d8576b"
             ],
             [
              0.6666666666666666,
              "#ed7953"
             ],
             [
              0.7777777777777778,
              "#fb9f3a"
             ],
             [
              0.8888888888888888,
              "#fdca26"
             ],
             [
              1,
              "#f0f921"
             ]
            ],
            "type": "heatmap"
           }
          ],
          "heatmapgl": [
           {
            "colorbar": {
             "outlinewidth": 0,
             "ticks": ""
            },
            "colorscale": [
             [
              0,
              "#0d0887"
             ],
             [
              0.1111111111111111,
              "#46039f"
             ],
             [
              0.2222222222222222,
              "#7201a8"
             ],
             [
              0.3333333333333333,
              "#9c179e"
             ],
             [
              0.4444444444444444,
              "#bd3786"
             ],
             [
              0.5555555555555556,
              "#d8576b"
             ],
             [
              0.6666666666666666,
              "#ed7953"
             ],
             [
              0.7777777777777778,
              "#fb9f3a"
             ],
             [
              0.8888888888888888,
              "#fdca26"
             ],
             [
              1,
              "#f0f921"
             ]
            ],
            "type": "heatmapgl"
           }
          ],
          "histogram": [
           {
            "marker": {
             "pattern": {
              "fillmode": "overlay",
              "size": 10,
              "solidity": 0.2
             }
            },
            "type": "histogram"
           }
          ],
          "histogram2d": [
           {
            "colorbar": {
             "outlinewidth": 0,
             "ticks": ""
            },
            "colorscale": [
             [
              0,
              "#0d0887"
             ],
             [
              0.1111111111111111,
              "#46039f"
             ],
             [
              0.2222222222222222,
              "#7201a8"
             ],
             [
              0.3333333333333333,
              "#9c179e"
             ],
             [
              0.4444444444444444,
              "#bd3786"
             ],
             [
              0.5555555555555556,
              "#d8576b"
             ],
             [
              0.6666666666666666,
              "#ed7953"
             ],
             [
              0.7777777777777778,
              "#fb9f3a"
             ],
             [
              0.8888888888888888,
              "#fdca26"
             ],
             [
              1,
              "#f0f921"
             ]
            ],
            "type": "histogram2d"
           }
          ],
          "histogram2dcontour": [
           {
            "colorbar": {
             "outlinewidth": 0,
             "ticks": ""
            },
            "colorscale": [
             [
              0,
              "#0d0887"
             ],
             [
              0.1111111111111111,
              "#46039f"
             ],
             [
              0.2222222222222222,
              "#7201a8"
             ],
             [
              0.3333333333333333,
              "#9c179e"
             ],
             [
              0.4444444444444444,
              "#bd3786"
             ],
             [
              0.5555555555555556,
              "#d8576b"
             ],
             [
              0.6666666666666666,
              "#ed7953"
             ],
             [
              0.7777777777777778,
              "#fb9f3a"
             ],
             [
              0.8888888888888888,
              "#fdca26"
             ],
             [
              1,
              "#f0f921"
             ]
            ],
            "type": "histogram2dcontour"
           }
          ],
          "mesh3d": [
           {
            "colorbar": {
             "outlinewidth": 0,
             "ticks": ""
            },
            "type": "mesh3d"
           }
          ],
          "parcoords": [
           {
            "line": {
             "colorbar": {
              "outlinewidth": 0,
              "ticks": ""
             }
            },
            "type": "parcoords"
           }
          ],
          "pie": [
           {
            "automargin": true,
            "type": "pie"
           }
          ],
          "scatter": [
           {
            "fillpattern": {
             "fillmode": "overlay",
             "size": 10,
             "solidity": 0.2
            },
            "type": "scatter"
           }
          ],
          "scatter3d": [
           {
            "line": {
             "colorbar": {
              "outlinewidth": 0,
              "ticks": ""
             }
            },
            "marker": {
             "colorbar": {
              "outlinewidth": 0,
              "ticks": ""
             }
            },
            "type": "scatter3d"
           }
          ],
          "scattercarpet": [
           {
            "marker": {
             "colorbar": {
              "outlinewidth": 0,
              "ticks": ""
             }
            },
            "type": "scattercarpet"
           }
          ],
          "scattergeo": [
           {
            "marker": {
             "colorbar": {
              "outlinewidth": 0,
              "ticks": ""
             }
            },
            "type": "scattergeo"
           }
          ],
          "scattergl": [
           {
            "marker": {
             "colorbar": {
              "outlinewidth": 0,
              "ticks": ""
             }
            },
            "type": "scattergl"
           }
          ],
          "scattermapbox": [
           {
            "marker": {
             "colorbar": {
              "outlinewidth": 0,
              "ticks": ""
             }
            },
            "type": "scattermapbox"
           }
          ],
          "scatterpolar": [
           {
            "marker": {
             "colorbar": {
              "outlinewidth": 0,
              "ticks": ""
             }
            },
            "type": "scatterpolar"
           }
          ],
          "scatterpolargl": [
           {
            "marker": {
             "colorbar": {
              "outlinewidth": 0,
              "ticks": ""
             }
            },
            "type": "scatterpolargl"
           }
          ],
          "scatterternary": [
           {
            "marker": {
             "colorbar": {
              "outlinewidth": 0,
              "ticks": ""
             }
            },
            "type": "scatterternary"
           }
          ],
          "surface": [
           {
            "colorbar": {
             "outlinewidth": 0,
             "ticks": ""
            },
            "colorscale": [
             [
              0,
              "#0d0887"
             ],
             [
              0.1111111111111111,
              "#46039f"
             ],
             [
              0.2222222222222222,
              "#7201a8"
             ],
             [
              0.3333333333333333,
              "#9c179e"
             ],
             [
              0.4444444444444444,
              "#bd3786"
             ],
             [
              0.5555555555555556,
              "#d8576b"
             ],
             [
              0.6666666666666666,
              "#ed7953"
             ],
             [
              0.7777777777777778,
              "#fb9f3a"
             ],
             [
              0.8888888888888888,
              "#fdca26"
             ],
             [
              1,
              "#f0f921"
             ]
            ],
            "type": "surface"
           }
          ],
          "table": [
           {
            "cells": {
             "fill": {
              "color": "#EBF0F8"
             },
             "line": {
              "color": "white"
             }
            },
            "header": {
             "fill": {
              "color": "#C8D4E3"
             },
             "line": {
              "color": "white"
             }
            },
            "type": "table"
           }
          ]
         },
         "layout": {
          "annotationdefaults": {
           "arrowcolor": "#2a3f5f",
           "arrowhead": 0,
           "arrowwidth": 1
          },
          "autotypenumbers": "strict",
          "coloraxis": {
           "colorbar": {
            "outlinewidth": 0,
            "ticks": ""
           }
          },
          "colorscale": {
           "diverging": [
            [
             0,
             "#8e0152"
            ],
            [
             0.1,
             "#c51b7d"
            ],
            [
             0.2,
             "#de77ae"
            ],
            [
             0.3,
             "#f1b6da"
            ],
            [
             0.4,
             "#fde0ef"
            ],
            [
             0.5,
             "#f7f7f7"
            ],
            [
             0.6,
             "#e6f5d0"
            ],
            [
             0.7,
             "#b8e186"
            ],
            [
             0.8,
             "#7fbc41"
            ],
            [
             0.9,
             "#4d9221"
            ],
            [
             1,
             "#276419"
            ]
           ],
           "sequential": [
            [
             0,
             "#0d0887"
            ],
            [
             0.1111111111111111,
             "#46039f"
            ],
            [
             0.2222222222222222,
             "#7201a8"
            ],
            [
             0.3333333333333333,
             "#9c179e"
            ],
            [
             0.4444444444444444,
             "#bd3786"
            ],
            [
             0.5555555555555556,
             "#d8576b"
            ],
            [
             0.6666666666666666,
             "#ed7953"
            ],
            [
             0.7777777777777778,
             "#fb9f3a"
            ],
            [
             0.8888888888888888,
             "#fdca26"
            ],
            [
             1,
             "#f0f921"
            ]
           ],
           "sequentialminus": [
            [
             0,
             "#0d0887"
            ],
            [
             0.1111111111111111,
             "#46039f"
            ],
            [
             0.2222222222222222,
             "#7201a8"
            ],
            [
             0.3333333333333333,
             "#9c179e"
            ],
            [
             0.4444444444444444,
             "#bd3786"
            ],
            [
             0.5555555555555556,
             "#d8576b"
            ],
            [
             0.6666666666666666,
             "#ed7953"
            ],
            [
             0.7777777777777778,
             "#fb9f3a"
            ],
            [
             0.8888888888888888,
             "#fdca26"
            ],
            [
             1,
             "#f0f921"
            ]
           ]
          },
          "colorway": [
           "#636efa",
           "#EF553B",
           "#00cc96",
           "#ab63fa",
           "#FFA15A",
           "#19d3f3",
           "#FF6692",
           "#B6E880",
           "#FF97FF",
           "#FECB52"
          ],
          "font": {
           "color": "#2a3f5f"
          },
          "geo": {
           "bgcolor": "white",
           "lakecolor": "white",
           "landcolor": "#E5ECF6",
           "showlakes": true,
           "showland": true,
           "subunitcolor": "white"
          },
          "hoverlabel": {
           "align": "left"
          },
          "hovermode": "closest",
          "mapbox": {
           "style": "light"
          },
          "paper_bgcolor": "white",
          "plot_bgcolor": "#E5ECF6",
          "polar": {
           "angularaxis": {
            "gridcolor": "white",
            "linecolor": "white",
            "ticks": ""
           },
           "bgcolor": "#E5ECF6",
           "radialaxis": {
            "gridcolor": "white",
            "linecolor": "white",
            "ticks": ""
           }
          },
          "scene": {
           "xaxis": {
            "backgroundcolor": "#E5ECF6",
            "gridcolor": "white",
            "gridwidth": 2,
            "linecolor": "white",
            "showbackground": true,
            "ticks": "",
            "zerolinecolor": "white"
           },
           "yaxis": {
            "backgroundcolor": "#E5ECF6",
            "gridcolor": "white",
            "gridwidth": 2,
            "linecolor": "white",
            "showbackground": true,
            "ticks": "",
            "zerolinecolor": "white"
           },
           "zaxis": {
            "backgroundcolor": "#E5ECF6",
            "gridcolor": "white",
            "gridwidth": 2,
            "linecolor": "white",
            "showbackground": true,
            "ticks": "",
            "zerolinecolor": "white"
           }
          },
          "shapedefaults": {
           "line": {
            "color": "#2a3f5f"
           }
          },
          "ternary": {
           "aaxis": {
            "gridcolor": "white",
            "linecolor": "white",
            "ticks": ""
           },
           "baxis": {
            "gridcolor": "white",
            "linecolor": "white",
            "ticks": ""
           },
           "bgcolor": "#E5ECF6",
           "caxis": {
            "gridcolor": "white",
            "linecolor": "white",
            "ticks": ""
           }
          },
          "title": {
           "x": 0.05
          },
          "xaxis": {
           "automargin": true,
           "gridcolor": "white",
           "linecolor": "white",
           "ticks": "",
           "title": {
            "standoff": 15
           },
           "zerolinecolor": "white",
           "zerolinewidth": 2
          },
          "yaxis": {
           "automargin": true,
           "gridcolor": "white",
           "linecolor": "white",
           "ticks": "",
           "title": {
            "standoff": 15
           },
           "zerolinecolor": "white",
           "zerolinewidth": 2
          }
         }
        },
        "title": {
         "text": "Number of Studios vs Licensors"
        },
        "updatemenus": [
         {
          "buttons": [
           {
            "args": [
             {
              "visible": [
               true,
               false
              ]
             },
             {
              "title": "Number of Studios"
             }
            ],
            "label": "Studio",
            "method": "update"
           },
           {
            "args": [
             {
              "visible": [
               false,
               true
              ]
             },
             {
              "title": "Number of Licensors"
             }
            ],
            "label": "Licensor",
            "method": "update"
           }
          ],
          "direction": "left",
          "pad": {
           "r": 10,
           "t": 10
          },
          "showactive": true,
          "type": "buttons",
          "x": 0.1,
          "xanchor": "left",
          "y": 1.2,
          "yanchor": "top"
         }
        ],
        "xaxis": {
         "anchor": "y",
         "domain": [
          0,
          1
         ],
         "tickangle": 45,
         "title": {
          "text": "Name"
         }
        },
        "yaxis": {
         "anchor": "x",
         "domain": [
          0,
          1
         ],
         "title": {
          "text": "Number of Titles"
         }
        }
       }
      }
     },
     "metadata": {},
     "output_type": "display_data"
    }
   ],
   "source": [
    "studios_in_top_25(df.copy())"
   ]
  },
  {
   "cell_type": "code",
   "execution_count": 37,
   "metadata": {},
   "outputs": [],
   "source": [
    "import warnings\n",
    "warnings.filterwarnings(\"ignore\")"
   ]
  },
  {
   "cell_type": "code",
   "execution_count": 80,
   "metadata": {},
   "outputs": [
    {
     "data": {
      "application/vnd.plotly.v1+json": {
       "config": {
        "plotlyServerURL": "https://plot.ly"
       },
       "data": [
        {
         "marker": {
          "color": 9.31,
          "showscale": true,
          "size": 16.13123309452149,
          "sizemode": "area"
         },
         "mode": "markers",
         "name": "Frieren: Beyond Journey's End",
         "text": "Frieren: Beyond Journey's End",
         "type": "scatter",
         "x": [
          1008685
         ],
         "y": [
          9.31
         ]
        },
        {
         "marker": {
          "color": 9.1,
          "showscale": true,
          "size": 60,
          "sizemode": "area"
         },
         "mode": "markers",
         "name": "Fullmetal Alchemist: Brotherhood",
         "text": "Fullmetal Alchemist: Brotherhood",
         "type": "scatter",
         "x": [
          3469097
         ],
         "y": [
          9.1
         ]
        },
        {
         "marker": {
          "color": 9.07,
          "showscale": true,
          "size": 15,
          "sizemode": "area"
         },
         "mode": "markers",
         "type": "scatter",
         "x": [
          84360
         ],
         "y": [
          9.07
         ]
        },
        {
         "marker": {
          "color": 9.07,
          "showscale": true,
          "size": 27.956680787303952,
          "sizemode": "area"
         },
         "mode": "markers",
         "name": "Steins;Gate",
         "text": "Steins;Gate",
         "type": "scatter",
         "x": [
          2657728
         ],
         "y": [
          9.07
         ]
        },
        {
         "marker": {
          "color": 9.05,
          "showscale": true,
          "size": 23.898509265344703,
          "sizemode": "area"
         },
         "mode": "markers",
         "name": "Attack on Titan Season 3 Part 2",
         "text": "Attack on Titan Season 3 Part 2",
         "type": "scatter",
         "x": [
          2395085
         ],
         "y": [
          9.05
         ]
        },
        {
         "marker": {
          "color": 9.05,
          "showscale": true,
          "size": 15.502576437826365,
          "sizemode": "area"
         },
         "mode": "markers",
         "name": "Gintama Season 4",
         "text": "Gintama Season 4",
         "type": "scatter",
         "x": [
          654392
         ],
         "y": [
          9.05
         ]
        },
        {
         "marker": {
          "color": 9.04,
          "showscale": true,
          "size": 15.049055327069036,
          "sizemode": "area"
         },
         "mode": "markers",
         "name": "Gintama: The Very Final",
         "text": "Gintama: The Very Final",
         "type": "scatter",
         "x": [
          162223
         ],
         "y": [
          9.04
         ]
        },
        {
         "marker": {
          "color": 9.03,
          "showscale": true,
          "size": 36.2040371281127,
          "sizemode": "area"
         },
         "mode": "markers",
         "name": "Hunter x Hunter",
         "text": "Hunter x Hunter",
         "type": "scatter",
         "x": [
          2967026
         ],
         "y": [
          9.03
         ]
        },
        {
         "marker": {
          "color": 9.02,
          "showscale": true,
          "size": 15.419766540647826,
          "sizemode": "area"
         },
         "mode": "markers",
         "name": "Gintama Season 2",
         "text": "Gintama Season 2",
         "type": "scatter",
         "x": [
          578249
         ],
         "y": [
          9.02
         ]
        },
        {
         "marker": {
          "color": 9.02,
          "showscale": true,
          "size": 15.184532171177676,
          "sizemode": "area"
         },
         "mode": "markers",
         "name": "Gintama: Enchousen",
         "text": "Gintama: Enchousen",
         "type": "scatter",
         "x": [
          336962
         ],
         "y": [
          9.02
         ]
        },
        {
         "marker": {
          "color": 9.01,
          "showscale": true,
          "size": 15.18348006365239,
          "sizemode": "area"
         },
         "mode": "markers",
         "name": "Legend of the Galactic Heroes",
         "text": "Legend of the Galactic Heroes",
         "type": "scatter",
         "x": [
          336126
         ],
         "y": [
          9.01
         ]
        },
        {
         "marker": {
          "color": 9,
          "showscale": true,
          "size": 15.446011984188214,
          "sizemode": "area"
         },
         "mode": "markers",
         "name": "Bleach: Thousand-Year Blood War",
         "text": "Bleach: Thousand-Year Blood War",
         "type": "scatter",
         "x": [
          609375
         ],
         "y": [
          9
         ]
        },
        {
         "marker": {
          "color": 8.99,
          "showscale": true,
          "size": 16.095856503175597,
          "sizemode": "area"
         },
         "mode": "markers",
         "name": "Kaguya-sama: Love is War -Ultra Romantic-",
         "text": "Kaguya-sama: Love is War -Ultra Romantic-",
         "type": "scatter",
         "x": [
          1001509
         ],
         "y": [
          8.99
         ]
        },
        {
         "marker": {
          "color": 8.98,
          "showscale": true,
          "size": 15.175681576905943,
          "sizemode": "area"
         },
         "mode": "markers",
         "name": "Gintama Season 5",
         "text": "Gintama Season 5",
         "type": "scatter",
         "x": [
          326860
         ],
         "y": [
          8.98
         ]
        },
        {
         "marker": {
          "color": 8.96,
          "showscale": true,
          "size": 15.353707032317388,
          "sizemode": "area"
         },
         "mode": "markers",
         "name": "Fruits Basket: The Final Season",
         "text": "Fruits Basket: The Final Season",
         "type": "scatter",
         "x": [
          511648
         ],
         "y": [
          8.96
         ]
        },
        {
         "marker": {
          "color": 8.93,
          "showscale": true,
          "size": 16.580648632422772,
          "sizemode": "area"
         },
         "mode": "markers",
         "name": "Clannad: After Story",
         "text": "Clannad: After Story",
         "type": "scatter",
         "x": [
          1227452
         ],
         "y": [
          8.93
         ]
        },
        {
         "marker": {
          "color": 8.93,
          "showscale": true,
          "size": 16.306365741554494,
          "sizemode": "area"
         },
         "mode": "markers",
         "name": "Gintama",
         "text": "Gintama",
         "type": "scatter",
         "x": [
          1100045
         ],
         "y": [
          8.93
         ]
        },
        {
         "marker": {
          "color": 8.93,
          "showscale": true,
          "size": 24.316362930329163,
          "sizemode": "area"
         },
         "mode": "markers",
         "name": "A Silent Voice",
         "text": "A Silent Voice",
         "type": "scatter",
         "x": [
          2436296
         ],
         "y": [
          8.93
         ]
        },
        {
         "marker": {
          "color": 8.91,
          "showscale": true,
          "size": 15.262293960597233,
          "sizemode": "area"
         },
         "mode": "markers",
         "name": "March Comes In Like a Lion 2nd Season",
         "text": "March Comes In Like a Lion 2nd Season",
         "type": "scatter",
         "x": [
          415662
         ],
         "y": [
          8.91
         ]
        },
        {
         "marker": {
          "color": 8.91,
          "showscale": true,
          "size": 19.083582431068493,
          "sizemode": "area"
         },
         "mode": "markers",
         "name": "Code Geass: Lelouch of the Rebellion R2",
         "text": "Code Geass: Lelouch of the Rebellion R2",
         "type": "scatter",
         "x": [
          1844768
         ],
         "y": [
          8.91
         ]
        },
        {
         "marker": {
          "color": 8.9,
          "showscale": true,
          "size": 15.113495814541585,
          "sizemode": "area"
         },
         "mode": "markers",
         "name": "Gintama: The Movie: The Final Chapter: Be Forever Yorozuya",
         "text": "Gintama: The Movie: The Final Chapter: Be Forever Yorozuya",
         "type": "scatter",
         "x": [
          248182
         ],
         "y": [
          8.9
         ]
        },
        {
         "marker": {
          "color": 8.88,
          "showscale": true,
          "size": 15.387119775300409,
          "sizemode": "area"
         },
         "mode": "markers",
         "name": "The Apothecary Diaries",
         "text": "The Apothecary Diaries",
         "type": "scatter",
         "x": [
          545371
         ],
         "y": [
          8.88
         ]
        },
        {
         "marker": {
          "color": 8.88,
          "showscale": true,
          "size": 15.08187673482558,
          "sizemode": "area"
         },
         "mode": "markers",
         "name": "Gintama. Silver Soul Arc - Second Half War",
         "text": "Gintama. Silver Soul Arc - Second Half War",
         "type": "scatter",
         "x": [
          208351
         ],
         "y": [
          8.88
         ]
        },
        {
         "marker": {
          "color": 8.88,
          "showscale": true,
          "size": 16.502397191898552,
          "sizemode": "area"
         },
         "mode": "markers",
         "name": "Monster",
         "text": "Monster",
         "type": "scatter",
         "x": [
          1199432
         ],
         "y": [
          8.88
         ]
        },
        {
         "marker": {
          "color": 8.87,
          "showscale": true,
          "size": 15.608531953893623,
          "sizemode": "area"
         },
         "mode": "markers",
         "name": "Attack on Titan: Final Season - The Final Chapters",
         "text": "Attack on Titan: Final Season - The Final Chapters",
         "type": "scatter",
         "x": [
          733836
         ],
         "y": [
          8.87
         ]
        }
       ],
       "layout": {
        "showlegend": false,
        "template": {
         "data": {
          "bar": [
           {
            "error_x": {
             "color": "#2a3f5f"
            },
            "error_y": {
             "color": "#2a3f5f"
            },
            "marker": {
             "line": {
              "color": "#E5ECF6",
              "width": 0.5
             },
             "pattern": {
              "fillmode": "overlay",
              "size": 10,
              "solidity": 0.2
             }
            },
            "type": "bar"
           }
          ],
          "barpolar": [
           {
            "marker": {
             "line": {
              "color": "#E5ECF6",
              "width": 0.5
             },
             "pattern": {
              "fillmode": "overlay",
              "size": 10,
              "solidity": 0.2
             }
            },
            "type": "barpolar"
           }
          ],
          "carpet": [
           {
            "aaxis": {
             "endlinecolor": "#2a3f5f",
             "gridcolor": "white",
             "linecolor": "white",
             "minorgridcolor": "white",
             "startlinecolor": "#2a3f5f"
            },
            "baxis": {
             "endlinecolor": "#2a3f5f",
             "gridcolor": "white",
             "linecolor": "white",
             "minorgridcolor": "white",
             "startlinecolor": "#2a3f5f"
            },
            "type": "carpet"
           }
          ],
          "choropleth": [
           {
            "colorbar": {
             "outlinewidth": 0,
             "ticks": ""
            },
            "type": "choropleth"
           }
          ],
          "contour": [
           {
            "colorbar": {
             "outlinewidth": 0,
             "ticks": ""
            },
            "colorscale": [
             [
              0,
              "#0d0887"
             ],
             [
              0.1111111111111111,
              "#46039f"
             ],
             [
              0.2222222222222222,
              "#7201a8"
             ],
             [
              0.3333333333333333,
              "#9c179e"
             ],
             [
              0.4444444444444444,
              "#bd3786"
             ],
             [
              0.5555555555555556,
              "#d8576b"
             ],
             [
              0.6666666666666666,
              "#ed7953"
             ],
             [
              0.7777777777777778,
              "#fb9f3a"
             ],
             [
              0.8888888888888888,
              "#fdca26"
             ],
             [
              1,
              "#f0f921"
             ]
            ],
            "type": "contour"
           }
          ],
          "contourcarpet": [
           {
            "colorbar": {
             "outlinewidth": 0,
             "ticks": ""
            },
            "type": "contourcarpet"
           }
          ],
          "heatmap": [
           {
            "colorbar": {
             "outlinewidth": 0,
             "ticks": ""
            },
            "colorscale": [
             [
              0,
              "#0d0887"
             ],
             [
              0.1111111111111111,
              "#46039f"
             ],
             [
              0.2222222222222222,
              "#7201a8"
             ],
             [
              0.3333333333333333,
              "#9c179e"
             ],
             [
              0.4444444444444444,
              "#bd3786"
             ],
             [
              0.5555555555555556,
              "#d8576b"
             ],
             [
              0.6666666666666666,
              "#ed7953"
             ],
             [
              0.7777777777777778,
              "#fb9f3a"
             ],
             [
              0.8888888888888888,
              "#fdca26"
             ],
             [
              1,
              "#f0f921"
             ]
            ],
            "type": "heatmap"
           }
          ],
          "heatmapgl": [
           {
            "colorbar": {
             "outlinewidth": 0,
             "ticks": ""
            },
            "colorscale": [
             [
              0,
              "#0d0887"
             ],
             [
              0.1111111111111111,
              "#46039f"
             ],
             [
              0.2222222222222222,
              "#7201a8"
             ],
             [
              0.3333333333333333,
              "#9c179e"
             ],
             [
              0.4444444444444444,
              "#bd3786"
             ],
             [
              0.5555555555555556,
              "#d8576b"
             ],
             [
              0.6666666666666666,
              "#ed7953"
             ],
             [
              0.7777777777777778,
              "#fb9f3a"
             ],
             [
              0.8888888888888888,
              "#fdca26"
             ],
             [
              1,
              "#f0f921"
             ]
            ],
            "type": "heatmapgl"
           }
          ],
          "histogram": [
           {
            "marker": {
             "pattern": {
              "fillmode": "overlay",
              "size": 10,
              "solidity": 0.2
             }
            },
            "type": "histogram"
           }
          ],
          "histogram2d": [
           {
            "colorbar": {
             "outlinewidth": 0,
             "ticks": ""
            },
            "colorscale": [
             [
              0,
              "#0d0887"
             ],
             [
              0.1111111111111111,
              "#46039f"
             ],
             [
              0.2222222222222222,
              "#7201a8"
             ],
             [
              0.3333333333333333,
              "#9c179e"
             ],
             [
              0.4444444444444444,
              "#bd3786"
             ],
             [
              0.5555555555555556,
              "#d8576b"
             ],
             [
              0.6666666666666666,
              "#ed7953"
             ],
             [
              0.7777777777777778,
              "#fb9f3a"
             ],
             [
              0.8888888888888888,
              "#fdca26"
             ],
             [
              1,
              "#f0f921"
             ]
            ],
            "type": "histogram2d"
           }
          ],
          "histogram2dcontour": [
           {
            "colorbar": {
             "outlinewidth": 0,
             "ticks": ""
            },
            "colorscale": [
             [
              0,
              "#0d0887"
             ],
             [
              0.1111111111111111,
              "#46039f"
             ],
             [
              0.2222222222222222,
              "#7201a8"
             ],
             [
              0.3333333333333333,
              "#9c179e"
             ],
             [
              0.4444444444444444,
              "#bd3786"
             ],
             [
              0.5555555555555556,
              "#d8576b"
             ],
             [
              0.6666666666666666,
              "#ed7953"
             ],
             [
              0.7777777777777778,
              "#fb9f3a"
             ],
             [
              0.8888888888888888,
              "#fdca26"
             ],
             [
              1,
              "#f0f921"
             ]
            ],
            "type": "histogram2dcontour"
           }
          ],
          "mesh3d": [
           {
            "colorbar": {
             "outlinewidth": 0,
             "ticks": ""
            },
            "type": "mesh3d"
           }
          ],
          "parcoords": [
           {
            "line": {
             "colorbar": {
              "outlinewidth": 0,
              "ticks": ""
             }
            },
            "type": "parcoords"
           }
          ],
          "pie": [
           {
            "automargin": true,
            "type": "pie"
           }
          ],
          "scatter": [
           {
            "fillpattern": {
             "fillmode": "overlay",
             "size": 10,
             "solidity": 0.2
            },
            "type": "scatter"
           }
          ],
          "scatter3d": [
           {
            "line": {
             "colorbar": {
              "outlinewidth": 0,
              "ticks": ""
             }
            },
            "marker": {
             "colorbar": {
              "outlinewidth": 0,
              "ticks": ""
             }
            },
            "type": "scatter3d"
           }
          ],
          "scattercarpet": [
           {
            "marker": {
             "colorbar": {
              "outlinewidth": 0,
              "ticks": ""
             }
            },
            "type": "scattercarpet"
           }
          ],
          "scattergeo": [
           {
            "marker": {
             "colorbar": {
              "outlinewidth": 0,
              "ticks": ""
             }
            },
            "type": "scattergeo"
           }
          ],
          "scattergl": [
           {
            "marker": {
             "colorbar": {
              "outlinewidth": 0,
              "ticks": ""
             }
            },
            "type": "scattergl"
           }
          ],
          "scattermapbox": [
           {
            "marker": {
             "colorbar": {
              "outlinewidth": 0,
              "ticks": ""
             }
            },
            "type": "scattermapbox"
           }
          ],
          "scatterpolar": [
           {
            "marker": {
             "colorbar": {
              "outlinewidth": 0,
              "ticks": ""
             }
            },
            "type": "scatterpolar"
           }
          ],
          "scatterpolargl": [
           {
            "marker": {
             "colorbar": {
              "outlinewidth": 0,
              "ticks": ""
             }
            },
            "type": "scatterpolargl"
           }
          ],
          "scatterternary": [
           {
            "marker": {
             "colorbar": {
              "outlinewidth": 0,
              "ticks": ""
             }
            },
            "type": "scatterternary"
           }
          ],
          "surface": [
           {
            "colorbar": {
             "outlinewidth": 0,
             "ticks": ""
            },
            "colorscale": [
             [
              0,
              "#0d0887"
             ],
             [
              0.1111111111111111,
              "#46039f"
             ],
             [
              0.2222222222222222,
              "#7201a8"
             ],
             [
              0.3333333333333333,
              "#9c179e"
             ],
             [
              0.4444444444444444,
              "#bd3786"
             ],
             [
              0.5555555555555556,
              "#d8576b"
             ],
             [
              0.6666666666666666,
              "#ed7953"
             ],
             [
              0.7777777777777778,
              "#fb9f3a"
             ],
             [
              0.8888888888888888,
              "#fdca26"
             ],
             [
              1,
              "#f0f921"
             ]
            ],
            "type": "surface"
           }
          ],
          "table": [
           {
            "cells": {
             "fill": {
              "color": "#EBF0F8"
             },
             "line": {
              "color": "white"
             }
            },
            "header": {
             "fill": {
              "color": "#C8D4E3"
             },
             "line": {
              "color": "white"
             }
            },
            "type": "table"
           }
          ]
         },
         "layout": {
          "annotationdefaults": {
           "arrowcolor": "#2a3f5f",
           "arrowhead": 0,
           "arrowwidth": 1
          },
          "autotypenumbers": "strict",
          "coloraxis": {
           "colorbar": {
            "outlinewidth": 0,
            "ticks": ""
           }
          },
          "colorscale": {
           "diverging": [
            [
             0,
             "#8e0152"
            ],
            [
             0.1,
             "#c51b7d"
            ],
            [
             0.2,
             "#de77ae"
            ],
            [
             0.3,
             "#f1b6da"
            ],
            [
             0.4,
             "#fde0ef"
            ],
            [
             0.5,
             "#f7f7f7"
            ],
            [
             0.6,
             "#e6f5d0"
            ],
            [
             0.7,
             "#b8e186"
            ],
            [
             0.8,
             "#7fbc41"
            ],
            [
             0.9,
             "#4d9221"
            ],
            [
             1,
             "#276419"
            ]
           ],
           "sequential": [
            [
             0,
             "#0d0887"
            ],
            [
             0.1111111111111111,
             "#46039f"
            ],
            [
             0.2222222222222222,
             "#7201a8"
            ],
            [
             0.3333333333333333,
             "#9c179e"
            ],
            [
             0.4444444444444444,
             "#bd3786"
            ],
            [
             0.5555555555555556,
             "#d8576b"
            ],
            [
             0.6666666666666666,
             "#ed7953"
            ],
            [
             0.7777777777777778,
             "#fb9f3a"
            ],
            [
             0.8888888888888888,
             "#fdca26"
            ],
            [
             1,
             "#f0f921"
            ]
           ],
           "sequentialminus": [
            [
             0,
             "#0d0887"
            ],
            [
             0.1111111111111111,
             "#46039f"
            ],
            [
             0.2222222222222222,
             "#7201a8"
            ],
            [
             0.3333333333333333,
             "#9c179e"
            ],
            [
             0.4444444444444444,
             "#bd3786"
            ],
            [
             0.5555555555555556,
             "#d8576b"
            ],
            [
             0.6666666666666666,
             "#ed7953"
            ],
            [
             0.7777777777777778,
             "#fb9f3a"
            ],
            [
             0.8888888888888888,
             "#fdca26"
            ],
            [
             1,
             "#f0f921"
            ]
           ]
          },
          "colorway": [
           "#636efa",
           "#EF553B",
           "#00cc96",
           "#ab63fa",
           "#FFA15A",
           "#19d3f3",
           "#FF6692",
           "#B6E880",
           "#FF97FF",
           "#FECB52"
          ],
          "font": {
           "color": "#2a3f5f"
          },
          "geo": {
           "bgcolor": "white",
           "lakecolor": "white",
           "landcolor": "#E5ECF6",
           "showlakes": true,
           "showland": true,
           "subunitcolor": "white"
          },
          "hoverlabel": {
           "align": "left"
          },
          "hovermode": "closest",
          "mapbox": {
           "style": "light"
          },
          "paper_bgcolor": "white",
          "plot_bgcolor": "#E5ECF6",
          "polar": {
           "angularaxis": {
            "gridcolor": "white",
            "linecolor": "white",
            "ticks": ""
           },
           "bgcolor": "#E5ECF6",
           "radialaxis": {
            "gridcolor": "white",
            "linecolor": "white",
            "ticks": ""
           }
          },
          "scene": {
           "xaxis": {
            "backgroundcolor": "#E5ECF6",
            "gridcolor": "white",
            "gridwidth": 2,
            "linecolor": "white",
            "showbackground": true,
            "ticks": "",
            "zerolinecolor": "white"
           },
           "yaxis": {
            "backgroundcolor": "#E5ECF6",
            "gridcolor": "white",
            "gridwidth": 2,
            "linecolor": "white",
            "showbackground": true,
            "ticks": "",
            "zerolinecolor": "white"
           },
           "zaxis": {
            "backgroundcolor": "#E5ECF6",
            "gridcolor": "white",
            "gridwidth": 2,
            "linecolor": "white",
            "showbackground": true,
            "ticks": "",
            "zerolinecolor": "white"
           }
          },
          "shapedefaults": {
           "line": {
            "color": "#2a3f5f"
           }
          },
          "ternary": {
           "aaxis": {
            "gridcolor": "white",
            "linecolor": "white",
            "ticks": ""
           },
           "baxis": {
            "gridcolor": "white",
            "linecolor": "white",
            "ticks": ""
           },
           "bgcolor": "#E5ECF6",
           "caxis": {
            "gridcolor": "white",
            "linecolor": "white",
            "ticks": ""
           }
          },
          "title": {
           "x": 0.05
          },
          "xaxis": {
           "automargin": true,
           "gridcolor": "white",
           "linecolor": "white",
           "ticks": "",
           "title": {
            "standoff": 15
           },
           "zerolinecolor": "white",
           "zerolinewidth": 2
          },
          "yaxis": {
           "automargin": true,
           "gridcolor": "white",
           "linecolor": "white",
           "ticks": "",
           "title": {
            "standoff": 15
           },
           "zerolinecolor": "white",
           "zerolinewidth": 2
          }
         }
        },
        "title": {
         "text": "Anime Popularity vs. Score by Members (Log-Scaled Sizes)"
        },
        "xaxis": {
         "title": {
          "text": "Members"
         },
         "type": "log"
        },
        "yaxis": {
         "title": {
          "text": "Score"
         }
        }
       }
      }
     },
     "metadata": {},
     "output_type": "display_data"
    }
   ],
   "source": [
    "import numpy as np\n",
    "import plotly.graph_objects as go\n",
    "\n",
    "# Get the most recent timestamp\n",
    "most_recent_date = df['timestamp'].max()\n",
    "df_recent = df[df['timestamp'] == most_recent_date]\n",
    "\n",
    "# Ensure numeric conversion\n",
    "df_recent['statistics.popularity'] = pd.to_numeric(df_recent['statistics.popularity'], errors='coerce')\n",
    "df_recent['statistics.score'] = pd.to_numeric(df_recent['statistics.score'], errors='coerce')\n",
    "df_recent['statistics.members'] = pd.to_numeric(df_recent['statistics.members'], errors='coerce')\n",
    "\n",
    "# Normalize and invert 'statistics.popularity'\n",
    "df_recent['inverted_popularity'] = 1 / (df_recent['statistics.popularity'] + 1)  # Avoid division by zero\n",
    "\n",
    "# Apply logarithmic scaling for marker size\n",
    "df_recent['log_scaled_size'] = np.log1p(df_recent['inverted_popularity'])  # log1p to avoid log(0)\n",
    "df_recent['log_scaled_size'] = (\n",
    "    (df_recent['log_scaled_size'] - df_recent['log_scaled_size'].min()) /\n",
    "    (df_recent['log_scaled_size'].max() - df_recent['log_scaled_size'].min())\n",
    ") * (60 - 15) + 15  # Scale between min (15) and max (60)\n",
    "\n",
    "# Create the scatter plot using go\n",
    "fig = go.Figure()\n",
    "\n",
    "for i, row in df_recent.iterrows():\n",
    "    fig.add_trace(\n",
    "        go.Scatter(\n",
    "            x=[row['statistics.members']],\n",
    "            y=[row['statistics.score']],\n",
    "            mode='markers',\n",
    "            marker=dict(\n",
    "                size=row['log_scaled_size'],  # Use the log-scaled size\n",
    "                sizemode='area',\n",
    "                color=row['statistics.score'],  # Color based on score\n",
    "                showscale=True,\n",
    "            ),\n",
    "            name=row['title_english'],  # Use title for legend\n",
    "            text=row['title_english'],  # Use title for hover text\n",
    "        )\n",
    "    )\n",
    "\n",
    "# Update the layout for better appearance\n",
    "fig.update_layout(\n",
    "    title=\"Anime Popularity vs. Score by Members (Log-Scaled Sizes)\",\n",
    "    xaxis=dict(title=\"Members\", type=\"log\"),  # Log scale for x-axis\n",
    "    yaxis=dict(title=\"Score\"),\n",
    "    showlegend=False,\n",
    ")\n",
    "\n",
    "fig.show()\n"
   ]
  },
  {
   "cell_type": "code",
   "execution_count": null,
   "metadata": {},
   "outputs": [],
   "source": []
  },
  {
   "cell_type": "code",
   "execution_count": null,
   "metadata": {},
   "outputs": [],
   "source": []
  }
 ],
 "metadata": {
  "kernelspec": {
   "display_name": "anime-dashboard",
   "language": "python",
   "name": "python3"
  },
  "language_info": {
   "codemirror_mode": {
    "name": "ipython",
    "version": 3
   },
   "file_extension": ".py",
   "mimetype": "text/x-python",
   "name": "python",
   "nbconvert_exporter": "python",
   "pygments_lexer": "ipython3",
   "version": "3.9.21"
  }
 },
 "nbformat": 4,
 "nbformat_minor": 2
}
